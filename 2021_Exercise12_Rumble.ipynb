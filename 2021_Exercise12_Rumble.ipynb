{
 "cells": [
  {
   "cell_type": "markdown",
   "metadata": {
    "id": "Zo6cemRekqqm"
   },
   "source": [
    "# Exercise Week 12 - Rumble\n",
    "\n"
   ]
  },
  {
   "cell_type": "markdown",
   "metadata": {
    "id": "FgAZKWlwkvrk"
   },
   "source": [
    "# 1. Install Rumble"
   ]
  },
  {
   "cell_type": "markdown",
   "metadata": {
    "id": "df9Arowc2E8e"
   },
   "source": [
    "## 1. Setup the Spark cluster in Azure\n",
    "\n",
    "### Create a cluster\n",
    "\n",
    "1. Sign into the azure portal (portal.azure.com).\n",
    "1. Search for \"HDInsight clusters\" using the search box at the top.\n",
    "<img src=\"https://cloud.inf.ethz.ch/s/WxpMXB3Jz8SykMw/download\" width=\"900\">\n",
    "1. Note that under the *Subscription* section, you might be prompted that the subscription is not registered:\n",
    "<img src=\"https://cloud.inf.ethz.ch/s/gyTcQYKFCn3Yg6J/download\" width=\"500\">\n",
    "\n",
    "  To fix this, follow the *Click here to register* link, and in the new page, search for *hdinsight*. Then select the *Microsoft.HDInsight* Provider and click the *Register* button.  \n",
    "<img src=\"https://cloud.inf.ethz.ch/s/oHn9eyeZRP4LfZq/download\" width=\"500\">\n",
    "\n",
    "1. Create a new resource group (for example: 'exercise08').\n",
    "1. Give the cluster a unique name.\n",
    "1. In the \"Cluster Type\" choose **Spark** and leave the default version as is. It is also indicated to use the **US West** region. \n",
    "1. Create a cluster login password (you can use https://www.random.org/strings/ for inspiration). Keep the password around as you will need it for later.\n",
    "<img src=\"https://cloud.inf.ethz.ch/s/JY3DRLg8NLH559K/download\" width=\"900\">\n",
    "1. Move to the *Storage* stage of the setup. Here, leave **Azure Storage** as the *Primary Storage Type*. For the *Primary Storage Account* you have the option to set up a new account. The *Container*'s name will be generated automatically, however make sure to remember it, or change it to something memorable, if you plan on finishing the exercises in more than one sitting.\n",
    "<img src=\"https://cloud.inf.ethz.ch/s/NgtHE6iwSCZ8FQi/download\" width=\"900\">\n",
    "1. Move to the *Configuration + Pricing* stage of the setup (skip *Security + networking*). Set up a Spark cluster which uses 2 **A5**  deployments as *Head* nodes and 2 **D12 v2** deployments for the *Worker* nodes. It should cost roughly 1.9 EUR/h. Note that if Azure allows you deploy more cores, then do so, by increasing the number of *Worker* nodes.\n",
    "<img src=\"https://cloud.inf.ethz.ch/s/JpJEfjkZLPja5EK/download\" width=\"900\">\n",
    "1. Move to the *Reivew + Create* stage of the setup, and click the **Create** button once validation succeeds.\n",
    "1. Wait until your cluster is deployed (this can take up to 20 minutes).\n",
    "\n",
    "<span style=\"color: red;\">**Important:** Remember to **delete** the cluster once you are done. If you want to stop doing the exercises at any point, delete it and recreate it using the same container name as you used the first time, so that the resources are still there.</span>\n",
    "\n",
    "<img src=\"https://cloud.inf.ethz.ch/s/2jLERoTD6q8nRMQ/download\" width=\"900\">\n",
    "\n",
    "### Access your cluster\n",
    "\n",
    "Make sure you can access your cluster (the NameNode) via SSH:\n",
    "\n",
    "```\n",
    "$ ssh <ssh_user_name>@<cluster_name>-ssh.azurehdinsight.net\n",
    "```\n",
    "\n",
    "If you are using Linux or MacOSX, you can use your standard terminal.\n",
    "If you are using Windows you can use:\n",
    "- Putty SSH Client and PSCP tool (get them at [here](http://www.chiark.greenend.org.uk/~sgtatham/putty/download.html)).\n",
    "- This Notebook server terminal (Click on the Jupyter logo and the goto New -> Terminal).\n",
    "- Azure Cloud Terminal (see the HBase exercise sheet for details)\n",
    "\n",
    "You can access cluster's YARN in your browser\n",
    "```\n",
    " https://<cluster_name>.azurehdinsight.net/yarnui/hn/cluster\n",
    "```\n"
   ]
  },
  {
   "cell_type": "markdown",
   "metadata": {
    "id": "qE1xkwu8k_IA"
   },
   "source": [
    "## Install Rumble\n",
    "\n",
    "Then login to the shell and download the latest Rumble version:\n",
    "\n",
    "```\n",
    "wget https://github.com/RumbleDB/rumble/releases/download/v1.12/spark-rumble-1.12.0.jar\n",
    "```\n",
    "\n",
    "### HDInsight Shell\n",
    "\n",
    "Unfortunately HDInsight will not provide us access to any other port than SSH.\n",
    "Therefore the usual way to work with Rumble through HDInsight is through the shell. You can access the Rumble shell by running:\n",
    "```\n",
    "spark-submit spark-rumble-1.12.0.jar --shell yes\n",
    "```\n",
    "\n",
    "### SSH Forwarding\n",
    "\n",
    "However for this sheet, we recommend to use SSH forwarding. For that, run the following command instead:\n",
    "\n",
    "```\n",
    "spark-submit spark-rumble-1.12.0.jar --server yes --port 8002\n",
    "```\n",
    "\n",
    "and then open another terminal on your local machine and run the following command to forward the server port 8002 to your localhost:8002. \n",
    "\n",
    "```\n",
    "ssh -N -L 8002:localhost:8002 sshuser@[servername]-ssh.azurehdinsight.net\n",
    "```\n",
    "\n",
    "Now the port 8002 of your own machine (localhost:8002) will become a Rumble server for you to access locally."
   ]
  },
  {
   "cell_type": "markdown",
   "metadata": {
    "id": "UTrxum891_XB"
   },
   "source": [
    "# 2. Setup Rumble in Jupyter Notebook\n",
    "\n"
   ]
  },
  {
   "cell_type": "markdown",
   "metadata": {
    "id": "UfXWkkngcbnH"
   },
   "source": [
    "### Install Jupyter Notebook\n",
    "\n"
   ]
  },
  {
   "cell_type": "markdown",
   "metadata": {
    "id": "imeJuXbn20R5"
   },
   "source": [
    "In order to execute the queries in this notebook, you need to [install](https://jupyter.org/install) jupyter notebook on your **own machine**, and then download this notebook and [run](https://jupyter.readthedocs.io/en/latest/running.html#running) it locally rather than rely on the colab."
   ]
  },
  {
   "cell_type": "markdown",
   "metadata": {
    "id": "cTFVusbo1uT_"
   },
   "source": [
    "To get started, you first need to execute the cell below to activate the Rumble magic (you do not need to understand what it does, this is just initialization Python code)."
   ]
  },
  {
   "cell_type": "code",
   "execution_count": 1,
   "metadata": {
    "id": "E8wSdtz81-dt"
   },
   "outputs": [],
   "source": [
    "import requests\n",
    "import json\n",
    "import time\n",
    "from IPython.core.magic import register_line_cell_magic\n",
    "\n",
    "@register_line_cell_magic\n",
    "def rumble(line, cell=None):\n",
    "    if cell is None:\n",
    "        data = line\n",
    "    else:\n",
    "        data = cell\n",
    "\n",
    "    start = time.time()                                                         \n",
    "    response = json.loads(requests.post(server, data=data).text)                   \n",
    "    end = time.time()                                                              \n",
    "    print(\"Took: %s ms\" % (end - start))\n",
    "\n",
    "    if 'warning' in response:\n",
    "        print(json.dumps(response['warning']))\n",
    "    if 'values' in response:\n",
    "        for e in response['values']:\n",
    "            print(json.dumps(e))\n",
    "    elif 'error-message' in response:\n",
    "        return response['error-message']\n",
    "    else:\n",
    "        return response"
   ]
  },
  {
   "cell_type": "markdown",
   "metadata": {
    "id": "TEJ2EaoE2YOQ"
   },
   "source": [
    "By default, this notebook uses a small public backend provided by us (very limited in CPU and memory, and with only the http scheme activated) that is sufficient to discover Rumble. This is new and experimental, so that it may occasionally break, especially if too many users use it at the same time, so please bear with us!\n",
    "\n",
    "It is straightforward to execute your own Rumble server on your own Spark cluster (and then you can make full use of all the input file systems and file formats). In this case, just set the server the with your own hostname and port as follows."
   ]
  },
  {
   "cell_type": "code",
   "execution_count": 2,
   "metadata": {
    "id": "zmRmKvWZ2ZH7"
   },
   "outputs": [],
   "source": [
    "server='http://localhost:9090/jsoniq' # 'http://public.rumbledb.org:9090/jsoniq' public server in case you get stuck"
   ]
  },
  {
   "cell_type": "markdown",
   "metadata": {
    "id": "C6lJq6kJ2HoB"
   },
   "source": [
    "Now we are all set! You can now start reading and executing the JSONiq queries in this notebook as you go, and you can even edit them!"
   ]
  },
  {
   "cell_type": "markdown",
   "metadata": {
    "id": "F892l0gs5bmV"
   },
   "source": [
    "# 3. Rumble Sandbox"
   ]
  },
  {
   "cell_type": "markdown",
   "metadata": {
    "id": "5_NuBtRy4gIp"
   },
   "source": [
    "## JSON\n",
    "\n",
    "As explained on the [official JSON Web site](http://www.json.org/), JSON is a lightweight data-interchange format designed for humans as well as for computers. It supports as values:\n",
    "- objects (string-to-value maps)\n",
    "- arrays (ordered sequences of values)\n",
    "- strings\n",
    "- numbers\n",
    "- booleans (true, false)\n",
    "- null\n",
    "\n",
    "JSONiq provides declarative querying and updating capabilities on JSON data.\n",
    "\n",
    "## Elevator Pitch\n",
    "\n",
    "JSONiq is based on XQuery, which is a W3C standard (like XML and HTML). XQuery is a very powerful declarative language that originally manipulates XML data, but it turns out that it is also a very good fit for manipulating JSON natively.\n",
    "JSONiq, since it extends XQuery, is a very powerful general-purpose declarative programming language. Our experience is that, for the same task, you will probably write about 80% less code compared to imperative languages like JavaScript, Python or Ruby. Additionally, you get the benefits of strong type checking without actually having to write type declarations.\n",
    "Here is an appetizer before we start the tutorial from scratch.\n"
   ]
  },
  {
   "cell_type": "code",
   "execution_count": 3,
   "metadata": {
    "id": "mx4djkAV3zom"
   },
   "outputs": [
    {
     "name": "stdout",
     "output_type": "stream",
     "text": [
      "Took: 2.134681463241577 ms\n",
      "[{\"nb\": 1, \"state\": \"MA\", \"sold\": \"broiler\"}, {\"nb\": 1, \"state\": \"MA\", \"sold\": \"socks\"}, {\"nb\": 2, \"state\": \"MA\", \"sold\": \"toaster\"}, {\"nb\": 2, \"state\": \"MA\", \"sold\": \"toaster\"}, {\"nb\": 2, \"state\": \"MA\", \"sold\": \"socks\"}, {\"nb\": 3, \"state\": \"CA\", \"sold\": \"toaster\"}, {\"nb\": 3, \"state\": \"CA\", \"sold\": \"blender\"}, {\"nb\": 3, \"state\": \"CA\", \"sold\": \"blender\"}, {\"nb\": 3, \"state\": \"CA\", \"sold\": \"shirt\"}]\n"
     ]
    }
   ],
   "source": [
    "%%rumble\n",
    "\n",
    "let $stores :=\n",
    "[\n",
    "  { \"store number\" : 1, \"state\" : \"MA\" },\n",
    "  { \"store number\" : 2, \"state\" : \"MA\" },\n",
    "  { \"store number\" : 3, \"state\" : \"CA\" },\n",
    "  { \"store number\" : 4, \"state\" : \"CA\" }\n",
    "]\n",
    "let $sales := [\n",
    "   { \"product\" : \"broiler\", \"store number\" : 1, \"quantity\" : 20  },\n",
    "   { \"product\" : \"toaster\", \"store number\" : 2, \"quantity\" : 100 },\n",
    "   { \"product\" : \"toaster\", \"store number\" : 2, \"quantity\" : 50 },\n",
    "   { \"product\" : \"toaster\", \"store number\" : 3, \"quantity\" : 50 },\n",
    "   { \"product\" : \"blender\", \"store number\" : 3, \"quantity\" : 100 },\n",
    "   { \"product\" : \"blender\", \"store number\" : 3, \"quantity\" : 150 },\n",
    "   { \"product\" : \"socks\", \"store number\" : 1, \"quantity\" : 500 },\n",
    "   { \"product\" : \"socks\", \"store number\" : 2, \"quantity\" : 10 },\n",
    "   { \"product\" : \"shirt\", \"store number\" : 3, \"quantity\" : 10 }\n",
    "]\n",
    "let $join :=\n",
    "  for $store in $stores[], $sale in $sales[]\n",
    "  where $store.\"store number\" = $sale.\"store number\"\n",
    "  return {\n",
    "    \"nb\" : $store.\"store number\",\n",
    "    \"state\" : $store.state,\n",
    "    \"sold\" : $sale.product\n",
    "  }\n",
    "return [$join]"
   ]
  },
  {
   "cell_type": "markdown",
   "metadata": {
    "id": "_L-2AVNj4xu9"
   },
   "source": [
    "## And here you go\n",
    "\n",
    "### Actually, you already knew some JSONiq\n",
    "\n",
    "The first thing you need to know is that a well-formed JSON document is a JSONiq expression as well.\n",
    "This means that you can copy-and-paste any JSON document into a query. The following are JSONiq queries that are \"idempotent\" (they just output themselves):"
   ]
  },
  {
   "cell_type": "code",
   "execution_count": 4,
   "metadata": {
    "id": "CHCFKAio30Ri"
   },
   "outputs": [
    {
     "name": "stdout",
     "output_type": "stream",
     "text": [
      "Took: 2.1431849002838135 ms\n",
      "{\"pi\": 3.14, \"sq2\": 1.4}\n"
     ]
    }
   ],
   "source": [
    "%%rumble\n",
    "{ \"pi\" : 3.14, \"sq2\" : 1.4 }"
   ]
  },
  {
   "cell_type": "code",
   "execution_count": 5,
   "metadata": {
    "id": "_JmeeMZl45Ns"
   },
   "outputs": [
    {
     "name": "stdout",
     "output_type": "stream",
     "text": [
      "Took: 2.140516996383667 ms\n",
      "[2, 3, 5, 7, 11, 13]\n"
     ]
    }
   ],
   "source": [
    "%%rumble\n",
    "[ 2, 3, 5, 7, 11, 13 ]"
   ]
  },
  {
   "cell_type": "code",
   "execution_count": 9,
   "metadata": {
    "id": "HkvoBs9M46NF"
   },
   "outputs": [
    {
     "name": "stdout",
     "output_type": "stream",
     "text": [
      "Took: 2.097799301147461 ms\n",
      "{\"operations\": [{\"binary\": [\"and\", \"or\"]}, {\"unary\": [\"not\"]}], \"bits\": [0, 1]}\n"
     ]
    }
   ],
   "source": [
    "%%rumble\n",
    "{\n",
    "      \"operations\" : [\n",
    "        { \"binary\" : [ \"and\", \"or\"] },\n",
    "        { \"unary\" : [\"not\"] }\n",
    "      ],\n",
    "      \"bits\" : [\n",
    "        0, 1\n",
    "      ]\n",
    "    }"
   ]
  },
  {
   "cell_type": "code",
   "execution_count": 10,
   "metadata": {
    "id": "AHtMILv349g5"
   },
   "outputs": [
    {
     "name": "stdout",
     "output_type": "stream",
     "text": [
      "Took: 2.110863447189331 ms\n",
      "[{\"Question\": \"Ultimate\"}, [\"Life\", \"the universe\", \"and everything\"]]\n"
     ]
    }
   ],
   "source": [
    "%%rumble\n",
    "[ { \"Question\" : \"Ultimate\" }, [\"Life\", \"the universe\", \"and everything\"] ]"
   ]
  },
  {
   "cell_type": "markdown",
   "metadata": {
    "id": "TsX2S4IG5CZ-"
   },
   "source": [
    "\n",
    "This works with objects, arrays (even nested), strings, numbers, booleans, null.\n",
    "\n",
    "It also works the other way round: if your query outputs an object or an array, you can use it as a JSON document. JSONiq is a declarative language. This means that you only need to say what you want - the compiler will take care of the how.\n",
    "\n",
    "In the above queries, you are basically saying: I want to output this JSON content, and here it is."
   ]
  },
  {
   "cell_type": "markdown",
   "metadata": {
    "id": "YyaQW8HIhrKW"
   },
   "source": [
    "## JSONiq basics\n",
    "\n",
    "### The real JSONiq Hello, World!\n",
    "\n",
    "Wondering what a hello world program looks like in JSONiq? Here it is:"
   ]
  },
  {
   "cell_type": "code",
   "execution_count": 11,
   "metadata": {
    "id": "m2-VyECPhrKW"
   },
   "outputs": [
    {
     "name": "stdout",
     "output_type": "stream",
     "text": [
      "Took: 2.110699415206909 ms\n",
      "\"Hello, World!\"\n"
     ]
    }
   ],
   "source": [
    "%%rumble\n",
    "\"Hello, World!\""
   ]
  },
  {
   "cell_type": "markdown",
   "metadata": {
    "id": "Uy48JTprhrKW"
   },
   "source": [
    "Not surprisingly, it outputs the string \"Hello, World!\".\n",
    "\n",
    "### Numbers and arithmetic operations\n",
    "\n",
    "Okay, so, now, you might be thinking: \"What is the use of this language if it just outputs what I put in?\" Of course, JSONiq can more than that. And still in a declarative way. Here is how it works with numbers:"
   ]
  },
  {
   "cell_type": "code",
   "execution_count": 12,
   "metadata": {
    "id": "3wBwni49hrKW"
   },
   "outputs": [
    {
     "name": "stdout",
     "output_type": "stream",
     "text": [
      "Took: 2.0880212783813477 ms\n",
      "4\n"
     ]
    }
   ],
   "source": [
    "%%rumble\n",
    "2 + 2"
   ]
  },
  {
   "cell_type": "code",
   "execution_count": 15,
   "metadata": {
    "id": "CWOO__4khrKW"
   },
   "outputs": [
    {
     "name": "stdout",
     "output_type": "stream",
     "text": [
      "Took: 2.090130090713501 ms\n",
      "42\n"
     ]
    }
   ],
   "source": [
    "%%rumble\n",
    " (38 + 2) div 2 + 11 * 2\n"
   ]
  },
  {
   "cell_type": "markdown",
   "metadata": {
    "id": "5FZceBJWhrKW"
   },
   "source": [
    "(mind the division operator which is the \"div\" keyword. The slash operator has different semantics).\n",
    "\n",
    "Like JSON, JSONiq works with decimals and doubles:"
   ]
  },
  {
   "cell_type": "code",
   "execution_count": 16,
   "metadata": {
    "id": "KlAPfbwbhrKW"
   },
   "outputs": [
    {
     "name": "stdout",
     "output_type": "stream",
     "text": [
      "Took: 2.0985445976257324 ms\n",
      "2.52924e+25\n"
     ]
    }
   ],
   "source": [
    "%%rumble\n",
    " 6.022e23 * 42"
   ]
  },
  {
   "cell_type": "markdown",
   "metadata": {
    "id": "MmFfvP9lhrKW"
   },
   "source": [
    "### Logical operations\n",
    "\n",
    "JSONiq supports boolean operations."
   ]
  },
  {
   "cell_type": "code",
   "execution_count": 17,
   "metadata": {
    "id": "yClsI5LehrKW"
   },
   "outputs": [
    {
     "name": "stdout",
     "output_type": "stream",
     "text": [
      "Took: 2.1006457805633545 ms\n",
      "false\n"
     ]
    }
   ],
   "source": [
    "%%rumble\n",
    "true and false"
   ]
  },
  {
   "cell_type": "code",
   "execution_count": 18,
   "metadata": {
    "id": "KVQgXpgzhrKW"
   },
   "outputs": [
    {
     "name": "stdout",
     "output_type": "stream",
     "text": [
      "Took: 2.088419198989868 ms\n",
      "true\n"
     ]
    }
   ],
   "source": [
    "%%rumble\n",
    "(true or false) and (false or true)"
   ]
  },
  {
   "cell_type": "markdown",
   "metadata": {
    "id": "VDIvgk5khrKW"
   },
   "source": [
    "The unary not is also available:"
   ]
  },
  {
   "cell_type": "code",
   "execution_count": 19,
   "metadata": {
    "cell_status": {
     "execute_time": {
      "duration": 243.537109375,
      "end_time": 1557235032261.665
     }
    },
    "id": "djGZSV0MhrKW"
   },
   "outputs": [
    {
     "name": "stdout",
     "output_type": "stream",
     "text": [
      "Took: 2.0799973011016846 ms\n",
      "false\n"
     ]
    }
   ],
   "source": [
    "%%rumble\n",
    "not true"
   ]
  },
  {
   "cell_type": "markdown",
   "metadata": {
    "id": "eELMD0pqhrKW"
   },
   "source": [
    "### Strings\n",
    "\n",
    "JSONiq is capable of manipulating strings as well, using functions:\n"
   ]
  },
  {
   "cell_type": "code",
   "execution_count": 20,
   "metadata": {
    "cell_status": {
     "execute_time": {
      "duration": 21398.401123046875,
      "end_time": 1557212587338.105
     }
    },
    "id": "6YwugMo5hrKW"
   },
   "outputs": [
    {
     "name": "stdout",
     "output_type": "stream",
     "text": [
      "Took: 2.260148286819458 ms\n",
      "\"Hello Captain Kirk\"\n"
     ]
    }
   ],
   "source": [
    "%%rumble\n",
    "concat(\"Hello \", \"Captain \", \"Kirk\")"
   ]
  },
  {
   "cell_type": "code",
   "execution_count": 21,
   "metadata": {
    "cell_status": {
     "execute_time": {
      "duration": 752.509033203125,
      "end_time": 1557234001018.501
     }
    },
    "id": "lGrKFlHVhrKW"
   },
   "outputs": [
    {
     "name": "stdout",
     "output_type": "stream",
     "text": [
      "Took: 2.1299660205841064 ms\n",
      "\"Spock\"\n"
     ]
    }
   ],
   "source": [
    "%%rumble\n",
    "substring(\"Mister Spock\", 8, 5)"
   ]
  },
  {
   "cell_type": "code",
   "execution_count": 25,
   "metadata": {},
   "outputs": [
    {
     "name": "stdout",
     "output_type": "stream",
     "text": [
      "Took: 2.1026906967163086 ms\n",
      "\"1234true\"\n"
     ]
    }
   ],
   "source": [
    "%%rumble\n",
    "concat(1, 2, 3, 4, true)"
   ]
  },
  {
   "cell_type": "code",
   "execution_count": 28,
   "metadata": {},
   "outputs": [
    {
     "name": "stdout",
     "output_type": "stream",
     "text": [
      "Took: 2.0957229137420654 ms\n",
      "\"10/6\"\n"
     ]
    }
   ],
   "source": [
    "%%rumble\n",
    "10 || \"/\" || 6"
   ]
  },
  {
   "cell_type": "markdown",
   "metadata": {
    "id": "ZBusMnoShrKW"
   },
   "source": [
    "JSONiq comes up with a rich string function library out of the box, inherited from its base language. These functions are listed [here](https://www.w3.org/TR/xpath-functions-30/) (actually, you will find many more for numbers, dates, etc).\n"
   ]
  },
  {
   "cell_type": "markdown",
   "metadata": {
    "cell_status": {
     "execute_time": {
      "duration": 17337.39599609375,
      "end_time": 1557230774662.657
     }
    },
    "id": "FIA6t1cbhrKW"
   },
   "source": [
    "\n",
    "### Sequences\n",
    "\n",
    "Until now, we have only been working with single values (an object, an array, a number, a string, a boolean). JSONiq supports sequences of values. You can build a sequence using commas:\n"
   ]
  },
  {
   "cell_type": "code",
   "execution_count": 29,
   "metadata": {
    "id": "30E1G-s5hrKW"
   },
   "outputs": [
    {
     "name": "stdout",
     "output_type": "stream",
     "text": [
      "Took: 2.0990076065063477 ms\n",
      "1\n",
      "2\n",
      "3\n",
      "4\n",
      "5\n",
      "6\n",
      "7\n",
      "8\n",
      "9\n",
      "10\n"
     ]
    }
   ],
   "source": [
    "%%rumble\n",
    " (1, 2, 3, 4, 5, 6, 7, 8, 9, 10)"
   ]
  },
  {
   "cell_type": "code",
   "execution_count": 30,
   "metadata": {
    "cell_status": {
     "execute_time": {
      "duration": 222241.63500976562,
      "end_time": 1557387411306.792
     }
    },
    "id": "FzbtJmhKhrKW"
   },
   "outputs": [
    {
     "name": "stdout",
     "output_type": "stream",
     "text": [
      "Took: 2.094522476196289 ms\n",
      "1\n",
      "true\n",
      "42\n",
      "\"Life\"\n"
     ]
    }
   ],
   "source": [
    "%%rumble\n",
    "1, true, 4.2e1, \"Life\""
   ]
  },
  {
   "cell_type": "markdown",
   "metadata": {
    "id": "X_rMosG5hrKW"
   },
   "source": [
    "The \"to\" operator is very convenient, too:"
   ]
  },
  {
   "cell_type": "code",
   "execution_count": 31,
   "metadata": {
    "cell_status": {
     "execute_time": {
      "duration": 39579.559814453125,
      "end_time": 1557387951481.842
     }
    },
    "id": "IoBx9SdShrKW",
    "scrolled": true
   },
   "outputs": [
    {
     "name": "stdout",
     "output_type": "stream",
     "text": [
      "Took: 2.0548760890960693 ms\n",
      "1\n",
      "2\n",
      "3\n",
      "4\n",
      "5\n",
      "6\n",
      "7\n",
      "8\n",
      "9\n",
      "10\n",
      "11\n",
      "12\n",
      "13\n",
      "14\n",
      "15\n",
      "16\n",
      "17\n",
      "18\n",
      "19\n",
      "20\n",
      "21\n",
      "22\n",
      "23\n",
      "24\n",
      "25\n",
      "26\n",
      "27\n",
      "28\n",
      "29\n",
      "30\n",
      "31\n",
      "32\n",
      "33\n",
      "34\n",
      "35\n",
      "36\n",
      "37\n",
      "38\n",
      "39\n",
      "40\n",
      "41\n",
      "42\n",
      "43\n",
      "44\n",
      "45\n",
      "46\n",
      "47\n",
      "48\n",
      "49\n",
      "50\n",
      "51\n",
      "52\n",
      "53\n",
      "54\n",
      "55\n",
      "56\n",
      "57\n",
      "58\n",
      "59\n",
      "60\n",
      "61\n",
      "62\n",
      "63\n",
      "64\n",
      "65\n",
      "66\n",
      "67\n",
      "68\n",
      "69\n",
      "70\n",
      "71\n",
      "72\n",
      "73\n",
      "74\n",
      "75\n",
      "76\n",
      "77\n",
      "78\n",
      "79\n",
      "80\n",
      "81\n",
      "82\n",
      "83\n",
      "84\n",
      "85\n",
      "86\n",
      "87\n",
      "88\n",
      "89\n",
      "90\n",
      "91\n",
      "92\n",
      "93\n",
      "94\n",
      "95\n",
      "96\n",
      "97\n",
      "98\n",
      "99\n",
      "100\n"
     ]
    }
   ],
   "source": [
    "%%rumble\n",
    " (1 to 100)"
   ]
  },
  {
   "cell_type": "markdown",
   "metadata": {
    "id": "v0cwsmaMhrKW"
   },
   "source": [
    "Some functions even work on sequences:"
   ]
  },
  {
   "cell_type": "code",
   "execution_count": 32,
   "metadata": {
    "cell_status": {
     "execute_time": {
      "duration": 27601.31787109375,
      "end_time": 1557171455208.987
     }
    },
    "id": "GRY2tHEQhrKX"
   },
   "outputs": [
    {
     "name": "stdout",
     "output_type": "stream",
     "text": [
      "Took: 2.088104486465454 ms\n",
      "5050\n"
     ]
    }
   ],
   "source": [
    "%%rumble\n",
    "sum(1 to 100)"
   ]
  },
  {
   "cell_type": "code",
   "execution_count": 35,
   "metadata": {
    "cell_status": {
     "execute_time": {
      "duration": 55527.44091796875,
      "end_time": 1557229508578.007
     }
    },
    "id": "khUaAhjjhrKX"
   },
   "outputs": [
    {
     "name": "stdout",
     "output_type": "stream",
     "text": [
      "Took: 2.1134231090545654 ms\n",
      "\"These-are-some-words\"\n"
     ]
    }
   ],
   "source": [
    "%%rumble\n",
    "string-join((\"These\", \"are\", \"some\", \"words\"), \"-\")"
   ]
  },
  {
   "cell_type": "code",
   "execution_count": 36,
   "metadata": {
    "cell_status": {
     "execute_time": {
      "duration": 13343.739013671875,
      "end_time": 1557224627704.526
     }
    },
    "id": "93Jz2DaFhrKX"
   },
   "outputs": [
    {
     "name": "stdout",
     "output_type": "stream",
     "text": [
      "Took: 2.068220615386963 ms\n",
      "11\n"
     ]
    }
   ],
   "source": [
    "%%rumble\n",
    "count(10 to 20)"
   ]
  },
  {
   "cell_type": "code",
   "execution_count": 37,
   "metadata": {
    "cell_status": {
     "execute_time": {
      "duration": 19340.81201171875,
      "end_time": 1557220260002.04
     }
    },
    "id": "3FDtCtVChrKX"
   },
   "outputs": [
    {
     "name": "stdout",
     "output_type": "stream",
     "text": [
      "Took: 2.101912021636963 ms\n",
      "50.5\n"
     ]
    }
   ],
   "source": [
    "%%rumble\n",
    "avg(1 to 100)"
   ]
  },
  {
   "cell_type": "markdown",
   "metadata": {
    "id": "hG7zwtfWhrKX"
   },
   "source": [
    "Unlike arrays, sequences are flat. The sequence (3) is identical to the integer 3, and (1, (2, 3)) is identical to (1, 2, 3)."
   ]
  },
  {
   "cell_type": "markdown",
   "metadata": {
    "cell_status": {
     "execute_time": {
      "duration": 433204.9020996094,
      "end_time": 1557221766692.589
     }
    },
    "id": "t1Y_5iuBhrKX",
    "scrolled": false
   },
   "source": [
    "## A bit more in depth\n",
    "\n",
    "### Variables\n",
    "\n",
    "You can bind a sequence of values to a (dollar-prefixed) variable, like so:"
   ]
  },
  {
   "cell_type": "code",
   "execution_count": 38,
   "metadata": {
    "id": "IQZBFJlMhrKX"
   },
   "outputs": [
    {
     "name": "stdout",
     "output_type": "stream",
     "text": [
      "Took: 2.088350296020508 ms\n",
      "\"Bearing 3 1 4 Mark 5. Engage!\"\n"
     ]
    }
   ],
   "source": [
    "%%rumble\n",
    "let $x := \"Bearing 3 1 4 Mark 5. \"\n",
    "return concat($x, \"Engage!\")"
   ]
  },
  {
   "cell_type": "code",
   "execution_count": 39,
   "metadata": {
    "id": "-Zh0x645hrKX"
   },
   "outputs": [
    {
     "name": "stdout",
     "output_type": "stream",
     "text": [
      "Took: 2.1182405948638916 ms\n",
      "\"Kirk and Picard and Sisko\"\n"
     ]
    }
   ],
   "source": [
    "%%rumble\n",
    "let $x := (\"Kirk\", \"Picard\", \"Sisko\")\n",
    "return string-join($x, \" and \")"
   ]
  },
  {
   "cell_type": "markdown",
   "metadata": {
    "id": "8zkA2HFAhrKX"
   },
   "source": [
    "You can bind as many variables as you want:"
   ]
  },
  {
   "cell_type": "code",
   "execution_count": 40,
   "metadata": {
    "id": "RQifv3ezhrKX"
   },
   "outputs": [
    {
     "name": "stdout",
     "output_type": "stream",
     "text": [
      "Took: 2.0896427631378174 ms\n",
      "1\n",
      "2\n",
      "3\n"
     ]
    }
   ],
   "source": [
    "%%rumble\n",
    "let $x := 1\n",
    "let $y := $x * 2\n",
    "let $z := $y + $x\n",
    "return ($x, $y, $z)"
   ]
  },
  {
   "cell_type": "markdown",
   "metadata": {
    "id": "OLuNB3rbhrKX"
   },
   "source": [
    "and even reuse the same name to hide formerly declared variables:"
   ]
  },
  {
   "cell_type": "code",
   "execution_count": 41,
   "metadata": {
    "id": "itMBTXAGhrKX"
   },
   "outputs": [
    {
     "name": "stdout",
     "output_type": "stream",
     "text": [
      "Took: 2.104177713394165 ms\n",
      "6\n"
     ]
    }
   ],
   "source": [
    "%%rumble\n",
    "let $x := 1\n",
    "let $x := $x + 2\n",
    "let $x := $x + 3\n",
    "return $x"
   ]
  },
  {
   "cell_type": "markdown",
   "metadata": {
    "id": "U13Yla0ghrKX"
   },
   "source": [
    "### Iteration\n",
    "\n",
    "In a way very similar to let, you can iterate over a sequence of values with the \"for\" keyword. Instead of binding the entire sequence of the variable, it will bind each value of the sequence in turn to this variable."
   ]
  },
  {
   "cell_type": "code",
   "execution_count": 42,
   "metadata": {
    "id": "6p-sWqTbhrKX",
    "scrolled": true
   },
   "outputs": [
    {
     "name": "stdout",
     "output_type": "stream",
     "text": [
      "Took: 2.1191978454589844 ms\n",
      "2\n",
      "4\n",
      "6\n",
      "8\n",
      "10\n",
      "12\n",
      "14\n",
      "16\n",
      "18\n",
      "20\n"
     ]
    }
   ],
   "source": [
    "%%rumble\n",
    "for $i in 1 to 10\n",
    "return $i * 2"
   ]
  },
  {
   "cell_type": "markdown",
   "metadata": {
    "id": "NlEgcpIGhrKX"
   },
   "source": [
    "More interestingly, you can combine fors and lets like so:"
   ]
  },
  {
   "cell_type": "code",
   "execution_count": 43,
   "metadata": {
    "id": "Ml_bcBOQhrKX"
   },
   "outputs": [
    {
     "name": "stdout",
     "output_type": "stream",
     "text": [
      "Took: 2.1041972637176514 ms\n",
      "2\n",
      "4\n",
      "6\n",
      "8\n",
      "10\n",
      "12\n",
      "14\n",
      "16\n",
      "18\n",
      "20\n"
     ]
    }
   ],
   "source": [
    "%%rumble\n",
    "let $sequence := 1 to 10\n",
    "for $value in $sequence\n",
    "let $square := $value * 2\n",
    "return $square"
   ]
  },
  {
   "cell_type": "markdown",
   "metadata": {
    "id": "wP-22ufxhrKX"
   },
   "source": [
    "and even filter out some values:"
   ]
  },
  {
   "cell_type": "code",
   "execution_count": 44,
   "metadata": {
    "id": "ERlSrAa7hrKX"
   },
   "outputs": [
    {
     "name": "stdout",
     "output_type": "stream",
     "text": [
      "Took: 2.114689350128174 ms\n",
      "2\n",
      "4\n",
      "6\n",
      "8\n"
     ]
    }
   ],
   "source": [
    "%%rumble\n",
    "let $sequence := 1 to 10\n",
    "for $value in $sequence\n",
    "let $square := $value * 2\n",
    "where $square < 10\n",
    "return $square"
   ]
  },
  {
   "cell_type": "markdown",
   "metadata": {
    "id": "SmCGI8DkhrKX"
   },
   "source": [
    "Note that you can only iterate over sequences, not arrays. To iterate over an array, you can obtain the sequence of its values with the [] operator, like so:\n"
   ]
  },
  {
   "cell_type": "code",
   "execution_count": 47,
   "metadata": {
    "id": "ntMrbesIhrKX"
   },
   "outputs": [
    {
     "name": "stdout",
     "output_type": "stream",
     "text": [
      "Took: 2.0980772972106934 ms\n",
      "1\n",
      "2\n",
      "3\n"
     ]
    }
   ],
   "source": [
    "%%rumble\n",
    "[1, 2, 3][]"
   ]
  },
  {
   "cell_type": "markdown",
   "metadata": {
    "id": "kEJLBHoghrKX"
   },
   "source": [
    "### Conditions\n",
    "\n",
    "You can make the output depend on a condition with an if-then-else construct:"
   ]
  },
  {
   "cell_type": "code",
   "execution_count": 49,
   "metadata": {
    "id": "gwq7TT5bhrKX"
   },
   "outputs": [
    {
     "name": "stdout",
     "output_type": "stream",
     "text": [
      "Took: 2.083033561706543 ms\n",
      "1\n",
      "2\n",
      "3\n",
      "4\n",
      "-5\n",
      "-6\n",
      "-7\n",
      "-8\n",
      "-9\n",
      "-10\n"
     ]
    }
   ],
   "source": [
    "%%rumble\n",
    "for $x in 1 to 10\n",
    "return if ($x < 5) then $x else -$x"
   ]
  },
  {
   "cell_type": "markdown",
   "metadata": {
    "id": "gItSAnHAhrKX"
   },
   "source": [
    "Note that the else clause is required - however, it can be the empty sequence () which is often when you need if only the then clause is relevant to you."
   ]
  },
  {
   "cell_type": "markdown",
   "metadata": {
    "id": "bkJkimFphrKX"
   },
   "source": [
    "### Composability of Expressions\n",
    "\n",
    "Now that you know of a couple of elementary JSONiq expressions, you can combine them in more elaborate expressions. For example, you can put any sequence of values in an array:"
   ]
  },
  {
   "cell_type": "code",
   "execution_count": 50,
   "metadata": {
    "id": "-j-CBM7OhrKX"
   },
   "outputs": [
    {
     "name": "stdout",
     "output_type": "stream",
     "text": [
      "Took: 2.097451686859131 ms\n",
      "[1, 2, 3, 4, 5, 6, 7, 8, 9, 10]\n"
     ]
    }
   ],
   "source": [
    "%%rumble\n",
    "[ 1 to 10 ]"
   ]
  },
  {
   "cell_type": "markdown",
   "metadata": {
    "id": "bItRSk5mhrKY"
   },
   "source": [
    "Or you can dynamically compute the value of object pairs (or their key):"
   ]
  },
  {
   "cell_type": "code",
   "execution_count": 51,
   "metadata": {
    "id": "dh4HMny2hrKY"
   },
   "outputs": [
    {
     "name": "stdout",
     "output_type": "stream",
     "text": [
      "Took: 2.084519863128662 ms\n",
      "{\"Greeting\": \"Hello, Mister Spock\", \"Farewell\": \"Live long and prosper\"}\n"
     ]
    }
   ],
   "source": [
    "%%rumble\n",
    "{\n",
    "      \"Greeting\" : (let $d := \"Mister Spock\"\n",
    "                    return concat(\"Hello, \", $d)),\n",
    "      \"Farewell\" : string-join((\"Live\", \"long\", \"and\", \"prosper\"),\n",
    "                               \" \")\n",
    "}"
   ]
  },
  {
   "cell_type": "markdown",
   "metadata": {
    "id": "TWReZYhohrKY"
   },
   "source": [
    "You can dynamically generate object singletons (with a single pair):\n"
   ]
  },
  {
   "cell_type": "code",
   "execution_count": 52,
   "metadata": {
    "id": "QHDNi1QjhrKY"
   },
   "outputs": [
    {
     "name": "stdout",
     "output_type": "stream",
     "text": [
      "Took: 2.0732126235961914 ms\n",
      "{\"Integer 2\": 4}\n"
     ]
    }
   ],
   "source": [
    "%%rumble\n",
    "{ concat(\"Integer \", 2) : 2 * 2 }"
   ]
  },
  {
   "cell_type": "markdown",
   "metadata": {
    "id": "sPptIS_4hrKY"
   },
   "source": [
    "and then merge lots of them into a new object with the {| |} notation:"
   ]
  },
  {
   "cell_type": "code",
   "execution_count": 53,
   "metadata": {
    "id": "KEw2x-1jhrKY"
   },
   "outputs": [
    {
     "name": "stdout",
     "output_type": "stream",
     "text": [
      "Took: 2.132176637649536 ms\n",
      "{\"Square of 1\": 1, \"Square of 2\": 4, \"Square of 3\": 9, \"Square of 4\": 16, \"Square of 5\": 25, \"Square of 6\": 36, \"Square of 7\": 49, \"Square of 8\": 64, \"Square of 9\": 81, \"Square of 10\": 100}\n"
     ]
    }
   ],
   "source": [
    "%%rumble\n",
    "{|\n",
    "    for $i in 1 to 10\n",
    "    return { concat(\"Square of \", $i) : $i * $i }\n",
    "|}"
   ]
  },
  {
   "cell_type": "markdown",
   "metadata": {
    "id": "Zj9AgqsBhrKY"
   },
   "source": [
    "## JSON Navigation\n",
    "\n",
    "Up to now, you have learnt how to compose expressions so as to do some computations and to build objects and arrays. It also works the other way round: if you have some JSON data, you can access it and navigate.\n",
    "All you need to know is: JSONiq views\n",
    "an array as an ordered list of values,\n",
    "an object as a set of name/value pairs\n"
   ]
  },
  {
   "cell_type": "markdown",
   "metadata": {
    "id": "4NMMWdnShrKY"
   },
   "source": [
    "### Objects\n",
    "\n",
    "You can use the dot operator to retrieve the value associated with a key. Quotes are optional, except if the key has special characters such as spaces. It will return the value associated thereto:"
   ]
  },
  {
   "cell_type": "code",
   "execution_count": 64,
   "metadata": {
    "id": "VFfwP0nfhrKY"
   },
   "outputs": [
    {
     "name": "stdout",
     "output_type": "stream",
     "text": [
      "Took: 2.0504555702209473 ms\n",
      "\"Sarah\"\n"
     ]
    }
   ],
   "source": [
    "%%rumble\n",
    "let $person := {\n",
    "    \"first name\" : \"Sarah\",\n",
    "    \"age\" : 13,\n",
    "    \"gender\" : \"female\",\n",
    "    \"friends\" : [ \"Jim\", \"Mary\", \"Jennifer\"]\n",
    "}\n",
    "return $person.\"first name\""
   ]
  },
  {
   "cell_type": "markdown",
   "metadata": {
    "id": "PkxiFID7hrKY"
   },
   "source": [
    "You can also ask for all keys in an object:"
   ]
  },
  {
   "cell_type": "code",
   "execution_count": 65,
   "metadata": {
    "id": "8T2OCFUghrKY"
   },
   "outputs": [
    {
     "name": "stdout",
     "output_type": "stream",
     "text": [
      "Took: 2.0966694355010986 ms\n",
      "{\"keys\": [\"name\", \"age\", \"gender\", \"friends\"]}\n"
     ]
    }
   ],
   "source": [
    "%%rumble\n",
    "let $person := {\n",
    "    \"name\" : \"Sarah\",\n",
    "    \"age\" : 13,\n",
    "    \"gender\" : \"female\",\n",
    "    \"friends\" : [ \"Jim\", \"Mary\", \"Jennifer\"]\n",
    "}\n",
    "return { \"keys\" : [ keys($person)] }"
   ]
  },
  {
   "cell_type": "markdown",
   "metadata": {
    "id": "oim6bAQyhrKY"
   },
   "source": [
    "### Arrays\n",
    "\n",
    "The [[]] operator retrieves the entry at the given position:"
   ]
  },
  {
   "cell_type": "code",
   "execution_count": 67,
   "metadata": {
    "id": "P14wlsn2hrKY"
   },
   "outputs": [
    {
     "name": "stdout",
     "output_type": "stream",
     "text": [
      "Took: 2.118917226791382 ms\n",
      "\"Mary\"\n"
     ]
    }
   ],
   "source": [
    "%%rumble\n",
    "let $friends := [ \"Jim\", \"Mary\", \"Jennifer\"]\n",
    "return $friends[[1+1]]"
   ]
  },
  {
   "cell_type": "markdown",
   "metadata": {
    "id": "drILINuehrKY"
   },
   "source": [
    "It is also possible to get the size of an array:"
   ]
  },
  {
   "cell_type": "code",
   "execution_count": 71,
   "metadata": {
    "id": "GPTzsEWuhrKY"
   },
   "outputs": [
    {
     "name": "stdout",
     "output_type": "stream",
     "text": [
      "Took: 2.0887184143066406 ms\n",
      "{\"how many friends\": 3}\n"
     ]
    }
   ],
   "source": [
    "%%rumble\n",
    "let $person := {\n",
    "    \"name\" : \"Sarah\",\n",
    "    \"age\" : 13,\n",
    "    \"gender\" : \"female\",\n",
    "    \"friends\" : [ \"Jim\", \"Mary\", \"Jennifer\"]\n",
    "}\n",
    "return { \"how many friends\" : size($person.friends) }"
   ]
  },
  {
   "cell_type": "markdown",
   "metadata": {
    "id": "HnVfQuPYhrKY"
   },
   "source": [
    "Finally, the [] operator returns all elements in an array, as a sequence:"
   ]
  },
  {
   "cell_type": "code",
   "execution_count": 72,
   "metadata": {
    "id": "cnr5WXjohrKY"
   },
   "outputs": [
    {
     "name": "stdout",
     "output_type": "stream",
     "text": [
      "Took: 2.0913147926330566 ms\n",
      "\"Jim\"\n",
      "\"Mary\"\n",
      "\"Jennifer\"\n"
     ]
    }
   ],
   "source": [
    "%%rumble\n",
    "let $person := {\n",
    "    \"name\" : \"Sarah\",\n",
    "    \"age\" : 13,\n",
    "    \"gender\" : \"female\",\n",
    "    \"friends\" : [ \"Jim\", \"Mary\", \"Jennifer\"]\n",
    "}\n",
    "return $person.friends[]"
   ]
  },
  {
   "cell_type": "markdown",
   "metadata": {
    "id": "kyzBECFMhrKY"
   },
   "source": [
    "### Relational Algebra\n",
    "\n",
    "Do you remember SQL's SELECT FROM WHERE statements? JSONiq inherits selection, projection and join capability from XQuery, too."
   ]
  },
  {
   "cell_type": "code",
   "execution_count": 73,
   "metadata": {
    "id": "nqHxqtoYhrKY"
   },
   "outputs": [
    {
     "name": "stdout",
     "output_type": "stream",
     "text": [
      "Took: 2.1122922897338867 ms\n",
      "[{\"nb\": 1, \"state\": \"MA\", \"sold\": \"broiler\"}, {\"nb\": 1, \"state\": \"MA\", \"sold\": \"socks\"}, {\"nb\": 2, \"state\": \"MA\", \"sold\": \"toaster\"}, {\"nb\": 2, \"state\": \"MA\", \"sold\": \"toaster\"}, {\"nb\": 2, \"state\": \"MA\", \"sold\": \"socks\"}, {\"nb\": 3, \"state\": \"CA\", \"sold\": \"toaster\"}, {\"nb\": 3, \"state\": \"CA\", \"sold\": \"blender\"}, {\"nb\": 3, \"state\": \"CA\", \"sold\": \"blender\"}, {\"nb\": 3, \"state\": \"CA\", \"sold\": \"shirt\"}]\n"
     ]
    }
   ],
   "source": [
    "%%rumble\n",
    "let $stores :=\n",
    "[\n",
    "    { \"store number\" : 1, \"state\" : \"MA\" },\n",
    "    { \"store number\" : 2, \"state\" : \"MA\" },\n",
    "    { \"store number\" : 3, \"state\" : \"CA\" },\n",
    "    { \"store number\" : 4, \"state\" : \"CA\" }\n",
    "]\n",
    "let $sales := [\n",
    "    { \"product\" : \"broiler\", \"store number\" : 1, \"quantity\" : 20  },\n",
    "    { \"product\" : \"toaster\", \"store number\" : 2, \"quantity\" : 100 },\n",
    "    { \"product\" : \"toaster\", \"store number\" : 2, \"quantity\" : 50 },\n",
    "    { \"product\" : \"toaster\", \"store number\" : 3, \"quantity\" : 50 },\n",
    "    { \"product\" : \"blender\", \"store number\" : 3, \"quantity\" : 100 },\n",
    "    { \"product\" : \"blender\", \"store number\" : 3, \"quantity\" : 150 },\n",
    "    { \"product\" : \"socks\", \"store number\" : 1, \"quantity\" : 500 },\n",
    "    { \"product\" : \"socks\", \"store number\" : 2, \"quantity\" : 10 },\n",
    "    { \"product\" : \"shirt\", \"store number\" : 3, \"quantity\" : 10 }\n",
    "]\n",
    "let $join :=\n",
    "    for $store in $stores[], $sale in $sales[]\n",
    "    where $store.\"store number\" = $sale.\"store number\"\n",
    "    return {\n",
    "        \"nb\" : $store.\"store number\",\n",
    "        \"state\" : $store.state,\n",
    "        \"sold\" : $sale.product\n",
    "    }\n",
    "return [$join]"
   ]
  },
  {
   "cell_type": "markdown",
   "metadata": {
    "id": "Bj5MkqjYhrKY"
   },
   "source": [
    "### Access datasets\n",
    "\n",
    "Rumble can read input from many file systems and many file formats. If you are using our backend, you can only use json-doc() with any URI pointing to a JSON file and navigate it as you see fit. "
   ]
  },
  {
   "cell_type": "code",
   "execution_count": 74,
   "metadata": {
    "collapsed": true,
    "id": "IvKabTMohrKY"
   },
   "outputs": [
    {
     "name": "stdout",
     "output_type": "stream",
     "text": [
      "Took: 2.109262228012085 ms\n"
     ]
    },
    {
     "data": {
      "text/plain": [
       "'There was an error.\\n\\nCode: [FODC0002] (this code can be looked up in the documentation and specifications).\\n\\nLocation information: file:/C:/Users/Ivan/:LINE:1:COLUMN:0:\\n\\nMalformed URI: Put any HTTP URL pointing to a JSON document here! Cause: Illegal character in path at index 3: Put any HTTP URL pointing to a JSON document here!'"
      ]
     },
     "execution_count": 74,
     "metadata": {},
     "output_type": "execute_result"
    }
   ],
   "source": [
    "%%rumble\n",
    "json-doc(\"Put any HTTP URL pointing to a JSON document here!\").foo[[1]].bar.foobar[]"
   ]
  },
  {
   "cell_type": "markdown",
   "metadata": {
    "id": "4ryDS6RGhrKY"
   },
   "source": [
    "If you are using your own Rumble server on your cluster, you can also use any other function and scheme."
   ]
  },
  {
   "cell_type": "code",
   "execution_count": 75,
   "metadata": {
    "collapsed": true,
    "id": "P100xHh4hrKY"
   },
   "outputs": [
    {
     "name": "stdout",
     "output_type": "stream",
     "text": [
      "Took: 2.1068294048309326 ms\n"
     ]
    },
    {
     "data": {
      "text/plain": [
       "'There was an error.\\n\\nCode: [FODC0002] (this code can be looked up in the documentation and specifications).\\n\\nLocation information: file:/C:/Users/Ivan/:LINE:1:COLUMN:0:\\n\\nFile file:/C:/Users/Ivan/put%20the%20path%20to%20a%20JSON%20lines%20file%20here.%20This%20will%20only%20work%20against%20your%20own%20Rumble%20backend%20and%20Spark%20cluster,%20though. not found.'"
      ]
     },
     "execution_count": 75,
     "metadata": {},
     "output_type": "execute_result"
    }
   ],
   "source": [
    "%%rumble\n",
    "json-file(\"put the path to a JSON lines file here. This will only work against your own Rumble backend and Spark cluster, though.\")"
   ]
  },
  {
   "cell_type": "markdown",
   "metadata": {
    "cell_status": {
     "execute_time": {
      "duration": 44.55712890625,
      "end_time": 1557044256642.663
     }
    },
    "collapsed": true,
    "id": "YzHCdZ2Ld-kt"
   },
   "source": [
    "# 4. The Great Language Game\n",
    "\n",
    "This week you will be using again the [language confusion dataset](http://lars.yencken.org/datasets/languagegame/). You will write queries with Rumble. You will have to submit the results of this exercise to Moodle to obtain the weekly bonus. You will need these things:\n",
    "- The query you wrote\n",
    "- Something related to its output (which you will be graded on)\n",
    "- The time it took you to run it\n",
    "\n",
    "The execution time of the queries will be reported by Rumble.\n",
    "\n",
    "Download and decompress the dataset in the same folder as `spark-rumble-1.12.0.jar` with the following:\n",
    "```\n",
    "wget http://data.greatlanguagegame.com.s3.amazonaws.com/confusion-2014-03-02.tbz2\n",
    "tar -jxvf confusion-2014-03-02.tbz2\n",
    "```\n",
    "\n"
   ]
  },
  {
   "cell_type": "markdown",
   "metadata": {
    "id": "rUS6Y9IqDS4Y"
   },
   "source": [
    "Afterwards upload the data into HDFS\n",
    "\n",
    "```\n",
    "hadoop dfs -copyFromLocal confusion-2014-03-02 /tmp/\n",
    "```"
   ]
  },
  {
   "cell_type": "markdown",
   "metadata": {
    "id": "3Pcf7FL7Aetl"
   },
   "source": [
    "## 4.1 Query the data"
   ]
  },
  {
   "cell_type": "markdown",
   "metadata": {
    "id": "er5XQjCVd-kt"
   },
   "source": [
    "You can read data from a json file with `json-file`. For example, the following query will read and print the entries in the confusion dataset:\n",
    "\n",
    "\n"
   ]
  },
  {
   "cell_type": "code",
   "execution_count": 77,
   "metadata": {
    "id": "nPHu0ODR9vAE"
   },
   "outputs": [
    {
     "name": "stdout",
     "output_type": "stream",
     "text": [
      "Took: 2.1359879970550537 ms\n"
     ]
    },
    {
     "data": {
      "text/plain": [
       "'There was an error.\\n\\nCode: [FODC0002] (this code can be looked up in the documentation and specifications).\\n\\nLocation information: file:/C:/Users/Ivan/:LINE:1:COLUMN:10:\\n\\nFile file:/tmp/confusion-2014-03-02/confusion-2014-03-02.json not found.'"
      ]
     },
     "execution_count": 77,
     "metadata": {},
     "output_type": "execute_result"
    }
   ],
   "source": [
    "%%rumble\n",
    "for $i in json-file(\"/tmp/confusion-2014-03-02/confusion-2014-03-02.json\")\n",
    "return $i"
   ]
  },
  {
   "cell_type": "markdown",
   "metadata": {
    "id": "WyH8y0nR9vXg"
   },
   "source": [
    "Note that you have to press enter once at the end of each line and two more times to execute the query if you are using the **shell**. Your jsoniq shell should look like this:\n",
    "```\n",
    "jiqs$ for $i in json-file(\"confusion-2014-03-02/confusion-2014-03-02.json\")\n",
    ">>> return $i\n",
    ">>> \n",
    ">>> \n",
    "```\n",
    "\n"
   ]
  },
  {
   "cell_type": "markdown",
   "metadata": {
    "id": "a1ovg4Ga9xVp"
   },
   "source": [
    "After the results of your query are printed, Rumble will report the execution runtime in milliseconds:\n",
    "```\n",
    "Took: 62.02618598937988 ms\n",
    "```\n",
    "\n",
    "In the `json-file` method you can optionally specify the number of partitions, which may allow your query to be parallelized and executed faster. For example:\n"
   ]
  },
  {
   "cell_type": "code",
   "execution_count": null,
   "metadata": {
    "id": "8G7eI0UE93BH"
   },
   "outputs": [],
   "source": [
    "%%rumble\n",
    "for $i in json-file(\"/tmp/confusion-2014-03-02/confusion-2014-03-02.json\", 10)\n",
    "return $i"
   ]
  },
  {
   "cell_type": "markdown",
   "metadata": {
    "id": "oDF2EAwwAwTM"
   },
   "source": [
    "## 4.2 SQL to Rumble"
   ]
  },
  {
   "cell_type": "markdown",
   "metadata": {
    "id": "W2ppgHl4d-kt"
   },
   "source": [
    "The following examples, show how SQL queries can be converted to Sparksoniq queries. Assume that the dataset is accessible with SQL through the table \"entries\".\n",
    "\n",
    "\n",
    "\n"
   ]
  },
  {
   "cell_type": "markdown",
   "metadata": {
    "id": "P8q9Rwq8IzPn"
   },
   "source": [
    "### 4.2.1 Get all games played from Switzerland\n",
    "\n",
    "\n",
    "```sql\n",
    "SELECT *\n",
    "FROM entries\n",
    "WHERE country == \"CH\"\n",
    "```\n"
   ]
  },
  {
   "cell_type": "code",
   "execution_count": null,
   "metadata": {
    "id": "A3ZQK0gVHkoI"
   },
   "outputs": [],
   "source": [
    "%%rumble\n",
    "# Your code here"
   ]
  },
  {
   "cell_type": "markdown",
   "metadata": {
    "id": "OG0xJS2KHEF3"
   },
   "source": [
    "### 4.2.2 Get all games played from Switzerland, where the correct answer (target) was \"German\"\n",
    "```sql\n",
    "SELECT *\n",
    "FROM entries\n",
    "WHERE country == \"CH\" AND target == \"German\"\n",
    "```\n",
    "\n",
    "\n"
   ]
  },
  {
   "cell_type": "code",
   "execution_count": null,
   "metadata": {
    "id": "EuN0WVltHrXl"
   },
   "outputs": [],
   "source": [
    "%%rumble\n",
    "# Your code here"
   ]
  },
  {
   "cell_type": "markdown",
   "metadata": {
    "id": "jQycXJuCHHJW"
   },
   "source": [
    "### 4.2.3 Get the top 5 games played from Switzerland, where the correct answer (target) was \"German\"\n",
    "```sql\n",
    "SELECT *\n",
    "FROM entries\n",
    "WHERE country == \"CH\" AND target == \"German\"\n",
    "LIMIT 5\n",
    "```\n",
    "\n",
    "\n"
   ]
  },
  {
   "cell_type": "code",
   "execution_count": null,
   "metadata": {
    "id": "6Brsgs6fHwET"
   },
   "outputs": [],
   "source": [
    "%%rumble\n",
    "# Your code here"
   ]
  },
  {
   "cell_type": "markdown",
   "metadata": {
    "id": "3ivTnfw5HMZz"
   },
   "source": [
    "### 4.2.4 Get all games played from Switzerland, where the correct answer (target) was \"German\", order them by date (ascending), and return the top 5 rows.\n",
    "```sql\n",
    "SELECT *\n",
    "FROM entries\n",
    "WHERE country == \"CH\" AND target == \"German\"\n",
    "ORDER BY date ASC\n",
    "LIMIT 5\n",
    "```\n",
    "\n",
    "\n"
   ]
  },
  {
   "cell_type": "code",
   "execution_count": null,
   "metadata": {
    "id": "YbI3HF2QH-2x"
   },
   "outputs": [],
   "source": [
    "%%rumble\n",
    "# Your code here"
   ]
  },
  {
   "cell_type": "markdown",
   "metadata": {
    "id": "sKmgYw_jHPZ3"
   },
   "source": [
    "### 4.2.5 Get all games played from Switzerland, where the correct answer (target) was \"German\", group them by date, and return for each different date the number of games played.\n",
    "\n",
    "```sql\n",
    "SELECT date, COUNT(*) AS num_games\n",
    "FROM entries\n",
    "WHERE country == \"CH\" AND target == \"German\"\n",
    "GROUP BY date\n",
    "```\n"
   ]
  },
  {
   "cell_type": "code",
   "execution_count": null,
   "metadata": {
    "id": "19hMluehIDVR"
   },
   "outputs": [],
   "source": [
    "%%rumble\n",
    "# Your code here"
   ]
  },
  {
   "cell_type": "markdown",
   "metadata": {
    "id": "qKzNKYFNHSGW"
   },
   "source": [
    "### 4.2.6 Get all games played from Switzerland, group them by date and target, and return for each different date and target the number of games played.\n",
    "\n",
    "\n",
    "NOTE: Rumble has some reserved keywords, for example `date`. If you try to create a variable `$date`, you may get an error, such as `no viable alternative at input 'date'`.\n",
    "\n",
    "```sql\n",
    "SELECT date, target, COUNT(*) AS num_games\n",
    "FROM entries\n",
    "WHERE country == \"CH\"\n",
    "GROUP BY date, target\n",
    "```\n",
    "\n",
    "\n"
   ]
  },
  {
   "cell_type": "code",
   "execution_count": null,
   "metadata": {
    "id": "oO8wXP9TIGw1"
   },
   "outputs": [],
   "source": [
    "%%rumble\n",
    "# Your code here"
   ]
  },
  {
   "cell_type": "markdown",
   "metadata": {
    "id": "IAjnh_H2HUa1"
   },
   "source": [
    "### 4.2.7 For all games played from Switzerland, return the distinct targets of those games.\n",
    "\n",
    "```sql\n",
    "SELECT DISTINCT(target)\n",
    "FROM entries\n",
    "WHERE country == \"CH\"\n",
    "```\n",
    "\n",
    "\n"
   ]
  },
  {
   "cell_type": "code",
   "execution_count": null,
   "metadata": {
    "id": "qfS7prkYIMCN"
   },
   "outputs": [],
   "source": [
    "%%rumble\n",
    "# Your code here"
   ]
  },
  {
   "cell_type": "markdown",
   "metadata": {
    "id": "yVvQBpVxHWuz"
   },
   "source": [
    "### 4.2.8 For all games played from Switzerland, get the distinct targets of those games, and return the index of \"German\" in the list of distinct targets.\n",
    "\n",
    "\n"
   ]
  },
  {
   "cell_type": "code",
   "execution_count": null,
   "metadata": {
    "id": "C9zQLBnwISRB"
   },
   "outputs": [],
   "source": [
    "%%rumble\n",
    "# Your code here"
   ]
  },
  {
   "cell_type": "markdown",
   "metadata": {
    "id": "XW8fQM8WHYt7"
   },
   "source": [
    "### 4.2.9 Count the number of games played from Switzerland (without any grouping).\n",
    "\n",
    "\n",
    "NOTE: `distinct-values` and `index-of` work on \"sequences\". The method `json-file` returns a sequence. If you have an array on which you want to apply `distinct-values` and `index-of`, you must first convert it to a sequence. This can be done with `[]`. For example, if you have an array called `arr`, you can find its distinct values with `distinct-values(arr[])`\n",
    "\n",
    "```sql\n",
    "SELECT COUNT(*) AS count\n",
    "FROM entries\n",
    "WHERE country == \"CH\"\n",
    "```\n"
   ]
  },
  {
   "cell_type": "code",
   "execution_count": null,
   "metadata": {
    "id": "0wXZLNPLIayV"
   },
   "outputs": [],
   "source": [
    "%%rumble\n",
    "# Your code here"
   ]
  },
  {
   "cell_type": "markdown",
   "metadata": {
    "id": "s2ljO3Wyd-kt"
   },
   "source": [
    "If in your query you want to join 2 (or more) sequences (results of `json-file` or subqueries), you can do it in the following way:\n",
    "```\n",
    "let $seq1 := ...\n",
    "let $seq2 := ...\n",
    "for $i in $seq1, $j in $seq2\n",
    "where $i.attr1 eq $j.attr2\n",
    "...\n",
    "```"
   ]
  },
  {
   "cell_type": "markdown",
   "metadata": {
    "id": "PE_9pQzhAOyo"
   },
   "source": [
    "## 4.3 More queries"
   ]
  },
  {
   "cell_type": "markdown",
   "metadata": {
    "id": "FxrwoBIxd-kt"
   },
   "source": [
    "Try writing a few more queries:\n",
    "- List all chosen answers to games where the guessed language is correct (=target)."
   ]
  },
  {
   "cell_type": "code",
   "execution_count": null,
   "metadata": {
    "id": "2pFtHHOed-kt"
   },
   "outputs": [],
   "source": [
    "%%rumble\n",
    "# Your code here"
   ]
  },
  {
   "cell_type": "markdown",
   "metadata": {
    "id": "n4XpGln4d-ku"
   },
   "source": [
    "- Count the games where the index of the correct answer in the choices array is 2 (as returned by the index-of method)."
   ]
  },
  {
   "cell_type": "code",
   "execution_count": null,
   "metadata": {
    "id": "Ubmh2smkd-ku"
   },
   "outputs": [],
   "source": [
    "%%rumble\n",
    "# Your code here"
   ]
  },
  {
   "cell_type": "markdown",
   "metadata": {
    "id": "X_-pBCWtd-ku"
   },
   "source": [
    "- Return all games played on February 3rd 2014."
   ]
  },
  {
   "cell_type": "code",
   "execution_count": null,
   "metadata": {
    "id": "DX82UVhid-ku"
   },
   "outputs": [],
   "source": [
    "%%rumble\n",
    "# Your code here"
   ]
  },
  {
   "cell_type": "markdown",
   "metadata": {
    "id": "krkZtmzIFVdZ"
   },
   "source": [
    "# 5. More nestedness\n",
    "## 5.1 Create Nestedness\n",
    "You may remember in the exercise of Spark Dataframes & Spark SQL, we mentioned two methods <font face=\"courier\">collect_set/collect_list</font> for creating arrays. In JSONiq, this kind of things become even simpler because JSONiq natively supports JSON, so we can directly create arrays via adding square brackets (<font face=\"courier\">[]</font>) and even without any group by operations. \n",
    "\n",
    "For example, if we want to know the list of date at which \"Fijian\" was used as the target, we can write a simple JSONiq query:"
   ]
  },
  {
   "cell_type": "code",
   "execution_count": null,
   "metadata": {
    "id": "xiRw7YmmspKH"
   },
   "outputs": [],
   "source": [
    "%%rumble\n",
    "let $dateSeq := for $i in json-file(\"/tmp/confusion-2014-03-02/confusion-2014-03-02.json\", 10)\n",
    "where $i.target eq \"Fijian\"\n",
    "return $i.date\n",
    "return [$dateSeq]"
   ]
  },
  {
   "cell_type": "markdown",
   "metadata": {
    "id": "osB2WIpFtiQY"
   },
   "source": [
    "The above query is basically a counterpart of a Spark Dataframe query with <font face=\"courier\">collect_list</font>. If we want to imitate the behavior of <font face=\"courier\">collect_set</font>, which means we want the result array to be de-duplicated, we can just resort to <font face=\"courier\">distinct-values</font>:"
   ]
  },
  {
   "cell_type": "code",
   "execution_count": null,
   "metadata": {
    "id": "Vkan5XiAvK24"
   },
   "outputs": [],
   "source": [
    "%%rumble\n",
    "let $dateSeq := for $i in json-file(\"/tmp/confusion-2014-03-02/confusion-2014-03-02.json\", 10)\n",
    "where $i.target eq \"Fijian\"\n",
    "return $i.date\n",
    "return [distinct-values($dateSeq)]"
   ]
  },
  {
   "cell_type": "markdown",
   "metadata": {
    "id": "5Qc0PoMEvckO"
   },
   "source": [
    "Now what if we want to know for each different language, the de-duplicated list of date at which it was used as a target? We may need group by again. Try to come up with the query on your own. What might be the difference in the query with and without group by?\n",
    "\n",
    "**Note:** from here we use a truncated dataset to run the query because the query on the original dataset might take very long and consume a humongous amount of memory. The most important thing is not about the answer, but to come up with proper queries."
   ]
  },
  {
   "cell_type": "code",
   "execution_count": null,
   "metadata": {
    "id": "2k2OOOFjwLah"
   },
   "outputs": [],
   "source": [
    "%%rumble\n",
    "let $truncated := for $i in json-file(\"/tmp/confusion-2014-03-02/confusion-2014-03-02.json\", 10) \n",
    "  count $c \n",
    "  where $c <= 100000 \n",
    "  return $i\n",
    "for $i in $truncated\n",
    "# complete the query"
   ]
  },
  {
   "cell_type": "markdown",
   "metadata": {
    "id": "z93zj9pax-5t"
   },
   "source": [
    "Obviously, unlike <font face=\"courier\">collect_set/collect_list</font> which only accept one column and create arrays on that very column, JSONiq can create arrays on arbitrary things. For example, if we want to highlight the information of date, we can create a new dataset that shows the game info for each date:"
   ]
  },
  {
   "cell_type": "code",
   "execution_count": null,
   "metadata": {
    "id": "msN8hw19ytF9"
   },
   "outputs": [],
   "source": [
    "%%rumble\n",
    "let $truncated := for $i in json-file(\"/tmp/confusion-2014-03-02/confusion-2014-03-02.json\", 10) \n",
    "  count $c \n",
    "  where $c <= 100000 \n",
    "  return $i\n",
    "let $newDataset := for $i in $truncated\n",
    "  group by $d := $i.date\n",
    "  return {\"date\": $d, \"info\": [$i]}\n",
    "return $newDataset"
   ]
  },
  {
   "cell_type": "markdown",
   "metadata": {
    "id": "Z7NB5Euvy6G-"
   },
   "source": [
    "Now we have a more nested dataset! We can try to redo some of the exercises above with this new dataset. For example, get all games played in Switzerland:"
   ]
  },
  {
   "cell_type": "code",
   "execution_count": null,
   "metadata": {
    "id": "kA1p9b7szvz1"
   },
   "outputs": [],
   "source": [
    "%%rumble\n",
    "let $truncated := for $i in json-file(\"/tmp/confusion-2014-03-02/confusion-2014-03-02.json\", 10) \n",
    "  count $c \n",
    "  where $c <= 100000 \n",
    "  return $i\n",
    "let $newDataset := for $i in $truncated\n",
    "  group by $d := $i.date\n",
    "  return {\"date\": $d, \"info\": [$i]}\n",
    "# complete the query"
   ]
  },
  {
   "cell_type": "markdown",
   "metadata": {
    "id": "ycJZrdkO5pyO"
   },
   "source": [
    "Try another one: get the count of games played in Switzerland:"
   ]
  },
  {
   "cell_type": "code",
   "execution_count": null,
   "metadata": {
    "id": "qIAT1Yat5z_D"
   },
   "outputs": [],
   "source": [
    "%%rumble\n",
    "let $truncated := for $i in json-file(\"/tmp/confusion-2014-03-02/confusion-2014-03-02.json\", 10) \n",
    "  count $c \n",
    "  where $c <= 100000 \n",
    "  return $i\n",
    "let $newDataset := for $i in $truncated\n",
    "  group by $d := $i.date\n",
    "  return {\"date\": $d, \"info\": [$i]}\n",
    "# complete the query\n"
   ]
  },
  {
   "cell_type": "markdown",
   "metadata": {
    "id": "R_kRoeKA6Bja"
   },
   "source": [
    "Feel free to try out more questions on your own!"
   ]
  },
  {
   "cell_type": "markdown",
   "metadata": {
    "id": "hPc8di4W6ICv"
   },
   "source": [
    "## 5.2 Git-archive dataset\n",
    "Now let's get into the mess of the real world. We are going to explore the git-archive dataset to handle some properly messy data, which is very challenging if you use Spark. \n",
    "\n",
    "For getting the dataset, just run:\n",
    "```\n",
    "wget https://polybox.ethz.ch/index.php/s/HVWlvJAXVkQ05cw/download -O git-archive.json\n",
    "```\n",
    "and upload it to hdfs if you are using the cluster:\n",
    "```\n",
    "hadoop dfs -copyFromLocal git-archive.json /tmp/\n",
    "```\n",
    "Have a look at what the dataset looks like:"
   ]
  },
  {
   "cell_type": "code",
   "execution_count": null,
   "metadata": {
    "id": "Y2AvFbjR7FAR"
   },
   "outputs": [],
   "source": [
    "%%rumble\n",
    "for $i in json-file(\"/tmp/git-archive.json\", 10)\n",
    "count $c\n",
    "where $c <= 1\n",
    "return $i"
   ]
  },
  {
   "cell_type": "markdown",
   "metadata": {
    "id": "pAePhGBk7WFT"
   },
   "source": [
    "What a mess, isn't it? Anyway, let's try to write some challenging queries, since you've already mastered those easy ones with the language game dataset...\n",
    "\n",
    "1. What is the number of distinct author names that are part of a push event (i.e., an event with the type PushEvent)?"
   ]
  },
  {
   "cell_type": "code",
   "execution_count": null,
   "metadata": {
    "id": "SkpuLT5GnxG4"
   },
   "outputs": [],
   "source": [
    "%%rumble\n",
    "# Your code here"
   ]
  },
  {
   "cell_type": "markdown",
   "metadata": {
    "id": "WtxTZtFNn9qQ"
   },
   "source": [
    "2. What is the name of the repository with the highest number of push events (i.e., events with the type PushEvent), and how many of these push events occurred in this repository?"
   ]
  },
  {
   "cell_type": "code",
   "execution_count": null,
   "metadata": {
    "id": "WPZIL-XwoQvO"
   },
   "outputs": [],
   "source": [
    "%%rumble\n",
    "# Your code here"
   ]
  },
  {
   "cell_type": "markdown",
   "metadata": {
    "id": "AwccKb2YmMoC"
   },
   "source": [
    "# Moodle Graded Exercise"
   ]
  },
  {
   "cell_type": "markdown",
   "metadata": {
    "id": "7DmHBqKMmMoC"
   },
   "source": [
    "And now to the actual Moodle queries. Here we still use the language game dataset (please use the **original** dataset for these questions).\n",
    "\n",
    "\n",
    "1\\. return the number of games where the player's guess is \"Spanish\" and the correct answer (target) is in the first place of the choices array"
   ]
  },
  {
   "cell_type": "code",
   "execution_count": null,
   "metadata": {
    "id": "73H8vujbmMoD"
   },
   "outputs": [],
   "source": [
    "%%rumble \n",
    "# Your code here"
   ]
  },
  {
   "cell_type": "markdown",
   "metadata": {
    "id": "7CA8ZYb9mMoD"
   },
   "source": [
    "2\\. return the rate of correctness for all games with target \"Mandarin\" (write the fraction rounding to 4 decimals (eg. 0.3323))"
   ]
  },
  {
   "cell_type": "code",
   "execution_count": null,
   "metadata": {
    "id": "W2TkLWRTmMoD"
   },
   "outputs": [],
   "source": [
    "%%rumble \n",
    "# Your code here"
   ]
  },
  {
   "cell_type": "markdown",
   "metadata": {
    "id": "NG7FQ1n_mMoD"
   },
   "source": [
    "3\\. return the top three countries that had the largest number of games with correct guesses"
   ]
  },
  {
   "cell_type": "code",
   "execution_count": null,
   "metadata": {
    "id": "BgWadItlmMoE"
   },
   "outputs": [],
   "source": [
    "%%rumble \n",
    "# Your code here"
   ]
  },
  {
   "cell_type": "markdown",
   "metadata": {
    "id": "dE8WL2BmmMoE"
   },
   "source": [
    "4\\. For the language that appeared in the choices array most frequently, how many times did it appear in the choices array?"
   ]
  },
  {
   "cell_type": "code",
   "execution_count": null,
   "metadata": {
    "id": "GkKL6Xi-mMoE"
   },
   "outputs": [],
   "source": [
    "%%rumble \n",
    "# Your code here"
   ]
  },
  {
   "cell_type": "markdown",
   "metadata": {
    "id": "Fwc-biM5mMoF"
   },
   "source": [
    "5\\. Sort the languages by decreasing overall percentage of correct guesses and return the top 3 languages."
   ]
  },
  {
   "cell_type": "code",
   "execution_count": null,
   "metadata": {
    "id": "Ch5PkkgdmMoG"
   },
   "outputs": [],
   "source": [
    "%%rumble \n",
    "# Your code here"
   ]
  }
 ],
 "metadata": {
  "colab": {
   "collapsed_sections": [],
   "name": "Exercise12_Rumble.ipynb",
   "provenance": [],
   "toc_visible": true
  },
  "kernelspec": {
   "display_name": "Python 3",
   "language": "python",
   "name": "python3"
  },
  "language_info": {
   "codemirror_mode": {
    "name": "ipython",
    "version": 3
   },
   "file_extension": ".py",
   "mimetype": "text/x-python",
   "name": "python",
   "nbconvert_exporter": "python",
   "pygments_lexer": "ipython3",
   "version": "3.7.8"
  },
  "toc": {
   "base_numbering": 1,
   "nav_menu": {},
   "number_sections": true,
   "sideBar": true,
   "skip_h1_title": false,
   "title_cell": "Table of Contents",
   "title_sidebar": "Contents",
   "toc_cell": false,
   "toc_position": {},
   "toc_section_display": true,
   "toc_window_display": false
  }
 },
 "nbformat": 4,
 "nbformat_minor": 1
}
