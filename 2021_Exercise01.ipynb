{
  "nbformat": 4,
  "nbformat_minor": 0,
  "metadata": {
    "anaconda-cloud": {},
    "kernelspec": {
      "display_name": "Python 3",
      "language": "python",
      "name": "python3"
    },
    "language_info": {
      "codemirror_mode": {
        "name": "ipython",
        "version": 3
      },
      "file_extension": ".py",
      "mimetype": "text/x-python",
      "name": "python",
      "nbconvert_exporter": "python",
      "pygments_lexer": "ipython3",
      "version": "3.5.4"
    },
    "colab": {
      "name": "2021_Exercises_exercise01_Exercise01_SQL.ipynb",
      "provenance": [],
      "collapsed_sections": [],
      "toc_visible": true
    }
  },
  "cells": [
    {
      "cell_type": "markdown",
      "metadata": {
        "id": "nNy9vzZwh-dP"
      },
      "source": [
        "# Big Data for Engineers FS2021 – Exercises Week 1"
      ]
    },
    {
      "cell_type": "markdown",
      "metadata": {
        "id": "n22LxbP8h-dU"
      },
      "source": [
        "## Exercise 1: Query operations in SQL"
      ]
    },
    {
      "cell_type": "markdown",
      "metadata": {
        "id": "vlc3IV9gGCuy"
      },
      "source": [
        "1. Label each of the following SQL statements with its query type.\n",
        "  ```\n",
        "  A) SELECT * FROM Posts WHERE Id = 123\n",
        "  \n",
        "  B) SELECT Id, ParentId FROM Posts WHERE ParentId IS NOT NULL\n",
        "  \n",
        "  C) SELECT u.Id, DisplayName\n",
        "    FROM Users AS u\n",
        "    JOIN Posts AS p ON u.id = p.OwnerUserId\n",
        "    GROUP BY u.Id, DisplayName\n",
        "  ```\n",
        "\n",
        "2. What makes SQL a declarative language and what advantages does that have?\n",
        "\n",
        "3. What aspects of functional languages are present in SQL, and what advantages does that have?"
      ]
    },
    {
      "cell_type": "markdown",
      "metadata": {
        "id": "2VYo2enGh-dV"
      },
      "source": [
        "## Exercise 2: Explore the dataset"
      ]
    },
    {
      "cell_type": "markdown",
      "metadata": {
        "id": "SfMOTK4rGV8k"
      },
      "source": [
        "Here we will recall basic concepts from relational databases and try to illustrate them by example. First, some introductory questions:\n",
        "\n",
        "1. What is a relational model? \n",
        "2. In what logical shape is the data stored? \n",
        "3. What is a primary key and what is his purpose?\n",
        "4. What does 'first normal form' refer to? \n",
        "\n",
        "Now let us illustrate with few examples. For this we need to connect to the database we used in the first exercise. We repeat here the steps. We first set the credentials to connect."
      ]
    },
    {
      "cell_type": "code",
      "metadata": {
        "id": "1CZkWeAHh-dW"
      },
      "source": [
        "server='ethbigdata2020.postgres.database.azure.com'\n",
        "user='student@ethbigdata2020'\n",
        "password='BigData2020'\n",
        "database='poker.stackexchange.com'\n",
        "connection_string=f'postgresql://{user}:{password}@{server}:5432/{database}?sslmode=require'"
      ],
      "execution_count": null,
      "outputs": []
    },
    {
      "cell_type": "markdown",
      "metadata": {
        "id": "mRIUnbON2dhE"
      },
      "source": [
        "Then we run a first query against our server (following [this tutorial](https://docs.microsoft.com/en-us/azure/postgresql/quickstart-create-server-database-portal) from the Azure website). This should print the version information of the SQL server."
      ]
    },
    {
      "cell_type": "code",
      "metadata": {
        "id": "zgGg_dOMh-dX"
      },
      "source": [
        "import sqlalchemy\n",
        "\n",
        "engine = sqlalchemy.create_engine(connection_string)\n",
        "print(engine.execute('SELECT version()').fetchall())"
      ],
      "execution_count": null,
      "outputs": []
    },
    {
      "cell_type": "markdown",
      "metadata": {
        "id": "3kes54Ik3GBz"
      },
      "source": [
        "We can now load (or reload, if already loaded) the extension and establish a connection to our database from above. Run the following cell and make sure the output says `Connected: <connection_string>`."
      ]
    },
    {
      "cell_type": "code",
      "metadata": {
        "id": "BE8sp_R822kH"
      },
      "source": [
        "%load_ext sql\n",
        "%sql $connection_string"
      ],
      "execution_count": null,
      "outputs": []
    },
    {
      "cell_type": "markdown",
      "metadata": {
        "id": "kQXsGTfA3ysK"
      },
      "source": [
        "Now we can use the ```%sql``` and ```%%sql``` magic words to run SQL directly. ```%%sql``` makes a cell a SQL cell. A SQL cell can run an arbitrary number of SQL statements and displays the result of the last one of them.\n",
        "\n",
        "Let's see the version number again:"
      ]
    },
    {
      "cell_type": "code",
      "metadata": {
        "id": "eHam3eq931C-"
      },
      "source": [
        "%%sql \n",
        "SELECT version();"
      ],
      "execution_count": null,
      "outputs": []
    },
    {
      "cell_type": "markdown",
      "metadata": {
        "id": "2TslvUhH4D3r"
      },
      "source": [
        "Now let's run an SQL query:"
      ]
    },
    {
      "cell_type": "code",
      "metadata": {
        "id": "aO9ESNeth-dY"
      },
      "source": [
        "%%sql \n",
        "SELECT Id, DisplayName FROM Users\n",
        "LIMIT 10"
      ],
      "execution_count": null,
      "outputs": []
    },
    {
      "cell_type": "markdown",
      "metadata": {
        "id": "twlNaLcfHvzF"
      },
      "source": [
        "### List of Tables"
      ]
    },
    {
      "cell_type": "markdown",
      "metadata": {
        "id": "ANIpT7TDh-dY"
      },
      "source": [
        "Now that you have established connection to the database, let us try to understand the it a bit better. Run the following queries which shows the content of a system table with the names of the tables."
      ]
    },
    {
      "cell_type": "code",
      "metadata": {
        "id": "VWAFvCVy5tLX"
      },
      "source": [
        "%sql SELECT * FROM INFORMATION_SCHEMA.TABLES WHERE TABLE_TYPE = 'BASE TABLE'"
      ],
      "execution_count": null,
      "outputs": []
    },
    {
      "cell_type": "code",
      "metadata": {
        "id": "VY9Zrzn7h-dY"
      },
      "source": [
        "%%sql\n",
        "SELECT * FROM INFORMATION_SCHEMA.TABLES WHERE TABLE_TYPE = 'BASE TABLE' AND TABLE_CATALOG='poker.stackexchange.com';"
      ],
      "execution_count": null,
      "outputs": []
    },
    {
      "cell_type": "code",
      "metadata": {
        "id": "ZLxfoDrM6BQb"
      },
      "source": [
        "TABLE_CATALOG='$database';"
      ],
      "execution_count": null,
      "outputs": []
    },
    {
      "cell_type": "markdown",
      "metadata": {
        "id": "W63l4mQhh-dY"
      },
      "source": [
        "### List of attributes/columns"
      ]
    },
    {
      "cell_type": "markdown",
      "metadata": {
        "id": "hkc6k731IG8j"
      },
      "source": [
        "The following shows information about the attributes of the tables."
      ]
    },
    {
      "cell_type": "code",
      "metadata": {
        "id": "jRAyZTsfh-dZ"
      },
      "source": [
        "%sql SELECT TABLE_CATALOG, TABLE_SCHEMA, TABLE_NAME, COLUMN_NAME, DATA_TYPE \\\n",
        "     FROM INFORMATION_SCHEMA.COLUMNS \\\n",
        "     WHERE TABLE_CATALOG='poker.stackexchange.com' AND TABLE_SCHEMA <> 'sys'\\\n",
        "     ORDER BY TABLE_CATALOG, TABLE_SCHEMA, TABLE_NAME, ORDINAL_POSITION;"
      ],
      "execution_count": null,
      "outputs": []
    },
    {
      "cell_type": "markdown",
      "metadata": {
        "id": "oxrSuuCTh-dZ"
      },
      "source": [
        "For each table you can extract the primary key by running: "
      ]
    },
    {
      "cell_type": "code",
      "metadata": {
        "id": "E5E6v3Kbh-dZ"
      },
      "source": [
        "%sql SELECT COLUMN_NAME \\\n",
        "     FROM INFORMATION_SCHEMA.KEY_COLUMN_USAGE \\\n",
        "     WHERE OBJECTPROPERTY(OBJECT_ID(CONSTRAINT_SCHEMA || '.' || QUOTENAME(CONSTRAINT_NAME)), 'IsPrimaryKey') = 1 \\\n",
        "        AND TABLE_NAME = 'Badges' AND TABLE_SCHEMA = 'dbo';"
      ],
      "execution_count": null,
      "outputs": []
    },
    {
      "cell_type": "code",
      "metadata": {
        "id": "8OT6oI-Z4Ke5"
      },
      "source": [
        "# This code block replaces the above one, which is specific to MS SQL and we're using PostgreSQL\n",
        "#   - get attribute name and type for the primary key of the `Badges` table\n",
        "#   - taken from https://wiki.postgresql.org/wiki/Retrieve_primary_key_columns\n",
        "%%sql \n",
        "SELECT a.attname, format_type(a.atttypid, a.atttypmod) AS data_type\n",
        "FROM   pg_index i\n",
        "JOIN   pg_attribute a ON a.attrelid = i.indrelid\n",
        "                     AND a.attnum = ANY(i.indkey)\n",
        "WHERE  i.indrelid = 'Badges'::regclass\n",
        "AND    i.indisprimary;"
      ],
      "execution_count": null,
      "outputs": []
    },
    {
      "cell_type": "markdown",
      "metadata": {
        "id": "d_EFpTIgh-dZ"
      },
      "source": [
        "From the above returned results answer the following questions:\n",
        "5. Which objects are modelled in the dataset and how do they relate (semantically) to each other?\n",
        "6. Which are the primary keys for each table?"
      ]
    },
    {
      "cell_type": "markdown",
      "metadata": {
        "id": "vpw1SHYrh-dZ"
      },
      "source": [
        "### Where we got the data from (if interested)\n",
        "\n",
        "* [Info about the StackOverflow dataset](http://meta.stackexchange.com/questions/2677/database-schema-documentation-for-the-public-data-dump-and-sede)\n",
        "* [Web interface to query it](https://data.stackexchange.com/poker/query/new)\n",
        "* [Link to the dataset](https://archive.org/download/stackexchange/) (you actually don't need this for these exercises)"
      ]
    },
    {
      "cell_type": "markdown",
      "metadata": {
        "id": "DtKoGsdlh-da"
      },
      "source": [
        "## Exercise 3: Distribution of post scores"
      ]
    },
    {
      "cell_type": "markdown",
      "metadata": {
        "id": "nGotE1mUI9SU"
      },
      "source": [
        "In this exercise, we want to find out how the scores of posts are distributed.\n",
        "\n",
        "To start, write a query that selects the top 10 best-scored posts.\n",
        "\n",
        "**Note**: `LIMIT <number>` is PostgreSQL specific syntax. Other systems have different syntaxes to achieve the same thing, like for example ```SELECT TOP <number>``` in MS SQL."
      ]
    },
    {
      "cell_type": "markdown",
      "metadata": {
        "id": "YmeIc8Ejh-db"
      },
      "source": [
        "We now know what the best posts look like. What about \"more normal\" posts? Write a query that counts (using the COUNT operation) the number of posts for each score."
      ]
    },
    {
      "cell_type": "markdown",
      "metadata": {
        "id": "wq3kdj5_h-db"
      },
      "source": [
        "Did you use renaming in the query?  If not try to rename the returned results from the count operation."
      ]
    },
    {
      "cell_type": "markdown",
      "metadata": {
        "id": "vpFLTtu4h-db"
      },
      "source": [
        "Your query for the above exercise may give a very large result that is difficult to interpret. Let us write a query that rounds the scores of the posts to the nearest multiple of a constant that we define and counts the number of posts for each rounded score.  "
      ]
    },
    {
      "cell_type": "code",
      "metadata": {
        "id": "-mAC04Hsh-dc"
      },
      "source": [
        "%%sql\n",
        "SELECT RoundedScore, Count(*) AS Count\n",
        "FROM (\n",
        "        SELECT ROUND((score+2.5)/5, 0) * 5 AS RoundedScore FROM Posts\n",
        "    ) AS Rounded\n",
        "GROUP BY RoundedScore\n",
        "ORDER BY RoundedScore DESC;"
      ],
      "execution_count": null,
      "outputs": []
    },
    {
      "cell_type": "markdown",
      "metadata": {
        "id": "HD_bBGl9h-dc"
      },
      "source": [
        "Can you name the operation of calling a query from inside a query? What are the semantics of the GROUP By and ORDER By operations?\n",
        "\n",
        "Using the right constant for the rounding, you can already get a better grasp of the distribution of scores. Here, we round each score to smallest integer multiple of 5 that is still strictly larger (this is not the greatest way of rounding, but it will do for the purpose of this exercise).\n",
        "\n",
        "We will not execute the same query but from within a Python script. This allows us to send the SQL query results to Matplotlib and plot them. "
      ]
    },
    {
      "cell_type": "code",
      "metadata": {
        "id": "BVctMIEAh-dc"
      },
      "source": [
        "%matplotlib inline\n",
        "import matplotlib.pyplot as plt\n",
        "\n",
        "# Store the result of the query in a Python object (add your query here!)\n",
        "result = %sql SELECT RoundedScore, Count(*) AS Count \\\n",
        "     FROM ( \\\n",
        "             SELECT ROUND((score+2.5)/5, 0) * 5 AS RoundedScore FROM Posts \\\n",
        "        ) AS Rounded \\\n",
        "     GROUP BY RoundedScore \\\n",
        "     ORDER BY RoundedScore DESC;\n",
        "\n",
        "# Convert the result to a Pandas data frame\n",
        "df = result.DataFrame()\n",
        "\n",
        "# Extract x and y values for a plot\n",
        "x = df['RoundedScore'].tolist()\n",
        "y = df['Count'].tolist()\n",
        "\n",
        "# Print them just for debugging\n",
        "print(x)\n",
        "print(y)\n",
        "\n",
        "# Plot the distribution of scores\n",
        "fig, ax = plt.subplots()\n",
        "ax.bar(range(len(df.index)), y, tick_label=[int(i) for i in x], align='center')\n",
        "ax.set_xlabel('Score')\n",
        "ax.set_ylabel('Number of Posts')"
      ],
      "execution_count": null,
      "outputs": []
    },
    {
      "cell_type": "code",
      "metadata": {
        "id": "pbshj2V_4R94"
      },
      "source": [
        "# This code block replaces the above one\n",
        "#   - changes only in lines `x = df[...` and `y = df[...` where the dataframe keys are in lowercase\n",
        "%matplotlib inline\n",
        "import matplotlib.pyplot as plt\n",
        "\n",
        "# Store the result of the query in a Python object (add your query here!)\n",
        "result = %sql SELECT RoundedScore, Count(*) AS Count \\\n",
        "     FROM ( \\\n",
        "             SELECT ROUND((score+2.5)/5, 0) * 5 AS RoundedScore FROM Posts \\\n",
        "        ) AS Rounded \\\n",
        "     GROUP BY RoundedScore \\\n",
        "     ORDER BY RoundedScore DESC;\n",
        "\n",
        "# Convert the result to a Pandas data frame\n",
        "df = result.DataFrame()\n",
        "\n",
        "# Extract x and y values for a plot\n",
        "x = df['roundedscore'].tolist()\n",
        "y = df['count'].tolist()\n",
        "\n",
        "# Print them just for debugging\n",
        "print(x)\n",
        "print(y)\n",
        "\n",
        "# Plot the distribution of scores\n",
        "fig, ax = plt.subplots()\n",
        "ax.bar(range(len(df.index)), y, tick_label=[int(i) for i in x], align='center')\n",
        "ax.set_xlabel('Score')\n",
        "ax.set_ylabel('Number of Posts')"
      ],
      "execution_count": null,
      "outputs": []
    },
    {
      "cell_type": "markdown",
      "metadata": {
        "id": "q893C68Xh-dc"
      },
      "source": [
        "## Exercise 4: Impact of Score Count on Scores\n",
        "\n",
        "We now want to find out whether the number of posts of the owner of a post has an influence of the score of the post.\n",
        "To that goal, write queries that answer the following questions:\n",
        "\n",
        "1. What are the 10 users with the highest number of posts?\n",
        "2. What is the average number of posts per user?\n",
        "3. Which are the users with a number of posts higher than 10?\n",
        "4. How many such users exist?"
      ]
    },
    {
      "cell_type": "markdown",
      "metadata": {
        "id": "lk7r2JtJEyYd"
      },
      "source": [
        "## Exercise 5: Included in the graded quiz"
      ]
    },
    {
      "cell_type": "markdown",
      "metadata": {
        "id": "OTrstiq2FI1h"
      },
      "source": [
        "This is the exercise included in the [Week 1: SQL brush-up](https://moodle-app2.let.ethz.ch/mod/quiz/view.php?id=565933) quiz"
      ]
    },
    {
      "cell_type": "markdown",
      "metadata": {
        "id": "bIiT952LLG4y"
      },
      "source": [
        "On `poker.stackexchange.com`, find the **frequent** tag such that the posts it appears have the lowest average score. A tag is considered frequent if it appears in at least 50 posts.\n",
        "\n",
        "**Example:** Say you have three frequent tags `<a>`, `<b>`, and `<c>`, such that they appear in the set of posts `A`, `B`, and `C`, respectively. Note that `A`, `B`, and `C` may not necessarily be disjoint since a tag may appear in multiple posts. You have to look at the average scores of `A`, `B` and `C`, see which set has the lowest, and report the tag `<a>`, `<b>`, or `<c>` that belongs to such set. For instance, if the average scores are `AVG(A) = 13`, `AVG(B) = 15`, `AVG(C) = 12`, then tag `<c>` is the tag we're looking for, since `C` has the lowest average score. You should report it without the `<`, `>` characters, i.e. just `c`.\n",
        "\n",
        "**Note:** You can safely assume the result is unique.\n",
        "\n"
      ]
    }
  ]
}