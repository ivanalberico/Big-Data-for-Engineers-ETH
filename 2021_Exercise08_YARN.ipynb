{
  "nbformat": 4,
  "nbformat_minor": 0,
  "metadata": {
    "colab": {
      "name": "2021_Exercise08_YARN.ipynb",
      "provenance": [],
      "collapsed_sections": []
    },
    "kernelspec": {
      "name": "python3",
      "display_name": "Python 3"
    },
    "language_info": {
      "name": "python"
    }
  },
  "cells": [
    {
      "cell_type": "markdown",
      "metadata": {
        "id": "fm4hlcLLkigJ"
      },
      "source": [
        "# <center>Big Data for Engineers – Exercise</center>\n",
        "## <center>Spring 2020 – Week 8 – ETH Zurich</center>\n",
        "## <center>YARN</center>\n",
        "\n",
        "# What is YARN?\n",
        "\n",
        "\n",
        "Fundamentally, “**Y**et **A**nother **R**esource **N**egotiator”. **YARN**  is a resource management systems designed to work on existing and new Hadoop clusters. \n",
        "\n",
        "YARN supports pluggable schedulers. The task of the scheduler is to share the resources of a large cluster among different tenants (applications) while trying to meet application demands (memory, CPU). A user may have several applications active at a time. \n",
        "\n",
        "As mentioned in the lecture, this week's exercise will **not** focus on how the scheduling happens inside YARN, i.e., in which order and how the apllications are launched. This is out of the scope of this lecture. The important content of this exercise is the architecture of YARN and how the resource manager, application masters and namenodes interact. "
      ]
    },
    {
      "cell_type": "markdown",
      "metadata": {
        "id": "UuQxO1dL32EY"
      },
      "source": [
        "### 0 (Warm up) – Different resources\n",
        "Before starting with the exercises on YARN we will recap the different resources that can be requested in a cluster. Remeber that in MapReduce v1 each map and reduce task are processed in map and reduce slots. These slots are bundles of resources. In the lecture we saw that the in YARN the solts are called containers. \n",
        "\n",
        "Name the different resources that we can request. "
      ]
    },
    {
      "cell_type": "markdown",
      "metadata": {
        "id": "hqJ6pustkigP"
      },
      "source": [
        "### 1 – List at least 3 main shortcomings of MapReduce v1, which are addressed by YARN design."
      ]
    },
    {
      "cell_type": "markdown",
      "metadata": {
        "id": "bPI0HKnMmXsw"
      },
      "source": [
        "### 2 – Name at least 4 characteristics that should be fulfilled in YARN. \n",
        "(Properties not mentioned in 1)"
      ]
    },
    {
      "cell_type": "markdown",
      "metadata": {
        "id": "oSYF8dWhkigQ"
      },
      "source": [
        "### 3 – State which of the following statements are true:\n",
        "\n",
        "1. The ResourceManager has to provide fault tolerance for resources across the cluster \n",
        "\n",
        "1. Container allocation/deallocation can take place in a dynamic fashion as the application progresses. \n",
        "\n",
        "1. YARN plans to allow applications to only request resources in terms of memory usage and number of CPUs.\n",
        "\n",
        "1. Communications between the ResourceManager and NodeManagers are heartbeat-based. \n",
        "\n",
        "1. The ResourceManager does not have a global view of all usage of cluster resources. Therefore, it tries to make better scheduling decisions based on probabilistic prediction. \n",
        "\n",
        "1. ResourceManager has the ability to request resources back from a running application."
      ]
    },
    {
      "cell_type": "markdown",
      "metadata": {
        "id": "60xmGEG4kigQ"
      },
      "source": [
        "### 4 – Whose responsibility is it? Say which component of YARN is resposible for each of the following tasks (can be multiple).\n",
        "\n",
        "1. Fault Tolerance of running applications *\\[ResourceManager | ApplicationMaster | NodeManager \\]*\n",
        "\n",
        "1. Holding a two lists of valid and invalid Nodes. *\\[ResourceManager | ApplicationMaster | NodeManager\\]*\n",
        "\n",
        "1. Asking for resources needed for an application *\\[ResourceManager | ApplicationMaster | NodeManager \\]*\n",
        "\n",
        "1. Providing leases to use containers *\\[ResourceManager | ApplicationMaster | NodeManager\\]*\n",
        "\n",
        "1. Tracking status and progress of running applications *\\[ResourceManager | ApplicationMaster | NodeManager\\]*\n",
        "\n",
        "1. Offers a log aggregation service that will upload data written by the application to stdout and stderr to HDFS once the application\n",
        "completes. *\\[ResourceManager | ApplicationMaster | NodeManager\\]*\n",
        "\n",
        "1. Interacts with admin and client services. *\\[ResourceManager | ApplicationMaster | NodeManager\\]*\n",
        "\n",
        "1. Tracking and reporting status of containers *\\[ResourceManager | ApplicationMaster | NodeManager\\]*\n",
        "\n",
        "1. Authentication of container leases. *\\[ResourceManager | ApplicationMaster | NodeManager\\]*\n",
        "\n"
      ]
    },
    {
      "cell_type": "markdown",
      "metadata": {
        "id": "MyhKKdF7kigR"
      },
      "source": [
        "### 5 – What is the typical configuration for YARN? Choose for the following components how many instances of them there are in a cluster.\n",
        "\n",
        "```\n",
        "1. ResourceManager                  a. One per cluster\n",
        "\n",
        "2. ApplicationMaster                b. One per node\n",
        "\n",
        "3. NodeManager                      c. Many per cluster, but usually not per every node\n",
        "\n",
        "4. Container                        d. Many per node \n",
        "```"
      ]
    },
    {
      "cell_type": "markdown",
      "metadata": {
        "id": "hqvDcKh1q1Zq"
      },
      "source": [
        "### 6 – What are ResourceRequests? What are they used for?"
      ]
    },
    {
      "cell_type": "markdown",
      "metadata": {
        "id": "DD_lcE-trfHj"
      },
      "source": [
        "### 7 – What is a container launch context (ClC)? What are they used for?"
      ]
    },
    {
      "cell_type": "markdown",
      "metadata": {
        "id": "h2CUxEz0ooV2"
      },
      "source": [
        "### 8 – Client Resource Request \n",
        "The following task concerns the process of a client requesting resources and it from the optional reading material (Murthy, A. C. (2014). Apache Hadoop YARN: Moving beyond MapReduce and Batch Processing with Apache Hadoop 2., Chapter 4). Remember that several frameworks can run on top of YARN not only MapReduce. \n",
        "\n",
        "A YARN application starts with a client resource request. \n",
        "\n",
        "\n",
        "Match the following steps to the arrows in the picture below:\n",
        "<ol type=\"a\">\n",
        "  <li>The ResourceManager will send information about the minimum and maximum capabilities of the cluster.</li>\n",
        "  <li>The ResourceManager responds to the ApplicationMaster with its assigned resources.</li>\n",
        "  <li>The client performs an application request to the Resource Manager.</li>\n",
        "  <li>The application master requests a number of containers.</li>\n",
        "  <li>The Resource Manager responds to the client with an ApplicationID with information needed to start the ApplicationMaster.</li>\n",
        "  <li>The client sends to the ResourceManager an Application Submission Context about its requirements and other necessary info.</li>\n",
        "  <li>The ResourceManager contacts the NodeManager to start the client Application Master and sends a Registration Request.</li>\n",
        "</ol>\n",
        "\n",
        "![](https://bigdata2020exassets.blob.core.windows.net/bd4e2021ex08/ClientResourceRequest.png)\n",
        "\n",
        "\n",
        "\n",
        "\n",
        "\n",
        "\n",
        "\n",
        "\n",
        "\n"
      ]
    }
  ]
}