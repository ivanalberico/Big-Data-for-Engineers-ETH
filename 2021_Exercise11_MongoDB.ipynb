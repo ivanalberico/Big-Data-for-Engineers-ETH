{
  "nbformat": 4,
  "nbformat_minor": 0,
  "metadata": {
    "anaconda-cloud": {},
    "kernelspec": {
      "name": "python3",
      "display_name": "Python 3",
      "language": "python"
    },
    "language_info": {
      "mimetype": "text/x-python",
      "nbconvert_exporter": "python",
      "name": "python",
      "pygments_lexer": "ipython3",
      "version": "3.5.4",
      "file_extension": ".py",
      "codemirror_mode": {
        "version": 3,
        "name": "ipython"
      }
    },
    "colab": {
      "name": "Exercise11_MongoDB.ipynb",
      "provenance": [],
      "collapsed_sections": [
        "hfL-CJLyi-2-",
        "Ub5ppeFhi-3B",
        "pe4jFuPai-3F",
        "ibQNrQlxi-3G",
        "WjkMpE1_i-3H"
      ]
    }
  },
  "cells": [
    {
      "cell_type": "markdown",
      "metadata": {
        "id": "keRM0l-Ci-2A"
      },
      "source": [
        "# <center>Big Data for Engineers &ndash; Exercises</center>\n",
        "## <center>Spring 2020 &ndash; Week 11 &ndash; ETH Zurich</center>\n",
        "## <center>MongoDB</center>"
      ]
    },
    {
      "cell_type": "markdown",
      "metadata": {
        "id": "YSkp3RZIi-2b"
      },
      "source": [
        "## Introduction\n",
        "\n",
        "This exercise will cover document stores. As a representative of document stores, MongoDB was chosen for the practical exercises. Instructions are provided to install it on the Azure Portal."
      ]
    },
    {
      "cell_type": "markdown",
      "metadata": {
        "id": "O0p78zsTi-2f"
      },
      "source": [
        "## 1. Document stores\n",
        "\n",
        "A record in document store is a *document*. Document encoding schemes include XML, YAML, JSON, and BSON, as well as binary forms like PDF and Microsoft Office documents (MS Word, Excel, and so on). MongoDB documents are similar to JSON objects.  Documents are composed of field-value pairs and have the following structure:\n",
        "\n",
        "![123](https://docs.mongodb.com/manual/_images/crud-annotated-mongodb-insertOne.bakedsvg.svg)\n",
        "\n",
        "The values of fields may include other documents, arrays, and arrays of documents. Data in MongoDB has a flexible schema in the same collection. All documents do not need to have the same set of fields or structure, and common fields in a collection's documents may hold different types of data.\n",
        "\n"
      ]
    },
    {
      "cell_type": "markdown",
      "metadata": {
        "id": "sbNIb5q5i-2k"
      },
      "source": [
        "### 1.1 General Questions\n",
        "1. What are advantages of document stores over relational databases?\n",
        "2. Can the data in document stores be normalized? \n",
        "3. How does denormalization affect performance? "
      ]
    },
    {
      "cell_type": "markdown",
      "metadata": {
        "id": "BSF44v-qi-2n"
      },
      "source": [
        "### 1.2 True/False Questions\n",
        "Say if the following statements are *true* or *false*.\n",
        "\n",
        "1. Document stores expose only a key-value interface.\n",
        "2. Different relationships between data can be represented by references and embedded documents.\n",
        "3. MongoDB does not support schema validation.\n",
        "4. MongoDB encodes documents in the XML format.\n",
        "5. In document stores, you must determine and declare a table's schema before inserting data. \n",
        "6. MongoDB performance degrades when the number of documents increases. \n",
        "7. Document stores are column stores with flexible schema.\n",
        "8. There are no joins in MongoDB."
      ]
    },
    {
      "cell_type": "markdown",
      "metadata": {
        "id": "Y3Erjt5vi-2q"
      },
      "source": [
        "## 2. MongoDB\n",
        "\n",
        "In this part of the exercise, you will setup a MongoDB image using **Azure Container Instances (ACI)**. By using ACI, apps can be deployed without explicitly managing virtual machines. You can learn more about ACI [here](https://azure.microsoft.com/en-us/services/container-instances/#overview).\n",
        "\n",
        "<font color='red' size='5'>**Important: please delete your container after finishing the exercise.**</font>\n",
        "\n",
        "### 2.1 Install MongoDB\n",
        "\n",
        "1. Open the [Azure portal](https://portal.azure.com) and click **\"Create a resource\"**. After searching for `container instances`, click **\"Container Instances Microsoft\"** and **\"Create\"**.\n",
        "<img src=\"https://bigdata2020exassets.blob.core.windows.net/bdfeex11/container_instances.png\" width=\"500\">\n",
        "1. In the \"Basics\" tab, select your subscription for this exercise, and create a new resource group.\n",
        "1. Fill in the container name and region. You can select any region you prefer.\n",
        "1. Select **\"Docker Hub or other registry\"** for \"Image source\", and type in `mongo` in the \"Image\" field. By default, Azure will use [Docker Hub](https://hub.docker.com/) as the container registry. Leave other settings as default.\n",
        "<img src=\"https://bigdata2020exassets.blob.core.windows.net/bdfeex11/basics.png\" width=\"500\">\n",
        "1. In the \"Networking\" tab, choose a DNS name for your container. Open **port 27017** which is the default port that MongoDB listens to. Use TCP for the port.\n",
        "<img src=\"https://bigdata2020exassets.blob.core.windows.net/bdfeex11/networking.png\" width=\"500\">\n",
        "1. Change nothing in the \"Advanced\" and \"Tags\" tabs.\n",
        "1. In the \"Review\" tab, review your resource settings and click \"Create\". The deployment should be finished in a couple of minutes. In fact, fast startup time is one of the benefits of using ACI!"
      ]
    },
    {
      "cell_type": "markdown",
      "metadata": {
        "id": "uKLSa6Epi-2t"
      },
      "source": [
        "### 2.2 Setup a test database\n",
        "\n",
        "After the container is deployed, we need to connect to the container to create a database user.\n",
        "\n",
        "1. Select the recently created container resource from Azure portal, click **\"Settings - Containers\"**, then choose the **\"Connect\"** tab. Use `/bin/bash` as start up command. Click **\"Connect\"**.\n",
        "<img src=\"https://bigdata2020exassets.blob.core.windows.net/bdfeex11/containers_connect.png\" width=\"700\">\n",
        "1. Start MongoDB shell by `mongo -shell`.\n",
        "1. Select the `admin` database:\n",
        "```\n",
        "use admin\n",
        "```\n",
        "1. Then create a `root` user:\n",
        "```\n",
        "db.createUser(\n",
        "    {\n",
        "        user: \"root\", \n",
        "        pwd: \"root\", \n",
        "        roles:[\"root\"]\n",
        "    }\n",
        ")\n",
        "```\n",
        "1. Log out from MongoDB shell:\n",
        "```\n",
        "exit\n",
        "```\n",
        "1. Now we are in the shell of the container. Download an example dataset:\n",
        "```sh\n",
        "apt update && apt install wget && wget https://raw.githubusercontent.com/mongodb/docs-assets/primer-dataset/primer-dataset.json\n",
        "```\n",
        "1. Import the dataset using `mongoimport`:\n",
        "```\n",
        "mongoimport --db test --collection restaurants --drop --file ./primer-dataset.json\n",
        "```\n",
        "If the dataset is successfully imported, you should see something similar to this:\n",
        "<img src=\"https://bigdata2020exassets.blob.core.windows.net/bdfeex11/dataset_imported.png\" width=\"100%\">"
      ]
    },
    {
      "cell_type": "markdown",
      "metadata": {
        "id": "QHhz-euri-2w"
      },
      "source": [
        "### 2.3 Connect to the MongoDB server\n",
        "\n",
        "We have finished setting up the database server. Next, we need to connect to the server using a `pymongo` client. First, install some packages:"
      ]
    },
    {
      "cell_type": "code",
      "metadata": {
        "trusted": true,
        "id": "60SATOKZi-2z"
      },
      "source": [
        "!pip install pymongo==3.10.1\n",
        "!pip install dnspython"
      ],
      "execution_count": null,
      "outputs": []
    },
    {
      "cell_type": "markdown",
      "metadata": {
        "id": "8eROWwtxi-21"
      },
      "source": [
        "Import some libraries:"
      ]
    },
    {
      "cell_type": "code",
      "metadata": {
        "trusted": true,
        "id": "0sh18BzJi-23"
      },
      "source": [
        "from pymongo import MongoClient, errors\n",
        "import dns\n",
        "from pprint import pprint\n",
        "import urllib\n",
        "import json\n",
        "import dateutil\n",
        "from datetime import datetime, timezone, timedelta"
      ],
      "execution_count": null,
      "outputs": []
    },
    {
      "cell_type": "markdown",
      "metadata": {
        "id": "3YVBuSl5i-27"
      },
      "source": [
        "In order to connect to MongoDB, we need to know the domain name of the host. In the resource console, click **\"Overview\"** to see the basic information of the container. Copy the host URL from the **\"FQDN\"** field and paste it in the following cell. Execute it to connect to the database."
      ]
    },
    {
      "cell_type": "code",
      "metadata": {
        "trusted": true,
        "scrolled": false,
        "id": "fx0XnFN2i-28"
      },
      "source": [
        "# global variables for MongoDB host (default port is 27017)\n",
        "DOMAIN = 'mymongo.westeurope.azurecontainer.io' # Note: this should be replaced by the URL of your own container!! \n",
        "PORT = 27017\n",
        "\n",
        "# use a try-except indentation to catch MongoClient() errors\n",
        "try:\n",
        "    # try to instantiate a client instance\n",
        "    client = MongoClient(\n",
        "        host = [ str(DOMAIN) + \":\" + str(PORT) ],\n",
        "        serverSelectionTimeoutMS = 3000, # 3 second timeout\n",
        "        username = \"root\",\n",
        "        password = \"root\",\n",
        "    )\n",
        "\n",
        "    db = client.test\n",
        "    \n",
        "except errors.ServerSelectionTimeoutError as err:\n",
        "    # set the client to 'None' if exception\n",
        "    client = None\n",
        "\n",
        "    # catch pymongo.errors.ServerSelectionTimeoutError\n",
        "    print (\"pymongo ERROR:\", err)\n",
        "    \n",
        "db.restaurants"
      ],
      "execution_count": null,
      "outputs": []
    },
    {
      "cell_type": "markdown",
      "metadata": {
        "id": "BMwjBacFi-29"
      },
      "source": [
        "As a sanity check, we count the number of documents in the `restaurants` collection that we previously imported. It should match the number reported by `mongoimport`."
      ]
    },
    {
      "cell_type": "code",
      "metadata": {
        "trusted": true,
        "scrolled": false,
        "id": "aNSbMoN_i-29"
      },
      "source": [
        "db.restaurants.count_documents({})"
      ],
      "execution_count": null,
      "outputs": []
    },
    {
      "cell_type": "markdown",
      "metadata": {
        "id": "hfL-CJLyi-2-"
      },
      "source": [
        "### 2.4  MongoDB CRUD operations\n",
        "\n",
        "In this section, we will go through some commonly used CRUD (**C**reate, **R**ead, **U**pdate, **D**elete) operations in MongoDB."
      ]
    },
    {
      "cell_type": "code",
      "metadata": {
        "trusted": true,
        "id": "01IAhIh3i-2-"
      },
      "source": [
        "# Create a new collection\n",
        "scientists = db['scientists']"
      ],
      "execution_count": null,
      "outputs": []
    },
    {
      "cell_type": "code",
      "metadata": {
        "trusted": true,
        "id": "QsF3yioAi-2_"
      },
      "source": [
        "# Insert some documents.\n",
        "# Note that documents can have nested structures, and the collection can be heterogeneous.\n",
        "scientists.insert_one({\n",
        "    \"Name\": {\n",
        "        \"First\": \"Albert\",\n",
        "        \"Last\": \"Einstein\"\n",
        "    },\n",
        "    \"Theory\": \"Particle Physics\"})\n",
        "scientists.insert_one({\n",
        "    \"Name\": {\n",
        "        \"First\": \"Kurt\",\n",
        "        \"Last\": \"Gödel\"\n",
        "    },\n",
        "    \"Theory\": \"Incompleteness\" })\n",
        "scientists.insert_one({\n",
        "    \"Name\": {\n",
        "        \"First\": \"Sheldon\",\n",
        "        \"Last\": \"Cooper\"\n",
        "    }})"
      ],
      "execution_count": null,
      "outputs": []
    },
    {
      "cell_type": "code",
      "metadata": {
        "trusted": true,
        "id": "oEAtRRCsi-3A"
      },
      "source": [
        "# Select all documents from the collection\n",
        "scientists.find()"
      ],
      "execution_count": null,
      "outputs": []
    },
    {
      "cell_type": "code",
      "metadata": {
        "trusted": true,
        "id": "C1c-x2Tsi-3B"
      },
      "source": [
        "# As you can see, find() method returns a Cursor object. One must iterate the Cursor object to access individual documents\n",
        "for doc in scientists.find():\n",
        "    pprint(doc)"
      ],
      "execution_count": null,
      "outputs": []
    },
    {
      "cell_type": "markdown",
      "metadata": {
        "id": "Ub5ppeFhi-3B"
      },
      "source": [
        "### Query Documents\n",
        "For the ```db.collection.find()``` method, you can specify the following optional fields:\n",
        "- a **query filter** to specify which documents to return,\n",
        "- a **query projection** to specify which fields from the matching documents to return (the projection limits the amount of data that MongoDB returns to the client over the network),\n",
        "- optionally, a **cursor modifier** to impose limits, skips, and sort orders.\n",
        "\n",
        "![query](https://docs.mongodb.com/manual/_images/crud-annotated-mongodb-find.bakedsvg.svg)"
      ]
    },
    {
      "cell_type": "code",
      "metadata": {
        "trusted": true,
        "id": "P3hKPnjpi-3B"
      },
      "source": [
        "# Using a query filter\n",
        "for doc in db.scientists.find({\"Theory\": \"Particle Physics\"}):\n",
        "    pprint(doc)"
      ],
      "execution_count": null,
      "outputs": []
    },
    {
      "cell_type": "code",
      "metadata": {
        "trusted": true,
        "id": "5nvc78Zni-3C"
      },
      "source": [
        "# Using a projection\n",
        "for doc in db.scientists.find({\"Theory\": \"Particle Physics\"}, {\"Name.Last\": 1}):\n",
        "    pprint(doc)"
      ],
      "execution_count": null,
      "outputs": []
    },
    {
      "cell_type": "code",
      "metadata": {
        "trusted": true,
        "id": "ili0---Ui-3C"
      },
      "source": [
        "# Using a projection, with \"_id\" output disabled\n",
        "for doc in db.scientists.find({\"Theory\": \"Particle Physics\"}, {\"_id\": 0, \"Name.Last\": 1}):\n",
        "    pprint(doc)"
      ],
      "execution_count": null,
      "outputs": []
    },
    {
      "cell_type": "code",
      "metadata": {
        "trusted": true,
        "id": "GxGweEezi-3D"
      },
      "source": [
        "# Insert more documents\n",
        "doc_list = [\n",
        "    {\"Name\":\"Einstein\", \"Profession\":\"Physicist\"},\n",
        "    {\"Name\":\"Gödel\", \"Profession\":\"Mathematician\"},\n",
        "    {\"Name\":\"Ramanujan\", \"Profession\":\"Mathematician\"},\n",
        "    {\"Name\":\"Pythagoras\", \"Profession\":\"Mathematician\"},\n",
        "    {\"Name\":\"Turing\", \"Profession\":\"Computer Scientist\"},\n",
        "    {\"Name\":\"Church\", \"Profession\":\"Computer Scientist\"},\n",
        "    {\"Name\":\"Nash\", \"Profession\":\"Economist\"},\n",
        "    {\"Name\":\"Euler\", \"Profession\":\"Mathematician\"},\n",
        "    {\"Name\":\"Bohm\", \"Profession\":\"Physicist\"},\n",
        "    {\"Name\":\"Galileo\", \"Profession\":\"Astrophysicist\"},\n",
        "    {\"Name\":\"Lagrange\", \"Profession\":\"Mathematician\"},\n",
        "    {\"Name\":\"Gauss\", \"Profession\":\"Mathematician\"},\n",
        "    {\"Name\":\"Thales\", \"Profession\":\"Mathematician\"}\n",
        "]\n",
        "scientists.insert_many(doc_list)"
      ],
      "execution_count": null,
      "outputs": []
    },
    {
      "cell_type": "code",
      "metadata": {
        "trusted": true,
        "id": "do01qCoHi-3E"
      },
      "source": [
        "# Using cursor modifiers\n",
        "print(\"Using sort:\")\n",
        "for doc in scientists.find({\"Profession\": \"Mathematician\"}, {\"_id\": 0, \"Name\": 1}).sort(\"Name\", 1):\n",
        "    pprint(doc)\n",
        "    \n",
        "print(\"Using skip:\")\n",
        "for doc in scientists.find({\"Profession\": \"Mathematician\"}, {\"_id\": 0, \"Name\": 1}).sort(\"Name\", 1).skip(1):\n",
        "    pprint(doc)\n",
        "    \n",
        "print(\"Using limit:\")\n",
        "for doc in scientists.find({\"Profession\": \"Mathematician\"}, {\"_id\": 0, \"Name\": 1}).sort(\"Name\", 1).skip(1).limit(3):\n",
        "    pprint(doc)"
      ],
      "execution_count": null,
      "outputs": []
    },
    {
      "cell_type": "code",
      "metadata": {
        "trusted": true,
        "id": "kKnlOeDCi-3E"
      },
      "source": [
        "# Updating documents\n",
        "\n",
        "# Adding a new field:\n",
        "scientists.update_many({\"Name\": \"Einstein\"}, {\"$set\": {\"Century\" : \"20\"}})\n",
        "pprint(scientists.find_one({\"Name\": \"Einstein\"}))\n",
        "\n",
        "# Changing the type of a field:\n",
        "scientists.update_many({\"Name\": \"Nash\"}, {\"$set\": {\"Profession\" : [\"Mathematician\", \"Economist\"]}})\n",
        "pprint(scientists.find_one({\"Name\": \"Nash\"}))"
      ],
      "execution_count": null,
      "outputs": []
    },
    {
      "cell_type": "code",
      "metadata": {
        "trusted": true,
        "id": "xIR8zEVri-3F"
      },
      "source": [
        "# Matching array elements\n",
        "for doc in scientists.find({\"Profession\": \"Mathematician\"}, {\"_id\": 0, \"Name\": 1, \"Profession\": 1}).sort(\"Name\", 1):\n",
        "    pprint(doc)"
      ],
      "execution_count": null,
      "outputs": []
    },
    {
      "cell_type": "code",
      "metadata": {
        "trusted": true,
        "id": "0BOVPOrRi-3F"
      },
      "source": [
        "# Delete documents\n",
        "scientists.delete_one({\"Profession\": \"Astrophysicist\"})\n",
        "scientists.count_documents({\"Name\": \"Galileo\"})"
      ],
      "execution_count": null,
      "outputs": []
    },
    {
      "cell_type": "markdown",
      "metadata": {
        "id": "pe4jFuPai-3F"
      },
      "source": [
        "### `pymongo` vs MongoDB shell\n",
        "\n",
        "In the lecture, we learnt how to write queries in the syntax of the MongoDB shell. The syntax is a bit different from the syntax of `pymongo`. Here are a few examples:\n",
        "\n",
        "|     | MongoDB shell | `pymongo` | Note |\n",
        "| --- | ------------- | --------- | ---- |\n",
        "| Insert | `insert()` | `insert_one()` or `insert_many()` | `insert()` is also valid for `pymongo` but deprecated. |\n",
        "| Update | `update()` | `update_one()` or `update_many()` | `update()` is also valid for `pymongo` but deprecated. |\n",
        "| Delete | `delete()` | `delete_one()` or `delete_many()` | `delete()` is also valid for `pymongo` but deprecated. |\n",
        "| Sort criterion | JSON document | list of `(key, direction)` pairs | |\n",
        "| Naming convention | camelCase (e.g. `createIndex`) | snake_case (e.g. `create_index`) | |\n",
        "| Count | `db.collection.find(filter).count()` | `db.collection.count_documents(filter)` | `count()` is also valid for `pymongo` but deprecated. |\n",
        "\n",
        "It is not necessary to remember these differences, but you should understand the semantics of a query written in either `pymongo` or MongoDB shell syntax."
      ]
    },
    {
      "cell_type": "markdown",
      "metadata": {
        "id": "ibQNrQlxi-3G"
      },
      "source": [
        "### 2.5 A larger dataset\n",
        "\n",
        "Now it's time to play with a dataset of more realistic size! Try to insert a document into the ```restaurants``` collection. In addition, you can see the structure of documents in the collection."
      ]
    },
    {
      "cell_type": "code",
      "metadata": {
        "trusted": true,
        "id": "-oskgG_-i-3G"
      },
      "source": [
        "from dateutil.parser import isoparse\n",
        "db.restaurants.insert_one(\n",
        "   {\n",
        "      \"address\" : {\n",
        "         \"street\" : \"2 Avenue\",\n",
        "         \"zipcode\" : \"10075\",\n",
        "         \"building\" : \"1480\",\n",
        "         \"coord\" : [ -73.9557413, 40.7720266 ]\n",
        "      },\n",
        "      \"borough\" : \"Manhattan\",\n",
        "      \"cuisine\" : \"Italian\",\n",
        "      \"grades\" : [\n",
        "         {\n",
        "            \"date\" : isoparse(\"2014-10-01T00:00:00Z\"),\n",
        "            \"grade\" : \"A\",\n",
        "            \"score\" : 11\n",
        "         },\n",
        "         {\n",
        "            \"date\" : isoparse(\"2014-01-16T00:00:00Z\"),\n",
        "            \"grade\" : \"A\",\n",
        "            \"score\" : 17\n",
        "         }\n",
        "      ],\n",
        "      \"name\" : \"Vella\",\n",
        "      \"restaurant_id\" : \"41704620\"\n",
        "   }\n",
        ")"
      ],
      "execution_count": null,
      "outputs": []
    },
    {
      "cell_type": "code",
      "metadata": {
        "trusted": true,
        "id": "65mM4sTIi-3H"
      },
      "source": [
        "# Query one document in a collection:\n",
        "pprint(db.restaurants.find_one())"
      ],
      "execution_count": null,
      "outputs": []
    },
    {
      "cell_type": "markdown",
      "metadata": {
        "id": "WjkMpE1_i-3H"
      },
      "source": [
        "###  2.6 Questions\n",
        "For this part of the exercise, we will use the `restaurants` collection. Write queries in MongoDB that return the following:\n",
        "\n",
        "**1)** All restaurants in borough (a town) \"Brooklyn\" and cuisine (a style of cooking) \"Hamburgers\"."
      ]
    },
    {
      "cell_type": "code",
      "metadata": {
        "trusted": true,
        "scrolled": false,
        "id": "EDnJh4IBi-3I"
      },
      "source": [
        "# insert your query here:\n",
        "cursor = db.restaurants.find()\n",
        "pprint(cursor[0]) # print the first returned document"
      ],
      "execution_count": null,
      "outputs": []
    },
    {
      "cell_type": "markdown",
      "metadata": {
        "id": "iT8c9Mq_i-3J"
      },
      "source": [
        "**2)** The number of restaurants in the borough \"Brooklyn\" and cuisine \"Hamburgers\"."
      ]
    },
    {
      "cell_type": "code",
      "metadata": {
        "trusted": true,
        "id": "412qem58i-3J"
      },
      "source": [
        "# insert your query here:\n",
        "db.restaurants.count_documents()"
      ],
      "execution_count": null,
      "outputs": []
    },
    {
      "cell_type": "markdown",
      "metadata": {
        "id": "U83tqgVBi-3K"
      },
      "source": [
        "**3)** All restaurants with zipcode 11225."
      ]
    },
    {
      "cell_type": "code",
      "metadata": {
        "trusted": true,
        "id": "QW2G1mQAi-3K"
      },
      "source": [
        "# insert your query here:\n",
        "cursor = db.restaurants.find()\n",
        "pprint(cursor[0]) # print the first returned document"
      ],
      "execution_count": null,
      "outputs": []
    },
    {
      "cell_type": "markdown",
      "metadata": {
        "id": "9Sn_sbrEi-3K"
      },
      "source": [
        "**4)** Names of restaurants with zipcode 11225 that have at least one grade \"C\"."
      ]
    },
    {
      "cell_type": "code",
      "metadata": {
        "trusted": true,
        "id": "uwAjTh5_i-3K"
      },
      "source": [
        "# insert your query here:\n",
        "cursor = db.restaurants.find()\n",
        "pprint(cursor[0]) # print the first returned document"
      ],
      "execution_count": null,
      "outputs": []
    },
    {
      "cell_type": "markdown",
      "metadata": {
        "id": "LcC7_yRRi-3L"
      },
      "source": [
        "**5)** Names of restaurants with zipcode 11225 that have as first grade \"C\" and as second grade \"A\"."
      ]
    },
    {
      "cell_type": "code",
      "metadata": {
        "trusted": true,
        "id": "kGinXLe7i-3M"
      },
      "source": [
        "# insert your query here:\n",
        "cursor = db.restaurants.find()\n",
        "pprint(cursor[0]) # print the first returned document"
      ],
      "execution_count": null,
      "outputs": []
    },
    {
      "cell_type": "markdown",
      "metadata": {
        "id": "chi1xNGNi-3M"
      },
      "source": [
        "**6)** Names and streets of restaurants that don't have an \"A\" grade."
      ]
    },
    {
      "cell_type": "code",
      "metadata": {
        "trusted": true,
        "id": "Z_f79UB2i-3M"
      },
      "source": [
        "# insert your query here:\n",
        "cursor = db.restaurants.find()\n",
        "pprint(cursor[0]) # print the first returned document"
      ],
      "execution_count": null,
      "outputs": []
    },
    {
      "cell_type": "markdown",
      "metadata": {
        "id": "5XRYHR4Di-3N"
      },
      "source": [
        "**7)** All restaurants with a grade C and a score greater than 50 for that grade at the same time."
      ]
    },
    {
      "cell_type": "code",
      "metadata": {
        "trusted": true,
        "id": "xibQ9L0Si-3N"
      },
      "source": [
        "# insert your query here:\n",
        "cursor = db.restaurants.find()\n",
        "pprint(cursor[0]) # print the first returned document"
      ],
      "execution_count": null,
      "outputs": []
    },
    {
      "cell_type": "markdown",
      "metadata": {
        "id": "VIi2AnSCi-3N"
      },
      "source": [
        "**8)** All restaurants with a grade C or a score greater than 50."
      ]
    },
    {
      "cell_type": "code",
      "metadata": {
        "trusted": true,
        "id": "mkVsL_50i-3O"
      },
      "source": [
        "# insert your query here:\n",
        "cursor = db.restaurants.find()\n",
        "pprint(cursor[0]) # print the first returned document"
      ],
      "execution_count": null,
      "outputs": []
    },
    {
      "cell_type": "markdown",
      "metadata": {
        "id": "KePPhLYji-3O"
      },
      "source": [
        "**9)** All restaurants that have only A grades."
      ]
    },
    {
      "cell_type": "code",
      "metadata": {
        "trusted": true,
        "id": "G8iOAtGhi-3P"
      },
      "source": [
        "# insert your query here:\n",
        "cursor = db.restaurants.find()\n",
        "pprint(cursor[0]) # print the first returned document"
      ],
      "execution_count": null,
      "outputs": []
    },
    {
      "cell_type": "markdown",
      "metadata": {
        "id": "goK31ujyi-3P"
      },
      "source": [
        "## 3. Indexing in MongoDB\n",
        "\n",
        "Indexes support the efficient resolution of queries. Without indexes, MongoDB must scan every document of a collection to select those documents that match the query statement. Scan can be highly inefficient and require MongoDB to process a large volume of data.\n",
        "\n",
        "Indexes are special data structures that store a small portion of the data set in an easy-to-traverse form. The index stores the value of a specific field or set of fields, ordered by the value of the field as specified in the index.\n",
        "\n",
        "MongoDB supports indexes that contain either a single field or multiple fields depending on the operations that this index type supports. \n",
        "\n",
        "By default,  MongoDB creates the ```_id``` index, which is an ascending unique index on the ```_id``` field, for all collections when the collection is created. You cannot remove the index on the ```_id``` field."
      ]
    },
    {
      "cell_type": "markdown",
      "metadata": {
        "id": "z_SoOePdi-3P"
      },
      "source": [
        "### Managing indexes in MongoDB\n",
        "\n",
        "An ```explain()``` operator provides information on the query plan. It returns a document that describes the process and indexes used to return the query. This may provide useful insight when attempting to optimize a query. Example:"
      ]
    },
    {
      "cell_type": "code",
      "metadata": {
        "trusted": true,
        "id": "T0Dey15ri-3Q"
      },
      "source": [
        "db.restaurants.find({\"borough\" : \"Brooklyn\"}).explain()"
      ],
      "execution_count": null,
      "outputs": []
    },
    {
      "cell_type": "markdown",
      "metadata": {
        "id": "vWYtYNfBi-3Q"
      },
      "source": [
        "In `pymongo`, you can create an index by calling the `create_index()` method. For example, we can create an index for the `borough` field:"
      ]
    },
    {
      "cell_type": "code",
      "metadata": {
        "trusted": true,
        "id": "T6rnZqfgi-3R"
      },
      "source": [
        "db.restaurants.create_index(\"borough\")"
      ],
      "execution_count": null,
      "outputs": []
    },
    {
      "cell_type": "markdown",
      "metadata": {
        "id": "ljUXenzXi-3R"
      },
      "source": [
        "Now, let's see how the query plan changes to use the newly created index:"
      ]
    },
    {
      "cell_type": "code",
      "metadata": {
        "trusted": true,
        "id": "rYklLDyFi-3R"
      },
      "source": [
        "db.restaurants.find({\"borough\" : \"Brooklyn\"}).explain()"
      ],
      "execution_count": null,
      "outputs": []
    },
    {
      "cell_type": "markdown",
      "metadata": {
        "id": "SQfVO4Yui-3R"
      },
      "source": [
        "The number of documents examined is indicated in the `docsExamined` field. The number drops significantly by using an index. In fact, in this example the number of documents examined is exactly the number of documents returned (`nReturned`)."
      ]
    },
    {
      "cell_type": "markdown",
      "metadata": {
        "id": "6X2Fnoh-i-3S"
      },
      "source": [
        "The index specification describes the kind of index for that field. For example, a value of 1 specifies an index that orders items in ascending order. A value of -1 specifies an index that orders items in descending order. **Note that index direction only matters in a compound index.**"
      ]
    },
    {
      "cell_type": "markdown",
      "metadata": {
        "id": "NsawsF-Bi-3S"
      },
      "source": [
        "To remove all indexes, you can use ```db.collection.drop_indexes()```. Example:"
      ]
    },
    {
      "cell_type": "code",
      "metadata": {
        "trusted": true,
        "id": "QBLvPus_i-3S"
      },
      "source": [
        "print(\"Before drop_indexes():\")\n",
        "for index in db.restaurants.list_indexes():\n",
        "    pprint(index)\n",
        "print(\"Now we drop all indexes...\")\n",
        "db.restaurants.drop_indexes()\n",
        "print(\"After drop_indexes():\")\n",
        "for index in db.restaurants.list_indexes():\n",
        "    pprint(index)"
      ],
      "execution_count": null,
      "outputs": []
    },
    {
      "cell_type": "markdown",
      "metadata": {
        "id": "07N-DEgPi-3S"
      },
      "source": [
        "To remove a specific index you can use ```db.collection.drop_index(index_name)```. Example:"
      ]
    },
    {
      "cell_type": "code",
      "metadata": {
        "trusted": true,
        "id": "nlpMQTi7i-3T"
      },
      "source": [
        "print('Create some indexes first...')\n",
        "db.restaurants.create_index([('cuisine', -1), ('borought', 1)]) \n",
        "index_name = db.restaurants.create_index('address.building')\n",
        "print('\\nNow we have these indexes:')\n",
        "for index in db.restaurants.list_indexes():\n",
        "    pprint(index)\n",
        "    \n",
        "print('\\nThen drop_index()...')\n",
        "db.restaurants.drop_index(index_name)\n",
        "print('\\nThe remaining indexes are:')\n",
        "for index in db.restaurants.list_indexes():\n",
        "    pprint(index)"
      ],
      "execution_count": null,
      "outputs": []
    },
    {
      "cell_type": "markdown",
      "metadata": {
        "id": "x4Xx8qzVi-3T"
      },
      "source": [
        "### 3.1 Questions\n",
        "\n",
        "**Please answer questions 1) and 2) in Moodle.**"
      ]
    },
    {
      "cell_type": "markdown",
      "metadata": {
        "id": "-nfw4EwRi-3T"
      },
      "source": [
        "**1)** Which queries will use the following index: \n",
        "```python\n",
        "db.restaurants.create_index(\"cuisine\")\n",
        "```\n",
        "\n",
        "A.  `db.restaurants.find({\"address.street\": \"2 Avenue\"})`  \n",
        "B.  `db.restaurants.find({}, {\"cuisine\": 1})`  \n",
        "C.  `db.restaurants.find({\"borough\": \"Brooklyn\"}, {\"cuisine\": 1})`  \n",
        "D.  `db.restaurants.find({\"cuisine\": \"Italian\"})`"
      ]
    },
    {
      "cell_type": "markdown",
      "metadata": {
        "id": "LK98aqE9i-3T"
      },
      "source": [
        "**2)** Which queries will use the following index: \n",
        "```python\n",
        "db.restaurants.create_index([(\"borough\", -1), (\"address.street\", -1)])\n",
        "```\n",
        "\n",
        "A.  `db.restaurants.find().sort([(\"borough\", 1), (\"address.street\", -1)])`   \n",
        "B.  `db.restaurants.find({\"address.street\": \"2 Avenue\"})`    \n",
        "C.  `db.restaurants.find({\"address.zipcode\": \"10075\"}, {\"address\": 1})`    \n",
        "D.  `db.restaurants.find({}, {\"address\": -1})`     "
      ]
    },
    {
      "cell_type": "markdown",
      "metadata": {
        "id": "QCoj5IsGi-3T"
      },
      "source": [
        "**3)** Write a command for creating an index on the `zipcode` field."
      ]
    },
    {
      "cell_type": "code",
      "metadata": {
        "trusted": true,
        "id": "FRDi2cZXi-3T"
      },
      "source": [
        "db.restaurants.drop_indexes()\n",
        "\n",
        "# write your code here:\n",
        "db.restaurants.create_index([])\n",
        "\n",
        "# print all indexes\n",
        "for index in db.restaurants.list_indexes():\n",
        "    pprint(index)"
      ],
      "execution_count": null,
      "outputs": []
    },
    {
      "cell_type": "markdown",
      "metadata": {
        "id": "UJW9MS7wi-3T"
      },
      "source": [
        "**4)** Write an index to speed up the following query:\n",
        "```python\n",
        "    db.restaurants.find({\"grades.grade\": {\"$ne\": \"A\"}}, {\"name\": 1 , \"address.street\": 1})\n",
        "```"
      ]
    },
    {
      "cell_type": "code",
      "metadata": {
        "trusted": true,
        "id": "HkGPKjv1i-3V"
      },
      "source": [
        "db.restaurants.drop_indexes()\n",
        "\n",
        "# write your code here:\n",
        "db.restaurants.create_index([])\n",
        "\n",
        "# verify the query plan\n",
        "print(db.restaurants.find({\"grades.grade\": {\"$ne\": \"A\"}}, {\"name\": 1 , \"address.street\": 1})\n",
        "      .explain()['executionStats']['executionStages'])"
      ],
      "execution_count": null,
      "outputs": []
    },
    {
      "cell_type": "markdown",
      "metadata": {
        "id": "6b4B2dfei-3V"
      },
      "source": [
        "**5)** Write an index to speed up the following query:\n",
        "```python\n",
        "    db.restaurants.find({\"grades.score\" : {\"$gt\" : 50}, \"grades.grade\" : \"C\"})\n",
        "```"
      ]
    },
    {
      "cell_type": "code",
      "metadata": {
        "trusted": true,
        "id": "KMoaQO5Si-3V"
      },
      "source": [
        "db.restaurants.drop_indexes()\n",
        "\n",
        "# write your code here:\n",
        "db.restaurants.create_index([])\n",
        "\n",
        "# verify the query plan\n",
        "print(db.restaurants.find({\"grades.score\" : {\"$gt\" : 50}, \"grades.grade\" : \"C\"})\n",
        "      .explain()['executionStats']['executionStages'])"
      ],
      "execution_count": null,
      "outputs": []
    },
    {
      "cell_type": "markdown",
      "metadata": {
        "trusted": true,
        "id": "DNTrFFSfi-3V"
      },
      "source": [
        "<font color='red' size='5'>**Important: please delete your container after finishing the exercise.**</font>"
      ]
    },
    {
      "cell_type": "code",
      "metadata": {
        "trusted": true,
        "id": "2nDkfs_ci-3W"
      },
      "source": [
        ""
      ],
      "execution_count": null,
      "outputs": []
    }
  ]
}