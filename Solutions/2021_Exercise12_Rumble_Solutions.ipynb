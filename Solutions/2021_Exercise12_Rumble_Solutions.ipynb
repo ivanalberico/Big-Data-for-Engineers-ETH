{
  "nbformat": 4,
  "nbformat_minor": 0,
  "metadata": {
    "colab": {
      "name": "Exercise12_Rumble_Solutions.ipynb",
      "provenance": [],
      "collapsed_sections": [
        "Uy48JTprhrKW",
        "eELMD0pqhrKW",
        "3Pcf7FL7Aetl",
        "OG0xJS2KHEF3",
        "jQycXJuCHHJW",
        "3ivTnfw5HMZz",
        "sKmgYw_jHPZ3",
        "IAjnh_H2HUa1",
        "yVvQBpVxHWuz",
        "XW8fQM8WHYt7",
        "PE_9pQzhAOyo"
      ],
      "toc_visible": true
    },
    "kernelspec": {
      "display_name": "Python 3",
      "language": "python",
      "name": "python3"
    },
    "language_info": {
      "codemirror_mode": {
        "name": "ipython",
        "version": 3
      },
      "file_extension": ".py",
      "mimetype": "text/x-python",
      "name": "python",
      "nbconvert_exporter": "python",
      "pygments_lexer": "ipython3",
      "version": "3.7.6"
    },
    "toc": {
      "base_numbering": 1,
      "nav_menu": {},
      "number_sections": true,
      "sideBar": true,
      "skip_h1_title": false,
      "title_cell": "Table of Contents",
      "title_sidebar": "Contents",
      "toc_cell": false,
      "toc_position": {},
      "toc_section_display": true,
      "toc_window_display": false
    }
  },
  "cells": [
    {
      "cell_type": "markdown",
      "metadata": {
        "id": "Zo6cemRekqqm"
      },
      "source": [
        "# Exercise Week 12 - Rumble\n",
        "\n"
      ]
    },
    {
      "cell_type": "markdown",
      "metadata": {
        "id": "FgAZKWlwkvrk"
      },
      "source": [
        "# 1. Install Rumble"
      ]
    },
    {
      "cell_type": "markdown",
      "metadata": {
        "id": "df9Arowc2E8e"
      },
      "source": [
        "## 1. Setup the Spark cluster in Azure\n",
        "\n",
        "### Create a cluster\n",
        "\n",
        "1. Sign into the azure portal (portal.azure.com).\n",
        "1. Search for \"HDInsight clusters\" using the search box at the top.\n",
        "<img src=\"https://cloud.inf.ethz.ch/s/WxpMXB3Jz8SykMw/download\" width=\"900\">\n",
        "1. Note that under the *Subscription* section, you might be prompted that the subscription is not registered:\n",
        "<img src=\"https://cloud.inf.ethz.ch/s/gyTcQYKFCn3Yg6J/download\" width=\"500\">\n",
        "\n",
        "  To fix this, follow the *Click here to register* link, and in the new page, search for *hdinsight*. Then select the *Microsoft.HDInsight* Provider and click the *Register* button.  \n",
        "<img src=\"https://cloud.inf.ethz.ch/s/oHn9eyeZRP4LfZq/download\" width=\"500\">\n",
        "\n",
        "1. Create a new resource group (for example: 'exercise08').\n",
        "1. Give the cluster a unique name.\n",
        "1. In the \"Cluster Type\" choose **Spark** and leave the default version as is. It is also indicated to use the **US West** region. \n",
        "1. Create a cluster login password (you can use https://www.random.org/strings/ for inspiration). Keep the password around as you will need it for later.\n",
        "<img src=\"https://cloud.inf.ethz.ch/s/JY3DRLg8NLH559K/download\" width=\"900\">\n",
        "1. Move to the *Storage* stage of the setup. Here, leave **Azure Storage** as the *Primary Storage Type*. For the *Primary Storage Account* you have the option to set up a new account. The *Container*'s name will be generated automatically, however make sure to remember it, or change it to something memorable, if you plan on finishing the exercises in more than one sitting.\n",
        "<img src=\"https://cloud.inf.ethz.ch/s/NgtHE6iwSCZ8FQi/download\" width=\"900\">\n",
        "1. Move to the *Configuration + Pricing* stage of the setup (skip *Security + networking*). Set up a Spark cluster which uses 2 **A5**  deployments as *Head* nodes and 2 **D12 v2** deployments for the *Worker* nodes. It should cost roughly 1.9 EUR/h. Note that if Azure allows you deploy more cores, then do so, by increasing the number of *Worker* nodes.\n",
        "<img src=\"https://cloud.inf.ethz.ch/s/JpJEfjkZLPja5EK/download\" width=\"900\">\n",
        "1. Move to the *Reivew + Create* stage of the setup, and click the **Create** button once validation succeeds.\n",
        "1. Wait until your cluster is deployed (this can take up to 20 minutes).\n",
        "\n",
        "<span style=\"color: red;\">**Important:** Remember to **delete** the cluster once you are done. If you want to stop doing the exercises at any point, delete it and recreate it using the same container name as you used the first time, so that the resources are still there.</span>\n",
        "\n",
        "<img src=\"https://cloud.inf.ethz.ch/s/2jLERoTD6q8nRMQ/download\" width=\"900\">\n",
        "\n",
        "### Access your cluster\n",
        "\n",
        "Make sure you can access your cluster (the NameNode) via SSH:\n",
        "\n",
        "```\n",
        "$ ssh <ssh_user_name>@<cluster_name>-ssh.azurehdinsight.net\n",
        "```\n",
        "\n",
        "If you are using Linux or MacOSX, you can use your standard terminal.\n",
        "If you are using Windows you can use:\n",
        "- Putty SSH Client and PSCP tool (get them at [here](http://www.chiark.greenend.org.uk/~sgtatham/putty/download.html)).\n",
        "- This Notebook server terminal (Click on the Jupyter logo and the goto New -> Terminal).\n",
        "- Azure Cloud Terminal (see the HBase exercise sheet for details)\n",
        "\n",
        "You can access cluster's YARN in your browser\n",
        "```\n",
        " https://<cluster_name>.azurehdinsight.net/yarnui/hn/cluster\n",
        "```\n"
      ]
    },
    {
      "cell_type": "markdown",
      "metadata": {
        "id": "qE1xkwu8k_IA"
      },
      "source": [
        "## Install Rumble\n",
        "\n",
        "Then login to the shell and download the latest Rumble version:\n",
        "\n",
        "```\n",
        "wget https://github.com/RumbleDB/rumble/releases/download/v1.12/spark-rumble-1.12.0.jar\n",
        "```\n",
        "\n",
        "### HDInsight Shell\n",
        "\n",
        "Unfortunately HDInsight will not provide us access to any other port than SSH.\n",
        "Therefore the usual way to work with Rumble through HDInsight is through the shell. You can access the Rumble shell by running:\n",
        "```\n",
        "spark-submit spark-rumble-1.12.0.jar --shell yes\n",
        "```\n",
        "\n",
        "### SSH Forwarding\n",
        "\n",
        "However for this sheet, we recommend to use SSH forwarding. For that, run the following command instead:\n",
        "\n",
        "```\n",
        "spark-submit spark-rumble-1.12.0.jar --server yes --port 8002\n",
        "```\n",
        "\n",
        "and then open another terminal on your local machine and run the following command to forward the server port 8002 to your localhost:8002. \n",
        "\n",
        "```\n",
        "ssh -N -L 8002:localhost:8002 sshuser@[servername]-ssh.azurehdinsight.net\n",
        "```\n",
        "\n",
        "Now the port 8002 of your own machine (localhost:8002) will become a Rumble server for you to access locally."
      ]
    },
    {
      "cell_type": "markdown",
      "metadata": {
        "id": "UTrxum891_XB"
      },
      "source": [
        "# 2. Setup Rumble in Jupyter Notebook\n",
        "\n"
      ]
    },
    {
      "cell_type": "markdown",
      "metadata": {
        "id": "UfXWkkngcbnH"
      },
      "source": [
        "### Install Jupyter Notebook\n",
        "\n"
      ]
    },
    {
      "cell_type": "markdown",
      "metadata": {
        "id": "imeJuXbn20R5"
      },
      "source": [
        "In order to execute the queries in this notebook, you need to [install](https://jupyter.org/install) jupyter notebook on your **own machine**, and then download this notebook and [run](https://jupyter.readthedocs.io/en/latest/running.html#running) it locally rather than rely on the colab."
      ]
    },
    {
      "cell_type": "markdown",
      "metadata": {
        "id": "cTFVusbo1uT_"
      },
      "source": [
        "To get started, you first need to execute the cell below to activate the Rumble magic (you do not need to understand what it does, this is just initialization Python code)."
      ]
    },
    {
      "cell_type": "code",
      "metadata": {
        "id": "E8wSdtz81-dt"
      },
      "source": [
        "import requests\n",
        "import json\n",
        "import time\n",
        "from IPython.core.magic import register_line_cell_magic\n",
        "\n",
        "@register_line_cell_magic\n",
        "def rumble(line, cell=None):\n",
        "    if cell is None:\n",
        "        data = line\n",
        "    else:\n",
        "        data = cell\n",
        "\n",
        "    start = time.time()                                                         \n",
        "    response = json.loads(requests.post(server, data=data).text)                   \n",
        "    end = time.time()                                                              \n",
        "    print(\"Took: %s ms\" % (end - start))\n",
        "\n",
        "    if 'warning' in response:\n",
        "        print(json.dumps(response['warning']))\n",
        "    if 'values' in response:\n",
        "        for e in response['values']:\n",
        "            print(json.dumps(e))\n",
        "    elif 'error-message' in response:\n",
        "        return response['error-message']\n",
        "    else:\n",
        "        return response"
      ],
      "execution_count": null,
      "outputs": []
    },
    {
      "cell_type": "markdown",
      "metadata": {
        "id": "TEJ2EaoE2YOQ"
      },
      "source": [
        "By default, this notebook uses a small public backend provided by us (very limited in CPU and memory, and with only the http scheme activated) that is sufficient to discover Rumble. This is new and experimental, so that it may occasionally break, especially if too many users use it at the same time, so please bear with us!\n",
        "\n",
        "It is straightforward to execute your own Rumble server on your own Spark cluster (and then you can make full use of all the input file systems and file formats). In this case, just set the server the with your own hostname and port as follows."
      ]
    },
    {
      "cell_type": "code",
      "metadata": {
        "id": "zmRmKvWZ2ZH7"
      },
      "source": [
        "server='http://localhost:8002/jsoniq' # 'http://public.rumbledb.org:9090/jsoniq' public server in case you get stuck"
      ],
      "execution_count": null,
      "outputs": []
    },
    {
      "cell_type": "markdown",
      "metadata": {
        "id": "C6lJq6kJ2HoB"
      },
      "source": [
        "Now we are all set! You can now start reading and executing the JSONiq queries in this notebook as you go, and you can even edit them!"
      ]
    },
    {
      "cell_type": "markdown",
      "metadata": {
        "id": "F892l0gs5bmV"
      },
      "source": [
        "# 3. Rumble Sandbox"
      ]
    },
    {
      "cell_type": "markdown",
      "metadata": {
        "id": "5_NuBtRy4gIp"
      },
      "source": [
        "## JSON\n",
        "\n",
        "As explained on the [official JSON Web site](http://www.json.org/), JSON is a lightweight data-interchange format designed for humans as well as for computers. It supports as values:\n",
        "- objects (string-to-value maps)\n",
        "- arrays (ordered sequences of values)\n",
        "- strings\n",
        "- numbers\n",
        "- booleans (true, false)\n",
        "- null\n",
        "\n",
        "JSONiq provides declarative querying and updating capabilities on JSON data.\n",
        "\n",
        "## Elevator Pitch\n",
        "\n",
        "JSONiq is based on XQuery, which is a W3C standard (like XML and HTML). XQuery is a very powerful declarative language that originally manipulates XML data, but it turns out that it is also a very good fit for manipulating JSON natively.\n",
        "JSONiq, since it extends XQuery, is a very powerful general-purpose declarative programming language. Our experience is that, for the same task, you will probably write about 80% less code compared to imperative languages like JavaScript, Python or Ruby. Additionally, you get the benefits of strong type checking without actually having to write type declarations.\n",
        "Here is an appetizer before we start the tutorial from scratch.\n"
      ]
    },
    {
      "cell_type": "code",
      "metadata": {
        "colab": {
          "base_uri": "https://localhost:8080/"
        },
        "id": "mx4djkAV3zom",
        "outputId": "3a2cad17-fb4c-4f8a-c9e1-3eedfb15c2ed"
      },
      "source": [
        "%%rumble\n",
        "\n",
        "let $stores :=\n",
        "[\n",
        "  { \"store number\" : 1, \"state\" : \"MA\" },\n",
        "  { \"store number\" : 2, \"state\" : \"MA\" },\n",
        "  { \"store number\" : 3, \"state\" : \"CA\" },\n",
        "  { \"store number\" : 4, \"state\" : \"CA\" }\n",
        "]\n",
        "let $sales := [\n",
        "   { \"product\" : \"broiler\", \"store number\" : 1, \"quantity\" : 20  },\n",
        "   { \"product\" : \"toaster\", \"store number\" : 2, \"quantity\" : 100 },\n",
        "   { \"product\" : \"toaster\", \"store number\" : 2, \"quantity\" : 50 },\n",
        "   { \"product\" : \"toaster\", \"store number\" : 3, \"quantity\" : 50 },\n",
        "   { \"product\" : \"blender\", \"store number\" : 3, \"quantity\" : 100 },\n",
        "   { \"product\" : \"blender\", \"store number\" : 3, \"quantity\" : 150 },\n",
        "   { \"product\" : \"socks\", \"store number\" : 1, \"quantity\" : 500 },\n",
        "   { \"product\" : \"socks\", \"store number\" : 2, \"quantity\" : 10 },\n",
        "   { \"product\" : \"shirt\", \"store number\" : 3, \"quantity\" : 10 }\n",
        "]\n",
        "let $join :=\n",
        "  for $store in $stores[], $sale in $sales[]\n",
        "  where $store.\"store number\" = $sale.\"store number\"\n",
        "  return {\n",
        "    \"nb\" : $store.\"store number\",\n",
        "    \"state\" : $store.state,\n",
        "    \"sold\" : $sale.product\n",
        "  }\n",
        "return [$join]"
      ],
      "execution_count": null,
      "outputs": [
        {
          "output_type": "stream",
          "text": [
            "Took: 0.6992979049682617 ms\n",
            "[{\"nb\": 1, \"state\": \"MA\", \"sold\": \"broiler\"}, {\"nb\": 1, \"state\": \"MA\", \"sold\": \"socks\"}, {\"nb\": 2, \"state\": \"MA\", \"sold\": \"toaster\"}, {\"nb\": 2, \"state\": \"MA\", \"sold\": \"toaster\"}, {\"nb\": 2, \"state\": \"MA\", \"sold\": \"socks\"}, {\"nb\": 3, \"state\": \"CA\", \"sold\": \"toaster\"}, {\"nb\": 3, \"state\": \"CA\", \"sold\": \"blender\"}, {\"nb\": 3, \"state\": \"CA\", \"sold\": \"blender\"}, {\"nb\": 3, \"state\": \"CA\", \"sold\": \"shirt\"}]\n"
          ],
          "name": "stdout"
        }
      ]
    },
    {
      "cell_type": "markdown",
      "metadata": {
        "id": "_L-2AVNj4xu9"
      },
      "source": [
        "## And here you go\n",
        "\n",
        "### Actually, you already knew some JSONiq\n",
        "\n",
        "The first thing you need to know is that a well-formed JSON document is a JSONiq expression as well.\n",
        "This means that you can copy-and-paste any JSON document into a query. The following are JSONiq queries that are \"idempotent\" (they just output themselves):"
      ]
    },
    {
      "cell_type": "code",
      "metadata": {
        "colab": {
          "base_uri": "https://localhost:8080/"
        },
        "id": "CHCFKAio30Ri",
        "outputId": "fb0cea84-4649-43a9-8354-434115363038"
      },
      "source": [
        "%%rumble\n",
        "{ \"pi\" : 3.14, \"sq2\" : 1.4 }"
      ],
      "execution_count": null,
      "outputs": [
        {
          "output_type": "stream",
          "text": [
            "Took: 1.084305763244629 ms\n",
            "{\"pi\": 3.14, \"sq2\": 1.4}\n"
          ],
          "name": "stdout"
        }
      ]
    },
    {
      "cell_type": "code",
      "metadata": {
        "colab": {
          "base_uri": "https://localhost:8080/"
        },
        "id": "_JmeeMZl45Ns",
        "outputId": "d191845d-3a72-4312-ffc5-d1349efdcdd1"
      },
      "source": [
        "%%rumble\n",
        "[ 2, 3, 5, 7, 11, 13 ]"
      ],
      "execution_count": null,
      "outputs": [
        {
          "output_type": "stream",
          "text": [
            "Took: 0.711918830871582 ms\n",
            "[2, 3, 5, 7, 11, 13]\n"
          ],
          "name": "stdout"
        }
      ]
    },
    {
      "cell_type": "code",
      "metadata": {
        "colab": {
          "base_uri": "https://localhost:8080/"
        },
        "id": "HkvoBs9M46NF",
        "outputId": "516b8c65-c0d2-4119-ed0d-c0c45f861391"
      },
      "source": [
        "%%rumble\n",
        "{\n",
        "      \"operations\" : [\n",
        "        { \"binary\" : [ \"and\", \"or\"] },\n",
        "        { \"unary\" : [\"not\"] }\n",
        "      ],\n",
        "      \"bits\" : [\n",
        "        0, 1\n",
        "      ]\n",
        "    }"
      ],
      "execution_count": null,
      "outputs": [
        {
          "output_type": "stream",
          "text": [
            "Took: 0.8329410552978516 ms\n",
            "{\"operations\": [{\"binary\": [\"and\", \"or\"]}, {\"unary\": [\"not\"]}], \"bits\": [0, 1]}\n"
          ],
          "name": "stdout"
        }
      ]
    },
    {
      "cell_type": "code",
      "metadata": {
        "colab": {
          "base_uri": "https://localhost:8080/"
        },
        "id": "AHtMILv349g5",
        "outputId": "d1a7f9da-573d-4838-b130-b4d3fc88d9d1"
      },
      "source": [
        "%%rumble\n",
        "[ { \"Question\" : \"Ultimate\" }, [\"Life\", \"the universe\", \"and everything\"] ]"
      ],
      "execution_count": null,
      "outputs": [
        {
          "output_type": "stream",
          "text": [
            "Took: 0.590116024017334 ms\n",
            "[{\"Question\": \"Ultimate\"}, [\"Life\", \"the universe\", \"and everything\"]]\n"
          ],
          "name": "stdout"
        }
      ]
    },
    {
      "cell_type": "markdown",
      "metadata": {
        "id": "TsX2S4IG5CZ-"
      },
      "source": [
        "\n",
        "This works with objects, arrays (even nested), strings, numbers, booleans, null.\n",
        "\n",
        "It also works the other way round: if your query outputs an object or an array, you can use it as a JSON document. JSONiq is a declarative language. This means that you only need to say what you want - the compiler will take care of the how.\n",
        "\n",
        "In the above queries, you are basically saying: I want to output this JSON content, and here it is."
      ]
    },
    {
      "cell_type": "markdown",
      "metadata": {
        "id": "YyaQW8HIhrKW"
      },
      "source": [
        "## JSONiq basics\n",
        "\n",
        "### The real JSONiq Hello, World!\n",
        "\n",
        "Wondering what a hello world program looks like in JSONiq? Here it is:"
      ]
    },
    {
      "cell_type": "code",
      "metadata": {
        "colab": {
          "base_uri": "https://localhost:8080/"
        },
        "id": "m2-VyECPhrKW",
        "outputId": "8240399c-f4e2-4093-9bab-730483682202"
      },
      "source": [
        "%%rumble\n",
        "\"Hello, World!\""
      ],
      "execution_count": null,
      "outputs": [
        {
          "output_type": "stream",
          "text": [
            "Took: 0.7798850536346436 ms\n",
            "\"Hello, World!\"\n"
          ],
          "name": "stdout"
        }
      ]
    },
    {
      "cell_type": "markdown",
      "metadata": {
        "id": "Uy48JTprhrKW"
      },
      "source": [
        "Not surprisingly, it outputs the string \"Hello, World!\".\n",
        "\n",
        "### Numbers and arithmetic operations\n",
        "\n",
        "Okay, so, now, you might be thinking: \"What is the use of this language if it just outputs what I put in?\" Of course, JSONiq can more than that. And still in a declarative way. Here is how it works with numbers:"
      ]
    },
    {
      "cell_type": "code",
      "metadata": {
        "colab": {
          "base_uri": "https://localhost:8080/"
        },
        "id": "3wBwni49hrKW",
        "outputId": "701bc69a-df71-4d98-ad24-58846f19d1e7"
      },
      "source": [
        "%%rumble\n",
        "2 + 2"
      ],
      "execution_count": null,
      "outputs": [
        {
          "output_type": "stream",
          "text": [
            "Took: 0.995668888092041 ms\n",
            "4\n"
          ],
          "name": "stdout"
        }
      ]
    },
    {
      "cell_type": "code",
      "metadata": {
        "colab": {
          "base_uri": "https://localhost:8080/"
        },
        "id": "CWOO__4khrKW",
        "outputId": "eb96f30a-13aa-4bd7-aad6-aa26bef5d563"
      },
      "source": [
        "%%rumble\n",
        " (38 + 2) div 2 + 11 * 2\n"
      ],
      "execution_count": null,
      "outputs": [
        {
          "output_type": "stream",
          "text": [
            "Took: 0.7447507381439209 ms\n",
            "42\n"
          ],
          "name": "stdout"
        }
      ]
    },
    {
      "cell_type": "markdown",
      "metadata": {
        "id": "5FZceBJWhrKW"
      },
      "source": [
        "(mind the division operator which is the \"div\" keyword. The slash operator has different semantics).\n",
        "\n",
        "Like JSON, JSONiq works with decimals and doubles:"
      ]
    },
    {
      "cell_type": "code",
      "metadata": {
        "colab": {
          "base_uri": "https://localhost:8080/"
        },
        "id": "KlAPfbwbhrKW",
        "outputId": "1fc65cbe-66a4-4e18-9753-23b8c064c98e"
      },
      "source": [
        "%%rumble\n",
        " 6.022e23 * 42"
      ],
      "execution_count": null,
      "outputs": [
        {
          "output_type": "stream",
          "text": [
            "Took: 0.5315890312194824 ms\n",
            "25292400000000000000000000\n"
          ],
          "name": "stdout"
        }
      ]
    },
    {
      "cell_type": "markdown",
      "metadata": {
        "id": "MmFfvP9lhrKW"
      },
      "source": [
        "### Logical operations\n",
        "\n",
        "JSONiq supports boolean operations."
      ]
    },
    {
      "cell_type": "code",
      "metadata": {
        "colab": {
          "base_uri": "https://localhost:8080/"
        },
        "id": "yClsI5LehrKW",
        "outputId": "a0c08cb6-460b-42a7-bbea-d1f607c9e851"
      },
      "source": [
        "%%rumble\n",
        "true and false"
      ],
      "execution_count": null,
      "outputs": [
        {
          "output_type": "stream",
          "text": [
            "Took: 0.7332069873809814 ms\n",
            "false\n"
          ],
          "name": "stdout"
        }
      ]
    },
    {
      "cell_type": "code",
      "metadata": {
        "colab": {
          "base_uri": "https://localhost:8080/"
        },
        "id": "KVQgXpgzhrKW",
        "outputId": "2e86627f-fa71-4558-c8d8-e35dfa21a310"
      },
      "source": [
        "%%rumble\n",
        "(true or false) and (false or true)"
      ],
      "execution_count": null,
      "outputs": [
        {
          "output_type": "stream",
          "text": [
            "Took: 0.7807281017303467 ms\n",
            "true\n"
          ],
          "name": "stdout"
        }
      ]
    },
    {
      "cell_type": "markdown",
      "metadata": {
        "id": "VDIvgk5khrKW"
      },
      "source": [
        "The unary not is also available:"
      ]
    },
    {
      "cell_type": "code",
      "metadata": {
        "cell_status": {
          "execute_time": {
            "duration": 243.537109375,
            "end_time": 1557235032261.665
          }
        },
        "colab": {
          "base_uri": "https://localhost:8080/"
        },
        "id": "djGZSV0MhrKW",
        "outputId": "a3ce0220-eacc-4ef5-fc6e-14c68ba15081"
      },
      "source": [
        "%%rumble\n",
        "not true"
      ],
      "execution_count": null,
      "outputs": [
        {
          "output_type": "stream",
          "text": [
            "Took: 0.6936099529266357 ms\n",
            "false\n"
          ],
          "name": "stdout"
        }
      ]
    },
    {
      "cell_type": "markdown",
      "metadata": {
        "id": "eELMD0pqhrKW"
      },
      "source": [
        "### Strings\n",
        "\n",
        "JSONiq is capable of manipulating strings as well, using functions:\n"
      ]
    },
    {
      "cell_type": "code",
      "metadata": {
        "cell_status": {
          "execute_time": {
            "duration": 21398.401123046875,
            "end_time": 1557212587338.105
          }
        },
        "colab": {
          "base_uri": "https://localhost:8080/"
        },
        "id": "6YwugMo5hrKW",
        "outputId": "0a9324ee-459a-40bf-f124-7bbf1c672f66"
      },
      "source": [
        "%%rumble\n",
        "concat(\"Hello \", \"Captain \", \"Kirk\")"
      ],
      "execution_count": null,
      "outputs": [
        {
          "output_type": "stream",
          "text": [
            "Took: 1.0549559593200684 ms\n",
            "\"Hello Captain Kirk\"\n"
          ],
          "name": "stdout"
        }
      ]
    },
    {
      "cell_type": "code",
      "metadata": {
        "cell_status": {
          "execute_time": {
            "duration": 752.509033203125,
            "end_time": 1557234001018.501
          }
        },
        "colab": {
          "base_uri": "https://localhost:8080/"
        },
        "id": "lGrKFlHVhrKW",
        "outputId": "d87b2eb5-cacb-4dc4-bc0f-8248f8a0d590"
      },
      "source": [
        "%%rumble\n",
        "substring(\"Mister Spock\", 8, 5)"
      ],
      "execution_count": null,
      "outputs": [
        {
          "output_type": "stream",
          "text": [
            "Took: 0.6841211318969727 ms\n",
            "\"Spock\"\n"
          ],
          "name": "stdout"
        }
      ]
    },
    {
      "cell_type": "markdown",
      "metadata": {
        "id": "ZBusMnoShrKW"
      },
      "source": [
        "JSONiq comes up with a rich string function library out of the box, inherited from its base language. These functions are listed [here](https://www.w3.org/TR/xpath-functions-30/) (actually, you will find many more for numbers, dates, etc).\n"
      ]
    },
    {
      "cell_type": "markdown",
      "metadata": {
        "cell_status": {
          "execute_time": {
            "duration": 17337.39599609375,
            "end_time": 1557230774662.657
          }
        },
        "id": "FIA6t1cbhrKW"
      },
      "source": [
        "\n",
        "### Sequences\n",
        "\n",
        "Until now, we have only been working with single values (an object, an array, a number, a string, a boolean). JSONiq supports sequences of values. You can build a sequence using commas:\n"
      ]
    },
    {
      "cell_type": "code",
      "metadata": {
        "colab": {
          "base_uri": "https://localhost:8080/"
        },
        "id": "30E1G-s5hrKW",
        "outputId": "6dfb54e8-6dcd-4e2e-f96d-1af10b3c2e70"
      },
      "source": [
        "%%rumble\n",
        " (1, 2, 3, 4, 5, 6, 7, 8, 9, 10)"
      ],
      "execution_count": null,
      "outputs": [
        {
          "output_type": "stream",
          "text": [
            "Took: 1.1264748573303223 ms\n",
            "1\n",
            "2\n",
            "3\n",
            "4\n",
            "5\n",
            "6\n",
            "7\n",
            "8\n",
            "9\n",
            "10\n"
          ],
          "name": "stdout"
        }
      ]
    },
    {
      "cell_type": "code",
      "metadata": {
        "cell_status": {
          "execute_time": {
            "duration": 222241.63500976562,
            "end_time": 1557387411306.792
          }
        },
        "colab": {
          "base_uri": "https://localhost:8080/"
        },
        "id": "FzbtJmhKhrKW",
        "outputId": "4aed1541-ca55-44d1-d82a-b4018abf842f"
      },
      "source": [
        "%%rumble\n",
        "1, true, 4.2e1, \"Life\""
      ],
      "execution_count": null,
      "outputs": [
        {
          "output_type": "stream",
          "text": [
            "Took: 0.7239620685577393 ms\n",
            "1\n",
            "true\n",
            "42\n",
            "\"Life\"\n"
          ],
          "name": "stdout"
        }
      ]
    },
    {
      "cell_type": "markdown",
      "metadata": {
        "id": "X_rMosG5hrKW"
      },
      "source": [
        "The \"to\" operator is very convenient, too:"
      ]
    },
    {
      "cell_type": "code",
      "metadata": {
        "cell_status": {
          "execute_time": {
            "duration": 39579.559814453125,
            "end_time": 1557387951481.842
          }
        },
        "colab": {
          "base_uri": "https://localhost:8080/"
        },
        "id": "IoBx9SdShrKW",
        "outputId": "2bc9365b-9eec-4d2e-ef87-028b462858ee"
      },
      "source": [
        "%%rumble\n",
        " (1 to 100)"
      ],
      "execution_count": null,
      "outputs": [
        {
          "output_type": "stream",
          "text": [
            "Took: 0.7004432678222656 ms\n",
            "1\n",
            "2\n",
            "3\n",
            "4\n",
            "5\n",
            "6\n",
            "7\n",
            "8\n",
            "9\n",
            "10\n",
            "11\n",
            "12\n",
            "13\n",
            "14\n",
            "15\n",
            "16\n",
            "17\n",
            "18\n",
            "19\n",
            "20\n",
            "21\n",
            "22\n",
            "23\n",
            "24\n",
            "25\n",
            "26\n",
            "27\n",
            "28\n",
            "29\n",
            "30\n",
            "31\n",
            "32\n",
            "33\n",
            "34\n",
            "35\n",
            "36\n",
            "37\n",
            "38\n",
            "39\n",
            "40\n",
            "41\n",
            "42\n",
            "43\n",
            "44\n",
            "45\n",
            "46\n",
            "47\n",
            "48\n",
            "49\n",
            "50\n",
            "51\n",
            "52\n",
            "53\n",
            "54\n",
            "55\n",
            "56\n",
            "57\n",
            "58\n",
            "59\n",
            "60\n",
            "61\n",
            "62\n",
            "63\n",
            "64\n",
            "65\n",
            "66\n",
            "67\n",
            "68\n",
            "69\n",
            "70\n",
            "71\n",
            "72\n",
            "73\n",
            "74\n",
            "75\n",
            "76\n",
            "77\n",
            "78\n",
            "79\n",
            "80\n",
            "81\n",
            "82\n",
            "83\n",
            "84\n",
            "85\n",
            "86\n",
            "87\n",
            "88\n",
            "89\n",
            "90\n",
            "91\n",
            "92\n",
            "93\n",
            "94\n",
            "95\n",
            "96\n",
            "97\n",
            "98\n",
            "99\n",
            "100\n"
          ],
          "name": "stdout"
        }
      ]
    },
    {
      "cell_type": "markdown",
      "metadata": {
        "id": "v0cwsmaMhrKW"
      },
      "source": [
        "Some functions even work on sequences:"
      ]
    },
    {
      "cell_type": "code",
      "metadata": {
        "cell_status": {
          "execute_time": {
            "duration": 27601.31787109375,
            "end_time": 1557171455208.987
          }
        },
        "colab": {
          "base_uri": "https://localhost:8080/"
        },
        "id": "GRY2tHEQhrKX",
        "outputId": "5f311e43-149a-475f-ab75-d0ab1bda141e"
      },
      "source": [
        "%%rumble\n",
        "sum(1 to 100)"
      ],
      "execution_count": null,
      "outputs": [
        {
          "output_type": "stream",
          "text": [
            "Took: 0.6705379486083984 ms\n",
            "5050\n"
          ],
          "name": "stdout"
        }
      ]
    },
    {
      "cell_type": "code",
      "metadata": {
        "cell_status": {
          "execute_time": {
            "duration": 55527.44091796875,
            "end_time": 1557229508578.007
          }
        },
        "colab": {
          "base_uri": "https://localhost:8080/"
        },
        "id": "khUaAhjjhrKX",
        "outputId": "e11a688a-0289-4258-dff7-f7bf6581af0e"
      },
      "source": [
        "%%rumble\n",
        "string-join((\"These\", \"are\", \"some\", \"words\"), \"-\")"
      ],
      "execution_count": null,
      "outputs": [
        {
          "output_type": "stream",
          "text": [
            "Took: 0.7499351501464844 ms\n",
            "\"These-are-some-words\"\n"
          ],
          "name": "stdout"
        }
      ]
    },
    {
      "cell_type": "code",
      "metadata": {
        "cell_status": {
          "execute_time": {
            "duration": 13343.739013671875,
            "end_time": 1557224627704.526
          }
        },
        "colab": {
          "base_uri": "https://localhost:8080/"
        },
        "id": "93Jz2DaFhrKX",
        "outputId": "12524661-04f4-4024-9a39-ee46952e55ea"
      },
      "source": [
        "%%rumble\n",
        "count(10 to 20)"
      ],
      "execution_count": null,
      "outputs": [
        {
          "output_type": "stream",
          "text": [
            "Took: 1.027552604675293 ms\n",
            "11\n"
          ],
          "name": "stdout"
        }
      ]
    },
    {
      "cell_type": "code",
      "metadata": {
        "cell_status": {
          "execute_time": {
            "duration": 19340.81201171875,
            "end_time": 1557220260002.04
          }
        },
        "colab": {
          "base_uri": "https://localhost:8080/"
        },
        "id": "3FDtCtVChrKX",
        "outputId": "00a87695-4616-4754-f039-957e9d6abed2"
      },
      "source": [
        "%%rumble\n",
        "avg(1 to 100)"
      ],
      "execution_count": null,
      "outputs": [
        {
          "output_type": "stream",
          "text": [
            "Took: 0.6866047382354736 ms\n",
            "50.5\n"
          ],
          "name": "stdout"
        }
      ]
    },
    {
      "cell_type": "markdown",
      "metadata": {
        "id": "hG7zwtfWhrKX"
      },
      "source": [
        "Unlike arrays, sequences are flat. The sequence (3) is identical to the integer 3, and (1, (2, 3)) is identical to (1, 2, 3)."
      ]
    },
    {
      "cell_type": "markdown",
      "metadata": {
        "cell_status": {
          "execute_time": {
            "duration": 433204.9020996094,
            "end_time": 1557221766692.589
          }
        },
        "id": "t1Y_5iuBhrKX",
        "scrolled": false
      },
      "source": [
        "## A bit more in depth\n",
        "\n",
        "### Variables\n",
        "\n",
        "You can bind a sequence of values to a (dollar-prefixed) variable, like so:"
      ]
    },
    {
      "cell_type": "code",
      "metadata": {
        "colab": {
          "base_uri": "https://localhost:8080/"
        },
        "id": "IQZBFJlMhrKX",
        "outputId": "48e0fae3-e6dc-470f-9994-ebd1935413d5"
      },
      "source": [
        "%%rumble\n",
        "let $x := \"Bearing 3 1 4 Mark 5. \"\n",
        "return concat($x, \"Engage!\")"
      ],
      "execution_count": null,
      "outputs": [
        {
          "output_type": "stream",
          "text": [
            "Took: 0.8928189277648926 ms\n",
            "\"Bearing 3 1 4 Mark 5. Engage!\"\n"
          ],
          "name": "stdout"
        }
      ]
    },
    {
      "cell_type": "code",
      "metadata": {
        "colab": {
          "base_uri": "https://localhost:8080/"
        },
        "id": "-Zh0x645hrKX",
        "outputId": "4c28f554-c9ca-4340-c349-05a10b1b85c8"
      },
      "source": [
        "%%rumble\n",
        "let $x := (\"Kirk\", \"Picard\", \"Sisko\")\n",
        "return string-join($x, \" and \")"
      ],
      "execution_count": null,
      "outputs": [
        {
          "output_type": "stream",
          "text": [
            "Took: 0.6619641780853271 ms\n",
            "\"Kirk and Picard and Sisko\"\n"
          ],
          "name": "stdout"
        }
      ]
    },
    {
      "cell_type": "markdown",
      "metadata": {
        "id": "8zkA2HFAhrKX"
      },
      "source": [
        "You can bind as many variables as you want:"
      ]
    },
    {
      "cell_type": "code",
      "metadata": {
        "colab": {
          "base_uri": "https://localhost:8080/"
        },
        "id": "RQifv3ezhrKX",
        "outputId": "5fba50d8-5bf1-43ac-ce33-eab339ddbf01"
      },
      "source": [
        "%%rumble\n",
        "let $x := 1\n",
        "let $y := $x * 2\n",
        "let $z := $y + $x\n",
        "return ($x, $y, $z)"
      ],
      "execution_count": null,
      "outputs": [
        {
          "output_type": "stream",
          "text": [
            "Took: 1.4324240684509277 ms\n",
            "1\n",
            "2\n",
            "3\n"
          ],
          "name": "stdout"
        }
      ]
    },
    {
      "cell_type": "markdown",
      "metadata": {
        "id": "OLuNB3rbhrKX"
      },
      "source": [
        "and even reuse the same name to hide formerly declared variables:"
      ]
    },
    {
      "cell_type": "code",
      "metadata": {
        "colab": {
          "base_uri": "https://localhost:8080/"
        },
        "id": "itMBTXAGhrKX",
        "outputId": "a25d9255-5b1a-4b2c-d687-c63ab6fc9375"
      },
      "source": [
        "%%rumble\n",
        "let $x := 1\n",
        "let $x := $x + 2\n",
        "let $x := $x + 3\n",
        "return $x"
      ],
      "execution_count": null,
      "outputs": [
        {
          "output_type": "stream",
          "text": [
            "Took: 0.6820056438446045 ms\n",
            "6\n"
          ],
          "name": "stdout"
        }
      ]
    },
    {
      "cell_type": "markdown",
      "metadata": {
        "id": "U13Yla0ghrKX"
      },
      "source": [
        "### Iteration\n",
        "\n",
        "In a way very similar to let, you can iterate over a sequence of values with the \"for\" keyword. Instead of binding the entire sequence of the variable, it will bind each value of the sequence in turn to this variable."
      ]
    },
    {
      "cell_type": "code",
      "metadata": {
        "colab": {
          "base_uri": "https://localhost:8080/"
        },
        "id": "6p-sWqTbhrKX",
        "outputId": "f25f6777-06a9-4f92-d36d-259828410813"
      },
      "source": [
        "%%rumble\n",
        "for $i in 1 to 10\n",
        "return $i * 2"
      ],
      "execution_count": null,
      "outputs": [
        {
          "output_type": "stream",
          "text": [
            "Took: 0.6566300392150879 ms\n",
            "2\n",
            "4\n",
            "6\n",
            "8\n",
            "10\n",
            "12\n",
            "14\n",
            "16\n",
            "18\n",
            "20\n"
          ],
          "name": "stdout"
        }
      ]
    },
    {
      "cell_type": "markdown",
      "metadata": {
        "id": "NlEgcpIGhrKX"
      },
      "source": [
        "More interestingly, you can combine fors and lets like so:"
      ]
    },
    {
      "cell_type": "code",
      "metadata": {
        "colab": {
          "base_uri": "https://localhost:8080/"
        },
        "id": "Ml_bcBOQhrKX",
        "outputId": "6f5cdb95-da52-4c21-d533-061471947ddd"
      },
      "source": [
        "%%rumble\n",
        "let $sequence := 1 to 10\n",
        "for $value in $sequence\n",
        "let $square := $value * 2\n",
        "return $square"
      ],
      "execution_count": null,
      "outputs": [
        {
          "output_type": "stream",
          "text": [
            "Took: 0.7445700168609619 ms\n",
            "2\n",
            "4\n",
            "6\n",
            "8\n",
            "10\n",
            "12\n",
            "14\n",
            "16\n",
            "18\n",
            "20\n"
          ],
          "name": "stdout"
        }
      ]
    },
    {
      "cell_type": "markdown",
      "metadata": {
        "id": "wP-22ufxhrKX"
      },
      "source": [
        "and even filter out some values:"
      ]
    },
    {
      "cell_type": "code",
      "metadata": {
        "colab": {
          "base_uri": "https://localhost:8080/"
        },
        "id": "ERlSrAa7hrKX",
        "outputId": "de0fa418-52ac-4e66-d14d-06d2dc1fc764"
      },
      "source": [
        "%%rumble\n",
        "let $sequence := 1 to 10\n",
        "for $value in $sequence\n",
        "let $square := $value * 2\n",
        "where $square < 10\n",
        "return $square"
      ],
      "execution_count": null,
      "outputs": [
        {
          "output_type": "stream",
          "text": [
            "Took: 1.0199611186981201 ms\n",
            "2\n",
            "4\n",
            "6\n",
            "8\n"
          ],
          "name": "stdout"
        }
      ]
    },
    {
      "cell_type": "markdown",
      "metadata": {
        "id": "SmCGI8DkhrKX"
      },
      "source": [
        "Note that you can only iterate over sequences, not arrays. To iterate over an array, you can obtain the sequence of its values with the [] operator, like so:\n"
      ]
    },
    {
      "cell_type": "code",
      "metadata": {
        "colab": {
          "base_uri": "https://localhost:8080/"
        },
        "id": "ntMrbesIhrKX",
        "outputId": "43de2799-bea4-4fc0-d12a-a1307142f327"
      },
      "source": [
        "%%rumble\n",
        "[1, 2, 3][]"
      ],
      "execution_count": null,
      "outputs": [
        {
          "output_type": "stream",
          "text": [
            "Took: 0.4917619228363037 ms\n",
            "1\n",
            "2\n",
            "3\n"
          ],
          "name": "stdout"
        }
      ]
    },
    {
      "cell_type": "markdown",
      "metadata": {
        "id": "kEJLBHoghrKX"
      },
      "source": [
        "### Conditions\n",
        "\n",
        "You can make the output depend on a condition with an if-then-else construct:"
      ]
    },
    {
      "cell_type": "code",
      "metadata": {
        "colab": {
          "base_uri": "https://localhost:8080/"
        },
        "id": "gwq7TT5bhrKX",
        "outputId": "5f7f6c0e-f8c5-4c5e-8318-364c8a5d99c6"
      },
      "source": [
        "%%rumble\n",
        "for $x in 1 to 10\n",
        "return if ($x < 5) then $x\n",
        "                   else -$x"
      ],
      "execution_count": null,
      "outputs": [
        {
          "output_type": "stream",
          "text": [
            "Took: 0.7415580749511719 ms\n",
            "1\n",
            "2\n",
            "3\n",
            "4\n",
            "-5\n",
            "-6\n",
            "-7\n",
            "-8\n",
            "-9\n",
            "-10\n"
          ],
          "name": "stdout"
        }
      ]
    },
    {
      "cell_type": "markdown",
      "metadata": {
        "id": "gItSAnHAhrKX"
      },
      "source": [
        "Note that the else clause is required - however, it can be the empty sequence () which is often when you need if only the then clause is relevant to you."
      ]
    },
    {
      "cell_type": "markdown",
      "metadata": {
        "id": "bkJkimFphrKX"
      },
      "source": [
        "### Composability of Expressions\n",
        "\n",
        "Now that you know of a couple of elementary JSONiq expressions, you can combine them in more elaborate expressions. For example, you can put any sequence of values in an array:"
      ]
    },
    {
      "cell_type": "code",
      "metadata": {
        "colab": {
          "base_uri": "https://localhost:8080/"
        },
        "id": "-j-CBM7OhrKX",
        "outputId": "fea11cf0-d137-43f9-ccac-ccf9b6f85591"
      },
      "source": [
        "%%rumble\n",
        "[ 1 to 10 ]"
      ],
      "execution_count": null,
      "outputs": [
        {
          "output_type": "stream",
          "text": [
            "Took: 0.67024827003479 ms\n",
            "[1, 2, 3, 4, 5, 6, 7, 8, 9, 10]\n"
          ],
          "name": "stdout"
        }
      ]
    },
    {
      "cell_type": "markdown",
      "metadata": {
        "id": "bItRSk5mhrKY"
      },
      "source": [
        "Or you can dynamically compute the value of object pairs (or their key):"
      ]
    },
    {
      "cell_type": "code",
      "metadata": {
        "colab": {
          "base_uri": "https://localhost:8080/"
        },
        "id": "dh4HMny2hrKY",
        "outputId": "0c49c543-727a-4bea-bf68-efda10523f2c"
      },
      "source": [
        "%%rumble\n",
        "{\n",
        "      \"Greeting\" : (let $d := \"Mister Spock\"\n",
        "                    return concat(\"Hello, \", $d)),\n",
        "      \"Farewell\" : string-join((\"Live\", \"long\", \"and\", \"prosper\"),\n",
        "                               \" \")\n",
        "}"
      ],
      "execution_count": null,
      "outputs": [
        {
          "output_type": "stream",
          "text": [
            "Took: 0.6682071685791016 ms\n",
            "{\"Greeting\": \"Hello, Mister Spock\", \"Farewell\": \"Live long and prosper\"}\n"
          ],
          "name": "stdout"
        }
      ]
    },
    {
      "cell_type": "markdown",
      "metadata": {
        "id": "TWReZYhohrKY"
      },
      "source": [
        "You can dynamically generate object singletons (with a single pair):\n"
      ]
    },
    {
      "cell_type": "code",
      "metadata": {
        "colab": {
          "base_uri": "https://localhost:8080/"
        },
        "id": "QHDNi1QjhrKY",
        "outputId": "610be9b1-602c-4f2e-f7c3-9e2fb3661656"
      },
      "source": [
        "%%rumble\n",
        "{ concat(\"Integer \", 2) : 2 * 2 }"
      ],
      "execution_count": null,
      "outputs": [
        {
          "output_type": "stream",
          "text": [
            "Took: 0.7786221504211426 ms\n",
            "{\"Integer 2\": 4}\n"
          ],
          "name": "stdout"
        }
      ]
    },
    {
      "cell_type": "markdown",
      "metadata": {
        "id": "sPptIS_4hrKY"
      },
      "source": [
        "and then merge lots of them into a new object with the {| |} notation:"
      ]
    },
    {
      "cell_type": "code",
      "metadata": {
        "colab": {
          "base_uri": "https://localhost:8080/"
        },
        "id": "KEw2x-1jhrKY",
        "outputId": "a904a920-a640-4ca8-9210-b6ed363de203"
      },
      "source": [
        "%%rumble\n",
        "{|\n",
        "    for $i in 1 to 10\n",
        "    return { concat(\"Square of \", $i) : $i * $i }\n",
        "|}"
      ],
      "execution_count": null,
      "outputs": [
        {
          "output_type": "stream",
          "text": [
            "Took: 0.9040708541870117 ms\n",
            "{\"Square of 1\": 1, \"Square of 2\": 4, \"Square of 3\": 9, \"Square of 4\": 16, \"Square of 5\": 25, \"Square of 6\": 36, \"Square of 7\": 49, \"Square of 8\": 64, \"Square of 9\": 81, \"Square of 10\": 100}\n"
          ],
          "name": "stdout"
        }
      ]
    },
    {
      "cell_type": "code",
      "metadata": {
        "id": "gq8CgKbc6k6G"
      },
      "source": [
        ""
      ],
      "execution_count": null,
      "outputs": []
    },
    {
      "cell_type": "markdown",
      "metadata": {
        "id": "Zj9AgqsBhrKY"
      },
      "source": [
        "## JSON Navigation\n",
        "\n",
        "Up to now, you have learnt how to compose expressions so as to do some computations and to build objects and arrays. It also works the other way round: if you have some JSON data, you can access it and navigate.\n",
        "All you need to know is: JSONiq views\n",
        "an array as an ordered list of values,\n",
        "an object as a set of name/value pairs\n"
      ]
    },
    {
      "cell_type": "markdown",
      "metadata": {
        "id": "4NMMWdnShrKY"
      },
      "source": [
        "### Objects\n",
        "\n",
        "You can use the dot operator to retrieve the value associated with a key. Quotes are optional, except if the key has special characters such as spaces. It will return the value associated thereto:"
      ]
    },
    {
      "cell_type": "code",
      "metadata": {
        "colab": {
          "base_uri": "https://localhost:8080/"
        },
        "id": "VFfwP0nfhrKY",
        "outputId": "a9ce97bf-b2a8-48dc-9a95-ead2621e6e65"
      },
      "source": [
        "%%rumble\n",
        "let $person := {\n",
        "    \"first name\" : \"Sarah\",\n",
        "    \"age\" : 13,\n",
        "    \"gender\" : \"female\",\n",
        "    \"friends\" : [ \"Jim\", \"Mary\", \"Jennifer\"]\n",
        "}\n",
        "return $person.\"first name\""
      ],
      "execution_count": null,
      "outputs": [
        {
          "output_type": "stream",
          "text": [
            "Took: 1.4455890655517578 ms\n",
            "\"Sarah\"\n"
          ],
          "name": "stdout"
        }
      ]
    },
    {
      "cell_type": "markdown",
      "metadata": {
        "id": "PkxiFID7hrKY"
      },
      "source": [
        "You can also ask for all keys in an object:"
      ]
    },
    {
      "cell_type": "code",
      "metadata": {
        "colab": {
          "base_uri": "https://localhost:8080/"
        },
        "id": "8T2OCFUghrKY",
        "outputId": "b8ea74a3-7bde-4267-a5be-a50cdf60a0cf"
      },
      "source": [
        "%%rumble\n",
        "let $person := {\n",
        "    \"name\" : \"Sarah\",\n",
        "    \"age\" : 13,\n",
        "    \"gender\" : \"female\",\n",
        "    \"friends\" : [ \"Jim\", \"Mary\", \"Jennifer\"]\n",
        "}\n",
        "return { \"keys\" : [ keys($person)] }"
      ],
      "execution_count": null,
      "outputs": [
        {
          "output_type": "stream",
          "text": [
            "Took: 0.507910966873169 ms\n",
            "{\"keys\": [\"name\", \"age\", \"gender\", \"friends\"]}\n"
          ],
          "name": "stdout"
        }
      ]
    },
    {
      "cell_type": "markdown",
      "metadata": {
        "id": "oim6bAQyhrKY"
      },
      "source": [
        "### Arrays\n",
        "\n",
        "The [[]] operator retrieves the entry at the given position:"
      ]
    },
    {
      "cell_type": "code",
      "metadata": {
        "colab": {
          "base_uri": "https://localhost:8080/"
        },
        "id": "P14wlsn2hrKY",
        "outputId": "25e256e0-44b7-40c1-e58f-cd052957bad7"
      },
      "source": [
        "%%rumble\n",
        "let $friends := [ \"Jim\", \"Mary\", \"Jennifer\"]\n",
        "return $friends[[1+1]]"
      ],
      "execution_count": null,
      "outputs": [
        {
          "output_type": "stream",
          "text": [
            "Took: 0.6998488903045654 ms\n",
            "\"Mary\"\n"
          ],
          "name": "stdout"
        }
      ]
    },
    {
      "cell_type": "markdown",
      "metadata": {
        "id": "drILINuehrKY"
      },
      "source": [
        "It is also possible to get the size of an array:"
      ]
    },
    {
      "cell_type": "code",
      "metadata": {
        "colab": {
          "base_uri": "https://localhost:8080/"
        },
        "id": "GPTzsEWuhrKY",
        "outputId": "a388685f-2c52-474a-d1d3-54e21b56da7a"
      },
      "source": [
        "%%rumble\n",
        "let $person := {\n",
        "    \"name\" : \"Sarah\",\n",
        "    \"age\" : 13,\n",
        "    \"gender\" : \"female\",\n",
        "    \"friends\" : [ \"Jim\", \"Mary\", \"Jennifer\"]\n",
        "}\n",
        "return { \"how many friends\" : size($person.friends) }"
      ],
      "execution_count": null,
      "outputs": [
        {
          "output_type": "stream",
          "text": [
            "Took: 0.7013099193572998 ms\n",
            "{\"how many friends\": 3}\n"
          ],
          "name": "stdout"
        }
      ]
    },
    {
      "cell_type": "markdown",
      "metadata": {
        "id": "HnVfQuPYhrKY"
      },
      "source": [
        "Finally, the [] operator returns all elements in an array, as a sequence:"
      ]
    },
    {
      "cell_type": "code",
      "metadata": {
        "colab": {
          "base_uri": "https://localhost:8080/"
        },
        "id": "cnr5WXjohrKY",
        "outputId": "b6ac5240-9c48-44e6-9114-6274931ff5f7"
      },
      "source": [
        "%%rumble\n",
        "let $person := {\n",
        "    \"name\" : \"Sarah\",\n",
        "    \"age\" : 13,\n",
        "    \"gender\" : \"female\",\n",
        "    \"friends\" : [ \"Jim\", \"Mary\", \"Jennifer\"]\n",
        "}\n",
        "return $person.friends[]"
      ],
      "execution_count": null,
      "outputs": [
        {
          "output_type": "stream",
          "text": [
            "Took: 0.4843020439147949 ms\n",
            "\"Jim\"\n",
            "\"Mary\"\n",
            "\"Jennifer\"\n"
          ],
          "name": "stdout"
        }
      ]
    },
    {
      "cell_type": "markdown",
      "metadata": {
        "id": "kyzBECFMhrKY"
      },
      "source": [
        "### Relational Algebra\n",
        "\n",
        "Do you remember SQL's SELECT FROM WHERE statements? JSONiq inherits selection, projection and join capability from XQuery, too."
      ]
    },
    {
      "cell_type": "code",
      "metadata": {
        "colab": {
          "base_uri": "https://localhost:8080/"
        },
        "id": "nqHxqtoYhrKY",
        "outputId": "6546f3ee-fd42-428f-91b4-c2619c79c8ee"
      },
      "source": [
        "%%rumble\n",
        "let $stores :=\n",
        "[\n",
        "    { \"store number\" : 1, \"state\" : \"MA\" },\n",
        "    { \"store number\" : 2, \"state\" : \"MA\" },\n",
        "    { \"store number\" : 3, \"state\" : \"CA\" },\n",
        "    { \"store number\" : 4, \"state\" : \"CA\" }\n",
        "]\n",
        "let $sales := [\n",
        "    { \"product\" : \"broiler\", \"store number\" : 1, \"quantity\" : 20  },\n",
        "    { \"product\" : \"toaster\", \"store number\" : 2, \"quantity\" : 100 },\n",
        "    { \"product\" : \"toaster\", \"store number\" : 2, \"quantity\" : 50 },\n",
        "    { \"product\" : \"toaster\", \"store number\" : 3, \"quantity\" : 50 },\n",
        "    { \"product\" : \"blender\", \"store number\" : 3, \"quantity\" : 100 },\n",
        "    { \"product\" : \"blender\", \"store number\" : 3, \"quantity\" : 150 },\n",
        "    { \"product\" : \"socks\", \"store number\" : 1, \"quantity\" : 500 },\n",
        "    { \"product\" : \"socks\", \"store number\" : 2, \"quantity\" : 10 },\n",
        "    { \"product\" : \"shirt\", \"store number\" : 3, \"quantity\" : 10 }\n",
        "]\n",
        "let $join :=\n",
        "    for $store in $stores[], $sale in $sales[]\n",
        "    where $store.\"store number\" = $sale.\"store number\"\n",
        "    return {\n",
        "        \"nb\" : $store.\"store number\",\n",
        "        \"state\" : $store.state,\n",
        "        \"sold\" : $sale.product\n",
        "    }\n",
        "return [$join]"
      ],
      "execution_count": null,
      "outputs": [
        {
          "output_type": "stream",
          "text": [
            "Took: 0.581096887588501 ms\n",
            "[{\"nb\": 1, \"state\": \"MA\", \"sold\": \"broiler\"}, {\"nb\": 1, \"state\": \"MA\", \"sold\": \"socks\"}, {\"nb\": 2, \"state\": \"MA\", \"sold\": \"toaster\"}, {\"nb\": 2, \"state\": \"MA\", \"sold\": \"toaster\"}, {\"nb\": 2, \"state\": \"MA\", \"sold\": \"socks\"}, {\"nb\": 3, \"state\": \"CA\", \"sold\": \"toaster\"}, {\"nb\": 3, \"state\": \"CA\", \"sold\": \"blender\"}, {\"nb\": 3, \"state\": \"CA\", \"sold\": \"blender\"}, {\"nb\": 3, \"state\": \"CA\", \"sold\": \"shirt\"}]\n"
          ],
          "name": "stdout"
        }
      ]
    },
    {
      "cell_type": "markdown",
      "metadata": {
        "id": "Bj5MkqjYhrKY"
      },
      "source": [
        "### Access datasets\n",
        "\n",
        "Rumble can read input from many file systems and many file formats. If you are using our backend, you can only use json-doc() with any URI pointing to a JSON file and navigate it as you see fit. "
      ]
    },
    {
      "cell_type": "code",
      "metadata": {
        "colab": {
          "base_uri": "https://localhost:8080/"
        },
        "id": "IvKabTMohrKY",
        "outputId": "97c9b90b-80ce-4377-fef3-44f28247d79b"
      },
      "source": [
        "%%rumble\n",
        "json-doc(\"Put any HTTP URL pointing to a JSON document here!\").foo[[1]].bar.foobar[]"
      ],
      "execution_count": null,
      "outputs": [
        {
          "output_type": "stream",
          "text": [
            "Took: 0.7057881355285645 ms\n"
          ],
          "name": "stdout"
        },
        {
          "output_type": "execute_result",
          "data": {
            "text/plain": [
              "'There was an error.\\n\\nCode: [FODC0002] (this code can be looked up in the documentation and specifications).\\n\\nLocation information: wasb://rumbletest-2020-11-27t11-41-45-762z@rumbletesthdistorage.blob.core.windows.net/user/sshuser/:LINE:1:COLUMN:0:\\n\\nMalformed URI: Put any HTTP URL pointing to a JSON document here! Cause: Illegal character in path at index 3: Put any HTTP URL pointing to a JSON document here!'"
            ]
          },
          "metadata": {
            "tags": []
          },
          "execution_count": 44
        }
      ]
    },
    {
      "cell_type": "markdown",
      "metadata": {
        "id": "4ryDS6RGhrKY"
      },
      "source": [
        "If you are using your own Rumble server on your cluster, you can also use any other function and scheme."
      ]
    },
    {
      "cell_type": "code",
      "metadata": {
        "colab": {
          "base_uri": "https://localhost:8080/"
        },
        "id": "P100xHh4hrKY",
        "outputId": "fb2a4098-fe35-44ae-b763-fe3fcd8f3746"
      },
      "source": [
        "%%rumble\n",
        "json-file(\"put the path to a JSON lines file here. This will only work against your own Rumble backend and Spark cluster, though.\")"
      ],
      "execution_count": null,
      "outputs": [
        {
          "output_type": "stream",
          "text": [
            "Took: 0.6876459121704102 ms\n"
          ],
          "name": "stdout"
        },
        {
          "output_type": "execute_result",
          "data": {
            "text/plain": [
              "'There was an error.\\n\\nCode: [FODC0002] (this code can be looked up in the documentation and specifications).\\n\\nLocation information: wasb://rumbletest-2020-11-27t11-41-45-762z@rumbletesthdistorage.blob.core.windows.net/user/sshuser/:LINE:1:COLUMN:0:\\n\\nMalformed URI: put the path to a JSON lines file here. This will only work against your own Rumble backend and Spark cluster, though. Cause: Illegal character in path at index 3: put the path to a JSON lines file here. This will only work against your own Rumble backend and Spark cluster, though.'"
            ]
          },
          "metadata": {
            "tags": []
          },
          "execution_count": 45
        }
      ]
    },
    {
      "cell_type": "markdown",
      "metadata": {
        "cell_status": {
          "execute_time": {
            "duration": 44.55712890625,
            "end_time": 1557044256642.663
          }
        },
        "collapsed": true,
        "id": "YzHCdZ2Ld-kt"
      },
      "source": [
        "# 4. The Great Language Game\n",
        "\n",
        "This week you will be using again the [language confusion dataset](http://lars.yencken.org/datasets/languagegame/). You will write queries with Rumble. You will have to submit the results of this exercise to Moodle to obtain the weekly bonus. You will need these things:\n",
        "- The query you wrote\n",
        "- Something related to its output (which you will be graded on)\n",
        "- The time it took you to run it\n",
        "\n",
        "The execution time of the queries will be reported by Rumble.\n",
        "\n",
        "Download and decompress the dataset in the same folder as `spark-rumble-1.12.0.jar` with the following:\n",
        "```\n",
        "wget http://data.greatlanguagegame.com.s3.amazonaws.com/confusion-2014-03-02.tbz2\n",
        "tar -jxvf confusion-2014-03-02.tbz2\n",
        "```\n",
        "\n"
      ]
    },
    {
      "cell_type": "markdown",
      "metadata": {
        "id": "rUS6Y9IqDS4Y"
      },
      "source": [
        "Afterwards upload the data into HDFS\n",
        "\n",
        "```\n",
        "hadoop dfs -copyFromLocal confusion-2014-03-02 /tmp/\n",
        "```"
      ]
    },
    {
      "cell_type": "markdown",
      "metadata": {
        "id": "3Pcf7FL7Aetl"
      },
      "source": [
        "## 4.1 Query the data"
      ]
    },
    {
      "cell_type": "markdown",
      "metadata": {
        "id": "er5XQjCVd-kt"
      },
      "source": [
        "You can read data from a json file with `json-file`. For example, the following query will read and print the entries in the confusion dataset:\n",
        "\n",
        "\n"
      ]
    },
    {
      "cell_type": "code",
      "metadata": {
        "colab": {
          "base_uri": "https://localhost:8080/"
        },
        "id": "nPHu0ODR9vAE",
        "outputId": "155b6dae-f100-4551-b1c7-0101b86c69b0"
      },
      "source": [
        "%%rumble\n",
        "for $i in json-file(\"/tmp/confusion-2014-03-02/confusion-2014-03-02.json\")\n",
        "return $i"
      ],
      "execution_count": null,
      "outputs": [
        {
          "output_type": "stream",
          "text": [
            "Took: 61.91453313827515 ms\n",
            "\"Warning! The output sequence contains 16511224 items but its materialization was capped at 200 items. This value can be configured with the result-size parameter in the query string of the HTTP request.\"\n",
            "{\"guess\": \"Norwegian\", \"target\": \"Norwegian\", \"country\": \"AU\", \"choices\": [\"Maori\", \"Mandarin\", \"Norwegian\", \"Tongan\"], \"sample\": \"48f9c924e0d98c959d8a6f1862b3ce9a\", \"date\": \"2013-08-19\"}\n",
            "{\"guess\": \"Dinka\", \"target\": \"Dinka\", \"country\": \"AU\", \"choices\": [\"Danish\", \"Dinka\", \"Khmer\", \"Lao\"], \"sample\": \"af5e8f27cef9e689a070b8814dcc02c3\", \"date\": \"2013-08-19\"}\n",
            "{\"guess\": \"Turkish\", \"target\": \"Samoan\", \"country\": \"AU\", \"choices\": [\"German\", \"Hungarian\", \"Samoan\", \"Turkish\"], \"sample\": \"509c36eb58dbce009ccf93f375358d53\", \"date\": \"2013-08-19\"}\n",
            "{\"guess\": \"Latvian\", \"target\": \"Somali\", \"country\": \"AU\", \"choices\": [\"Danish\", \"Korean\", \"Latvian\", \"Somali\"], \"sample\": \"a505ab771ae7c32744ad31b3051b8ee9\", \"date\": \"2013-08-19\"}\n",
            "{\"guess\": \"Japanese\", \"target\": \"Japanese\", \"country\": \"AU\", \"choices\": [\"Bangla\", \"Dinka\", \"Italian\", \"Japanese\"], \"sample\": \"3569611136ea04bab18a0cd605ced358\", \"date\": \"2013-08-19\"}\n",
            "{\"guess\": \"Maltese\", \"target\": \"Turkish\", \"country\": \"AU\", \"choices\": [\"Hindi\", \"Lao\", \"Maltese\", \"Turkish\"], \"sample\": \"af0e25c7637fb0dcdc56fac6d49aa55e\", \"date\": \"2013-08-19\"}\n",
            "{\"guess\": \"French\", \"target\": \"French\", \"country\": \"AU\", \"choices\": [\"Burmese\", \"Danish\", \"French\", \"Swedish\"], \"sample\": \"92f9e1c17e6df988780527341fdb471d\", \"date\": \"2013-08-19\"}\n",
            "{\"guess\": \"German\", \"target\": \"German\", \"country\": \"AU\", \"choices\": [\"German\", \"Serbian\", \"Swedish\", \"Vietnamese\"], \"sample\": \"e77d97b712adffc39e531e20237a5589\", \"date\": \"2013-08-19\"}\n",
            "{\"guess\": \"Spanish\", \"target\": \"Spanish\", \"country\": \"AU\", \"choices\": [\"Amharic\", \"Czech\", \"Sinhalese\", \"Spanish\"], \"sample\": \"dc3ace49393de518e87d4f8d3ae8d9db\", \"date\": \"2013-08-19\"}\n",
            "{\"guess\": \"Romanian\", \"target\": \"Romanian\", \"country\": \"AU\", \"choices\": [\"Estonian\", \"Japanese\", \"Lao\", \"Romanian\"], \"sample\": \"903fc45cba5245f21deaaca3966f825b\", \"date\": \"2013-08-19\"}\n",
            "{\"guess\": \"Cantonese\", \"target\": \"Cantonese\", \"country\": \"AU\", \"choices\": [\"Burmese\", \"Cantonese\", \"Serbian\", \"Ukrainian\"], \"sample\": \"203628f42619d301e642b3553b7a684a\", \"date\": \"2013-08-19\"}\n",
            "{\"guess\": \"Amharic\", \"target\": \"Dinka\", \"country\": \"AU\", \"choices\": [\"Amharic\", \"Dinka\", \"Indonesian\", \"Thai\"], \"sample\": \"cd3dffdb83f221e09710cbfbcaffdb31\", \"date\": \"2013-08-19\"}\n",
            "{\"guess\": \"Assyrian\", \"target\": \"Assyrian\", \"country\": \"AU\", \"choices\": [\"Assyrian\", \"Finnish\", \"Norwegian\", \"Turkish\"], \"sample\": \"16ac545260ae198b7a3d882e06e5f261\", \"date\": \"2013-08-19\"}\n",
            "{\"guess\": \"Hebrew\", \"target\": \"Hebrew\", \"country\": \"AU\", \"choices\": [\"Hebrew\", \"Hindi\", \"Ukrainian\", \"Yiddish\"], \"sample\": \"1dc9a1bf90e4e788906dc716dc18d878\", \"date\": \"2013-08-19\"}\n",
            "{\"guess\": \"Kurdish\", \"target\": \"Kurdish\", \"country\": \"AU\", \"choices\": [\"Cantonese\", \"Kurdish\", \"Maltese\", \"Somali\"], \"sample\": \"9f849ff225f0d94a52c186924e225231\", \"date\": \"2013-08-19\"}\n",
            "{\"guess\": \"Italian\", \"target\": \"Italian\", \"country\": \"AU\", \"choices\": [\"Assyrian\", \"Dari\", \"Italian\", \"Khmer\"], \"sample\": \"88f3e5120091cffdf8abeb92b5da90a2\", \"date\": \"2013-08-19\"}\n",
            "{\"guess\": \"Maltese\", \"target\": \"Maltese\", \"country\": \"AU\", \"choices\": [\"Tagalog\", \"Japanese\", \"Maltese\", \"Tamil\"], \"sample\": \"589feca2e2009ad2e63458f17568cd13\", \"date\": \"2013-08-19\"}\n",
            "{\"guess\": \"Kannada\", \"target\": \"Kannada\", \"country\": \"AU\", \"choices\": [\"Italian\", \"Kannada\", \"Mandarin\", \"Serbian\"], \"sample\": \"c11a7723bd3fcd00e33e90c90a3492e5\", \"date\": \"2013-08-19\"}\n",
            "{\"guess\": \"Dinka\", \"target\": \"Dinka\", \"country\": \"AU\", \"choices\": [\"Amharic\", \"Dinka\", \"Mandarin\", \"Yiddish\"], \"sample\": \"cd3dffdb83f221e09710cbfbcaffdb31\", \"date\": \"2013-08-19\"}\n",
            "{\"guess\": \"German\", \"target\": \"German\", \"country\": \"AU\", \"choices\": [\"Assyrian\", \"Dinka\", \"Estonian\", \"German\"], \"sample\": \"78213fa858b9a45d83121a8bf71712d1\", \"date\": \"2013-08-19\"}\n",
            "{\"guess\": \"Hebrew\", \"target\": \"Hebrew\", \"country\": \"AU\", \"choices\": [\"Arabic\", \"Hebrew\", \"Hungarian\", \"Lao\"], \"sample\": \"1dc9a1bf90e4e788906dc716dc18d878\", \"date\": \"2013-08-19\"}\n",
            "{\"guess\": \"Croatian\", \"target\": \"Albanian\", \"country\": \"AU\", \"choices\": [\"Albanian\", \"Maori\", \"Croatian\", \"Indonesian\"], \"sample\": \"00b85faa8b878a14f8781be334deb137\", \"date\": \"2013-08-19\"}\n",
            "{\"guess\": \"Lao\", \"target\": \"Lao\", \"country\": \"AU\", \"choices\": [\"Assyrian\", \"Tagalog\", \"Lao\", \"Tongan\"], \"sample\": \"4cf041f244960196b98c7d6ae8c79ed3\", \"date\": \"2013-08-19\"}\n",
            "{\"guess\": \"Hungarian\", \"target\": \"Turkish\", \"country\": \"AU\", \"choices\": [\"Hungarian\", \"Swedish\", \"Thai\", \"Turkish\"], \"sample\": \"af0e25c7637fb0dcdc56fac6d49aa55e\", \"date\": \"2013-08-19\"}\n",
            "{\"guess\": \"Khmer\", \"target\": \"Swahili\", \"country\": \"AU\", \"choices\": [\"Bosnian\", \"Khmer\", \"Swahili\", \"Turkish\"], \"sample\": \"ac1275769d8aaf8758f95409271f8a2f\", \"date\": \"2013-08-19\"}\n",
            "{\"guess\": \"Vietnamese\", \"target\": \"Vietnamese\", \"country\": \"AU\", \"choices\": [\"Czech\", \"Japanese\", \"Tamil\", \"Vietnamese\"], \"sample\": \"8ea6892d1ddca321adc07b05176e3605\", \"date\": \"2013-08-19\"}\n",
            "{\"guess\": \"Portuguese\", \"target\": \"Portuguese\", \"country\": \"AU\", \"choices\": [\"Dari\", \"Hebrew\", \"Kurdish\", \"Portuguese\"], \"sample\": \"5fd851c9e87a6b9b9da9eb2ab0de6686\", \"date\": \"2013-08-19\"}\n",
            "{\"guess\": \"Nepali\", \"target\": \"Nepali\", \"country\": \"AU\", \"choices\": [\"Amharic\", \"Greek\", \"Nepali\", \"Ukrainian\"], \"sample\": \"faa86f6efaf2ee67f95239685d26fd88\", \"date\": \"2013-08-19\"}\n",
            "{\"guess\": \"Malayalam\", \"target\": \"Indonesian\", \"country\": \"AU\", \"choices\": [\"Bulgarian\", \"Indonesian\", \"Malayalam\", \"Russian\"], \"sample\": \"ff8fcb796b7fdc540dd567c144024f82\", \"date\": \"2013-08-19\"}\n",
            "{\"guess\": \"Finnish\", \"target\": \"Finnish\", \"country\": \"AU\", \"choices\": [\"Finnish\", \"Kurdish\", \"Turkish\", \"Yiddish\"], \"sample\": \"4a3dfa40ed621940a0a38408956b86e0\", \"date\": \"2013-08-19\"}\n",
            "{\"guess\": \"German\", \"target\": \"German\", \"country\": \"AU\", \"choices\": [\"German\", \"Hindi\", \"Somali\", \"Tamil\"], \"sample\": \"78213fa858b9a45d83121a8bf71712d1\", \"date\": \"2013-08-19\"}\n",
            "{\"guess\": \"Greek\", \"target\": \"Fijian\", \"country\": \"AU\", \"choices\": [\"Fijian\", \"Greek\", \"Mandarin\", \"Vietnamese\"], \"sample\": \"f53c7596c141ee6d5d2b3ab90361f802\", \"date\": \"2013-08-19\"}\n",
            "{\"guess\": \"Burmese\", \"target\": \"Burmese\", \"country\": \"AU\", \"choices\": [\"Burmese\", \"Danish\", \"French\", \"Kurdish\"], \"sample\": \"878d3d845ccb0859aa05e80e1d35730f\", \"date\": \"2013-08-19\"}\n",
            "{\"guess\": \"Turkish\", \"target\": \"Khmer\", \"country\": \"AU\", \"choices\": [\"Khmer\", \"Sinhalese\", \"Swahili\", \"Turkish\"], \"sample\": \"714795c596ef0639a385fe620d2c42ab\", \"date\": \"2013-08-19\"}\n",
            "{\"guess\": \"Fijian\", \"target\": \"Dinka\", \"country\": \"AU\", \"choices\": [\"Arabic\", \"Dinka\", \"Fijian\", \"Thai\"], \"sample\": \"192e7c59bb734ee762a323219846295b\", \"date\": \"2013-08-19\"}\n",
            "{\"guess\": \"Swahili\", \"target\": \"Swahili\", \"country\": \"AU\", \"choices\": [\"Hebrew\", \"Malay\", \"Swahili\", \"Swedish\"], \"sample\": \"1b959fe55794f6d4e1ea038bfe336759\", \"date\": \"2013-08-19\"}\n",
            "{\"guess\": \"Norwegian\", \"target\": \"Polish\", \"country\": \"AU\", \"choices\": [\"Indonesian\", \"Kannada\", \"Norwegian\", \"Polish\"], \"sample\": \"f1aac78bec424c4d6c716553719b0b70\", \"date\": \"2013-08-19\"}\n",
            "{\"guess\": \"Swedish\", \"target\": \"Dutch\", \"country\": \"AU\", \"choices\": [\"Burmese\", \"Cantonese\", \"Dutch\", \"Swedish\"], \"sample\": \"5cd22cbf16be1a93d304d589431c3ec3\", \"date\": \"2013-08-19\"}\n",
            "{\"guess\": \"Ukrainian\", \"target\": \"Albanian\", \"country\": \"AU\", \"choices\": [\"Albanian\", \"Bulgarian\", \"Japanese\", \"Ukrainian\"], \"sample\": \"efcd813daec1c836d9f030b30caa07ce\", \"date\": \"2013-08-19\"}\n",
            "{\"guess\": \"Hebrew\", \"target\": \"Hebrew\", \"country\": \"AU\", \"choices\": [\"Dinka\", \"Hebrew\", \"Hindi\", \"Vietnamese\"], \"sample\": \"157085744728e35079622c71804cf722\", \"date\": \"2013-08-19\"}\n",
            "{\"guess\": \"Slovenian\", \"target\": \"Norwegian\", \"country\": \"AU\", \"choices\": [\"Dinka\", \"Nepali\", \"Norwegian\", \"Slovenian\"], \"sample\": \"208e1606aa365f3ed573adc7111f58e9\", \"date\": \"2013-08-19\"}\n",
            "{\"guess\": \"Russian\", \"target\": \"Russian\", \"country\": \"AU\", \"choices\": [\"Lao\", \"Nepali\", \"Russian\", \"Tongan\"], \"sample\": \"8a59d48e99e8a1df7e366c4648095e27\", \"date\": \"2013-08-19\"}\n",
            "{\"guess\": \"Bulgarian\", \"target\": \"Albanian\", \"country\": \"AU\", \"choices\": [\"Albanian\", \"Bulgarian\", \"Russian\", \"Ukrainian\"], \"sample\": \"00b85faa8b878a14f8781be334deb137\", \"date\": \"2013-08-19\"}\n",
            "{\"guess\": \"Turkish\", \"target\": \"Dinka\", \"country\": \"AU\", \"choices\": [\"Dinka\", \"Mandarin\", \"Slovenian\", \"Turkish\"], \"sample\": \"cd3dffdb83f221e09710cbfbcaffdb31\", \"date\": \"2013-08-19\"}\n",
            "{\"guess\": \"Maltese\", \"target\": \"Maltese\", \"country\": \"AU\", \"choices\": [\"Maori\", \"French\", \"Maltese\", \"Vietnamese\"], \"sample\": \"36d2f4e9173e2d4cad8b8594310c856b\", \"date\": \"2013-08-19\"}\n",
            "{\"guess\": \"Urdu\", \"target\": \"Estonian\", \"country\": \"AU\", \"choices\": [\"Amharic\", \"Estonian\", \"Hebrew\", \"Urdu\"], \"sample\": \"5af9790de5ecef3853d6d89f8e75916c\", \"date\": \"2013-08-19\"}\n",
            "{\"guess\": \"Portuguese\", \"target\": \"Portuguese\", \"country\": \"AU\", \"choices\": [\"Dinka\", \"Finnish\", \"Gujarati\", \"Portuguese\"], \"sample\": \"5fd851c9e87a6b9b9da9eb2ab0de6686\", \"date\": \"2013-08-19\"}\n",
            "{\"guess\": \"Serbian\", \"target\": \"Serbian\", \"country\": \"AU\", \"choices\": [\"Bosnian\", \"Indonesian\", \"Romanian\", \"Serbian\"], \"sample\": \"ec4d6dad1be487091ec2b1b63820e329\", \"date\": \"2013-08-19\"}\n",
            "{\"guess\": \"Dinka\", \"target\": \"Samoan\", \"country\": \"AU\", \"choices\": [\"Amharic\", \"Arabic\", \"Dinka\", \"Samoan\"], \"sample\": \"509c36eb58dbce009ccf93f375358d53\", \"date\": \"2013-08-19\"}\n",
            "{\"guess\": \"Japanese\", \"target\": \"Japanese\", \"country\": \"AU\", \"choices\": [\"French\", \"Japanese\", \"Russian\", \"Ukrainian\"], \"sample\": \"3569611136ea04bab18a0cd605ced358\", \"date\": \"2013-08-19\"}\n",
            "{\"guess\": \"Tagalog\", \"target\": \"Tagalog\", \"country\": \"AU\", \"choices\": [\"Bulgarian\", \"Tagalog\", \"Greek\", \"Turkish\"], \"sample\": \"34df5eca0db3967da23f8a210337c9d6\", \"date\": \"2013-08-19\"}\n",
            "{\"guess\": \"Serbian\", \"target\": \"Serbian\", \"country\": \"AU\", \"choices\": [\"Khmer\", \"Latvian\", \"Serbian\", \"Vietnamese\"], \"sample\": \"ec4d6dad1be487091ec2b1b63820e329\", \"date\": \"2013-08-19\"}\n",
            "{\"guess\": \"Bulgarian\", \"target\": \"Russian\", \"country\": \"AU\", \"choices\": [\"Bulgarian\", \"Macedonian\", \"Russian\", \"Samoan\"], \"sample\": \"ff5b5a0d34c77d2e2027dad7e4deb094\", \"date\": \"2013-08-19\"}\n",
            "{\"guess\": \"Polish\", \"target\": \"Slovenian\", \"country\": \"AU\", \"choices\": [\"Bosnian\", \"Polish\", \"Sinhalese\", \"Slovenian\"], \"sample\": \"f2f07eb5c50e64c627f66566b3c7cc4a\", \"date\": \"2013-08-19\"}\n",
            "{\"guess\": \"Nepali\", \"target\": \"Dinka\", \"country\": \"AU\", \"choices\": [\"Danish\", \"Dinka\", \"Hebrew\", \"Nepali\"], \"sample\": \"192e7c59bb734ee762a323219846295b\", \"date\": \"2013-08-19\"}\n",
            "{\"guess\": \"Latvian\", \"target\": \"Latvian\", \"country\": \"AU\", \"choices\": [\"Dutch\", \"Italian\", \"Latvian\", \"Portuguese\"], \"sample\": \"5aea2b93784263ae4b5a2524ddebebb2\", \"date\": \"2013-08-19\"}\n",
            "{\"guess\": \"Hungarian\", \"target\": \"Czech\", \"country\": \"AU\", \"choices\": [\"Czech\", \"Estonian\", \"Hungarian\", \"Slovak\"], \"sample\": \"56626a14b479e47d5eb9568161dad285\", \"date\": \"2013-08-19\"}\n",
            "{\"guess\": \"Nepali\", \"target\": \"Nepali\", \"country\": \"AU\", \"choices\": [\"Croatian\", \"Hebrew\", \"Malay\", \"Nepali\"], \"sample\": \"faa86f6efaf2ee67f95239685d26fd88\", \"date\": \"2013-08-19\"}\n",
            "{\"guess\": \"Urdu\", \"target\": \"Urdu\", \"country\": \"AU\", \"choices\": [\"Kannada\", \"Korean\", \"Nepali\", \"Urdu\"], \"sample\": \"3520fdcdf2658685928fc37e72ab2134\", \"date\": \"2013-08-19\"}\n",
            "{\"guess\": \"Assyrian\", \"target\": \"Assyrian\", \"country\": \"AU\", \"choices\": [\"Assyrian\", \"Czech\", \"German\", \"Hungarian\"], \"sample\": \"a7d34c215264677c8385e90fa5363ec1\", \"date\": \"2013-08-19\"}\n",
            "{\"guess\": \"Swahili\", \"target\": \"Tigrinya\", \"country\": \"AU\", \"choices\": [\"Tagalog\", \"Greek\", \"Swahili\", \"Tigrinya\"], \"sample\": \"3ec316c78773bb826dd924926f5c0d07\", \"date\": \"2013-08-19\"}\n",
            "{\"guess\": \"Tamil\", \"target\": \"Tamil\", \"country\": \"AU\", \"choices\": [\"Estonian\", \"Malay\", \"Russian\", \"Tamil\"], \"sample\": \"cc305dcad696147e28c6f36615aa0952\", \"date\": \"2013-08-19\"}\n",
            "{\"guess\": \"Danish\", \"target\": \"Danish\", \"country\": \"AU\", \"choices\": [\"Danish\", \"Hebrew\", \"Korean\", \"Kurdish\"], \"sample\": \"5fdcb0979e1c546ea05d7bd780bd4bc3\", \"date\": \"2013-08-19\"}\n",
            "{\"guess\": \"Burmese\", \"target\": \"Burmese\", \"country\": \"AU\", \"choices\": [\"Burmese\", \"Danish\", \"Romanian\", \"Ukrainian\"], \"sample\": \"31cba304794d1828c93d7b3c63aa840a\", \"date\": \"2013-08-19\"}\n",
            "{\"guess\": \"Maltese\", \"target\": \"Maltese\", \"country\": \"AU\", \"choices\": [\"German\", \"Maltese\", \"Polish\", \"Sinhalese\"], \"sample\": \"36d2f4e9173e2d4cad8b8594310c856b\", \"date\": \"2013-08-19\"}\n",
            "{\"guess\": \"Maltese\", \"target\": \"Maltese\", \"country\": \"AU\", \"choices\": [\"Burmese\", \"Czech\", \"French\", \"Maltese\"], \"sample\": \"589feca2e2009ad2e63458f17568cd13\", \"date\": \"2013-08-19\"}\n",
            "{\"guess\": \"Dutch\", \"target\": \"Dutch\", \"country\": \"AU\", \"choices\": [\"Albanian\", \"Bangla\", \"Dutch\", \"Mandarin\"], \"sample\": \"bf0f1eec2e9f147aba20ea9b3e9564bb\", \"date\": \"2013-08-19\"}\n",
            "{\"guess\": \"Mandarin\", \"target\": \"Mandarin\", \"country\": \"AU\", \"choices\": [\"Czech\", \"Estonian\", \"Maltese\", \"Mandarin\"], \"sample\": \"01f51995ae86ff85e899d40768ab81a8\", \"date\": \"2013-08-19\"}\n",
            "{\"guess\": \"Estonian\", \"target\": \"Estonian\", \"country\": \"AU\", \"choices\": [\"Estonian\", \"Fijian\", \"Khmer\", \"Urdu\"], \"sample\": \"b7e986bd3a0d5fd1db661e3bedf36111\", \"date\": \"2013-08-19\"}\n",
            "{\"guess\": \"Serbian\", \"target\": \"Armenian\", \"country\": \"AU\", \"choices\": [\"Armenian\", \"Dutch\", \"Serbian\", \"Yiddish\"], \"sample\": \"d34689ff8c3532426256b0963d7df2bb\", \"date\": \"2013-08-19\"}\n",
            "{\"guess\": \"Indonesian\", \"target\": \"Indonesian\", \"country\": \"AU\", \"choices\": [\"French\", \"Indonesian\", \"Macedonian\", \"Romanian\"], \"sample\": \"ff8fcb796b7fdc540dd567c144024f82\", \"date\": \"2013-08-19\"}\n",
            "{\"guess\": \"Sinhalese\", \"target\": \"Sinhalese\", \"country\": \"AU\", \"choices\": [\"Latvian\", \"Mandarin\", \"Sinhalese\", \"Urdu\"], \"sample\": \"755de9092b301614712fae5e1d2d47d3\", \"date\": \"2013-08-19\"}\n",
            "{\"guess\": \"Bangla\", \"target\": \"Bangla\", \"country\": \"AU\", \"choices\": [\"Assyrian\", \"Bangla\", \"Danish\", \"Yiddish\"], \"sample\": \"b2132278200e1e601b6814a15fdabcc1\", \"date\": \"2013-08-19\"}\n",
            "{\"guess\": \"Spanish\", \"target\": \"Spanish\", \"country\": \"AU\", \"choices\": [\"Albanian\", \"Dinka\", \"Spanish\", \"Thai\"], \"sample\": \"c8f4f097079404bf9a0e94d604efd1d5\", \"date\": \"2013-08-19\"}\n",
            "{\"guess\": \"Italian\", \"target\": \"Italian\", \"country\": \"AU\", \"choices\": [\"Estonian\", \"Tagalog\", \"Italian\", \"Malayalam\"], \"sample\": \"88f3e5120091cffdf8abeb92b5da90a2\", \"date\": \"2013-08-19\"}\n",
            "{\"guess\": \"Arabic\", \"target\": \"Arabic\", \"country\": \"AU\", \"choices\": [\"Arabic\", \"Bulgarian\", \"Latvian\", \"Urdu\"], \"sample\": \"8903e496bf04c3a85a70e1dc5e0da5f1\", \"date\": \"2013-08-19\"}\n",
            "{\"guess\": \"Punjabi\", \"target\": \"Punjabi\", \"country\": \"AU\", \"choices\": [\"Armenian\", \"Punjabi\", \"Serbian\", \"Tongan\"], \"sample\": \"10ff356faf50696b30f8a58b9dd919b2\", \"date\": \"2013-08-19\"}\n",
            "{\"guess\": \"Hindi\", \"target\": \"Hindi\", \"country\": \"AU\", \"choices\": [\"Arabic\", \"Bulgarian\", \"Hindi\", \"Spanish\"], \"sample\": \"568bfed6715c43735f95faef578d7cd5\", \"date\": \"2013-08-19\"}\n",
            "{\"guess\": \"Dari\", \"target\": \"Dari\", \"country\": \"AU\", \"choices\": [\"Assyrian\", \"Dari\", \"Kannada\", \"Tamil\"], \"sample\": \"cad47cd466a2d8c25fa7a21c15cbb3cf\", \"date\": \"2013-08-19\"}\n",
            "{\"guess\": \"Tongan\", \"target\": \"Tongan\", \"country\": \"AU\", \"choices\": [\"Armenian\", \"Danish\", \"Khmer\", \"Tongan\"], \"sample\": \"838cfe7f928e1a41710e01b3ee12088f\", \"date\": \"2013-08-19\"}\n",
            "{\"guess\": \"Khmer\", \"target\": \"Khmer\", \"country\": \"AU\", \"choices\": [\"Dinka\", \"Italian\", \"Khmer\", \"Samoan\"], \"sample\": \"714795c596ef0639a385fe620d2c42ab\", \"date\": \"2013-08-19\"}\n",
            "{\"guess\": \"Romanian\", \"target\": \"Romanian\", \"country\": \"AU\", \"choices\": [\"Amharic\", \"Fijian\", \"Hindi\", \"Romanian\"], \"sample\": \"903fc45cba5245f21deaaca3966f825b\", \"date\": \"2013-08-19\"}\n",
            "{\"guess\": \"Malay\", \"target\": \"Malay\", \"country\": \"AU\", \"choices\": [\"Bosnian\", \"Cantonese\", \"Greek\", \"Malay\"], \"sample\": \"610d45322ed5aa122cf9b4a79d603781\", \"date\": \"2013-08-19\"}\n",
            "{\"guess\": \"Bangla\", \"target\": \"Bangla\", \"country\": \"AU\", \"choices\": [\"Bangla\", \"Burmese\", \"Dari\", \"Portuguese\"], \"sample\": \"b2132278200e1e601b6814a15fdabcc1\", \"date\": \"2013-08-19\"}\n",
            "{\"guess\": \"Hindi\", \"target\": \"Hindi\", \"country\": \"AU\", \"choices\": [\"Albanian\", \"Croatian\", \"Hindi\", \"Maltese\"], \"sample\": \"9dac641f173f2a225501e8e50fc4e66e\", \"date\": \"2013-08-19\"}\n",
            "{\"guess\": \"Romanian\", \"target\": \"Romanian\", \"country\": \"AU\", \"choices\": [\"Romanian\", \"Tamil\", \"Tongan\", \"Turkish\"], \"sample\": \"6560ff4ce0b53a1b0bad2e7734f52381\", \"date\": \"2013-08-19\"}\n",
            "{\"guess\": \"Lao\", \"target\": \"Lao\", \"country\": \"AU\", \"choices\": [\"French\", \"Lao\", \"Malay\", \"Portuguese\"], \"sample\": \"4cf041f244960196b98c7d6ae8c79ed3\", \"date\": \"2013-08-19\"}\n",
            "{\"guess\": \"Vietnamese\", \"target\": \"Vietnamese\", \"country\": \"AU\", \"choices\": [\"Hungarian\", \"Japanese\", \"Slovenian\", \"Vietnamese\"], \"sample\": \"8ea6892d1ddca321adc07b05176e3605\", \"date\": \"2013-08-19\"}\n",
            "{\"guess\": \"Tagalog\", \"target\": \"Tagalog\", \"country\": \"AU\", \"choices\": [\"Tagalog\", \"Lao\", \"Slovak\", \"Ukrainian\"], \"sample\": \"34df5eca0db3967da23f8a210337c9d6\", \"date\": \"2013-08-19\"}\n",
            "{\"guess\": \"Hungarian\", \"target\": \"Danish\", \"country\": \"AU\", \"choices\": [\"Danish\", \"Hungarian\", \"Korean\", \"Samoan\"], \"sample\": \"5fdcb0979e1c546ea05d7bd780bd4bc3\", \"date\": \"2013-08-19\"}\n",
            "{\"guess\": \"Polish\", \"target\": \"Slovenian\", \"country\": \"AU\", \"choices\": [\"Greek\", \"Korean\", \"Polish\", \"Slovenian\"], \"sample\": \"f2f07eb5c50e64c627f66566b3c7cc4a\", \"date\": \"2013-08-19\"}\n",
            "{\"guess\": \"Kannada\", \"target\": \"Kannada\", \"country\": \"AU\", \"choices\": [\"Arabic\", \"Bosnian\", \"Kannada\", \"Thai\"], \"sample\": \"cf08af2ccb8382aa6c624095ec4f93fb\", \"date\": \"2013-08-19\"}\n",
            "{\"guess\": \"Spanish\", \"target\": \"Spanish\", \"country\": \"AU\", \"choices\": [\"Maori\", \"Dari\", \"Korean\", \"Spanish\"], \"sample\": \"c8f4f097079404bf9a0e94d604efd1d5\", \"date\": \"2013-08-19\"}\n",
            "{\"guess\": \"Urdu\", \"target\": \"Armenian\", \"country\": \"AU\", \"choices\": [\"Armenian\", \"Hebrew\", \"Italian\", \"Urdu\"], \"sample\": \"b46fa4a310d337db8f055083c68ba863\", \"date\": \"2013-08-19\"}\n",
            "{\"guess\": \"Tagalog\", \"target\": \"Tongan\", \"country\": \"AU\", \"choices\": [\"Assyrian\", \"Tagalog\", \"Tongan\", \"Urdu\"], \"sample\": \"6ba74243165c6e7fb5255890b18f8807\", \"date\": \"2013-08-19\"}\n",
            "{\"guess\": \"Farsi\", \"target\": \"Farsi\", \"country\": \"AU\", \"choices\": [\"Korean\", \"Nepali\", \"Farsi\", \"Tongan\"], \"sample\": \"d7a4029f42521d56af05c9f947a516c1\", \"date\": \"2013-08-19\"}\n",
            "{\"guess\": \"Indonesian\", \"target\": \"Indonesian\", \"country\": \"AU\", \"choices\": [\"Croatian\", \"Indonesian\", \"Italian\", \"Japanese\"], \"sample\": \"ff8fcb796b7fdc540dd567c144024f82\", \"date\": \"2013-08-19\"}\n",
            "{\"guess\": \"Japanese\", \"target\": \"Japanese\", \"country\": \"AU\", \"choices\": [\"Japanese\", \"Malayalam\", \"Slovak\", \"Vietnamese\"], \"sample\": \"3569611136ea04bab18a0cd605ced358\", \"date\": \"2013-08-19\"}\n",
            "{\"guess\": \"Spanish\", \"target\": \"Spanish\", \"country\": \"AU\", \"choices\": [\"Arabic\", \"Dutch\", \"Spanish\", \"Yiddish\"], \"sample\": \"dc3ace49393de518e87d4f8d3ae8d9db\", \"date\": \"2013-08-19\"}\n",
            "{\"guess\": \"Khmer\", \"target\": \"Lao\", \"country\": \"AU\", \"choices\": [\"Assyrian\", \"Khmer\", \"Lao\", \"Punjabi\"], \"sample\": \"b5aa4ea31e44899dc4d58d4a35e05504\", \"date\": \"2013-08-19\"}\n",
            "{\"guess\": \"Spanish\", \"target\": \"Spanish\", \"country\": \"AU\", \"choices\": [\"Czech\", \"Indonesian\", \"Kurdish\", \"Spanish\"], \"sample\": \"dc3ace49393de518e87d4f8d3ae8d9db\", \"date\": \"2013-08-19\"}\n",
            "{\"guess\": \"Burmese\", \"target\": \"Fijian\", \"country\": \"AU\", \"choices\": [\"Burmese\", \"Fijian\", \"Kurdish\", \"Maltese\"], \"sample\": \"f53c7596c141ee6d5d2b3ab90361f802\", \"date\": \"2013-08-19\"}\n",
            "{\"guess\": \"Ukrainian\", \"target\": \"Ukrainian\", \"country\": \"AU\", \"choices\": [\"Czech\", \"Korean\", \"Lao\", \"Ukrainian\"], \"sample\": \"6d86f6da48a5d151593317f64da0421f\", \"date\": \"2013-08-19\"}\n",
            "{\"guess\": \"Indonesian\", \"target\": \"Indonesian\", \"country\": \"AU\", \"choices\": [\"Indonesian\", \"Macedonian\", \"Swedish\", \"Vietnamese\"], \"sample\": \"ff8fcb796b7fdc540dd567c144024f82\", \"date\": \"2013-08-19\"}\n",
            "{\"guess\": \"Farsi\", \"target\": \"Urdu\", \"country\": \"AU\", \"choices\": [\"Korean\", \"Latvian\", \"Farsi\", \"Urdu\"], \"sample\": \"3520fdcdf2658685928fc37e72ab2134\", \"date\": \"2013-08-19\"}\n",
            "{\"guess\": \"Italian\", \"target\": \"Greek\", \"country\": \"AU\", \"choices\": [\"Greek\", \"Italian\", \"Samoan\", \"Slovenian\"], \"sample\": \"0f43daadf6a1ce6d769fa0daa630b5f6\", \"date\": \"2013-08-19\"}\n",
            "{\"guess\": \"Mandarin\", \"target\": \"Mandarin\", \"country\": \"AU\", \"choices\": [\"Kannada\", \"Mandarin\", \"Somali\", \"Spanish\"], \"sample\": \"01f51995ae86ff85e899d40768ab81a8\", \"date\": \"2013-08-19\"}\n",
            "{\"guess\": \"Vietnamese\", \"target\": \"Vietnamese\", \"country\": \"AU\", \"choices\": [\"Hindi\", \"Romanian\", \"Tigrinya\", \"Vietnamese\"], \"sample\": \"3aab36435babaea46064d7f173bb0ba3\", \"date\": \"2013-08-19\"}\n",
            "{\"guess\": \"Polish\", \"target\": \"Maori\", \"country\": \"AU\", \"choices\": [\"Bangla\", \"Maori\", \"Indonesian\", \"Polish\"], \"sample\": \"1e94210c21a6af48b9c418a7d6380a1c\", \"date\": \"2013-08-19\"}\n",
            "{\"guess\": \"Hebrew\", \"target\": \"Hebrew\", \"country\": \"AU\", \"choices\": [\"Dari\", \"German\", \"Hebrew\", \"Italian\"], \"sample\": \"830854fd9c28424c604eaef2e97e61b3\", \"date\": \"2013-08-19\"}\n",
            "{\"guess\": \"Vietnamese\", \"target\": \"Vietnamese\", \"country\": \"AU\", \"choices\": [\"Bosnian\", \"Gujarati\", \"Spanish\", \"Vietnamese\"], \"sample\": \"3aab36435babaea46064d7f173bb0ba3\", \"date\": \"2013-08-19\"}\n",
            "{\"guess\": \"Russian\", \"target\": \"Russian\", \"country\": \"AU\", \"choices\": [\"Arabic\", \"Estonian\", \"Greek\", \"Russian\"], \"sample\": \"8a59d48e99e8a1df7e366c4648095e27\", \"date\": \"2013-08-19\"}\n",
            "{\"guess\": \"Punjabi\", \"target\": \"Hindi\", \"country\": \"AU\", \"choices\": [\"Amharic\", \"Bangla\", \"Hindi\", \"Punjabi\"], \"sample\": \"9dac641f173f2a225501e8e50fc4e66e\", \"date\": \"2013-08-19\"}\n",
            "{\"guess\": \"Spanish\", \"target\": \"Spanish\", \"country\": \"AU\", \"choices\": [\"Assyrian\", \"Tagalog\", \"Spanish\", \"Swedish\"], \"sample\": \"c8f4f097079404bf9a0e94d604efd1d5\", \"date\": \"2013-08-19\"}\n",
            "{\"guess\": \"Hebrew\", \"target\": \"Hebrew\", \"country\": \"AU\", \"choices\": [\"Estonian\", \"Hebrew\", \"Malayalam\", \"Swahili\"], \"sample\": \"830854fd9c28424c604eaef2e97e61b3\", \"date\": \"2013-08-19\"}\n",
            "{\"guess\": \"Arabic\", \"target\": \"Arabic\", \"country\": \"AU\", \"choices\": [\"Arabic\", \"Croatian\", \"Malay\", \"Serbian\"], \"sample\": \"8903e496bf04c3a85a70e1dc5e0da5f1\", \"date\": \"2013-08-19\"}\n",
            "{\"guess\": \"German\", \"target\": \"German\", \"country\": \"AU\", \"choices\": [\"Dinka\", \"German\", \"Hungarian\", \"Kurdish\"], \"sample\": \"78213fa858b9a45d83121a8bf71712d1\", \"date\": \"2013-08-19\"}\n",
            "{\"guess\": \"Urdu\", \"target\": \"Maltese\", \"country\": \"AU\", \"choices\": [\"Latvian\", \"Maltese\", \"Thai\", \"Urdu\"], \"sample\": \"36d2f4e9173e2d4cad8b8594310c856b\", \"date\": \"2013-08-19\"}\n",
            "{\"guess\": \"Gujarati\", \"target\": \"Gujarati\", \"country\": \"AU\", \"choices\": [\"Gujarati\", \"Sinhalese\", \"Slovenian\", \"Turkish\"], \"sample\": \"16d80eee6659268a90460422dd2a2896\", \"date\": \"2013-08-19\"}\n",
            "{\"guess\": \"Urdu\", \"target\": \"Yiddish\", \"country\": \"AU\", \"choices\": [\"Maori\", \"Finnish\", \"Urdu\", \"Yiddish\"], \"sample\": \"491ce6f2acb4a588a4e6ff3570d429a5\", \"date\": \"2013-08-19\"}\n",
            "{\"guess\": \"Mandarin\", \"target\": \"Mandarin\", \"country\": \"AU\", \"choices\": [\"Assyrian\", \"Bosnian\", \"Mandarin\", \"Yiddish\"], \"sample\": \"fc3712715ddc748286256eb7a64f25ab\", \"date\": \"2013-08-19\"}\n",
            "{\"guess\": \"Spanish\", \"target\": \"Spanish\", \"country\": \"AU\", \"choices\": [\"Italian\", \"Macedonian\", \"Punjabi\", \"Spanish\"], \"sample\": \"d8d9dfa02ff280d107d54fd8f19ab5bb\", \"date\": \"2013-08-19\"}\n",
            "{\"guess\": \"Danish\", \"target\": \"Danish\", \"country\": \"AU\", \"choices\": [\"Maori\", \"Danish\", \"Hebrew\", \"Punjabi\"], \"sample\": \"5fdcb0979e1c546ea05d7bd780bd4bc3\", \"date\": \"2013-08-19\"}\n",
            "{\"guess\": \"Serbian\", \"target\": \"Macedonian\", \"country\": \"AU\", \"choices\": [\"Khmer\", \"Macedonian\", \"Serbian\", \"Ukrainian\"], \"sample\": \"968e9c700742f65c43ad3cb99209e787\", \"date\": \"2013-08-19\"}\n",
            "{\"guess\": \"Greek\", \"target\": \"Greek\", \"country\": \"AU\", \"choices\": [\"Arabic\", \"Bangla\", \"Danish\", \"Greek\"], \"sample\": \"17527de743e8a5b5c339fb8ff117f65b\", \"date\": \"2013-08-19\"}\n",
            "{\"guess\": \"Sinhalese\", \"target\": \"Sinhalese\", \"country\": \"AU\", \"choices\": [\"Maori\", \"Gujarati\", \"Punjabi\", \"Sinhalese\"], \"sample\": \"755de9092b301614712fae5e1d2d47d3\", \"date\": \"2013-08-19\"}\n",
            "{\"guess\": \"Bosnian\", \"target\": \"Maltese\", \"country\": \"AU\", \"choices\": [\"Bosnian\", \"Hungarian\", \"Japanese\", \"Maltese\"], \"sample\": \"589feca2e2009ad2e63458f17568cd13\", \"date\": \"2013-08-19\"}\n",
            "{\"guess\": \"Mandarin\", \"target\": \"Mandarin\", \"country\": \"AU\", \"choices\": [\"Greek\", \"Gujarati\", \"Mandarin\", \"Slovenian\"], \"sample\": \"01f51995ae86ff85e899d40768ab81a8\", \"date\": \"2013-08-19\"}\n",
            "{\"guess\": \"Tamil\", \"target\": \"Tamil\", \"country\": \"AU\", \"choices\": [\"Czech\", \"Somali\", \"Tamil\", \"Turkish\"], \"sample\": \"cc305dcad696147e28c6f36615aa0952\", \"date\": \"2013-08-19\"}\n",
            "{\"guess\": \"Portuguese\", \"target\": \"Portuguese\", \"country\": \"AU\", \"choices\": [\"Bosnian\", \"Latvian\", \"Portuguese\", \"Sinhalese\"], \"sample\": \"439672210d1feb96e012590ff2a73590\", \"date\": \"2013-08-19\"}\n",
            "{\"guess\": \"Tongan\", \"target\": \"Tongan\", \"country\": \"AU\", \"choices\": [\"Italian\", \"Lao\", \"Farsi\", \"Tongan\"], \"sample\": \"838cfe7f928e1a41710e01b3ee12088f\", \"date\": \"2013-08-19\"}\n",
            "{\"guess\": \"Slovenian\", \"target\": \"Albanian\", \"country\": \"AU\", \"choices\": [\"Albanian\", \"German\", \"Slovenian\", \"Swahili\"], \"sample\": \"efcd813daec1c836d9f030b30caa07ce\", \"date\": \"2013-08-19\"}\n",
            "{\"guess\": \"Gujarati\", \"target\": \"Gujarati\", \"country\": \"AU\", \"choices\": [\"Gujarati\", \"Hebrew\", \"Somali\", \"Yiddish\"], \"sample\": \"16d80eee6659268a90460422dd2a2896\", \"date\": \"2013-08-19\"}\n",
            "{\"guess\": \"Czech\", \"target\": \"Swedish\", \"country\": \"AU\", \"choices\": [\"Czech\", \"Farsi\", \"Russian\", \"Swedish\"], \"sample\": \"dfe8192c1bbd80b44ea4409d9889dc90\", \"date\": \"2013-08-19\"}\n",
            "{\"guess\": \"Kannada\", \"target\": \"Farsi\", \"country\": \"AU\", \"choices\": [\"Hindi\", \"Kannada\", \"Farsi\", \"Turkish\"], \"sample\": \"70154ea13cf1c633cfe62d44919a347c\", \"date\": \"2013-08-19\"}\n",
            "{\"guess\": \"Khmer\", \"target\": \"Khmer\", \"country\": \"AU\", \"choices\": [\"Bangla\", \"Estonian\", \"Italian\", \"Khmer\"], \"sample\": \"714795c596ef0639a385fe620d2c42ab\", \"date\": \"2013-08-19\"}\n",
            "{\"guess\": \"German\", \"target\": \"Danish\", \"country\": \"AU\", \"choices\": [\"Danish\", \"German\", \"Russian\", \"Turkish\"], \"sample\": \"5fdcb0979e1c546ea05d7bd780bd4bc3\", \"date\": \"2013-08-19\"}\n",
            "{\"guess\": \"Korean\", \"target\": \"Korean\", \"country\": \"AU\", \"choices\": [\"Assyrian\", \"Korean\", \"Serbian\", \"Somali\"], \"sample\": \"ec371adb75ab6c7431adae3ef8fc9fc9\", \"date\": \"2013-08-19\"}\n",
            "{\"guess\": \"Fijian\", \"target\": \"Fijian\", \"country\": \"AU\", \"choices\": [\"Cantonese\", \"Fijian\", \"Slovak\", \"Somali\"], \"sample\": \"93b8857d01978401e679f0bde0a7b5b0\", \"date\": \"2013-08-19\"}\n",
            "{\"guess\": \"Portuguese\", \"target\": \"Portuguese\", \"country\": \"AU\", \"choices\": [\"Tagalog\", \"Maltese\", \"Portuguese\", \"Sinhalese\"], \"sample\": \"439672210d1feb96e012590ff2a73590\", \"date\": \"2013-08-19\"}\n",
            "{\"guess\": \"Japanese\", \"target\": \"Japanese\", \"country\": \"AU\", \"choices\": [\"Bulgarian\", \"French\", \"Japanese\", \"Punjabi\"], \"sample\": \"3569611136ea04bab18a0cd605ced358\", \"date\": \"2013-08-19\"}\n",
            "{\"guess\": \"Khmer\", \"target\": \"Khmer\", \"country\": \"AU\", \"choices\": [\"Bangla\", \"Khmer\", \"Kurdish\", \"Latvian\"], \"sample\": \"84f7df7508e423234fd1adec4f84e528\", \"date\": \"2013-08-19\"}\n",
            "{\"guess\": \"Estonian\", \"target\": \"Dutch\", \"country\": \"AU\", \"choices\": [\"Dutch\", \"Estonian\", \"Hungarian\", \"Swedish\"], \"sample\": \"bf0f1eec2e9f147aba20ea9b3e9564bb\", \"date\": \"2013-08-19\"}\n",
            "{\"guess\": \"Spanish\", \"target\": \"Spanish\", \"country\": \"AU\", \"choices\": [\"Dinka\", \"Hungarian\", \"Spanish\", \"Thai\"], \"sample\": \"dc3ace49393de518e87d4f8d3ae8d9db\", \"date\": \"2013-08-19\"}\n",
            "{\"guess\": \"Cantonese\", \"target\": \"Cantonese\", \"country\": \"AU\", \"choices\": [\"Bangla\", \"Cantonese\", \"Malay\", \"Somali\"], \"sample\": \"78e21624c41e6efc3ac790735180615d\", \"date\": \"2013-08-19\"}\n",
            "{\"guess\": \"Turkish\", \"target\": \"Latvian\", \"country\": \"AU\", \"choices\": [\"Cantonese\", \"Latvian\", \"Tamil\", \"Turkish\"], \"sample\": \"447bcafdbe5d7d69e0db72ab5bfa043a\", \"date\": \"2013-08-19\"}\n",
            "{\"guess\": \"Bulgarian\", \"target\": \"Bulgarian\", \"country\": \"AU\", \"choices\": [\"Assyrian\", \"Bulgarian\", \"Indonesian\", \"Khmer\"], \"sample\": \"69a5c674fe40942aaae4d10c9df46ee0\", \"date\": \"2013-08-19\"}\n",
            "{\"guess\": \"Polish\", \"target\": \"Polish\", \"country\": \"AU\", \"choices\": [\"Italian\", \"Korean\", \"Latvian\", \"Polish\"], \"sample\": \"98890a26d68bcf75f6087566971f126f\", \"date\": \"2013-08-19\"}\n",
            "{\"guess\": \"Farsi\", \"target\": \"Slovak\", \"country\": \"AU\", \"choices\": [\"Amharic\", \"Maltese\", \"Farsi\", \"Slovak\"], \"sample\": \"2c5efbd7364036976ec403a9ee36f614\", \"date\": \"2013-08-19\"}\n",
            "{\"guess\": \"Latvian\", \"target\": \"Latvian\", \"country\": \"AU\", \"choices\": [\"Bulgarian\", \"Maori\", \"Latvian\", \"Russian\"], \"sample\": \"447bcafdbe5d7d69e0db72ab5bfa043a\", \"date\": \"2013-08-19\"}\n",
            "{\"guess\": \"Malay\", \"target\": \"Malay\", \"country\": \"AU\", \"choices\": [\"Albanian\", \"Amharic\", \"Malay\", \"Tongan\"], \"sample\": \"6650448a5456ba88ea0971f2265f2bc7\", \"date\": \"2013-08-19\"}\n",
            "{\"guess\": \"Khmer\", \"target\": \"Khmer\", \"country\": \"AU\", \"choices\": [\"Dinka\", \"Khmer\", \"Polish\", \"Urdu\"], \"sample\": \"84f7df7508e423234fd1adec4f84e528\", \"date\": \"2013-08-19\"}\n",
            "{\"guess\": \"Farsi\", \"target\": \"Armenian\", \"country\": \"AU\", \"choices\": [\"Armenian\", \"Dinka\", \"Farsi\", \"Portuguese\"], \"sample\": \"e4588d7c735b9a87d93ada6d24a7bd53\", \"date\": \"2013-08-19\"}\n",
            "{\"guess\": \"Romanian\", \"target\": \"Romanian\", \"country\": \"AU\", \"choices\": [\"Tagalog\", \"French\", \"Hebrew\", \"Romanian\"], \"sample\": \"6560ff4ce0b53a1b0bad2e7734f52381\", \"date\": \"2013-08-19\"}\n",
            "{\"guess\": \"Burmese\", \"target\": \"Dinka\", \"country\": \"AU\", \"choices\": [\"Burmese\", \"Dinka\", \"Greek\", \"Indonesian\"], \"sample\": \"192e7c59bb734ee762a323219846295b\", \"date\": \"2013-08-19\"}\n",
            "{\"guess\": \"Gujarati\", \"target\": \"Gujarati\", \"country\": \"AU\", \"choices\": [\"Cantonese\", \"Gujarati\", \"Italian\", \"Sinhalese\"], \"sample\": \"56ecf19cff578aa76b81edb580ff343f\", \"date\": \"2013-08-19\"}\n",
            "{\"guess\": \"Mandarin\", \"target\": \"Mandarin\", \"country\": \"AU\", \"choices\": [\"Armenian\", \"Finnish\", \"Italian\", \"Mandarin\"], \"sample\": \"fc3712715ddc748286256eb7a64f25ab\", \"date\": \"2013-08-19\"}\n",
            "{\"guess\": \"Japanese\", \"target\": \"Japanese\", \"country\": \"AU\", \"choices\": [\"Japanese\", \"Sinhalese\", \"Swahili\", \"Vietnamese\"], \"sample\": \"3569611136ea04bab18a0cd605ced358\", \"date\": \"2013-08-19\"}\n",
            "{\"guess\": \"Tongan\", \"target\": \"Tongan\", \"country\": \"AU\", \"choices\": [\"Dinka\", \"Samoan\", \"Somali\", \"Tongan\"], \"sample\": \"838cfe7f928e1a41710e01b3ee12088f\", \"date\": \"2013-08-19\"}\n",
            "{\"guess\": \"Nepali\", \"target\": \"Nepali\", \"country\": \"AU\", \"choices\": [\"Bulgarian\", \"Mandarin\", \"Nepali\", \"Tamil\"], \"sample\": \"faa86f6efaf2ee67f95239685d26fd88\", \"date\": \"2013-08-19\"}\n",
            "{\"guess\": \"Estonian\", \"target\": \"Maori\", \"country\": \"AU\", \"choices\": [\"Maori\", \"Estonian\", \"Nepali\", \"Portuguese\"], \"sample\": \"1e94210c21a6af48b9c418a7d6380a1c\", \"date\": \"2013-08-19\"}\n",
            "{\"guess\": \"Latvian\", \"target\": \"Sinhalese\", \"country\": \"AU\", \"choices\": [\"Danish\", \"Latvian\", \"Norwegian\", \"Sinhalese\"], \"sample\": \"c4d4db8bf910cf4350fc87b3f3667976\", \"date\": \"2013-08-19\"}\n",
            "{\"guess\": \"Nepali\", \"target\": \"Nepali\", \"country\": \"AU\", \"choices\": [\"Indonesian\", \"Nepali\", \"Sinhalese\", \"Turkish\"], \"sample\": \"e178a0abbbb171d9b785d8350a45f203\", \"date\": \"2013-08-19\"}\n",
            "{\"guess\": \"Norwegian\", \"target\": \"Norwegian\", \"country\": \"AU\", \"choices\": [\"Dutch\", \"Hindi\", \"Lao\", \"Norwegian\"], \"sample\": \"48f9c924e0d98c959d8a6f1862b3ce9a\", \"date\": \"2013-08-20\"}\n",
            "{\"guess\": \"Hebrew\", \"target\": \"Hebrew\", \"country\": \"AU\", \"choices\": [\"Finnish\", \"Hebrew\", \"Malay\", \"Urdu\"], \"sample\": \"1dc9a1bf90e4e788906dc716dc18d878\", \"date\": \"2013-08-20\"}\n",
            "{\"guess\": \"Ukrainian\", \"target\": \"Ukrainian\", \"country\": \"AU\", \"choices\": [\"Dutch\", \"Finnish\", \"Ukrainian\", \"Yiddish\"], \"sample\": \"064ca74dff16ce8dade4a7acdc0def8a\", \"date\": \"2013-08-20\"}\n",
            "{\"guess\": \"Vietnamese\", \"target\": \"Vietnamese\", \"country\": \"AU\", \"choices\": [\"Arabic\", \"Korean\", \"Punjabi\", \"Vietnamese\"], \"sample\": \"8ea6892d1ddca321adc07b05176e3605\", \"date\": \"2013-08-20\"}\n",
            "{\"guess\": \"Dutch\", \"target\": \"Dutch\", \"country\": \"AU\", \"choices\": [\"Dutch\", \"French\", \"Kannada\", \"Serbian\"], \"sample\": \"bf0f1eec2e9f147aba20ea9b3e9564bb\", \"date\": \"2013-08-20\"}\n",
            "{\"guess\": \"Portuguese\", \"target\": \"Portuguese\", \"country\": \"AU\", \"choices\": [\"Cantonese\", \"Polish\", \"Portuguese\", \"Punjabi\"], \"sample\": \"5fd851c9e87a6b9b9da9eb2ab0de6686\", \"date\": \"2013-08-20\"}\n",
            "{\"guess\": \"Dari\", \"target\": \"Serbian\", \"country\": \"AU\", \"choices\": [\"Dari\", \"Serbian\", \"Sinhalese\", \"Vietnamese\"], \"sample\": \"0d5b697ebb326b5043ce7fa60a7b968d\", \"date\": \"2013-08-20\"}\n",
            "{\"guess\": \"Nepali\", \"target\": \"Nepali\", \"country\": \"AU\", \"choices\": [\"French\", \"Kannada\", \"Nepali\", \"Sinhalese\"], \"sample\": \"e178a0abbbb171d9b785d8350a45f203\", \"date\": \"2013-08-20\"}\n",
            "{\"guess\": \"Czech\", \"target\": \"Czech\", \"country\": \"AU\", \"choices\": [\"Amharic\", \"Czech\", \"Korean\", \"Macedonian\"], \"sample\": \"9769bab1b0b25eb730c704ef42a3e7a6\", \"date\": \"2013-08-20\"}\n",
            "{\"guess\": \"Kurdish\", \"target\": \"Kurdish\", \"country\": \"AU\", \"choices\": [\"Kannada\", \"Kurdish\", \"Latvian\", \"Tongan\"], \"sample\": \"8df0a7cae5bb52d889fdbab7def4b5aa\", \"date\": \"2013-08-20\"}\n",
            "{\"guess\": \"Czech\", \"target\": \"Czech\", \"country\": \"AU\", \"choices\": [\"Maori\", \"Czech\", \"Kurdish\", \"Tongan\"], \"sample\": \"1787b5c79a00b3513ce76847bc1f5b75\", \"date\": \"2013-08-20\"}\n",
            "{\"guess\": \"Latvian\", \"target\": \"Latvian\", \"country\": \"AU\", \"choices\": [\"Tagalog\", \"French\", \"Latvian\", \"Slovenian\"], \"sample\": \"447bcafdbe5d7d69e0db72ab5bfa043a\", \"date\": \"2013-08-20\"}\n",
            "{\"guess\": \"Swedish\", \"target\": \"Swedish\", \"country\": \"AU\", \"choices\": [\"Lao\", \"Maltese\", \"Swedish\", \"Ukrainian\"], \"sample\": \"dfe8192c1bbd80b44ea4409d9889dc90\", \"date\": \"2013-08-20\"}\n",
            "{\"guess\": \"Khmer\", \"target\": \"Burmese\", \"country\": \"AU\", \"choices\": [\"Assyrian\", \"Burmese\", \"Khmer\", \"Russian\"], \"sample\": \"31cba304794d1828c93d7b3c63aa840a\", \"date\": \"2013-08-20\"}\n",
            "{\"guess\": \"Malay\", \"target\": \"Japanese\", \"country\": \"AU\", \"choices\": [\"Japanese\", \"Malay\", \"Maltese\", \"Ukrainian\"], \"sample\": \"3569611136ea04bab18a0cd605ced358\", \"date\": \"2013-08-20\"}\n",
            "{\"guess\": \"Amharic\", \"target\": \"Maori\", \"country\": \"AU\", \"choices\": [\"Amharic\", \"Maori\", \"German\", \"Kannada\"], \"sample\": \"1e94210c21a6af48b9c418a7d6380a1c\", \"date\": \"2013-08-20\"}\n",
            "{\"guess\": \"Turkish\", \"target\": \"Turkish\", \"country\": \"AU\", \"choices\": [\"Finnish\", \"Somali\", \"Turkish\", \"Urdu\"], \"sample\": \"752c4c30d475748a342c68ebfba24d1e\", \"date\": \"2013-08-20\"}\n",
            "{\"guess\": \"Somali\", \"target\": \"Fijian\", \"country\": \"AU\", \"choices\": [\"Burmese\", \"Czech\", \"Fijian\", \"Somali\"], \"sample\": \"93b8857d01978401e679f0bde0a7b5b0\", \"date\": \"2013-08-20\"}\n",
            "{\"guess\": \"Tamil\", \"target\": \"Sinhalese\", \"country\": \"AU\", \"choices\": [\"Gujarati\", \"Norwegian\", \"Sinhalese\", \"Tamil\"], \"sample\": \"755de9092b301614712fae5e1d2d47d3\", \"date\": \"2013-08-20\"}\n",
            "{\"guess\": \"Nepali\", \"target\": \"Cantonese\", \"country\": \"AU\", \"choices\": [\"Cantonese\", \"Dari\", \"Nepali\", \"Spanish\"], \"sample\": \"da6ed723fe60684a231c3e22a42610a7\", \"date\": \"2013-08-20\"}\n",
            "{\"guess\": \"Arabic\", \"target\": \"Arabic\", \"country\": \"AU\", \"choices\": [\"Arabic\", \"Cantonese\", \"Maltese\", \"Samoan\"], \"sample\": \"83c6ffcb085ce9c18c0e2aff00dda865\", \"date\": \"2013-08-20\"}\n",
            "{\"guess\": \"Amharic\", \"target\": \"Amharic\", \"country\": \"AU\", \"choices\": [\"Amharic\", \"Cantonese\", \"Fijian\", \"Kurdish\"], \"sample\": \"50a52cc16828c9cd27b9c26c75974e6d\", \"date\": \"2013-08-20\"}\n",
            "{\"guess\": \"Hungarian\", \"target\": \"Latvian\", \"country\": \"AU\", \"choices\": [\"Tagalog\", \"Hebrew\", \"Hungarian\", \"Latvian\"], \"sample\": \"5e609abac81edbf76a58bc1d2a850f12\", \"date\": \"2013-08-20\"}\n",
            "{\"guess\": \"Gujarati\", \"target\": \"Sinhalese\", \"country\": \"AU\", \"choices\": [\"Tagalog\", \"Gujarati\", \"Portuguese\", \"Sinhalese\"], \"sample\": \"650061b92e1bf9fc20bc9757f333ddbb\", \"date\": \"2013-08-20\"}\n",
            "{\"guess\": \"Gujarati\", \"target\": \"Latvian\", \"country\": \"AU\", \"choices\": [\"Gujarati\", \"Latvian\", \"Russian\", \"Tamil\"], \"sample\": \"447bcafdbe5d7d69e0db72ab5bfa043a\", \"date\": \"2013-08-20\"}\n",
            "{\"guess\": \"Spanish\", \"target\": \"Spanish\", \"country\": \"AU\", \"choices\": [\"Dari\", \"Tagalog\", \"Slovenian\", \"Spanish\"], \"sample\": \"dc3ace49393de518e87d4f8d3ae8d9db\", \"date\": \"2013-08-20\"}\n",
            "{\"guess\": \"Farsi\", \"target\": \"Farsi\", \"country\": \"AU\", \"choices\": [\"Czech\", \"Dinka\", \"Farsi\", \"Somali\"], \"sample\": \"c73ee42a45debb00fbcc86eb29682757\", \"date\": \"2013-08-20\"}\n",
            "{\"guess\": \"Nepali\", \"target\": \"Nepali\", \"country\": \"AU\", \"choices\": [\"Bosnian\", \"Estonian\", \"Kurdish\", \"Nepali\"], \"sample\": \"faa86f6efaf2ee67f95239685d26fd88\", \"date\": \"2013-08-20\"}\n",
            "{\"guess\": \"Tamil\", \"target\": \"Tamil\", \"country\": \"AU\", \"choices\": [\"Assyrian\", \"Bangla\", \"Nepali\", \"Tamil\"], \"sample\": \"cc305dcad696147e28c6f36615aa0952\", \"date\": \"2013-08-20\"}\n",
            "{\"guess\": \"Estonian\", \"target\": \"Ukrainian\", \"country\": \"AU\", \"choices\": [\"Armenian\", \"Dutch\", \"Estonian\", \"Ukrainian\"], \"sample\": \"064ca74dff16ce8dade4a7acdc0def8a\", \"date\": \"2013-08-20\"}\n",
            "{\"guess\": \"Khmer\", \"target\": \"Khmer\", \"country\": \"AU\", \"choices\": [\"Estonian\", \"Khmer\", \"Latvian\", \"Thai\"], \"sample\": \"714795c596ef0639a385fe620d2c42ab\", \"date\": \"2013-08-20\"}\n",
            "{\"guess\": \"Portuguese\", \"target\": \"Romanian\", \"country\": \"AU\", \"choices\": [\"Mandarin\", \"Polish\", \"Portuguese\", \"Romanian\"], \"sample\": \"6560ff4ce0b53a1b0bad2e7734f52381\", \"date\": \"2013-08-20\"}\n",
            "{\"guess\": \"French\", \"target\": \"French\", \"country\": \"AU\", \"choices\": [\"Croatian\", \"Dinka\", \"French\", \"Hungarian\"], \"sample\": \"92f9e1c17e6df988780527341fdb471d\", \"date\": \"2013-08-20\"}\n",
            "{\"guess\": \"Maltese\", \"target\": \"Maltese\", \"country\": \"AU\", \"choices\": [\"Khmer\", \"Maltese\", \"Norwegian\", \"Swedish\"], \"sample\": \"589feca2e2009ad2e63458f17568cd13\", \"date\": \"2013-08-20\"}\n",
            "{\"guess\": \"Hebrew\", \"target\": \"Hebrew\", \"country\": \"AU\", \"choices\": [\"Fijian\", \"Hebrew\", \"Samoan\", \"Ukrainian\"], \"sample\": \"1dc9a1bf90e4e788906dc716dc18d878\", \"date\": \"2013-08-20\"}\n",
            "{\"guess\": \"Sinhalese\", \"target\": \"Dinka\", \"country\": \"AU\", \"choices\": [\"Dinka\", \"Norwegian\", \"Sinhalese\", \"Urdu\"], \"sample\": \"192e7c59bb734ee762a323219846295b\", \"date\": \"2013-08-20\"}\n",
            "{\"guess\": \"Spanish\", \"target\": \"Bosnian\", \"country\": \"AU\", \"choices\": [\"Bosnian\", \"Latvian\", \"Spanish\", \"Vietnamese\"], \"sample\": \"421df072ac5abde4883d50b1fc789b14\", \"date\": \"2013-08-20\"}\n"
          ],
          "name": "stdout"
        }
      ]
    },
    {
      "cell_type": "markdown",
      "metadata": {
        "id": "WyH8y0nR9vXg"
      },
      "source": [
        "Note that you have to press enter once at the end of each line and two more times to execute the query if you are using the **shell**. Your sparksoniq shell should look like this:\n",
        "```\n",
        "jiqs$ for $i in json-file(\"confusion-2014-03-02/confusion-2014-03-02.json\")\n",
        ">>> return $i\n",
        ">>> \n",
        ">>> \n",
        "```\n",
        "\n"
      ]
    },
    {
      "cell_type": "markdown",
      "metadata": {
        "id": "a1ovg4Ga9xVp"
      },
      "source": [
        "After the results of your query are printed, Rumble will report the execution runtime in milliseconds:\n",
        "```\n",
        "Took: 62.02618598937988 ms\n",
        "```\n",
        "\n",
        "In the `json-file` method you can optionally specify the number of partitions, which may allow your query to be parallelized and executed faster. For example:\n"
      ]
    },
    {
      "cell_type": "code",
      "metadata": {
        "colab": {
          "base_uri": "https://localhost:8080/"
        },
        "id": "8G7eI0UE93BH",
        "outputId": "ae02d63f-9909-47e7-e5a9-de54ea7fac1f"
      },
      "source": [
        "%%rumble\n",
        "for $i in json-file(\"/tmp/confusion-2014-03-02/confusion-2014-03-02.json\", 10)\n",
        "return $i"
      ],
      "execution_count": null,
      "outputs": [
        {
          "output_type": "stream",
          "text": [
            "Took: 53.035354137420654 ms\n",
            "\"Warning! The output sequence contains 16511224 items but its materialization was capped at 200 items. This value can be configured with the result-size parameter in the query string of the HTTP request.\"\n",
            "{\"guess\": \"Norwegian\", \"target\": \"Norwegian\", \"country\": \"AU\", \"choices\": [\"Maori\", \"Mandarin\", \"Norwegian\", \"Tongan\"], \"sample\": \"48f9c924e0d98c959d8a6f1862b3ce9a\", \"date\": \"2013-08-19\"}\n",
            "{\"guess\": \"Dinka\", \"target\": \"Dinka\", \"country\": \"AU\", \"choices\": [\"Danish\", \"Dinka\", \"Khmer\", \"Lao\"], \"sample\": \"af5e8f27cef9e689a070b8814dcc02c3\", \"date\": \"2013-08-19\"}\n",
            "{\"guess\": \"Turkish\", \"target\": \"Samoan\", \"country\": \"AU\", \"choices\": [\"German\", \"Hungarian\", \"Samoan\", \"Turkish\"], \"sample\": \"509c36eb58dbce009ccf93f375358d53\", \"date\": \"2013-08-19\"}\n",
            "{\"guess\": \"Latvian\", \"target\": \"Somali\", \"country\": \"AU\", \"choices\": [\"Danish\", \"Korean\", \"Latvian\", \"Somali\"], \"sample\": \"a505ab771ae7c32744ad31b3051b8ee9\", \"date\": \"2013-08-19\"}\n",
            "{\"guess\": \"Japanese\", \"target\": \"Japanese\", \"country\": \"AU\", \"choices\": [\"Bangla\", \"Dinka\", \"Italian\", \"Japanese\"], \"sample\": \"3569611136ea04bab18a0cd605ced358\", \"date\": \"2013-08-19\"}\n",
            "{\"guess\": \"Maltese\", \"target\": \"Turkish\", \"country\": \"AU\", \"choices\": [\"Hindi\", \"Lao\", \"Maltese\", \"Turkish\"], \"sample\": \"af0e25c7637fb0dcdc56fac6d49aa55e\", \"date\": \"2013-08-19\"}\n",
            "{\"guess\": \"French\", \"target\": \"French\", \"country\": \"AU\", \"choices\": [\"Burmese\", \"Danish\", \"French\", \"Swedish\"], \"sample\": \"92f9e1c17e6df988780527341fdb471d\", \"date\": \"2013-08-19\"}\n",
            "{\"guess\": \"German\", \"target\": \"German\", \"country\": \"AU\", \"choices\": [\"German\", \"Serbian\", \"Swedish\", \"Vietnamese\"], \"sample\": \"e77d97b712adffc39e531e20237a5589\", \"date\": \"2013-08-19\"}\n",
            "{\"guess\": \"Spanish\", \"target\": \"Spanish\", \"country\": \"AU\", \"choices\": [\"Amharic\", \"Czech\", \"Sinhalese\", \"Spanish\"], \"sample\": \"dc3ace49393de518e87d4f8d3ae8d9db\", \"date\": \"2013-08-19\"}\n",
            "{\"guess\": \"Romanian\", \"target\": \"Romanian\", \"country\": \"AU\", \"choices\": [\"Estonian\", \"Japanese\", \"Lao\", \"Romanian\"], \"sample\": \"903fc45cba5245f21deaaca3966f825b\", \"date\": \"2013-08-19\"}\n",
            "{\"guess\": \"Cantonese\", \"target\": \"Cantonese\", \"country\": \"AU\", \"choices\": [\"Burmese\", \"Cantonese\", \"Serbian\", \"Ukrainian\"], \"sample\": \"203628f42619d301e642b3553b7a684a\", \"date\": \"2013-08-19\"}\n",
            "{\"guess\": \"Amharic\", \"target\": \"Dinka\", \"country\": \"AU\", \"choices\": [\"Amharic\", \"Dinka\", \"Indonesian\", \"Thai\"], \"sample\": \"cd3dffdb83f221e09710cbfbcaffdb31\", \"date\": \"2013-08-19\"}\n",
            "{\"guess\": \"Assyrian\", \"target\": \"Assyrian\", \"country\": \"AU\", \"choices\": [\"Assyrian\", \"Finnish\", \"Norwegian\", \"Turkish\"], \"sample\": \"16ac545260ae198b7a3d882e06e5f261\", \"date\": \"2013-08-19\"}\n",
            "{\"guess\": \"Hebrew\", \"target\": \"Hebrew\", \"country\": \"AU\", \"choices\": [\"Hebrew\", \"Hindi\", \"Ukrainian\", \"Yiddish\"], \"sample\": \"1dc9a1bf90e4e788906dc716dc18d878\", \"date\": \"2013-08-19\"}\n",
            "{\"guess\": \"Kurdish\", \"target\": \"Kurdish\", \"country\": \"AU\", \"choices\": [\"Cantonese\", \"Kurdish\", \"Maltese\", \"Somali\"], \"sample\": \"9f849ff225f0d94a52c186924e225231\", \"date\": \"2013-08-19\"}\n",
            "{\"guess\": \"Italian\", \"target\": \"Italian\", \"country\": \"AU\", \"choices\": [\"Assyrian\", \"Dari\", \"Italian\", \"Khmer\"], \"sample\": \"88f3e5120091cffdf8abeb92b5da90a2\", \"date\": \"2013-08-19\"}\n",
            "{\"guess\": \"Maltese\", \"target\": \"Maltese\", \"country\": \"AU\", \"choices\": [\"Tagalog\", \"Japanese\", \"Maltese\", \"Tamil\"], \"sample\": \"589feca2e2009ad2e63458f17568cd13\", \"date\": \"2013-08-19\"}\n",
            "{\"guess\": \"Kannada\", \"target\": \"Kannada\", \"country\": \"AU\", \"choices\": [\"Italian\", \"Kannada\", \"Mandarin\", \"Serbian\"], \"sample\": \"c11a7723bd3fcd00e33e90c90a3492e5\", \"date\": \"2013-08-19\"}\n",
            "{\"guess\": \"Dinka\", \"target\": \"Dinka\", \"country\": \"AU\", \"choices\": [\"Amharic\", \"Dinka\", \"Mandarin\", \"Yiddish\"], \"sample\": \"cd3dffdb83f221e09710cbfbcaffdb31\", \"date\": \"2013-08-19\"}\n",
            "{\"guess\": \"German\", \"target\": \"German\", \"country\": \"AU\", \"choices\": [\"Assyrian\", \"Dinka\", \"Estonian\", \"German\"], \"sample\": \"78213fa858b9a45d83121a8bf71712d1\", \"date\": \"2013-08-19\"}\n",
            "{\"guess\": \"Hebrew\", \"target\": \"Hebrew\", \"country\": \"AU\", \"choices\": [\"Arabic\", \"Hebrew\", \"Hungarian\", \"Lao\"], \"sample\": \"1dc9a1bf90e4e788906dc716dc18d878\", \"date\": \"2013-08-19\"}\n",
            "{\"guess\": \"Croatian\", \"target\": \"Albanian\", \"country\": \"AU\", \"choices\": [\"Albanian\", \"Maori\", \"Croatian\", \"Indonesian\"], \"sample\": \"00b85faa8b878a14f8781be334deb137\", \"date\": \"2013-08-19\"}\n",
            "{\"guess\": \"Lao\", \"target\": \"Lao\", \"country\": \"AU\", \"choices\": [\"Assyrian\", \"Tagalog\", \"Lao\", \"Tongan\"], \"sample\": \"4cf041f244960196b98c7d6ae8c79ed3\", \"date\": \"2013-08-19\"}\n",
            "{\"guess\": \"Hungarian\", \"target\": \"Turkish\", \"country\": \"AU\", \"choices\": [\"Hungarian\", \"Swedish\", \"Thai\", \"Turkish\"], \"sample\": \"af0e25c7637fb0dcdc56fac6d49aa55e\", \"date\": \"2013-08-19\"}\n",
            "{\"guess\": \"Khmer\", \"target\": \"Swahili\", \"country\": \"AU\", \"choices\": [\"Bosnian\", \"Khmer\", \"Swahili\", \"Turkish\"], \"sample\": \"ac1275769d8aaf8758f95409271f8a2f\", \"date\": \"2013-08-19\"}\n",
            "{\"guess\": \"Vietnamese\", \"target\": \"Vietnamese\", \"country\": \"AU\", \"choices\": [\"Czech\", \"Japanese\", \"Tamil\", \"Vietnamese\"], \"sample\": \"8ea6892d1ddca321adc07b05176e3605\", \"date\": \"2013-08-19\"}\n",
            "{\"guess\": \"Portuguese\", \"target\": \"Portuguese\", \"country\": \"AU\", \"choices\": [\"Dari\", \"Hebrew\", \"Kurdish\", \"Portuguese\"], \"sample\": \"5fd851c9e87a6b9b9da9eb2ab0de6686\", \"date\": \"2013-08-19\"}\n",
            "{\"guess\": \"Nepali\", \"target\": \"Nepali\", \"country\": \"AU\", \"choices\": [\"Amharic\", \"Greek\", \"Nepali\", \"Ukrainian\"], \"sample\": \"faa86f6efaf2ee67f95239685d26fd88\", \"date\": \"2013-08-19\"}\n",
            "{\"guess\": \"Malayalam\", \"target\": \"Indonesian\", \"country\": \"AU\", \"choices\": [\"Bulgarian\", \"Indonesian\", \"Malayalam\", \"Russian\"], \"sample\": \"ff8fcb796b7fdc540dd567c144024f82\", \"date\": \"2013-08-19\"}\n",
            "{\"guess\": \"Finnish\", \"target\": \"Finnish\", \"country\": \"AU\", \"choices\": [\"Finnish\", \"Kurdish\", \"Turkish\", \"Yiddish\"], \"sample\": \"4a3dfa40ed621940a0a38408956b86e0\", \"date\": \"2013-08-19\"}\n",
            "{\"guess\": \"German\", \"target\": \"German\", \"country\": \"AU\", \"choices\": [\"German\", \"Hindi\", \"Somali\", \"Tamil\"], \"sample\": \"78213fa858b9a45d83121a8bf71712d1\", \"date\": \"2013-08-19\"}\n",
            "{\"guess\": \"Greek\", \"target\": \"Fijian\", \"country\": \"AU\", \"choices\": [\"Fijian\", \"Greek\", \"Mandarin\", \"Vietnamese\"], \"sample\": \"f53c7596c141ee6d5d2b3ab90361f802\", \"date\": \"2013-08-19\"}\n",
            "{\"guess\": \"Burmese\", \"target\": \"Burmese\", \"country\": \"AU\", \"choices\": [\"Burmese\", \"Danish\", \"French\", \"Kurdish\"], \"sample\": \"878d3d845ccb0859aa05e80e1d35730f\", \"date\": \"2013-08-19\"}\n",
            "{\"guess\": \"Turkish\", \"target\": \"Khmer\", \"country\": \"AU\", \"choices\": [\"Khmer\", \"Sinhalese\", \"Swahili\", \"Turkish\"], \"sample\": \"714795c596ef0639a385fe620d2c42ab\", \"date\": \"2013-08-19\"}\n",
            "{\"guess\": \"Fijian\", \"target\": \"Dinka\", \"country\": \"AU\", \"choices\": [\"Arabic\", \"Dinka\", \"Fijian\", \"Thai\"], \"sample\": \"192e7c59bb734ee762a323219846295b\", \"date\": \"2013-08-19\"}\n",
            "{\"guess\": \"Swahili\", \"target\": \"Swahili\", \"country\": \"AU\", \"choices\": [\"Hebrew\", \"Malay\", \"Swahili\", \"Swedish\"], \"sample\": \"1b959fe55794f6d4e1ea038bfe336759\", \"date\": \"2013-08-19\"}\n",
            "{\"guess\": \"Norwegian\", \"target\": \"Polish\", \"country\": \"AU\", \"choices\": [\"Indonesian\", \"Kannada\", \"Norwegian\", \"Polish\"], \"sample\": \"f1aac78bec424c4d6c716553719b0b70\", \"date\": \"2013-08-19\"}\n",
            "{\"guess\": \"Swedish\", \"target\": \"Dutch\", \"country\": \"AU\", \"choices\": [\"Burmese\", \"Cantonese\", \"Dutch\", \"Swedish\"], \"sample\": \"5cd22cbf16be1a93d304d589431c3ec3\", \"date\": \"2013-08-19\"}\n",
            "{\"guess\": \"Ukrainian\", \"target\": \"Albanian\", \"country\": \"AU\", \"choices\": [\"Albanian\", \"Bulgarian\", \"Japanese\", \"Ukrainian\"], \"sample\": \"efcd813daec1c836d9f030b30caa07ce\", \"date\": \"2013-08-19\"}\n",
            "{\"guess\": \"Hebrew\", \"target\": \"Hebrew\", \"country\": \"AU\", \"choices\": [\"Dinka\", \"Hebrew\", \"Hindi\", \"Vietnamese\"], \"sample\": \"157085744728e35079622c71804cf722\", \"date\": \"2013-08-19\"}\n",
            "{\"guess\": \"Slovenian\", \"target\": \"Norwegian\", \"country\": \"AU\", \"choices\": [\"Dinka\", \"Nepali\", \"Norwegian\", \"Slovenian\"], \"sample\": \"208e1606aa365f3ed573adc7111f58e9\", \"date\": \"2013-08-19\"}\n",
            "{\"guess\": \"Russian\", \"target\": \"Russian\", \"country\": \"AU\", \"choices\": [\"Lao\", \"Nepali\", \"Russian\", \"Tongan\"], \"sample\": \"8a59d48e99e8a1df7e366c4648095e27\", \"date\": \"2013-08-19\"}\n",
            "{\"guess\": \"Bulgarian\", \"target\": \"Albanian\", \"country\": \"AU\", \"choices\": [\"Albanian\", \"Bulgarian\", \"Russian\", \"Ukrainian\"], \"sample\": \"00b85faa8b878a14f8781be334deb137\", \"date\": \"2013-08-19\"}\n",
            "{\"guess\": \"Turkish\", \"target\": \"Dinka\", \"country\": \"AU\", \"choices\": [\"Dinka\", \"Mandarin\", \"Slovenian\", \"Turkish\"], \"sample\": \"cd3dffdb83f221e09710cbfbcaffdb31\", \"date\": \"2013-08-19\"}\n",
            "{\"guess\": \"Maltese\", \"target\": \"Maltese\", \"country\": \"AU\", \"choices\": [\"Maori\", \"French\", \"Maltese\", \"Vietnamese\"], \"sample\": \"36d2f4e9173e2d4cad8b8594310c856b\", \"date\": \"2013-08-19\"}\n",
            "{\"guess\": \"Urdu\", \"target\": \"Estonian\", \"country\": \"AU\", \"choices\": [\"Amharic\", \"Estonian\", \"Hebrew\", \"Urdu\"], \"sample\": \"5af9790de5ecef3853d6d89f8e75916c\", \"date\": \"2013-08-19\"}\n",
            "{\"guess\": \"Portuguese\", \"target\": \"Portuguese\", \"country\": \"AU\", \"choices\": [\"Dinka\", \"Finnish\", \"Gujarati\", \"Portuguese\"], \"sample\": \"5fd851c9e87a6b9b9da9eb2ab0de6686\", \"date\": \"2013-08-19\"}\n",
            "{\"guess\": \"Serbian\", \"target\": \"Serbian\", \"country\": \"AU\", \"choices\": [\"Bosnian\", \"Indonesian\", \"Romanian\", \"Serbian\"], \"sample\": \"ec4d6dad1be487091ec2b1b63820e329\", \"date\": \"2013-08-19\"}\n",
            "{\"guess\": \"Dinka\", \"target\": \"Samoan\", \"country\": \"AU\", \"choices\": [\"Amharic\", \"Arabic\", \"Dinka\", \"Samoan\"], \"sample\": \"509c36eb58dbce009ccf93f375358d53\", \"date\": \"2013-08-19\"}\n",
            "{\"guess\": \"Japanese\", \"target\": \"Japanese\", \"country\": \"AU\", \"choices\": [\"French\", \"Japanese\", \"Russian\", \"Ukrainian\"], \"sample\": \"3569611136ea04bab18a0cd605ced358\", \"date\": \"2013-08-19\"}\n",
            "{\"guess\": \"Tagalog\", \"target\": \"Tagalog\", \"country\": \"AU\", \"choices\": [\"Bulgarian\", \"Tagalog\", \"Greek\", \"Turkish\"], \"sample\": \"34df5eca0db3967da23f8a210337c9d6\", \"date\": \"2013-08-19\"}\n",
            "{\"guess\": \"Serbian\", \"target\": \"Serbian\", \"country\": \"AU\", \"choices\": [\"Khmer\", \"Latvian\", \"Serbian\", \"Vietnamese\"], \"sample\": \"ec4d6dad1be487091ec2b1b63820e329\", \"date\": \"2013-08-19\"}\n",
            "{\"guess\": \"Bulgarian\", \"target\": \"Russian\", \"country\": \"AU\", \"choices\": [\"Bulgarian\", \"Macedonian\", \"Russian\", \"Samoan\"], \"sample\": \"ff5b5a0d34c77d2e2027dad7e4deb094\", \"date\": \"2013-08-19\"}\n",
            "{\"guess\": \"Polish\", \"target\": \"Slovenian\", \"country\": \"AU\", \"choices\": [\"Bosnian\", \"Polish\", \"Sinhalese\", \"Slovenian\"], \"sample\": \"f2f07eb5c50e64c627f66566b3c7cc4a\", \"date\": \"2013-08-19\"}\n",
            "{\"guess\": \"Nepali\", \"target\": \"Dinka\", \"country\": \"AU\", \"choices\": [\"Danish\", \"Dinka\", \"Hebrew\", \"Nepali\"], \"sample\": \"192e7c59bb734ee762a323219846295b\", \"date\": \"2013-08-19\"}\n",
            "{\"guess\": \"Latvian\", \"target\": \"Latvian\", \"country\": \"AU\", \"choices\": [\"Dutch\", \"Italian\", \"Latvian\", \"Portuguese\"], \"sample\": \"5aea2b93784263ae4b5a2524ddebebb2\", \"date\": \"2013-08-19\"}\n",
            "{\"guess\": \"Hungarian\", \"target\": \"Czech\", \"country\": \"AU\", \"choices\": [\"Czech\", \"Estonian\", \"Hungarian\", \"Slovak\"], \"sample\": \"56626a14b479e47d5eb9568161dad285\", \"date\": \"2013-08-19\"}\n",
            "{\"guess\": \"Nepali\", \"target\": \"Nepali\", \"country\": \"AU\", \"choices\": [\"Croatian\", \"Hebrew\", \"Malay\", \"Nepali\"], \"sample\": \"faa86f6efaf2ee67f95239685d26fd88\", \"date\": \"2013-08-19\"}\n",
            "{\"guess\": \"Urdu\", \"target\": \"Urdu\", \"country\": \"AU\", \"choices\": [\"Kannada\", \"Korean\", \"Nepali\", \"Urdu\"], \"sample\": \"3520fdcdf2658685928fc37e72ab2134\", \"date\": \"2013-08-19\"}\n",
            "{\"guess\": \"Assyrian\", \"target\": \"Assyrian\", \"country\": \"AU\", \"choices\": [\"Assyrian\", \"Czech\", \"German\", \"Hungarian\"], \"sample\": \"a7d34c215264677c8385e90fa5363ec1\", \"date\": \"2013-08-19\"}\n",
            "{\"guess\": \"Swahili\", \"target\": \"Tigrinya\", \"country\": \"AU\", \"choices\": [\"Tagalog\", \"Greek\", \"Swahili\", \"Tigrinya\"], \"sample\": \"3ec316c78773bb826dd924926f5c0d07\", \"date\": \"2013-08-19\"}\n",
            "{\"guess\": \"Tamil\", \"target\": \"Tamil\", \"country\": \"AU\", \"choices\": [\"Estonian\", \"Malay\", \"Russian\", \"Tamil\"], \"sample\": \"cc305dcad696147e28c6f36615aa0952\", \"date\": \"2013-08-19\"}\n",
            "{\"guess\": \"Danish\", \"target\": \"Danish\", \"country\": \"AU\", \"choices\": [\"Danish\", \"Hebrew\", \"Korean\", \"Kurdish\"], \"sample\": \"5fdcb0979e1c546ea05d7bd780bd4bc3\", \"date\": \"2013-08-19\"}\n",
            "{\"guess\": \"Burmese\", \"target\": \"Burmese\", \"country\": \"AU\", \"choices\": [\"Burmese\", \"Danish\", \"Romanian\", \"Ukrainian\"], \"sample\": \"31cba304794d1828c93d7b3c63aa840a\", \"date\": \"2013-08-19\"}\n",
            "{\"guess\": \"Maltese\", \"target\": \"Maltese\", \"country\": \"AU\", \"choices\": [\"German\", \"Maltese\", \"Polish\", \"Sinhalese\"], \"sample\": \"36d2f4e9173e2d4cad8b8594310c856b\", \"date\": \"2013-08-19\"}\n",
            "{\"guess\": \"Maltese\", \"target\": \"Maltese\", \"country\": \"AU\", \"choices\": [\"Burmese\", \"Czech\", \"French\", \"Maltese\"], \"sample\": \"589feca2e2009ad2e63458f17568cd13\", \"date\": \"2013-08-19\"}\n",
            "{\"guess\": \"Dutch\", \"target\": \"Dutch\", \"country\": \"AU\", \"choices\": [\"Albanian\", \"Bangla\", \"Dutch\", \"Mandarin\"], \"sample\": \"bf0f1eec2e9f147aba20ea9b3e9564bb\", \"date\": \"2013-08-19\"}\n",
            "{\"guess\": \"Mandarin\", \"target\": \"Mandarin\", \"country\": \"AU\", \"choices\": [\"Czech\", \"Estonian\", \"Maltese\", \"Mandarin\"], \"sample\": \"01f51995ae86ff85e899d40768ab81a8\", \"date\": \"2013-08-19\"}\n",
            "{\"guess\": \"Estonian\", \"target\": \"Estonian\", \"country\": \"AU\", \"choices\": [\"Estonian\", \"Fijian\", \"Khmer\", \"Urdu\"], \"sample\": \"b7e986bd3a0d5fd1db661e3bedf36111\", \"date\": \"2013-08-19\"}\n",
            "{\"guess\": \"Serbian\", \"target\": \"Armenian\", \"country\": \"AU\", \"choices\": [\"Armenian\", \"Dutch\", \"Serbian\", \"Yiddish\"], \"sample\": \"d34689ff8c3532426256b0963d7df2bb\", \"date\": \"2013-08-19\"}\n",
            "{\"guess\": \"Indonesian\", \"target\": \"Indonesian\", \"country\": \"AU\", \"choices\": [\"French\", \"Indonesian\", \"Macedonian\", \"Romanian\"], \"sample\": \"ff8fcb796b7fdc540dd567c144024f82\", \"date\": \"2013-08-19\"}\n",
            "{\"guess\": \"Sinhalese\", \"target\": \"Sinhalese\", \"country\": \"AU\", \"choices\": [\"Latvian\", \"Mandarin\", \"Sinhalese\", \"Urdu\"], \"sample\": \"755de9092b301614712fae5e1d2d47d3\", \"date\": \"2013-08-19\"}\n",
            "{\"guess\": \"Bangla\", \"target\": \"Bangla\", \"country\": \"AU\", \"choices\": [\"Assyrian\", \"Bangla\", \"Danish\", \"Yiddish\"], \"sample\": \"b2132278200e1e601b6814a15fdabcc1\", \"date\": \"2013-08-19\"}\n",
            "{\"guess\": \"Spanish\", \"target\": \"Spanish\", \"country\": \"AU\", \"choices\": [\"Albanian\", \"Dinka\", \"Spanish\", \"Thai\"], \"sample\": \"c8f4f097079404bf9a0e94d604efd1d5\", \"date\": \"2013-08-19\"}\n",
            "{\"guess\": \"Italian\", \"target\": \"Italian\", \"country\": \"AU\", \"choices\": [\"Estonian\", \"Tagalog\", \"Italian\", \"Malayalam\"], \"sample\": \"88f3e5120091cffdf8abeb92b5da90a2\", \"date\": \"2013-08-19\"}\n",
            "{\"guess\": \"Arabic\", \"target\": \"Arabic\", \"country\": \"AU\", \"choices\": [\"Arabic\", \"Bulgarian\", \"Latvian\", \"Urdu\"], \"sample\": \"8903e496bf04c3a85a70e1dc5e0da5f1\", \"date\": \"2013-08-19\"}\n",
            "{\"guess\": \"Punjabi\", \"target\": \"Punjabi\", \"country\": \"AU\", \"choices\": [\"Armenian\", \"Punjabi\", \"Serbian\", \"Tongan\"], \"sample\": \"10ff356faf50696b30f8a58b9dd919b2\", \"date\": \"2013-08-19\"}\n",
            "{\"guess\": \"Hindi\", \"target\": \"Hindi\", \"country\": \"AU\", \"choices\": [\"Arabic\", \"Bulgarian\", \"Hindi\", \"Spanish\"], \"sample\": \"568bfed6715c43735f95faef578d7cd5\", \"date\": \"2013-08-19\"}\n",
            "{\"guess\": \"Dari\", \"target\": \"Dari\", \"country\": \"AU\", \"choices\": [\"Assyrian\", \"Dari\", \"Kannada\", \"Tamil\"], \"sample\": \"cad47cd466a2d8c25fa7a21c15cbb3cf\", \"date\": \"2013-08-19\"}\n",
            "{\"guess\": \"Tongan\", \"target\": \"Tongan\", \"country\": \"AU\", \"choices\": [\"Armenian\", \"Danish\", \"Khmer\", \"Tongan\"], \"sample\": \"838cfe7f928e1a41710e01b3ee12088f\", \"date\": \"2013-08-19\"}\n",
            "{\"guess\": \"Khmer\", \"target\": \"Khmer\", \"country\": \"AU\", \"choices\": [\"Dinka\", \"Italian\", \"Khmer\", \"Samoan\"], \"sample\": \"714795c596ef0639a385fe620d2c42ab\", \"date\": \"2013-08-19\"}\n",
            "{\"guess\": \"Romanian\", \"target\": \"Romanian\", \"country\": \"AU\", \"choices\": [\"Amharic\", \"Fijian\", \"Hindi\", \"Romanian\"], \"sample\": \"903fc45cba5245f21deaaca3966f825b\", \"date\": \"2013-08-19\"}\n",
            "{\"guess\": \"Malay\", \"target\": \"Malay\", \"country\": \"AU\", \"choices\": [\"Bosnian\", \"Cantonese\", \"Greek\", \"Malay\"], \"sample\": \"610d45322ed5aa122cf9b4a79d603781\", \"date\": \"2013-08-19\"}\n",
            "{\"guess\": \"Bangla\", \"target\": \"Bangla\", \"country\": \"AU\", \"choices\": [\"Bangla\", \"Burmese\", \"Dari\", \"Portuguese\"], \"sample\": \"b2132278200e1e601b6814a15fdabcc1\", \"date\": \"2013-08-19\"}\n",
            "{\"guess\": \"Hindi\", \"target\": \"Hindi\", \"country\": \"AU\", \"choices\": [\"Albanian\", \"Croatian\", \"Hindi\", \"Maltese\"], \"sample\": \"9dac641f173f2a225501e8e50fc4e66e\", \"date\": \"2013-08-19\"}\n",
            "{\"guess\": \"Romanian\", \"target\": \"Romanian\", \"country\": \"AU\", \"choices\": [\"Romanian\", \"Tamil\", \"Tongan\", \"Turkish\"], \"sample\": \"6560ff4ce0b53a1b0bad2e7734f52381\", \"date\": \"2013-08-19\"}\n",
            "{\"guess\": \"Lao\", \"target\": \"Lao\", \"country\": \"AU\", \"choices\": [\"French\", \"Lao\", \"Malay\", \"Portuguese\"], \"sample\": \"4cf041f244960196b98c7d6ae8c79ed3\", \"date\": \"2013-08-19\"}\n",
            "{\"guess\": \"Vietnamese\", \"target\": \"Vietnamese\", \"country\": \"AU\", \"choices\": [\"Hungarian\", \"Japanese\", \"Slovenian\", \"Vietnamese\"], \"sample\": \"8ea6892d1ddca321adc07b05176e3605\", \"date\": \"2013-08-19\"}\n",
            "{\"guess\": \"Tagalog\", \"target\": \"Tagalog\", \"country\": \"AU\", \"choices\": [\"Tagalog\", \"Lao\", \"Slovak\", \"Ukrainian\"], \"sample\": \"34df5eca0db3967da23f8a210337c9d6\", \"date\": \"2013-08-19\"}\n",
            "{\"guess\": \"Hungarian\", \"target\": \"Danish\", \"country\": \"AU\", \"choices\": [\"Danish\", \"Hungarian\", \"Korean\", \"Samoan\"], \"sample\": \"5fdcb0979e1c546ea05d7bd780bd4bc3\", \"date\": \"2013-08-19\"}\n",
            "{\"guess\": \"Polish\", \"target\": \"Slovenian\", \"country\": \"AU\", \"choices\": [\"Greek\", \"Korean\", \"Polish\", \"Slovenian\"], \"sample\": \"f2f07eb5c50e64c627f66566b3c7cc4a\", \"date\": \"2013-08-19\"}\n",
            "{\"guess\": \"Kannada\", \"target\": \"Kannada\", \"country\": \"AU\", \"choices\": [\"Arabic\", \"Bosnian\", \"Kannada\", \"Thai\"], \"sample\": \"cf08af2ccb8382aa6c624095ec4f93fb\", \"date\": \"2013-08-19\"}\n",
            "{\"guess\": \"Spanish\", \"target\": \"Spanish\", \"country\": \"AU\", \"choices\": [\"Maori\", \"Dari\", \"Korean\", \"Spanish\"], \"sample\": \"c8f4f097079404bf9a0e94d604efd1d5\", \"date\": \"2013-08-19\"}\n",
            "{\"guess\": \"Urdu\", \"target\": \"Armenian\", \"country\": \"AU\", \"choices\": [\"Armenian\", \"Hebrew\", \"Italian\", \"Urdu\"], \"sample\": \"b46fa4a310d337db8f055083c68ba863\", \"date\": \"2013-08-19\"}\n",
            "{\"guess\": \"Tagalog\", \"target\": \"Tongan\", \"country\": \"AU\", \"choices\": [\"Assyrian\", \"Tagalog\", \"Tongan\", \"Urdu\"], \"sample\": \"6ba74243165c6e7fb5255890b18f8807\", \"date\": \"2013-08-19\"}\n",
            "{\"guess\": \"Farsi\", \"target\": \"Farsi\", \"country\": \"AU\", \"choices\": [\"Korean\", \"Nepali\", \"Farsi\", \"Tongan\"], \"sample\": \"d7a4029f42521d56af05c9f947a516c1\", \"date\": \"2013-08-19\"}\n",
            "{\"guess\": \"Indonesian\", \"target\": \"Indonesian\", \"country\": \"AU\", \"choices\": [\"Croatian\", \"Indonesian\", \"Italian\", \"Japanese\"], \"sample\": \"ff8fcb796b7fdc540dd567c144024f82\", \"date\": \"2013-08-19\"}\n",
            "{\"guess\": \"Japanese\", \"target\": \"Japanese\", \"country\": \"AU\", \"choices\": [\"Japanese\", \"Malayalam\", \"Slovak\", \"Vietnamese\"], \"sample\": \"3569611136ea04bab18a0cd605ced358\", \"date\": \"2013-08-19\"}\n",
            "{\"guess\": \"Spanish\", \"target\": \"Spanish\", \"country\": \"AU\", \"choices\": [\"Arabic\", \"Dutch\", \"Spanish\", \"Yiddish\"], \"sample\": \"dc3ace49393de518e87d4f8d3ae8d9db\", \"date\": \"2013-08-19\"}\n",
            "{\"guess\": \"Khmer\", \"target\": \"Lao\", \"country\": \"AU\", \"choices\": [\"Assyrian\", \"Khmer\", \"Lao\", \"Punjabi\"], \"sample\": \"b5aa4ea31e44899dc4d58d4a35e05504\", \"date\": \"2013-08-19\"}\n",
            "{\"guess\": \"Spanish\", \"target\": \"Spanish\", \"country\": \"AU\", \"choices\": [\"Czech\", \"Indonesian\", \"Kurdish\", \"Spanish\"], \"sample\": \"dc3ace49393de518e87d4f8d3ae8d9db\", \"date\": \"2013-08-19\"}\n",
            "{\"guess\": \"Burmese\", \"target\": \"Fijian\", \"country\": \"AU\", \"choices\": [\"Burmese\", \"Fijian\", \"Kurdish\", \"Maltese\"], \"sample\": \"f53c7596c141ee6d5d2b3ab90361f802\", \"date\": \"2013-08-19\"}\n",
            "{\"guess\": \"Ukrainian\", \"target\": \"Ukrainian\", \"country\": \"AU\", \"choices\": [\"Czech\", \"Korean\", \"Lao\", \"Ukrainian\"], \"sample\": \"6d86f6da48a5d151593317f64da0421f\", \"date\": \"2013-08-19\"}\n",
            "{\"guess\": \"Indonesian\", \"target\": \"Indonesian\", \"country\": \"AU\", \"choices\": [\"Indonesian\", \"Macedonian\", \"Swedish\", \"Vietnamese\"], \"sample\": \"ff8fcb796b7fdc540dd567c144024f82\", \"date\": \"2013-08-19\"}\n",
            "{\"guess\": \"Farsi\", \"target\": \"Urdu\", \"country\": \"AU\", \"choices\": [\"Korean\", \"Latvian\", \"Farsi\", \"Urdu\"], \"sample\": \"3520fdcdf2658685928fc37e72ab2134\", \"date\": \"2013-08-19\"}\n",
            "{\"guess\": \"Italian\", \"target\": \"Greek\", \"country\": \"AU\", \"choices\": [\"Greek\", \"Italian\", \"Samoan\", \"Slovenian\"], \"sample\": \"0f43daadf6a1ce6d769fa0daa630b5f6\", \"date\": \"2013-08-19\"}\n",
            "{\"guess\": \"Mandarin\", \"target\": \"Mandarin\", \"country\": \"AU\", \"choices\": [\"Kannada\", \"Mandarin\", \"Somali\", \"Spanish\"], \"sample\": \"01f51995ae86ff85e899d40768ab81a8\", \"date\": \"2013-08-19\"}\n",
            "{\"guess\": \"Vietnamese\", \"target\": \"Vietnamese\", \"country\": \"AU\", \"choices\": [\"Hindi\", \"Romanian\", \"Tigrinya\", \"Vietnamese\"], \"sample\": \"3aab36435babaea46064d7f173bb0ba3\", \"date\": \"2013-08-19\"}\n",
            "{\"guess\": \"Polish\", \"target\": \"Maori\", \"country\": \"AU\", \"choices\": [\"Bangla\", \"Maori\", \"Indonesian\", \"Polish\"], \"sample\": \"1e94210c21a6af48b9c418a7d6380a1c\", \"date\": \"2013-08-19\"}\n",
            "{\"guess\": \"Hebrew\", \"target\": \"Hebrew\", \"country\": \"AU\", \"choices\": [\"Dari\", \"German\", \"Hebrew\", \"Italian\"], \"sample\": \"830854fd9c28424c604eaef2e97e61b3\", \"date\": \"2013-08-19\"}\n",
            "{\"guess\": \"Vietnamese\", \"target\": \"Vietnamese\", \"country\": \"AU\", \"choices\": [\"Bosnian\", \"Gujarati\", \"Spanish\", \"Vietnamese\"], \"sample\": \"3aab36435babaea46064d7f173bb0ba3\", \"date\": \"2013-08-19\"}\n",
            "{\"guess\": \"Russian\", \"target\": \"Russian\", \"country\": \"AU\", \"choices\": [\"Arabic\", \"Estonian\", \"Greek\", \"Russian\"], \"sample\": \"8a59d48e99e8a1df7e366c4648095e27\", \"date\": \"2013-08-19\"}\n",
            "{\"guess\": \"Punjabi\", \"target\": \"Hindi\", \"country\": \"AU\", \"choices\": [\"Amharic\", \"Bangla\", \"Hindi\", \"Punjabi\"], \"sample\": \"9dac641f173f2a225501e8e50fc4e66e\", \"date\": \"2013-08-19\"}\n",
            "{\"guess\": \"Spanish\", \"target\": \"Spanish\", \"country\": \"AU\", \"choices\": [\"Assyrian\", \"Tagalog\", \"Spanish\", \"Swedish\"], \"sample\": \"c8f4f097079404bf9a0e94d604efd1d5\", \"date\": \"2013-08-19\"}\n",
            "{\"guess\": \"Hebrew\", \"target\": \"Hebrew\", \"country\": \"AU\", \"choices\": [\"Estonian\", \"Hebrew\", \"Malayalam\", \"Swahili\"], \"sample\": \"830854fd9c28424c604eaef2e97e61b3\", \"date\": \"2013-08-19\"}\n",
            "{\"guess\": \"Arabic\", \"target\": \"Arabic\", \"country\": \"AU\", \"choices\": [\"Arabic\", \"Croatian\", \"Malay\", \"Serbian\"], \"sample\": \"8903e496bf04c3a85a70e1dc5e0da5f1\", \"date\": \"2013-08-19\"}\n",
            "{\"guess\": \"German\", \"target\": \"German\", \"country\": \"AU\", \"choices\": [\"Dinka\", \"German\", \"Hungarian\", \"Kurdish\"], \"sample\": \"78213fa858b9a45d83121a8bf71712d1\", \"date\": \"2013-08-19\"}\n",
            "{\"guess\": \"Urdu\", \"target\": \"Maltese\", \"country\": \"AU\", \"choices\": [\"Latvian\", \"Maltese\", \"Thai\", \"Urdu\"], \"sample\": \"36d2f4e9173e2d4cad8b8594310c856b\", \"date\": \"2013-08-19\"}\n",
            "{\"guess\": \"Gujarati\", \"target\": \"Gujarati\", \"country\": \"AU\", \"choices\": [\"Gujarati\", \"Sinhalese\", \"Slovenian\", \"Turkish\"], \"sample\": \"16d80eee6659268a90460422dd2a2896\", \"date\": \"2013-08-19\"}\n",
            "{\"guess\": \"Urdu\", \"target\": \"Yiddish\", \"country\": \"AU\", \"choices\": [\"Maori\", \"Finnish\", \"Urdu\", \"Yiddish\"], \"sample\": \"491ce6f2acb4a588a4e6ff3570d429a5\", \"date\": \"2013-08-19\"}\n",
            "{\"guess\": \"Mandarin\", \"target\": \"Mandarin\", \"country\": \"AU\", \"choices\": [\"Assyrian\", \"Bosnian\", \"Mandarin\", \"Yiddish\"], \"sample\": \"fc3712715ddc748286256eb7a64f25ab\", \"date\": \"2013-08-19\"}\n",
            "{\"guess\": \"Spanish\", \"target\": \"Spanish\", \"country\": \"AU\", \"choices\": [\"Italian\", \"Macedonian\", \"Punjabi\", \"Spanish\"], \"sample\": \"d8d9dfa02ff280d107d54fd8f19ab5bb\", \"date\": \"2013-08-19\"}\n",
            "{\"guess\": \"Danish\", \"target\": \"Danish\", \"country\": \"AU\", \"choices\": [\"Maori\", \"Danish\", \"Hebrew\", \"Punjabi\"], \"sample\": \"5fdcb0979e1c546ea05d7bd780bd4bc3\", \"date\": \"2013-08-19\"}\n",
            "{\"guess\": \"Serbian\", \"target\": \"Macedonian\", \"country\": \"AU\", \"choices\": [\"Khmer\", \"Macedonian\", \"Serbian\", \"Ukrainian\"], \"sample\": \"968e9c700742f65c43ad3cb99209e787\", \"date\": \"2013-08-19\"}\n",
            "{\"guess\": \"Greek\", \"target\": \"Greek\", \"country\": \"AU\", \"choices\": [\"Arabic\", \"Bangla\", \"Danish\", \"Greek\"], \"sample\": \"17527de743e8a5b5c339fb8ff117f65b\", \"date\": \"2013-08-19\"}\n",
            "{\"guess\": \"Sinhalese\", \"target\": \"Sinhalese\", \"country\": \"AU\", \"choices\": [\"Maori\", \"Gujarati\", \"Punjabi\", \"Sinhalese\"], \"sample\": \"755de9092b301614712fae5e1d2d47d3\", \"date\": \"2013-08-19\"}\n",
            "{\"guess\": \"Bosnian\", \"target\": \"Maltese\", \"country\": \"AU\", \"choices\": [\"Bosnian\", \"Hungarian\", \"Japanese\", \"Maltese\"], \"sample\": \"589feca2e2009ad2e63458f17568cd13\", \"date\": \"2013-08-19\"}\n",
            "{\"guess\": \"Mandarin\", \"target\": \"Mandarin\", \"country\": \"AU\", \"choices\": [\"Greek\", \"Gujarati\", \"Mandarin\", \"Slovenian\"], \"sample\": \"01f51995ae86ff85e899d40768ab81a8\", \"date\": \"2013-08-19\"}\n",
            "{\"guess\": \"Tamil\", \"target\": \"Tamil\", \"country\": \"AU\", \"choices\": [\"Czech\", \"Somali\", \"Tamil\", \"Turkish\"], \"sample\": \"cc305dcad696147e28c6f36615aa0952\", \"date\": \"2013-08-19\"}\n",
            "{\"guess\": \"Portuguese\", \"target\": \"Portuguese\", \"country\": \"AU\", \"choices\": [\"Bosnian\", \"Latvian\", \"Portuguese\", \"Sinhalese\"], \"sample\": \"439672210d1feb96e012590ff2a73590\", \"date\": \"2013-08-19\"}\n",
            "{\"guess\": \"Tongan\", \"target\": \"Tongan\", \"country\": \"AU\", \"choices\": [\"Italian\", \"Lao\", \"Farsi\", \"Tongan\"], \"sample\": \"838cfe7f928e1a41710e01b3ee12088f\", \"date\": \"2013-08-19\"}\n",
            "{\"guess\": \"Slovenian\", \"target\": \"Albanian\", \"country\": \"AU\", \"choices\": [\"Albanian\", \"German\", \"Slovenian\", \"Swahili\"], \"sample\": \"efcd813daec1c836d9f030b30caa07ce\", \"date\": \"2013-08-19\"}\n",
            "{\"guess\": \"Gujarati\", \"target\": \"Gujarati\", \"country\": \"AU\", \"choices\": [\"Gujarati\", \"Hebrew\", \"Somali\", \"Yiddish\"], \"sample\": \"16d80eee6659268a90460422dd2a2896\", \"date\": \"2013-08-19\"}\n",
            "{\"guess\": \"Czech\", \"target\": \"Swedish\", \"country\": \"AU\", \"choices\": [\"Czech\", \"Farsi\", \"Russian\", \"Swedish\"], \"sample\": \"dfe8192c1bbd80b44ea4409d9889dc90\", \"date\": \"2013-08-19\"}\n",
            "{\"guess\": \"Kannada\", \"target\": \"Farsi\", \"country\": \"AU\", \"choices\": [\"Hindi\", \"Kannada\", \"Farsi\", \"Turkish\"], \"sample\": \"70154ea13cf1c633cfe62d44919a347c\", \"date\": \"2013-08-19\"}\n",
            "{\"guess\": \"Khmer\", \"target\": \"Khmer\", \"country\": \"AU\", \"choices\": [\"Bangla\", \"Estonian\", \"Italian\", \"Khmer\"], \"sample\": \"714795c596ef0639a385fe620d2c42ab\", \"date\": \"2013-08-19\"}\n",
            "{\"guess\": \"German\", \"target\": \"Danish\", \"country\": \"AU\", \"choices\": [\"Danish\", \"German\", \"Russian\", \"Turkish\"], \"sample\": \"5fdcb0979e1c546ea05d7bd780bd4bc3\", \"date\": \"2013-08-19\"}\n",
            "{\"guess\": \"Korean\", \"target\": \"Korean\", \"country\": \"AU\", \"choices\": [\"Assyrian\", \"Korean\", \"Serbian\", \"Somali\"], \"sample\": \"ec371adb75ab6c7431adae3ef8fc9fc9\", \"date\": \"2013-08-19\"}\n",
            "{\"guess\": \"Fijian\", \"target\": \"Fijian\", \"country\": \"AU\", \"choices\": [\"Cantonese\", \"Fijian\", \"Slovak\", \"Somali\"], \"sample\": \"93b8857d01978401e679f0bde0a7b5b0\", \"date\": \"2013-08-19\"}\n",
            "{\"guess\": \"Portuguese\", \"target\": \"Portuguese\", \"country\": \"AU\", \"choices\": [\"Tagalog\", \"Maltese\", \"Portuguese\", \"Sinhalese\"], \"sample\": \"439672210d1feb96e012590ff2a73590\", \"date\": \"2013-08-19\"}\n",
            "{\"guess\": \"Japanese\", \"target\": \"Japanese\", \"country\": \"AU\", \"choices\": [\"Bulgarian\", \"French\", \"Japanese\", \"Punjabi\"], \"sample\": \"3569611136ea04bab18a0cd605ced358\", \"date\": \"2013-08-19\"}\n",
            "{\"guess\": \"Khmer\", \"target\": \"Khmer\", \"country\": \"AU\", \"choices\": [\"Bangla\", \"Khmer\", \"Kurdish\", \"Latvian\"], \"sample\": \"84f7df7508e423234fd1adec4f84e528\", \"date\": \"2013-08-19\"}\n",
            "{\"guess\": \"Estonian\", \"target\": \"Dutch\", \"country\": \"AU\", \"choices\": [\"Dutch\", \"Estonian\", \"Hungarian\", \"Swedish\"], \"sample\": \"bf0f1eec2e9f147aba20ea9b3e9564bb\", \"date\": \"2013-08-19\"}\n",
            "{\"guess\": \"Spanish\", \"target\": \"Spanish\", \"country\": \"AU\", \"choices\": [\"Dinka\", \"Hungarian\", \"Spanish\", \"Thai\"], \"sample\": \"dc3ace49393de518e87d4f8d3ae8d9db\", \"date\": \"2013-08-19\"}\n",
            "{\"guess\": \"Cantonese\", \"target\": \"Cantonese\", \"country\": \"AU\", \"choices\": [\"Bangla\", \"Cantonese\", \"Malay\", \"Somali\"], \"sample\": \"78e21624c41e6efc3ac790735180615d\", \"date\": \"2013-08-19\"}\n",
            "{\"guess\": \"Turkish\", \"target\": \"Latvian\", \"country\": \"AU\", \"choices\": [\"Cantonese\", \"Latvian\", \"Tamil\", \"Turkish\"], \"sample\": \"447bcafdbe5d7d69e0db72ab5bfa043a\", \"date\": \"2013-08-19\"}\n",
            "{\"guess\": \"Bulgarian\", \"target\": \"Bulgarian\", \"country\": \"AU\", \"choices\": [\"Assyrian\", \"Bulgarian\", \"Indonesian\", \"Khmer\"], \"sample\": \"69a5c674fe40942aaae4d10c9df46ee0\", \"date\": \"2013-08-19\"}\n",
            "{\"guess\": \"Polish\", \"target\": \"Polish\", \"country\": \"AU\", \"choices\": [\"Italian\", \"Korean\", \"Latvian\", \"Polish\"], \"sample\": \"98890a26d68bcf75f6087566971f126f\", \"date\": \"2013-08-19\"}\n",
            "{\"guess\": \"Farsi\", \"target\": \"Slovak\", \"country\": \"AU\", \"choices\": [\"Amharic\", \"Maltese\", \"Farsi\", \"Slovak\"], \"sample\": \"2c5efbd7364036976ec403a9ee36f614\", \"date\": \"2013-08-19\"}\n",
            "{\"guess\": \"Latvian\", \"target\": \"Latvian\", \"country\": \"AU\", \"choices\": [\"Bulgarian\", \"Maori\", \"Latvian\", \"Russian\"], \"sample\": \"447bcafdbe5d7d69e0db72ab5bfa043a\", \"date\": \"2013-08-19\"}\n",
            "{\"guess\": \"Malay\", \"target\": \"Malay\", \"country\": \"AU\", \"choices\": [\"Albanian\", \"Amharic\", \"Malay\", \"Tongan\"], \"sample\": \"6650448a5456ba88ea0971f2265f2bc7\", \"date\": \"2013-08-19\"}\n",
            "{\"guess\": \"Khmer\", \"target\": \"Khmer\", \"country\": \"AU\", \"choices\": [\"Dinka\", \"Khmer\", \"Polish\", \"Urdu\"], \"sample\": \"84f7df7508e423234fd1adec4f84e528\", \"date\": \"2013-08-19\"}\n",
            "{\"guess\": \"Farsi\", \"target\": \"Armenian\", \"country\": \"AU\", \"choices\": [\"Armenian\", \"Dinka\", \"Farsi\", \"Portuguese\"], \"sample\": \"e4588d7c735b9a87d93ada6d24a7bd53\", \"date\": \"2013-08-19\"}\n",
            "{\"guess\": \"Romanian\", \"target\": \"Romanian\", \"country\": \"AU\", \"choices\": [\"Tagalog\", \"French\", \"Hebrew\", \"Romanian\"], \"sample\": \"6560ff4ce0b53a1b0bad2e7734f52381\", \"date\": \"2013-08-19\"}\n",
            "{\"guess\": \"Burmese\", \"target\": \"Dinka\", \"country\": \"AU\", \"choices\": [\"Burmese\", \"Dinka\", \"Greek\", \"Indonesian\"], \"sample\": \"192e7c59bb734ee762a323219846295b\", \"date\": \"2013-08-19\"}\n",
            "{\"guess\": \"Gujarati\", \"target\": \"Gujarati\", \"country\": \"AU\", \"choices\": [\"Cantonese\", \"Gujarati\", \"Italian\", \"Sinhalese\"], \"sample\": \"56ecf19cff578aa76b81edb580ff343f\", \"date\": \"2013-08-19\"}\n",
            "{\"guess\": \"Mandarin\", \"target\": \"Mandarin\", \"country\": \"AU\", \"choices\": [\"Armenian\", \"Finnish\", \"Italian\", \"Mandarin\"], \"sample\": \"fc3712715ddc748286256eb7a64f25ab\", \"date\": \"2013-08-19\"}\n",
            "{\"guess\": \"Japanese\", \"target\": \"Japanese\", \"country\": \"AU\", \"choices\": [\"Japanese\", \"Sinhalese\", \"Swahili\", \"Vietnamese\"], \"sample\": \"3569611136ea04bab18a0cd605ced358\", \"date\": \"2013-08-19\"}\n",
            "{\"guess\": \"Tongan\", \"target\": \"Tongan\", \"country\": \"AU\", \"choices\": [\"Dinka\", \"Samoan\", \"Somali\", \"Tongan\"], \"sample\": \"838cfe7f928e1a41710e01b3ee12088f\", \"date\": \"2013-08-19\"}\n",
            "{\"guess\": \"Nepali\", \"target\": \"Nepali\", \"country\": \"AU\", \"choices\": [\"Bulgarian\", \"Mandarin\", \"Nepali\", \"Tamil\"], \"sample\": \"faa86f6efaf2ee67f95239685d26fd88\", \"date\": \"2013-08-19\"}\n",
            "{\"guess\": \"Estonian\", \"target\": \"Maori\", \"country\": \"AU\", \"choices\": [\"Maori\", \"Estonian\", \"Nepali\", \"Portuguese\"], \"sample\": \"1e94210c21a6af48b9c418a7d6380a1c\", \"date\": \"2013-08-19\"}\n",
            "{\"guess\": \"Latvian\", \"target\": \"Sinhalese\", \"country\": \"AU\", \"choices\": [\"Danish\", \"Latvian\", \"Norwegian\", \"Sinhalese\"], \"sample\": \"c4d4db8bf910cf4350fc87b3f3667976\", \"date\": \"2013-08-19\"}\n",
            "{\"guess\": \"Nepali\", \"target\": \"Nepali\", \"country\": \"AU\", \"choices\": [\"Indonesian\", \"Nepali\", \"Sinhalese\", \"Turkish\"], \"sample\": \"e178a0abbbb171d9b785d8350a45f203\", \"date\": \"2013-08-19\"}\n",
            "{\"guess\": \"Norwegian\", \"target\": \"Norwegian\", \"country\": \"AU\", \"choices\": [\"Dutch\", \"Hindi\", \"Lao\", \"Norwegian\"], \"sample\": \"48f9c924e0d98c959d8a6f1862b3ce9a\", \"date\": \"2013-08-20\"}\n",
            "{\"guess\": \"Hebrew\", \"target\": \"Hebrew\", \"country\": \"AU\", \"choices\": [\"Finnish\", \"Hebrew\", \"Malay\", \"Urdu\"], \"sample\": \"1dc9a1bf90e4e788906dc716dc18d878\", \"date\": \"2013-08-20\"}\n",
            "{\"guess\": \"Ukrainian\", \"target\": \"Ukrainian\", \"country\": \"AU\", \"choices\": [\"Dutch\", \"Finnish\", \"Ukrainian\", \"Yiddish\"], \"sample\": \"064ca74dff16ce8dade4a7acdc0def8a\", \"date\": \"2013-08-20\"}\n",
            "{\"guess\": \"Vietnamese\", \"target\": \"Vietnamese\", \"country\": \"AU\", \"choices\": [\"Arabic\", \"Korean\", \"Punjabi\", \"Vietnamese\"], \"sample\": \"8ea6892d1ddca321adc07b05176e3605\", \"date\": \"2013-08-20\"}\n",
            "{\"guess\": \"Dutch\", \"target\": \"Dutch\", \"country\": \"AU\", \"choices\": [\"Dutch\", \"French\", \"Kannada\", \"Serbian\"], \"sample\": \"bf0f1eec2e9f147aba20ea9b3e9564bb\", \"date\": \"2013-08-20\"}\n",
            "{\"guess\": \"Portuguese\", \"target\": \"Portuguese\", \"country\": \"AU\", \"choices\": [\"Cantonese\", \"Polish\", \"Portuguese\", \"Punjabi\"], \"sample\": \"5fd851c9e87a6b9b9da9eb2ab0de6686\", \"date\": \"2013-08-20\"}\n",
            "{\"guess\": \"Dari\", \"target\": \"Serbian\", \"country\": \"AU\", \"choices\": [\"Dari\", \"Serbian\", \"Sinhalese\", \"Vietnamese\"], \"sample\": \"0d5b697ebb326b5043ce7fa60a7b968d\", \"date\": \"2013-08-20\"}\n",
            "{\"guess\": \"Nepali\", \"target\": \"Nepali\", \"country\": \"AU\", \"choices\": [\"French\", \"Kannada\", \"Nepali\", \"Sinhalese\"], \"sample\": \"e178a0abbbb171d9b785d8350a45f203\", \"date\": \"2013-08-20\"}\n",
            "{\"guess\": \"Czech\", \"target\": \"Czech\", \"country\": \"AU\", \"choices\": [\"Amharic\", \"Czech\", \"Korean\", \"Macedonian\"], \"sample\": \"9769bab1b0b25eb730c704ef42a3e7a6\", \"date\": \"2013-08-20\"}\n",
            "{\"guess\": \"Kurdish\", \"target\": \"Kurdish\", \"country\": \"AU\", \"choices\": [\"Kannada\", \"Kurdish\", \"Latvian\", \"Tongan\"], \"sample\": \"8df0a7cae5bb52d889fdbab7def4b5aa\", \"date\": \"2013-08-20\"}\n",
            "{\"guess\": \"Czech\", \"target\": \"Czech\", \"country\": \"AU\", \"choices\": [\"Maori\", \"Czech\", \"Kurdish\", \"Tongan\"], \"sample\": \"1787b5c79a00b3513ce76847bc1f5b75\", \"date\": \"2013-08-20\"}\n",
            "{\"guess\": \"Latvian\", \"target\": \"Latvian\", \"country\": \"AU\", \"choices\": [\"Tagalog\", \"French\", \"Latvian\", \"Slovenian\"], \"sample\": \"447bcafdbe5d7d69e0db72ab5bfa043a\", \"date\": \"2013-08-20\"}\n",
            "{\"guess\": \"Swedish\", \"target\": \"Swedish\", \"country\": \"AU\", \"choices\": [\"Lao\", \"Maltese\", \"Swedish\", \"Ukrainian\"], \"sample\": \"dfe8192c1bbd80b44ea4409d9889dc90\", \"date\": \"2013-08-20\"}\n",
            "{\"guess\": \"Khmer\", \"target\": \"Burmese\", \"country\": \"AU\", \"choices\": [\"Assyrian\", \"Burmese\", \"Khmer\", \"Russian\"], \"sample\": \"31cba304794d1828c93d7b3c63aa840a\", \"date\": \"2013-08-20\"}\n",
            "{\"guess\": \"Malay\", \"target\": \"Japanese\", \"country\": \"AU\", \"choices\": [\"Japanese\", \"Malay\", \"Maltese\", \"Ukrainian\"], \"sample\": \"3569611136ea04bab18a0cd605ced358\", \"date\": \"2013-08-20\"}\n",
            "{\"guess\": \"Amharic\", \"target\": \"Maori\", \"country\": \"AU\", \"choices\": [\"Amharic\", \"Maori\", \"German\", \"Kannada\"], \"sample\": \"1e94210c21a6af48b9c418a7d6380a1c\", \"date\": \"2013-08-20\"}\n",
            "{\"guess\": \"Turkish\", \"target\": \"Turkish\", \"country\": \"AU\", \"choices\": [\"Finnish\", \"Somali\", \"Turkish\", \"Urdu\"], \"sample\": \"752c4c30d475748a342c68ebfba24d1e\", \"date\": \"2013-08-20\"}\n",
            "{\"guess\": \"Somali\", \"target\": \"Fijian\", \"country\": \"AU\", \"choices\": [\"Burmese\", \"Czech\", \"Fijian\", \"Somali\"], \"sample\": \"93b8857d01978401e679f0bde0a7b5b0\", \"date\": \"2013-08-20\"}\n",
            "{\"guess\": \"Tamil\", \"target\": \"Sinhalese\", \"country\": \"AU\", \"choices\": [\"Gujarati\", \"Norwegian\", \"Sinhalese\", \"Tamil\"], \"sample\": \"755de9092b301614712fae5e1d2d47d3\", \"date\": \"2013-08-20\"}\n",
            "{\"guess\": \"Nepali\", \"target\": \"Cantonese\", \"country\": \"AU\", \"choices\": [\"Cantonese\", \"Dari\", \"Nepali\", \"Spanish\"], \"sample\": \"da6ed723fe60684a231c3e22a42610a7\", \"date\": \"2013-08-20\"}\n",
            "{\"guess\": \"Arabic\", \"target\": \"Arabic\", \"country\": \"AU\", \"choices\": [\"Arabic\", \"Cantonese\", \"Maltese\", \"Samoan\"], \"sample\": \"83c6ffcb085ce9c18c0e2aff00dda865\", \"date\": \"2013-08-20\"}\n",
            "{\"guess\": \"Amharic\", \"target\": \"Amharic\", \"country\": \"AU\", \"choices\": [\"Amharic\", \"Cantonese\", \"Fijian\", \"Kurdish\"], \"sample\": \"50a52cc16828c9cd27b9c26c75974e6d\", \"date\": \"2013-08-20\"}\n",
            "{\"guess\": \"Hungarian\", \"target\": \"Latvian\", \"country\": \"AU\", \"choices\": [\"Tagalog\", \"Hebrew\", \"Hungarian\", \"Latvian\"], \"sample\": \"5e609abac81edbf76a58bc1d2a850f12\", \"date\": \"2013-08-20\"}\n",
            "{\"guess\": \"Gujarati\", \"target\": \"Sinhalese\", \"country\": \"AU\", \"choices\": [\"Tagalog\", \"Gujarati\", \"Portuguese\", \"Sinhalese\"], \"sample\": \"650061b92e1bf9fc20bc9757f333ddbb\", \"date\": \"2013-08-20\"}\n",
            "{\"guess\": \"Gujarati\", \"target\": \"Latvian\", \"country\": \"AU\", \"choices\": [\"Gujarati\", \"Latvian\", \"Russian\", \"Tamil\"], \"sample\": \"447bcafdbe5d7d69e0db72ab5bfa043a\", \"date\": \"2013-08-20\"}\n",
            "{\"guess\": \"Spanish\", \"target\": \"Spanish\", \"country\": \"AU\", \"choices\": [\"Dari\", \"Tagalog\", \"Slovenian\", \"Spanish\"], \"sample\": \"dc3ace49393de518e87d4f8d3ae8d9db\", \"date\": \"2013-08-20\"}\n",
            "{\"guess\": \"Farsi\", \"target\": \"Farsi\", \"country\": \"AU\", \"choices\": [\"Czech\", \"Dinka\", \"Farsi\", \"Somali\"], \"sample\": \"c73ee42a45debb00fbcc86eb29682757\", \"date\": \"2013-08-20\"}\n",
            "{\"guess\": \"Nepali\", \"target\": \"Nepali\", \"country\": \"AU\", \"choices\": [\"Bosnian\", \"Estonian\", \"Kurdish\", \"Nepali\"], \"sample\": \"faa86f6efaf2ee67f95239685d26fd88\", \"date\": \"2013-08-20\"}\n",
            "{\"guess\": \"Tamil\", \"target\": \"Tamil\", \"country\": \"AU\", \"choices\": [\"Assyrian\", \"Bangla\", \"Nepali\", \"Tamil\"], \"sample\": \"cc305dcad696147e28c6f36615aa0952\", \"date\": \"2013-08-20\"}\n",
            "{\"guess\": \"Estonian\", \"target\": \"Ukrainian\", \"country\": \"AU\", \"choices\": [\"Armenian\", \"Dutch\", \"Estonian\", \"Ukrainian\"], \"sample\": \"064ca74dff16ce8dade4a7acdc0def8a\", \"date\": \"2013-08-20\"}\n",
            "{\"guess\": \"Khmer\", \"target\": \"Khmer\", \"country\": \"AU\", \"choices\": [\"Estonian\", \"Khmer\", \"Latvian\", \"Thai\"], \"sample\": \"714795c596ef0639a385fe620d2c42ab\", \"date\": \"2013-08-20\"}\n",
            "{\"guess\": \"Portuguese\", \"target\": \"Romanian\", \"country\": \"AU\", \"choices\": [\"Mandarin\", \"Polish\", \"Portuguese\", \"Romanian\"], \"sample\": \"6560ff4ce0b53a1b0bad2e7734f52381\", \"date\": \"2013-08-20\"}\n",
            "{\"guess\": \"French\", \"target\": \"French\", \"country\": \"AU\", \"choices\": [\"Croatian\", \"Dinka\", \"French\", \"Hungarian\"], \"sample\": \"92f9e1c17e6df988780527341fdb471d\", \"date\": \"2013-08-20\"}\n",
            "{\"guess\": \"Maltese\", \"target\": \"Maltese\", \"country\": \"AU\", \"choices\": [\"Khmer\", \"Maltese\", \"Norwegian\", \"Swedish\"], \"sample\": \"589feca2e2009ad2e63458f17568cd13\", \"date\": \"2013-08-20\"}\n",
            "{\"guess\": \"Hebrew\", \"target\": \"Hebrew\", \"country\": \"AU\", \"choices\": [\"Fijian\", \"Hebrew\", \"Samoan\", \"Ukrainian\"], \"sample\": \"1dc9a1bf90e4e788906dc716dc18d878\", \"date\": \"2013-08-20\"}\n",
            "{\"guess\": \"Sinhalese\", \"target\": \"Dinka\", \"country\": \"AU\", \"choices\": [\"Dinka\", \"Norwegian\", \"Sinhalese\", \"Urdu\"], \"sample\": \"192e7c59bb734ee762a323219846295b\", \"date\": \"2013-08-20\"}\n",
            "{\"guess\": \"Spanish\", \"target\": \"Bosnian\", \"country\": \"AU\", \"choices\": [\"Bosnian\", \"Latvian\", \"Spanish\", \"Vietnamese\"], \"sample\": \"421df072ac5abde4883d50b1fc789b14\", \"date\": \"2013-08-20\"}\n"
          ],
          "name": "stdout"
        }
      ]
    },
    {
      "cell_type": "markdown",
      "metadata": {
        "id": "oDF2EAwwAwTM"
      },
      "source": [
        "## 4.2 SQL to Rumble"
      ]
    },
    {
      "cell_type": "markdown",
      "metadata": {
        "id": "W2ppgHl4d-kt"
      },
      "source": [
        "The following examples, show how SQL queries can be converted to Sparksoniq queries. Assume that the dataset is accessible with SQL through the table \"entries\".\n",
        "\n",
        "\n",
        "\n"
      ]
    },
    {
      "cell_type": "markdown",
      "metadata": {
        "id": "P8q9Rwq8IzPn"
      },
      "source": [
        "### 4.2.1 Get all games played from Switzerland\n",
        "\n",
        "\n",
        "```sql\n",
        "SELECT *\n",
        "FROM entries\n",
        "WHERE country == \"CH\"\n",
        "```\n"
      ]
    },
    {
      "cell_type": "code",
      "metadata": {
        "id": "A3ZQK0gVHkoI"
      },
      "source": [
        "%%rumble\n",
        "for $i in json-file(\"/tmp/confusion-2014-03-02/confusion-2014-03-02.json\", 10)\n",
        "where $i.country eq \"CH\"\n",
        "return $i"
      ],
      "execution_count": null,
      "outputs": []
    },
    {
      "cell_type": "markdown",
      "metadata": {
        "id": "OG0xJS2KHEF3"
      },
      "source": [
        "### 4.2.2 Get all games played from Switzerland, where the correct answer (target) was \"German\"\n",
        "```sql\n",
        "SELECT *\n",
        "FROM entries\n",
        "WHERE country == \"CH\" AND target == \"German\"\n",
        "```\n",
        "\n",
        "\n"
      ]
    },
    {
      "cell_type": "code",
      "metadata": {
        "id": "EuN0WVltHrXl"
      },
      "source": [
        "%%rumble\n",
        "for $i in json-file(\"/tmp/confusion-2014-03-02/confusion-2014-03-02.json\", 10)\n",
        "where $i.country eq \"CH\" and $i.target eq \"German\"\n",
        "return $i"
      ],
      "execution_count": null,
      "outputs": []
    },
    {
      "cell_type": "markdown",
      "metadata": {
        "id": "jQycXJuCHHJW"
      },
      "source": [
        "### 4.2.3 Get the top 5 games played from Switzerland, where the correct answer (target) was \"German\"\n",
        "```sql\n",
        "SELECT *\n",
        "FROM entries\n",
        "WHERE country == \"CH\" AND target == \"German\"\n",
        "LIMIT 5\n",
        "```\n",
        "\n",
        "\n"
      ]
    },
    {
      "cell_type": "code",
      "metadata": {
        "colab": {
          "base_uri": "https://localhost:8080/"
        },
        "id": "6Brsgs6fHwET",
        "outputId": "5bcdfea1-46c3-4147-c603-844d6e465060"
      },
      "source": [
        "%%rumble\n",
        "let $ch-de_data := for $i in json-file(\"/tmp/confusion-2014-03-02/confusion-2014-03-02.json\", 10)\n",
        "    where $i.country eq \"CH\" and $i.target eq \"German\"\n",
        "    return $i\n",
        "for $j in $ch-de_data\n",
        "count $c\n",
        "where $c <= 5\n",
        "return $j"
      ],
      "execution_count": null,
      "outputs": [
        {
          "output_type": "stream",
          "text": [
            "Took: 0.8944380283355713 ms\n"
          ],
          "name": "stdout"
        },
        {
          "output_type": "execute_result",
          "data": {
            "text/plain": [
              "'There was an error.\\n\\nCode: [FODC0002] (this code can be looked up in the documentation and specifications).\\n\\nLocation information: wasb://rumbletest-2020-11-27t11-41-45-762z@rumbletesthdistorage.blob.core.windows.net/user/sshuser/:LINE:1:COLUMN:29:\\n\\nFile wasb://rumbletest-2020-11-27t11-41-45-762z@rumbletesthdistorage.blob.core.windows.net/user/sshuser/confusion-2014-03-02/confusion-2014-03-02.json not found.'"
            ]
          },
          "metadata": {
            "tags": []
          },
          "execution_count": 67
        }
      ]
    },
    {
      "cell_type": "markdown",
      "metadata": {
        "id": "3ivTnfw5HMZz"
      },
      "source": [
        "### 4.2.4 Get all games played from Switzerland, where the correct answer (target) was \"German\", order them by date (ascending), and return the top 5 rows.\n",
        "```sql\n",
        "SELECT *\n",
        "FROM entries\n",
        "WHERE country == \"CH\" AND target == \"German\"\n",
        "ORDER BY date ASC\n",
        "LIMIT 5\n",
        "```\n",
        "\n",
        "\n"
      ]
    },
    {
      "cell_type": "code",
      "metadata": {
        "id": "YbI3HF2QH-2x"
      },
      "source": [
        "%%rumble\n",
        "let $ch-de_data := for $i in json-file(\"/tmp/confusion-2014-03-02/confusion-2014-03-02.json\", 10)\n",
        "    where $i.country eq \"CH\" and $i.target eq \"German\"\n",
        "    order by $i.date ascending\n",
        "    return $i\n",
        "for $j in $ch-de_data\n",
        "count $c\n",
        "where $c <= 5\n",
        "return $j"
      ],
      "execution_count": null,
      "outputs": []
    },
    {
      "cell_type": "markdown",
      "metadata": {
        "id": "sKmgYw_jHPZ3"
      },
      "source": [
        "### 4.2.5 Get all games played from Switzerland, where the correct answer (target) was \"German\", group them by date, and return for each different date the number of games played.\n",
        "\n",
        "```sql\n",
        "SELECT date, COUNT(*) AS num_games\n",
        "FROM entries\n",
        "WHERE country == \"CH\" AND target == \"German\"\n",
        "GROUP BY date\n",
        "```\n"
      ]
    },
    {
      "cell_type": "code",
      "metadata": {
        "id": "19hMluehIDVR"
      },
      "source": [
        "%%rumble\n",
        "for $i in json-file(\"/tmp/confusion-2014-03-02/confusion-2014-03-02.json\", 10)\n",
        "where $i.country eq \"CH\" and $i.target eq \"German\"\n",
        "group by $d := $i.date\n",
        "return {\"date\": $d, \"num_games\": count($i)}"
      ],
      "execution_count": null,
      "outputs": []
    },
    {
      "cell_type": "markdown",
      "metadata": {
        "id": "qKzNKYFNHSGW"
      },
      "source": [
        "### 4.2.6 Get all games played from Switzerland, group them by date and target, and return for each different date and target the number of games played.\n",
        "\n",
        "\n",
        "NOTE: Rumble has some reserved keywords, for example `date`. If you try to create a variable `$date`, you may get an error, such as `no viable alternative at input 'date'`.\n",
        "\n",
        "```sql\n",
        "SELECT date, target, COUNT(*) AS num_games\n",
        "FROM entries\n",
        "WHERE country == \"CH\"\n",
        "GROUP BY date, target\n",
        "```\n",
        "\n",
        "\n"
      ]
    },
    {
      "cell_type": "code",
      "metadata": {
        "id": "oO8wXP9TIGw1"
      },
      "source": [
        "%%rumble\n",
        "for $i in json-file(\"/tmp/confusion-2014-03-02/confusion-2014-03-02.json\", 10)\n",
        "where $i.country eq \"CH\"\n",
        "group by $d := $i.date, $target := $i.target\n",
        "return {\"date\": $d, \"target\": $target, \"num_games\": count($i)}\n"
      ],
      "execution_count": null,
      "outputs": []
    },
    {
      "cell_type": "markdown",
      "metadata": {
        "id": "IAjnh_H2HUa1"
      },
      "source": [
        "### 4.2.7 For all games played from Switzerland, return the distinct targets of those games.\n",
        "\n",
        "```sql\n",
        "SELECT DISTINCT(target)\n",
        "FROM entries\n",
        "WHERE country == \"CH\"\n",
        "```\n",
        "\n",
        "\n"
      ]
    },
    {
      "cell_type": "code",
      "metadata": {
        "id": "qfS7prkYIMCN"
      },
      "source": [
        "%%rumble\n",
        "let $targets := for $i in json-file(\"/tmp/confusion-2014-03-02/confusion-2014-03-02.json\", 10)\n",
        "  where $i.country eq \"CH\"\n",
        "  return $i.target\n",
        "return distinct-values($targets)"
      ],
      "execution_count": null,
      "outputs": []
    },
    {
      "cell_type": "markdown",
      "metadata": {
        "id": "yVvQBpVxHWuz"
      },
      "source": [
        "### 4.2.8 For all games played from Switzerland, get the distinct targets of those games, and return the index of \"German\" in the list of distinct targets.\n",
        "\n",
        "\n"
      ]
    },
    {
      "cell_type": "code",
      "metadata": {
        "id": "C9zQLBnwISRB"
      },
      "source": [
        "%%rumble\n",
        "let $targets := for $i in json-file(\"/tmp/confusion-2014-03-02/confusion-2014-03-02.json\", 10)\n",
        "    where $i.country eq \"CH\"\n",
        "    return $i.target\n",
        "return index-of(distinct-values($targets), \"German\")\n"
      ],
      "execution_count": null,
      "outputs": []
    },
    {
      "cell_type": "markdown",
      "metadata": {
        "id": "XW8fQM8WHYt7"
      },
      "source": [
        "### 4.2.9 Count the number of games played from Switzerland (without any grouping).\n",
        "\n",
        "\n",
        "NOTE: `distinct-values` and `index-of` work on \"sequences\". The method `json-file` returns a sequence. If you have an array on which you want to apply `distinct-values` and `index-of`, you must first convert it to a sequence. This can be done with `[]`. For example, if you have an array called `arr`, you can find its distinct values with `distinct-values(arr[])`\n",
        "\n",
        "```sql\n",
        "SELECT COUNT(*) AS count\n",
        "FROM entries\n",
        "WHERE country == \"CH\"\n",
        "```\n"
      ]
    },
    {
      "cell_type": "code",
      "metadata": {
        "colab": {
          "base_uri": "https://localhost:8080/"
        },
        "id": "0wXZLNPLIayV",
        "outputId": "4c65ffe5-0bac-4efa-bb42-5abefce423c0"
      },
      "source": [
        "%%rumble\n",
        "count(for $i in json-file(\"/tmp/confusion-2014-03-02/confusion-2014-03-02.json\", 10)\n",
        "    where $i.country eq \"CH\"\n",
        "    return $i\n",
        ")"
      ],
      "execution_count": null,
      "outputs": [
        {
          "output_type": "stream",
          "text": [
            "Took: 56.5088267326355 ms\n",
            "135347\n"
          ],
          "name": "stdout"
        }
      ]
    },
    {
      "cell_type": "markdown",
      "metadata": {
        "id": "s2ljO3Wyd-kt"
      },
      "source": [
        "If in your query you want to join 2 (or more) sequences (results of `json-file` or subqueries), you can do it in the following way:\n",
        "```\n",
        "let $seq1 := ...\n",
        "let $seq2 := ...\n",
        "for $i in $seq1, $j in $seq2\n",
        "where $i.attr1 eq $j.attr2\n",
        "...\n",
        "```"
      ]
    },
    {
      "cell_type": "markdown",
      "metadata": {
        "id": "PE_9pQzhAOyo"
      },
      "source": [
        "## 4.3 More queries"
      ]
    },
    {
      "cell_type": "markdown",
      "metadata": {
        "id": "FxrwoBIxd-kt"
      },
      "source": [
        "Try writing a few more queries:\n",
        "- List all chosen answers to games where the guessed language is correct (=target)."
      ]
    },
    {
      "cell_type": "code",
      "metadata": {
        "colab": {
          "base_uri": "https://localhost:8080/"
        },
        "id": "2pFtHHOed-kt",
        "outputId": "0a7e0be5-bef7-4236-a204-7bc222ea096b"
      },
      "source": [
        "%%rumble\n",
        "distinct-values(\n",
        "    for $i in json-file(\"/tmp/confusion-2014-03-02/confusion-2014-03-02.json\", 10)\n",
        "    where $i.target eq $i.guess\n",
        "    return $i.guess\n",
        ")"
      ],
      "execution_count": null,
      "outputs": [
        {
          "output_type": "stream",
          "text": [
            "Took: 151.67749190330505 ms\n",
            "\"Serbian\"\n",
            "\"Kannada\"\n",
            "\"Italian\"\n",
            "\"Thai\"\n",
            "\"Icelandic\"\n",
            "\"Bosnian\"\n",
            "\"Malay\"\n",
            "\"Estonian\"\n",
            "\"Punjabi\"\n",
            "\"Malayalam\"\n",
            "\"Samoan\"\n",
            "\"Macedonian\"\n",
            "\"Bangla\"\n",
            "\"Farsi\"\n",
            "\"Vietnamese\"\n",
            "\"Portuguese\"\n",
            "\"Hindi\"\n",
            "\"Korean\"\n",
            "\"Central Tibetan\"\n",
            "\"German\"\n",
            "\"Scottish Gaelic\"\n",
            "\"Swahili\"\n",
            "\"Latvian\"\n",
            "\"Tamil\"\n",
            "\"Bulgarian\"\n",
            "\"Northern Ndebele\"\n",
            "\"Khmer\"\n",
            "\"Gujarati\"\n",
            "\"Croatian\"\n",
            "\"Maltese\"\n",
            "\"Fijian\"\n",
            "\"Czech\"\n",
            "\"Russian\"\n",
            "\"Maori\"\n",
            "\"Yiddish\"\n",
            "\"Greek\"\n",
            "\"Dari\"\n",
            "\"Lao\"\n",
            "\"Indonesian\"\n",
            "\"Dutch\"\n",
            "\"Kurdish\"\n",
            "\"Shona\"\n",
            "\"Tagalog\"\n",
            "\"Armenian\"\n",
            "\"Welsh\"\n",
            "\"Slovenian\"\n",
            "\"Nepali\"\n",
            "\"Ukrainian\"\n",
            "\"Albanian\"\n",
            "\"Urdu\"\n",
            "\"Sinhalese\"\n",
            "\"Assyrian\"\n",
            "\"Mandarin\"\n",
            "\"Somali\"\n",
            "\"Dinka\"\n",
            "\"Japanese\"\n",
            "\"Polish\"\n",
            "\"Romanian\"\n",
            "\"Arabic\"\n",
            "\"Northern Sami\"\n",
            "\"Slovak\"\n",
            "\"French\"\n",
            "\"Spanish\"\n",
            "\"Cantonese\"\n",
            "\"Turkish\"\n",
            "\"Norwegian\"\n",
            "\"Hausa\"\n",
            "\"South Efate\"\n",
            "\"Hebrew\"\n",
            "\"Amharic\"\n",
            "\"Finnish\"\n",
            "\"Tongan\"\n",
            "\"Burmese\"\n",
            "\"Swedish\"\n",
            "\"Danish\"\n",
            "\"Basque\"\n",
            "\"Hungarian\"\n",
            "\"Tigrinya\"\n"
          ],
          "name": "stdout"
        }
      ]
    },
    {
      "cell_type": "markdown",
      "metadata": {
        "id": "n4XpGln4d-ku"
      },
      "source": [
        "- Count the games where the index of the correct answer in the choices array is 2 (as returned by the index-of method)."
      ]
    },
    {
      "cell_type": "code",
      "metadata": {
        "colab": {
          "base_uri": "https://localhost:8080/"
        },
        "id": "Ubmh2smkd-ku",
        "outputId": "00388bda-819c-4f50-b5b5-4d560f4ccc2b"
      },
      "source": [
        "%%rumble\n",
        "count(\n",
        "    for $i in json-file(\"/tmp/confusion-2014-03-02/confusion-2014-03-02.json\", 10)\n",
        "    where index-of($i.choices[], $i.target) eq 2\n",
        "    return $i\n",
        ")"
      ],
      "execution_count": null,
      "outputs": [
        {
          "output_type": "stream",
          "text": [
            "Took: 75.16042017936707 ms\n",
            "6008820\n"
          ],
          "name": "stdout"
        }
      ]
    },
    {
      "cell_type": "markdown",
      "metadata": {
        "id": "X_-pBCWtd-ku"
      },
      "source": [
        "- Return all games played on February 3rd 2014."
      ]
    },
    {
      "cell_type": "code",
      "metadata": {
        "colab": {
          "base_uri": "https://localhost:8080/"
        },
        "id": "DX82UVhid-ku",
        "outputId": "bdf21450-5ed4-41a9-af1f-bfd5683f5fff"
      },
      "source": [
        "%%rumble\n",
        "for $i in json-file(\"/tmp/confusion-2014-03-02/confusion-2014-03-02.json\", 10)\n",
        "where $i.date eq \"2014-02-03\"\n",
        "return $i"
      ],
      "execution_count": null,
      "outputs": [
        {
          "output_type": "stream",
          "text": [
            "Took: 119.27945518493652 ms\n",
            "\"Warning! The output sequence contains 38940 items but its materialization was capped at 200 items. This value can be configured with the result-size parameter in the query string of the HTTP request.\"\n",
            "{\"guess\": \"Kurdish\", \"target\": \"Kurdish\", \"country\": \"CA\", \"choices\": [\"Kurdish\", \"Romanian\"], \"sample\": \"6c50f5972917a1ab11328233ef50db72\", \"date\": \"2014-02-03\"}\n",
            "{\"guess\": \"Norwegian\", \"target\": \"Danish\", \"country\": \"CA\", \"choices\": [\"Danish\", \"Norwegian\"], \"sample\": \"99cbb382f36c87a89d8169de36e4414d\", \"date\": \"2014-02-03\"}\n",
            "{\"guess\": \"Assyrian\", \"target\": \"Dari\", \"country\": \"CA\", \"choices\": [\"Assyrian\", \"Dari\"], \"sample\": \"f8c25418c2675fa8c3278aa7a21678f6\", \"date\": \"2014-02-03\"}\n",
            "{\"guess\": \"Slovak\", \"target\": \"Slovak\", \"country\": \"CA\", \"choices\": [\"Farsi\", \"Slovak\"], \"sample\": \"c8f4c9a5c3a919644b8a3e8fa2407d7d\", \"date\": \"2014-02-03\"}\n",
            "{\"guess\": \"Italian\", \"target\": \"Italian\", \"country\": \"CA\", \"choices\": [\"Italian\", \"Welsh\"], \"sample\": \"465d54ddd2b1237d3cbd359dbf3150e7\", \"date\": \"2014-02-03\"}\n",
            "{\"guess\": \"Italian\", \"target\": \"Italian\", \"country\": \"CA\", \"choices\": [\"Hungarian\", \"Italian\", \"Northern Ndebele\"], \"sample\": \"5ba910be0498e57bb2277c41ce4bfdad\", \"date\": \"2014-02-03\"}\n",
            "{\"guess\": \"Hebrew\", \"target\": \"Nepali\", \"country\": \"CA\", \"choices\": [\"Hebrew\", \"Nepali\", \"Swedish\"], \"sample\": \"a7ed842c78a7c6eee5ff90bea3a7505a\", \"date\": \"2014-02-03\"}\n",
            "{\"guess\": \"Czech\", \"target\": \"Czech\", \"country\": \"CA\", \"choices\": [\"Assyrian\", \"Czech\"], \"sample\": \"e1b51bffc1ef6f7ee43865c3f63b361d\", \"date\": \"2014-02-03\"}\n",
            "{\"guess\": \"Bangla\", \"target\": \"Bangla\", \"country\": \"US\", \"choices\": [\"Bangla\", \"South Efate\"], \"sample\": \"b2132278200e1e601b6814a15fdabcc1\", \"date\": \"2014-02-03\"}\n",
            "{\"guess\": \"Estonian\", \"target\": \"Estonian\", \"country\": \"US\", \"choices\": [\"Amharic\", \"Estonian\"], \"sample\": \"40960ae5f24504ae80b86c8e15b5e480\", \"date\": \"2014-02-03\"}\n",
            "{\"guess\": \"Nepali\", \"target\": \"Nepali\", \"country\": \"US\", \"choices\": [\"Nepali\", \"Scottish Gaelic\"], \"sample\": \"8f21b08f3a1f0f0f77bd44a8a79ff503\", \"date\": \"2014-02-03\"}\n",
            "{\"guess\": \"Bangla\", \"target\": \"Bangla\", \"country\": \"US\", \"choices\": [\"Bangla\", \"Latvian\"], \"sample\": \"2097edfb7d3a9b59fffad5ddc8aea4d4\", \"date\": \"2014-02-03\"}\n",
            "{\"guess\": \"Spanish\", \"target\": \"Spanish\", \"country\": \"US\", \"choices\": [\"Armenian\", \"Spanish\"], \"sample\": \"d8d9dfa02ff280d107d54fd8f19ab5bb\", \"date\": \"2014-02-03\"}\n",
            "{\"guess\": \"Tagalog\", \"target\": \"Thai\", \"country\": \"US\", \"choices\": [\"Somali\", \"Tagalog\", \"Thai\"], \"sample\": \"74b5340a230b1e0c1d45787bc4280b05\", \"date\": \"2014-02-03\"}\n",
            "{\"guess\": \"Estonian\", \"target\": \"Estonian\", \"country\": \"US\", \"choices\": [\"Estonian\", \"Indonesian\"], \"sample\": \"40960ae5f24504ae80b86c8e15b5e480\", \"date\": \"2014-02-03\"}\n",
            "{\"guess\": \"Hebrew\", \"target\": \"Bangla\", \"country\": \"US\", \"choices\": [\"Bangla\", \"Hebrew\"], \"sample\": \"b64dee2e962d39266129f3d024ca953c\", \"date\": \"2014-02-03\"}\n",
            "{\"guess\": \"Central Tibetan\", \"target\": \"Central Tibetan\", \"country\": \"US\", \"choices\": [\"Central Tibetan\", \"Danish\", \"Romanian\"], \"sample\": \"677d40e5c22d87add009a41cd41f17e1\", \"date\": \"2014-02-03\"}\n",
            "{\"guess\": \"French\", \"target\": \"French\", \"country\": \"US\", \"choices\": [\"French\", \"Latvian\", \"Mandarin\"], \"sample\": \"a892b7fd27c34fc81b65c0bb93113846\", \"date\": \"2014-02-03\"}\n",
            "{\"guess\": \"Finnish\", \"target\": \"Finnish\", \"country\": \"US\", \"choices\": [\"Finnish\", \"Maltese\"], \"sample\": \"76e16d2ed298968ff397294b18f04831\", \"date\": \"2014-02-03\"}\n",
            "{\"guess\": \"Khmer\", \"target\": \"Khmer\", \"country\": \"US\", \"choices\": [\"Dinka\", \"Khmer\"], \"sample\": \"b5ccd60da575cfaf1c5bf857a76c1a8c\", \"date\": \"2014-02-03\"}\n",
            "{\"guess\": \"Bulgarian\", \"target\": \"Bulgarian\", \"country\": \"US\", \"choices\": [\"Bulgarian\", \"Northern Ndebele\", \"Thai\"], \"sample\": \"8102c4494405873dd7b8258a97396351\", \"date\": \"2014-02-03\"}\n",
            "{\"guess\": \"Thai\", \"target\": \"Thai\", \"country\": \"US\", \"choices\": [\"Indonesian\", \"Thai\"], \"sample\": \"ec09e573de88d0ace4c1ddd9cb531e90\", \"date\": \"2014-02-03\"}\n",
            "{\"guess\": \"Latvian\", \"target\": \"Latvian\", \"country\": \"US\", \"choices\": [\"Assyrian\", \"Latvian\", \"Yiddish\"], \"sample\": \"5e609abac81edbf76a58bc1d2a850f12\", \"date\": \"2014-02-03\"}\n",
            "{\"guess\": \"Hungarian\", \"target\": \"Shona\", \"country\": \"US\", \"choices\": [\"Hungarian\", \"Russian\", \"Shona\"], \"sample\": \"2e333c33c1507ab23787f676aca9253f\", \"date\": \"2014-02-03\"}\n",
            "{\"guess\": \"Italian\", \"target\": \"Italian\", \"country\": \"CA\", \"choices\": [\"Italian\", \"Korean\"], \"sample\": \"88f3e5120091cffdf8abeb92b5da90a2\", \"date\": \"2014-02-03\"}\n",
            "{\"guess\": \"French\", \"target\": \"French\", \"country\": \"GB\", \"choices\": [\"French\", \"Italian\"], \"sample\": \"9c1db34cfe8be3c34ccfd6bc24603e56\", \"date\": \"2014-02-03\"}\n",
            "{\"guess\": \"Arabic\", \"target\": \"Urdu\", \"country\": \"US\", \"choices\": [\"Arabic\", \"Urdu\", \"Yiddish\"], \"sample\": \"3520fdcdf2658685928fc37e72ab2134\", \"date\": \"2014-02-03\"}\n",
            "{\"guess\": \"Malay\", \"target\": \"Dinka\", \"country\": \"US\", \"choices\": [\"Dinka\", \"Malay\", \"Serbian\"], \"sample\": \"cd3dffdb83f221e09710cbfbcaffdb31\", \"date\": \"2014-02-03\"}\n",
            "{\"guess\": \"Greek\", \"target\": \"Greek\", \"country\": \"CA\", \"choices\": [\"Greek\", \"Japanese\"], \"sample\": \"17527de743e8a5b5c339fb8ff117f65b\", \"date\": \"2014-02-03\"}\n",
            "{\"guess\": \"Tagalog\", \"target\": \"Tagalog\", \"country\": \"US\", \"choices\": [\"Icelandic\", \"Swedish\", \"Tagalog\"], \"sample\": \"88fc7a702185433de9adeefa0ec18d5c\", \"date\": \"2014-02-03\"}\n",
            "{\"guess\": \"Amharic\", \"target\": \"Hebrew\", \"country\": \"CA\", \"choices\": [\"Amharic\", \"Hebrew\"], \"sample\": \"157085744728e35079622c71804cf722\", \"date\": \"2014-02-03\"}\n",
            "{\"guess\": \"Khmer\", \"target\": \"Khmer\", \"country\": \"GB\", \"choices\": [\"German\", \"Khmer\"], \"sample\": \"714795c596ef0639a385fe620d2c42ab\", \"date\": \"2014-02-03\"}\n",
            "{\"guess\": \"Italian\", \"target\": \"Italian\", \"country\": \"US\", \"choices\": [\"Italian\", \"Korean\", \"Tigrinya\"], \"sample\": \"5ba910be0498e57bb2277c41ce4bfdad\", \"date\": \"2014-02-03\"}\n",
            "{\"guess\": \"Indonesian\", \"target\": \"Indonesian\", \"country\": \"CA\", \"choices\": [\"Icelandic\", \"Indonesian\"], \"sample\": \"96c0ad21acaedd52f652903794afb6f4\", \"date\": \"2014-02-03\"}\n",
            "{\"guess\": \"Czech\", \"target\": \"Czech\", \"country\": \"GB\", \"choices\": [\"Czech\", \"Northern Sami\"], \"sample\": \"19a76f5f531b1fbade0ddb0893747a44\", \"date\": \"2014-02-03\"}\n",
            "{\"guess\": \"Farsi\", \"target\": \"Hindi\", \"country\": \"US\", \"choices\": [\"Central Tibetan\", \"Farsi\", \"Hindi\", \"Portuguese\"], \"sample\": \"568bfed6715c43735f95faef578d7cd5\", \"date\": \"2014-02-03\"}\n",
            "{\"guess\": \"Kurdish\", \"target\": \"Icelandic\", \"country\": \"US\", \"choices\": [\"Icelandic\", \"Kurdish\", \"Russian\", \"Vietnamese\"], \"sample\": \"b6f9d094e25f25f5b9c13901df02d54f\", \"date\": \"2014-02-03\"}\n",
            "{\"guess\": \"Khmer\", \"target\": \"Khmer\", \"country\": \"CA\", \"choices\": [\"Khmer\", \"Norwegian\", \"Serbian\"], \"sample\": \"5305a83cb004e1e9375dd30474728954\", \"date\": \"2014-02-03\"}\n",
            "{\"guess\": \"Arabic\", \"target\": \"Arabic\", \"country\": \"CA\", \"choices\": [\"Arabic\", \"Khmer\", \"Scottish Gaelic\"], \"sample\": \"154ac3670f21586ab168cd376290bcb7\", \"date\": \"2014-02-03\"}\n",
            "{\"guess\": \"Mandarin\", \"target\": \"Mandarin\", \"country\": \"GB\", \"choices\": [\"Albanian\", \"Khmer\", \"Mandarin\"], \"sample\": \"d741b71a302261bdd5571023ee8e5131\", \"date\": \"2014-02-03\"}\n",
            "{\"guess\": \"Punjabi\", \"target\": \"Punjabi\", \"country\": \"GB\", \"choices\": [\"Kurdish\", \"Punjabi\", \"Scottish Gaelic\"], \"sample\": \"d14f8f8b6933e7d9d68104ec7860db77\", \"date\": \"2014-02-03\"}\n",
            "{\"guess\": \"Swedish\", \"target\": \"Swedish\", \"country\": \"CA\", \"choices\": [\"Arabic\", \"Maori\", \"Swedish\"], \"sample\": \"bd17f93a45c823198b790b7ba99975dd\", \"date\": \"2014-02-03\"}\n",
            "{\"guess\": \"Macedonian\", \"target\": \"Romanian\", \"country\": \"US\", \"choices\": [\"Macedonian\", \"Romanian\"], \"sample\": \"0b4ddbcac7e75c14f25fabeaff89a787\", \"date\": \"2014-02-03\"}\n",
            "{\"guess\": \"German\", \"target\": \"Danish\", \"country\": \"US\", \"choices\": [\"Cantonese\", \"Danish\", \"German\", \"Portuguese\"], \"sample\": \"5fdcb0979e1c546ea05d7bd780bd4bc3\", \"date\": \"2014-02-03\"}\n",
            "{\"guess\": \"Macedonian\", \"target\": \"Macedonian\", \"country\": \"GB\", \"choices\": [\"Basque\", \"Danish\", \"Macedonian\"], \"sample\": \"f2b6086f0918df15f3c6a457ce8cc8d4\", \"date\": \"2014-02-03\"}\n",
            "{\"guess\": \"Swedish\", \"target\": \"Bosnian\", \"country\": \"CA\", \"choices\": [\"Bosnian\", \"Spanish\", \"Swedish\", \"Vietnamese\"], \"sample\": \"489486a2afd697932ab3ee31502ed4df\", \"date\": \"2014-02-03\"}\n",
            "{\"guess\": \"Italian\", \"target\": \"Italian\", \"country\": \"US\", \"choices\": [\"Dutch\", \"Italian\"], \"sample\": \"5ba910be0498e57bb2277c41ce4bfdad\", \"date\": \"2014-02-03\"}\n",
            "{\"guess\": \"Japanese\", \"target\": \"Japanese\", \"country\": \"GB\", \"choices\": [\"Dari\", \"Dinka\", \"Japanese\", \"Maori\"], \"sample\": \"f41ae056a4fff8c77508a82976ca6b96\", \"date\": \"2014-02-03\"}\n",
            "{\"guess\": \"Arabic\", \"target\": \"Arabic\", \"country\": \"US\", \"choices\": [\"Albanian\", \"Arabic\"], \"sample\": \"83c6ffcb085ce9c18c0e2aff00dda865\", \"date\": \"2014-02-03\"}\n",
            "{\"guess\": \"German\", \"target\": \"German\", \"country\": \"US\", \"choices\": [\"German\", \"Tigrinya\"], \"sample\": \"1f8b9a59cd75fc429db54dceb6e0594b\", \"date\": \"2014-02-03\"}\n",
            "{\"guess\": \"Turkish\", \"target\": \"Sinhalese\", \"country\": \"US\", \"choices\": [\"Danish\", \"Hausa\", \"Sinhalese\", \"Turkish\"], \"sample\": \"650061b92e1bf9fc20bc9757f333ddbb\", \"date\": \"2014-02-03\"}\n",
            "{\"guess\": \"Macedonian\", \"target\": \"Macedonian\", \"country\": \"CA\", \"choices\": [\"Assyrian\", \"Macedonian\", \"Nepali\", \"Urdu\"], \"sample\": \"8fbe60533f007a91ae8ff2563a1bd568\", \"date\": \"2014-02-03\"}\n",
            "{\"guess\": \"Hebrew\", \"target\": \"Serbian\", \"country\": \"GB\", \"choices\": [\"Hebrew\", \"Hungarian\", \"Polish\", \"Serbian\"], \"sample\": \"ac81d9c1d39252811bf5d9fcfddc2231\", \"date\": \"2014-02-03\"}\n",
            "{\"guess\": \"Thai\", \"target\": \"Thai\", \"country\": \"US\", \"choices\": [\"Mandarin\", \"Thai\", \"Welsh\"], \"sample\": \"65188c09837e66eabd51c36aabe02ec1\", \"date\": \"2014-02-03\"}\n",
            "{\"guess\": \"Maori\", \"target\": \"Maori\", \"country\": \"US\", \"choices\": [\"Mandarin\", \"Maori\", \"Turkish\"], \"sample\": \"bed42a067e94b5bdcf9a9190dc7acae3\", \"date\": \"2014-02-03\"}\n",
            "{\"guess\": \"Burmese\", \"target\": \"Dinka\", \"country\": \"GB\", \"choices\": [\"Burmese\", \"Czech\", \"Dinka\", \"Maori\"], \"sample\": \"4876a6271f6ade83a9bccafc54f96939\", \"date\": \"2014-02-03\"}\n",
            "{\"guess\": \"Bosnian\", \"target\": \"Bosnian\", \"country\": \"CA\", \"choices\": [\"Bosnian\", \"Kannada\", \"Tamil\", \"Thai\"], \"sample\": \"489486a2afd697932ab3ee31502ed4df\", \"date\": \"2014-02-03\"}\n",
            "{\"guess\": \"Punjabi\", \"target\": \"Swahili\", \"country\": \"CA\", \"choices\": [\"Danish\", \"Northern Sami\", \"Punjabi\", \"Swahili\"], \"sample\": \"7c680fa15912b55d487dd4eb05d49879\", \"date\": \"2014-02-03\"}\n",
            "{\"guess\": \"Samoan\", \"target\": \"Samoan\", \"country\": \"GB\", \"choices\": [\"Greek\", \"Maori\", \"Nepali\", \"Samoan\"], \"sample\": \"e0819c7dff9c89b6776d4f0af93fa31f\", \"date\": \"2014-02-03\"}\n",
            "{\"guess\": \"Swahili\", \"target\": \"Swahili\", \"country\": \"US\", \"choices\": [\"Finnish\", \"Hungarian\", \"Swahili\"], \"sample\": \"1b959fe55794f6d4e1ea038bfe336759\", \"date\": \"2014-02-03\"}\n",
            "{\"guess\": \"Italian\", \"target\": \"Italian\", \"country\": \"US\", \"choices\": [\"Italian\", \"Korean\", \"Malay\", \"Mandarin\"], \"sample\": \"88f3e5120091cffdf8abeb92b5da90a2\", \"date\": \"2014-02-03\"}\n",
            "{\"guess\": \"Swahili\", \"target\": \"Swahili\", \"country\": \"US\", \"choices\": [\"Danish\", \"Icelandic\", \"Latvian\", \"Swahili\"], \"sample\": \"1b959fe55794f6d4e1ea038bfe336759\", \"date\": \"2014-02-03\"}\n",
            "{\"guess\": \"Vietnamese\", \"target\": \"Nepali\", \"country\": \"GB\", \"choices\": [\"Croatian\", \"German\", \"Nepali\", \"Vietnamese\"], \"sample\": \"8f21b08f3a1f0f0f77bd44a8a79ff503\", \"date\": \"2014-02-03\"}\n",
            "{\"guess\": \"Kurdish\", \"target\": \"Kurdish\", \"country\": \"US\", \"choices\": [\"Central Tibetan\", \"Kurdish\"], \"sample\": \"765133f5633f31c327f070c4c773447b\", \"date\": \"2014-02-03\"}\n",
            "{\"guess\": \"Finnish\", \"target\": \"Finnish\", \"country\": \"CA\", \"choices\": [\"Finnish\", \"Portuguese\"], \"sample\": \"65b5bf9df0f8ec61111d20c6b48db671\", \"date\": \"2014-02-03\"}\n",
            "{\"guess\": \"Japanese\", \"target\": \"Japanese\", \"country\": \"US\", \"choices\": [\"Bangla\", \"Croatian\", \"Japanese\", \"Tamil\"], \"sample\": \"ef2c59fa2203de131c598892478fb54c\", \"date\": \"2014-02-03\"}\n",
            "{\"guess\": \"Bulgarian\", \"target\": \"Bulgarian\", \"country\": \"US\", \"choices\": [\"Basque\", \"Bulgarian\", \"Japanese\", \"Nepali\", \"Scottish Gaelic\"], \"sample\": \"8102c4494405873dd7b8258a97396351\", \"date\": \"2014-02-03\"}\n",
            "{\"guess\": \"Vietnamese\", \"target\": \"Vietnamese\", \"country\": \"CA\", \"choices\": [\"Burmese\", \"Vietnamese\"], \"sample\": \"8ea6892d1ddca321adc07b05176e3605\", \"date\": \"2014-02-03\"}\n",
            "{\"guess\": \"Japanese\", \"target\": \"Mandarin\", \"country\": \"US\", \"choices\": [\"Japanese\", \"Mandarin\"], \"sample\": \"fc3712715ddc748286256eb7a64f25ab\", \"date\": \"2014-02-03\"}\n",
            "{\"guess\": \"Thai\", \"target\": \"Thai\", \"country\": \"CA\", \"choices\": [\"Malay\", \"Thai\"], \"sample\": \"72432342c45733176c52b0e2f5a48eb6\", \"date\": \"2014-02-03\"}\n",
            "{\"guess\": \"Armenian\", \"target\": \"Assyrian\", \"country\": \"US\", \"choices\": [\"Armenian\", \"Assyrian\", \"Bulgarian\", \"Hindi\", \"Nepali\"], \"sample\": \"16ac545260ae198b7a3d882e06e5f261\", \"date\": \"2014-02-03\"}\n",
            "{\"guess\": \"Ukrainian\", \"target\": \"Ukrainian\", \"country\": \"CA\", \"choices\": [\"Central Tibetan\", \"Lao\", \"Ukrainian\"], \"sample\": \"590cc524a179707e101ac84848523c4a\", \"date\": \"2014-02-03\"}\n",
            "{\"guess\": \"Mandarin\", \"target\": \"Mandarin\", \"country\": \"US\", \"choices\": [\"Mandarin\", \"South Efate\"], \"sample\": \"91ea5345e543ac0c904999cce2538b2a\", \"date\": \"2014-02-03\"}\n",
            "{\"guess\": \"Sinhalese\", \"target\": \"Sinhalese\", \"country\": \"US\", \"choices\": [\"Sinhalese\", \"Slovak\", \"Somali\", \"Welsh\", \"Yiddish\"], \"sample\": \"a7018467815a9fd10272b82d57204f18\", \"date\": \"2014-02-03\"}\n",
            "{\"guess\": \"Burmese\", \"target\": \"Burmese\", \"country\": \"US\", \"choices\": [\"Burmese\", \"Macedonian\"], \"sample\": \"23aefbd96df00123de2fa80b79df6724\", \"date\": \"2014-02-03\"}\n",
            "{\"guess\": \"Romanian\", \"target\": \"Romanian\", \"country\": \"CA\", \"choices\": [\"Finnish\", \"Romanian\", \"Sinhalese\"], \"sample\": \"903fc45cba5245f21deaaca3966f825b\", \"date\": \"2014-02-03\"}\n",
            "{\"guess\": \"Tamil\", \"target\": \"Khmer\", \"country\": \"US\", \"choices\": [\"Khmer\", \"Tamil\"], \"sample\": \"84f7df7508e423234fd1adec4f84e528\", \"date\": \"2014-02-03\"}\n",
            "{\"guess\": \"Russian\", \"target\": \"Russian\", \"country\": \"US\", \"choices\": [\"Icelandic\", \"Russian\"], \"sample\": \"c7df91069e00621ccb58279c514c3ae9\", \"date\": \"2014-02-03\"}\n",
            "{\"guess\": \"Farsi\", \"target\": \"Yiddish\", \"country\": \"US\", \"choices\": [\"Farsi\", \"Hungarian\", \"Thai\", \"Vietnamese\", \"Yiddish\"], \"sample\": \"e11f43a0851aeb6e693187acb1011d51\", \"date\": \"2014-02-03\"}\n",
            "{\"guess\": \"Slovak\", \"target\": \"Slovak\", \"country\": \"US\", \"choices\": [\"Greek\", \"Slovak\"], \"sample\": \"453d459d9474f23beae288ac73d56620\", \"date\": \"2014-02-03\"}\n",
            "{\"guess\": \"Shona\", \"target\": \"Norwegian\", \"country\": \"CA\", \"choices\": [\"Farsi\", \"Norwegian\", \"Shona\"], \"sample\": \"4383d59a89ffd10b8e86d93233e01b5f\", \"date\": \"2014-02-03\"}\n",
            "{\"guess\": \"Mandarin\", \"target\": \"Mandarin\", \"country\": \"US\", \"choices\": [\"Hebrew\", \"Mandarin\", \"Sinhalese\"], \"sample\": \"91ea5345e543ac0c904999cce2538b2a\", \"date\": \"2014-02-03\"}\n",
            "{\"guess\": \"Kurdish\", \"target\": \"Kurdish\", \"country\": \"US\", \"choices\": [\"Kurdish\", \"Thai\"], \"sample\": \"f54dad4973f899ba8e9e26dcca58d625\", \"date\": \"2014-02-03\"}\n",
            "{\"guess\": \"Hindi\", \"target\": \"Hindi\", \"country\": \"US\", \"choices\": [\"German\", \"Hindi\", \"Scottish Gaelic\"], \"sample\": \"6026a2a7e3bee578e9479248134315ed\", \"date\": \"2014-02-03\"}\n",
            "{\"guess\": \"Samoan\", \"target\": \"Hindi\", \"country\": \"CA\", \"choices\": [\"Hindi\", \"Samoan\"], \"sample\": \"b04f555ac04b11bbe45f4761978cbe7e\", \"date\": \"2014-02-03\"}\n",
            "{\"guess\": \"Lao\", \"target\": \"Lao\", \"country\": \"US\", \"choices\": [\"Italian\", \"Lao\"], \"sample\": \"426f138c73f21e29eafe30a9797c6e4f\", \"date\": \"2014-02-03\"}\n",
            "{\"guess\": \"Russian\", \"target\": \"Russian\", \"country\": \"CA\", \"choices\": [\"Croatian\", \"Russian\", \"Tagalog\"], \"sample\": \"b47f4d13895bb9bd11505606bdf2a306\", \"date\": \"2014-02-03\"}\n",
            "{\"guess\": \"Bulgarian\", \"target\": \"Bulgarian\", \"country\": \"US\", \"choices\": [\"Bulgarian\", \"Spanish\"], \"sample\": \"06ea4f07ebdb886531d3b644dd46d946\", \"date\": \"2014-02-03\"}\n",
            "{\"guess\": \"Japanese\", \"target\": \"Japanese\", \"country\": \"US\", \"choices\": [\"Czech\", \"Japanese\", \"Welsh\"], \"sample\": \"f41ae056a4fff8c77508a82976ca6b96\", \"date\": \"2014-02-03\"}\n",
            "{\"guess\": \"Spanish\", \"target\": \"Spanish\", \"country\": \"US\", \"choices\": [\"Spanish\", \"Welsh\"], \"sample\": \"3788c0e0b2519fd7c2985c8987eb14f5\", \"date\": \"2014-02-03\"}\n",
            "{\"guess\": \"Vietnamese\", \"target\": \"Vietnamese\", \"country\": \"CA\", \"choices\": [\"Hindi\", \"Romanian\", \"Turkish\", \"Vietnamese\"], \"sample\": \"8ea6892d1ddca321adc07b05176e3605\", \"date\": \"2014-02-03\"}\n",
            "{\"guess\": \"Urdu\", \"target\": \"Urdu\", \"country\": \"CA\", \"choices\": [\"Nepali\", \"Urdu\"], \"sample\": \"b01dde8ca2fcec5196a9b37d656d6e74\", \"date\": \"2014-02-03\"}\n",
            "{\"guess\": \"Thai\", \"target\": \"Thai\", \"country\": \"US\", \"choices\": [\"Tagalog\", \"Tamil\", \"Thai\"], \"sample\": \"72432342c45733176c52b0e2f5a48eb6\", \"date\": \"2014-02-03\"}\n",
            "{\"guess\": \"Maltese\", \"target\": \"Hebrew\", \"country\": \"US\", \"choices\": [\"Hebrew\", \"Kannada\", \"Maltese\", \"Sinhalese\"], \"sample\": \"1dc9a1bf90e4e788906dc716dc18d878\", \"date\": \"2014-02-03\"}\n",
            "{\"guess\": \"Assyrian\", \"target\": \"Latvian\", \"country\": \"US\", \"choices\": [\"Assyrian\", \"Latvian\", \"Slovenian\"], \"sample\": \"447bcafdbe5d7d69e0db72ab5bfa043a\", \"date\": \"2014-02-03\"}\n",
            "{\"guess\": \"Sinhalese\", \"target\": \"Sinhalese\", \"country\": \"CA\", \"choices\": [\"Amharic\", \"Bangla\", \"Serbian\", \"Sinhalese\"], \"sample\": \"cd46bad9f429289470ca73db1578b8fc\", \"date\": \"2014-02-03\"}\n",
            "{\"guess\": \"Norwegian\", \"target\": \"Norwegian\", \"country\": \"CA\", \"choices\": [\"Bangla\", \"Norwegian\"], \"sample\": \"4d9f0c0982a5131bb57f42e8924ce527\", \"date\": \"2014-02-03\"}\n",
            "{\"guess\": \"Ukrainian\", \"target\": \"Ukrainian\", \"country\": \"US\", \"choices\": [\"Lao\", \"Swedish\", \"Ukrainian\"], \"sample\": \"376eba5874889d82dd552e3a9128c6e7\", \"date\": \"2014-02-03\"}\n",
            "{\"guess\": \"Maltese\", \"target\": \"Maltese\", \"country\": \"US\", \"choices\": [\"Khmer\", \"Latvian\", \"Maltese\", \"Welsh\"], \"sample\": \"88379d5eef1c0f12a8f7e494314bc331\", \"date\": \"2014-02-03\"}\n",
            "{\"guess\": \"Armenian\", \"target\": \"Armenian\", \"country\": \"US\", \"choices\": [\"Armenian\", \"Basque\", \"Finnish\"], \"sample\": \"d34689ff8c3532426256b0963d7df2bb\", \"date\": \"2014-02-03\"}\n",
            "{\"guess\": \"Malay\", \"target\": \"Samoan\", \"country\": \"US\", \"choices\": [\"Greek\", \"Malay\", \"Samoan\", \"Slovenian\"], \"sample\": \"509c36eb58dbce009ccf93f375358d53\", \"date\": \"2014-02-03\"}\n",
            "{\"guess\": \"Slovenian\", \"target\": \"Slovenian\", \"country\": \"CA\", \"choices\": [\"Korean\", \"Slovenian\"], \"sample\": \"d76386a7318c1a8ffd05f74a4469961d\", \"date\": \"2014-02-03\"}\n",
            "{\"guess\": \"Macedonian\", \"target\": \"Albanian\", \"country\": \"CA\", \"choices\": [\"Albanian\", \"Central Tibetan\", \"Dutch\", \"Macedonian\"], \"sample\": \"1dd8e1883037c6305b87afe382c4feba\", \"date\": \"2014-02-03\"}\n",
            "{\"guess\": \"Basque\", \"target\": \"Basque\", \"country\": \"US\", \"choices\": [\"Basque\", \"French\", \"Macedonian\", \"Russian\"], \"sample\": \"b1c8e263e6262cc7a518fd5e6999b559\", \"date\": \"2014-02-03\"}\n",
            "{\"guess\": \"Icelandic\", \"target\": \"Icelandic\", \"country\": \"US\", \"choices\": [\"Icelandic\", \"Polish\"], \"sample\": \"b6f9d094e25f25f5b9c13901df02d54f\", \"date\": \"2014-02-03\"}\n",
            "{\"guess\": \"Russian\", \"target\": \"Russian\", \"country\": \"US\", \"choices\": [\"Hindi\", \"Kannada\", \"Maltese\", \"Russian\"], \"sample\": \"ff5b5a0d34c77d2e2027dad7e4deb094\", \"date\": \"2014-02-03\"}\n",
            "{\"guess\": \"Macedonian\", \"target\": \"Macedonian\", \"country\": \"US\", \"choices\": [\"Dutch\", \"Macedonian\"], \"sample\": \"61b6a6eb2dd98d12066432f450ae95b6\", \"date\": \"2014-02-03\"}\n",
            "{\"guess\": \"Russian\", \"target\": \"Russian\", \"country\": \"CA\", \"choices\": [\"Malayalam\", \"Russian\", \"Somali\"], \"sample\": \"b7df3f9d67cef259fbcaa5abcad9d774\", \"date\": \"2014-02-03\"}\n",
            "{\"guess\": \"Northern Sami\", \"target\": \"Hungarian\", \"country\": \"US\", \"choices\": [\"French\", \"Hungarian\", \"Northern Sami\", \"Scottish Gaelic\"], \"sample\": \"5b731188b14839ba28c74399219e956c\", \"date\": \"2014-02-03\"}\n",
            "{\"guess\": \"Maori\", \"target\": \"Kurdish\", \"country\": \"US\", \"choices\": [\"Kurdish\", \"Maori\"], \"sample\": \"6c50f5972917a1ab11328233ef50db72\", \"date\": \"2014-02-03\"}\n",
            "{\"guess\": \"Spanish\", \"target\": \"Spanish\", \"country\": \"CA\", \"choices\": [\"Croatian\", \"Fijian\", \"Spanish\", \"Swahili\"], \"sample\": \"c57afc7ca3b4a454bf53dbca84bb4523\", \"date\": \"2014-02-03\"}\n",
            "{\"guess\": \"Malayalam\", \"target\": \"Malayalam\", \"country\": \"US\", \"choices\": [\"Greek\", \"Hindi\", \"Malayalam\", \"Urdu\"], \"sample\": \"c9b746b435344cb9f5df70c9db34f57b\", \"date\": \"2014-02-03\"}\n",
            "{\"guess\": \"Gujarati\", \"target\": \"Gujarati\", \"country\": \"US\", \"choices\": [\"Gujarati\", \"Urdu\"], \"sample\": \"e95c34d56f35f444500332e9d868e51c\", \"date\": \"2014-02-03\"}\n",
            "{\"guess\": \"Finnish\", \"target\": \"Northern Sami\", \"country\": \"CA\", \"choices\": [\"Finnish\", \"Lao\", \"Northern Sami\", \"Spanish\", \"Tigrinya\"], \"sample\": \"2afbf234ddac5a25594a2297775682ae\", \"date\": \"2014-02-03\"}\n",
            "{\"guess\": \"Malayalam\", \"target\": \"Malayalam\", \"country\": \"CA\", \"choices\": [\"Czech\", \"Malayalam\", \"Romanian\"], \"sample\": \"73a09a8879e70e8648d7d75d656a5b79\", \"date\": \"2014-02-03\"}\n",
            "{\"guess\": \"Punjabi\", \"target\": \"Malayalam\", \"country\": \"US\", \"choices\": [\"Malayalam\", \"Punjabi\"], \"sample\": \"73a09a8879e70e8648d7d75d656a5b79\", \"date\": \"2014-02-03\"}\n",
            "{\"guess\": \"Northern Sami\", \"target\": \"Khmer\", \"country\": \"US\", \"choices\": [\"Khmer\", \"Northern Sami\"], \"sample\": \"84f7df7508e423234fd1adec4f84e528\", \"date\": \"2014-02-03\"}\n",
            "{\"guess\": \"Czech\", \"target\": \"Czech\", \"country\": \"US\", \"choices\": [\"Croatian\", \"Czech\", \"Hebrew\", \"Swahili\"], \"sample\": \"56626a14b479e47d5eb9568161dad285\", \"date\": \"2014-02-03\"}\n",
            "{\"guess\": \"Kannada\", \"target\": \"Japanese\", \"country\": \"US\", \"choices\": [\"Japanese\", \"Kannada\"], \"sample\": \"c69832b0076815cd7efef646abc78290\", \"date\": \"2014-02-03\"}\n",
            "{\"guess\": \"Gujarati\", \"target\": \"German\", \"country\": \"US\", \"choices\": [\"German\", \"Gujarati\"], \"sample\": \"ffa31d238b6e61f885d3d7b4b7ca0900\", \"date\": \"2014-02-03\"}\n",
            "{\"guess\": \"Greek\", \"target\": \"Portuguese\", \"country\": \"US\", \"choices\": [\"Burmese\", \"Greek\", \"Northern Sami\", \"Portuguese\", \"Shona\"], \"sample\": \"83cf669bf28c0c5caa5aa536ca481873\", \"date\": \"2014-02-03\"}\n",
            "{\"guess\": \"Italian\", \"target\": \"Serbian\", \"country\": \"CA\", \"choices\": [\"Gujarati\", \"Italian\", \"Serbian\"], \"sample\": \"0d5b697ebb326b5043ce7fa60a7b968d\", \"date\": \"2014-02-03\"}\n",
            "{\"guess\": \"Nepali\", \"target\": \"Malay\", \"country\": \"US\", \"choices\": [\"Malay\", \"Nepali\"], \"sample\": \"fffe43269856111df6231c0a57812c90\", \"date\": \"2014-02-03\"}\n",
            "{\"guess\": \"Somali\", \"target\": \"Somali\", \"country\": \"US\", \"choices\": [\"Slovenian\", \"Somali\"], \"sample\": \"ee5ffba9c5cf1d6a1e2d95b0220c06d4\", \"date\": \"2014-02-03\"}\n",
            "{\"guess\": \"Slovenian\", \"target\": \"Slovenian\", \"country\": \"GB\", \"choices\": [\"Gujarati\", \"Slovenian\"], \"sample\": \"f2f07eb5c50e64c627f66566b3c7cc4a\", \"date\": \"2014-02-03\"}\n",
            "{\"guess\": \"Spanish\", \"target\": \"Spanish\", \"country\": \"US\", \"choices\": [\"German\", \"Kannada\", \"Norwegian\", \"Spanish\", \"Tagalog\"], \"sample\": \"c8f4f097079404bf9a0e94d604efd1d5\", \"date\": \"2014-02-03\"}\n",
            "{\"guess\": \"Romanian\", \"target\": \"Romanian\", \"country\": \"US\", \"choices\": [\"Central Tibetan\", \"Romanian\"], \"sample\": \"eb7e104da4cd4fcedf6214df4ff9fb0c\", \"date\": \"2014-02-03\"}\n",
            "{\"guess\": \"Romanian\", \"target\": \"Hausa\", \"country\": \"US\", \"choices\": [\"Danish\", \"Greek\", \"Hausa\", \"Malay\", \"Romanian\"], \"sample\": \"663a70e4f8f3ce6774cf62a9174235f0\", \"date\": \"2014-02-03\"}\n",
            "{\"guess\": \"Slovak\", \"target\": \"Slovak\", \"country\": \"GB\", \"choices\": [\"Slovak\", \"Swahili\"], \"sample\": \"00ad09f8b7b0f643b5368322979af243\", \"date\": \"2014-02-03\"}\n",
            "{\"guess\": \"Swedish\", \"target\": \"Swedish\", \"country\": \"US\", \"choices\": [\"Assyrian\", \"Cantonese\", \"Maltese\", \"Somali\", \"Swedish\"], \"sample\": \"67373ec66e1036cf9ca775cb00d1112f\", \"date\": \"2014-02-03\"}\n",
            "{\"guess\": \"Spanish\", \"target\": \"Spanish\", \"country\": \"CA\", \"choices\": [\"Hebrew\", \"Spanish\", \"Swedish\"], \"sample\": \"3788c0e0b2519fd7c2985c8987eb14f5\", \"date\": \"2014-02-03\"}\n",
            "{\"guess\": \"Tongan\", \"target\": \"Nepali\", \"country\": \"US\", \"choices\": [\"Dari\", \"Nepali\", \"Tongan\"], \"sample\": \"8f21b08f3a1f0f0f77bd44a8a79ff503\", \"date\": \"2014-02-03\"}\n",
            "{\"guess\": \"Vietnamese\", \"target\": \"Vietnamese\", \"country\": \"CA\", \"choices\": [\"Bosnian\", \"Kurdish\", \"Portuguese\", \"Vietnamese\"], \"sample\": \"12f884fce08164e9d4fcc8e81f19abcc\", \"date\": \"2014-02-03\"}\n",
            "{\"guess\": \"Estonian\", \"target\": \"Macedonian\", \"country\": \"GB\", \"choices\": [\"Estonian\", \"Macedonian\"], \"sample\": \"f2b6086f0918df15f3c6a457ce8cc8d4\", \"date\": \"2014-02-03\"}\n",
            "{\"guess\": \"Spanish\", \"target\": \"Spanish\", \"country\": \"US\", \"choices\": [\"Amharic\", \"Burmese\", \"Icelandic\", \"Spanish\", \"Ukrainian\"], \"sample\": \"dc3ace49393de518e87d4f8d3ae8d9db\", \"date\": \"2014-02-03\"}\n",
            "{\"guess\": \"Thai\", \"target\": \"Thai\", \"country\": \"CA\", \"choices\": [\"Hebrew\", \"Maltese\", \"Slovenian\", \"Thai\"], \"sample\": \"72432342c45733176c52b0e2f5a48eb6\", \"date\": \"2014-02-03\"}\n",
            "{\"guess\": \"Slovak\", \"target\": \"Slovak\", \"country\": \"US\", \"choices\": [\"Bosnian\", \"Burmese\", \"Czech\", \"Northern Ndebele\", \"Slovak\", \"Welsh\"], \"sample\": \"c8f4c9a5c3a919644b8a3e8fa2407d7d\", \"date\": \"2014-02-03\"}\n",
            "{\"guess\": \"Hungarian\", \"target\": \"Hungarian\", \"country\": \"CA\", \"choices\": [\"Hungarian\", \"Khmer\", \"Norwegian\", \"Welsh\"], \"sample\": \"923c0d6c9e593966e1b6354cc0d794de\", \"date\": \"2014-02-03\"}\n",
            "{\"guess\": \"Lao\", \"target\": \"Basque\", \"country\": \"US\", \"choices\": [\"Basque\", \"Hungarian\", \"Lao\"], \"sample\": \"b1c8e263e6262cc7a518fd5e6999b559\", \"date\": \"2014-02-03\"}\n",
            "{\"guess\": \"Croatian\", \"target\": \"Croatian\", \"country\": \"GB\", \"choices\": [\"Arabic\", \"Croatian\"], \"sample\": \"849aa9c6c726b2ea26c84eec857817f0\", \"date\": \"2014-02-03\"}\n",
            "{\"guess\": \"Korean\", \"target\": \"Korean\", \"country\": \"US\", \"choices\": [\"Bangla\", \"Bulgarian\", \"Khmer\", \"Korean\", \"Northern Sami\", \"Spanish\"], \"sample\": \"582e271d9a01f5beae1ee3c40d8115ec\", \"date\": \"2014-02-03\"}\n",
            "{\"guess\": \"Danish\", \"target\": \"Greek\", \"country\": \"CA\", \"choices\": [\"Danish\", \"Dari\", \"Greek\", \"Kannada\", \"Lao\"], \"sample\": \"0f43daadf6a1ce6d769fa0daa630b5f6\", \"date\": \"2014-02-03\"}\n",
            "{\"guess\": \"Lao\", \"target\": \"Lao\", \"country\": \"US\", \"choices\": [\"Estonian\", \"Lao\", \"Latvian\", \"Somali\", \"Spanish\", \"Yiddish\"], \"sample\": \"6d248eed3bf3e2a962d9e9f99e8b944d\", \"date\": \"2014-02-03\"}\n",
            "{\"guess\": \"Greek\", \"target\": \"Greek\", \"country\": \"GB\", \"choices\": [\"Burmese\", \"Greek\", \"Maltese\"], \"sample\": \"17527de743e8a5b5c339fb8ff117f65b\", \"date\": \"2014-02-03\"}\n",
            "{\"guess\": \"Dutch\", \"target\": \"Dutch\", \"country\": \"US\", \"choices\": [\"Dutch\", \"Tongan\"], \"sample\": \"65bf2aceadf2520f36a5e548a0471fcf\", \"date\": \"2014-02-03\"}\n",
            "{\"guess\": \"Basque\", \"target\": \"Basque\", \"country\": \"US\", \"choices\": [\"Basque\", \"Tigrinya\"], \"sample\": \"e9ca293dc8c4aa8364ad2877f232b00e\", \"date\": \"2014-02-03\"}\n",
            "{\"guess\": \"Croatian\", \"target\": \"Danish\", \"country\": \"US\", \"choices\": [\"Croatian\", \"Danish\", \"Dari\", \"Italian\", \"Japanese\", \"Punjabi\", \"Yiddish\"], \"sample\": \"2a7c43c1d50df8ab3d92f0bcacc637f9\", \"date\": \"2014-02-03\"}\n",
            "{\"guess\": \"Slovak\", \"target\": \"Bosnian\", \"country\": \"US\", \"choices\": [\"Bosnian\", \"Slovak\"], \"sample\": \"e36a808605adbe2dbdca9c76e5cbfe7c\", \"date\": \"2014-02-03\"}\n",
            "{\"guess\": \"Greek\", \"target\": \"Greek\", \"country\": \"US\", \"choices\": [\"Dutch\", \"Greek\"], \"sample\": \"d6f08d099e6f753b96ede3d475d25106\", \"date\": \"2014-02-03\"}\n",
            "{\"guess\": \"Kurdish\", \"target\": \"Arabic\", \"country\": \"GB\", \"choices\": [\"Arabic\", \"Bosnian\", \"Kurdish\"], \"sample\": \"83c6ffcb085ce9c18c0e2aff00dda865\", \"date\": \"2014-02-03\"}\n",
            "{\"guess\": \"Hebrew\", \"target\": \"Hebrew\", \"country\": \"US\", \"choices\": [\"Hebrew\", \"Malay\"], \"sample\": \"1dc9a1bf90e4e788906dc716dc18d878\", \"date\": \"2014-02-03\"}\n",
            "{\"guess\": \"Russian\", \"target\": \"Russian\", \"country\": \"US\", \"choices\": [\"Cantonese\", \"Russian\"], \"sample\": \"ff5b5a0d34c77d2e2027dad7e4deb094\", \"date\": \"2014-02-03\"}\n",
            "{\"guess\": \"Mandarin\", \"target\": \"Mandarin\", \"country\": \"US\", \"choices\": [\"Greek\", \"Mandarin\"], \"sample\": \"91ea5345e543ac0c904999cce2538b2a\", \"date\": \"2014-02-03\"}\n",
            "{\"guess\": \"Tamil\", \"target\": \"Tamil\", \"country\": \"US\", \"choices\": [\"French\", \"Tamil\"], \"sample\": \"abc78ba952b6df541c0777ac3a966796\", \"date\": \"2014-02-03\"}\n",
            "{\"guess\": \"Maori\", \"target\": \"Maori\", \"country\": \"US\", \"choices\": [\"Czech\", \"Maori\", \"Tamil\"], \"sample\": \"bed42a067e94b5bdcf9a9190dc7acae3\", \"date\": \"2014-02-03\"}\n",
            "{\"guess\": \"Mandarin\", \"target\": \"Mandarin\", \"country\": \"US\", \"choices\": [\"Mandarin\", \"Serbian\"], \"sample\": \"01f51995ae86ff85e899d40768ab81a8\", \"date\": \"2014-02-03\"}\n",
            "{\"guess\": \"Bangla\", \"target\": \"Turkish\", \"country\": \"US\", \"choices\": [\"Bangla\", \"Sinhalese\", \"Turkish\"], \"sample\": \"ee702400fc1f020752ba3381a1b3cf9b\", \"date\": \"2014-02-03\"}\n",
            "{\"guess\": \"Burmese\", \"target\": \"Burmese\", \"country\": \"US\", \"choices\": [\"Burmese\", \"Scottish Gaelic\"], \"sample\": \"23aefbd96df00123de2fa80b79df6724\", \"date\": \"2014-02-03\"}\n",
            "{\"guess\": \"Hausa\", \"target\": \"Hausa\", \"country\": \"GB\", \"choices\": [\"Hausa\", \"Korean\", \"Latvian\"], \"sample\": \"f1c8f61bf85957ab3a1703bf0931baeb\", \"date\": \"2014-02-03\"}\n",
            "{\"guess\": \"Dinka\", \"target\": \"Dinka\", \"country\": \"US\", \"choices\": [\"Dinka\", \"Sinhalese\", \"Ukrainian\"], \"sample\": \"192e7c59bb734ee762a323219846295b\", \"date\": \"2014-02-03\"}\n",
            "{\"guess\": \"Spanish\", \"target\": \"Spanish\", \"country\": \"US\", \"choices\": [\"Kurdish\", \"Spanish\", \"Tongan\"], \"sample\": \"dc3ace49393de518e87d4f8d3ae8d9db\", \"date\": \"2014-02-03\"}\n",
            "{\"guess\": \"Turkish\", \"target\": \"Latvian\", \"country\": \"US\", \"choices\": [\"Bangla\", \"Latvian\", \"Turkish\"], \"sample\": \"ed37bc4d6864872184a04b59c227e4a5\", \"date\": \"2014-02-03\"}\n",
            "{\"guess\": \"German\", \"target\": \"German\", \"country\": \"US\", \"choices\": [\"Cantonese\", \"Dinka\", \"German\"], \"sample\": \"1f8b9a59cd75fc429db54dceb6e0594b\", \"date\": \"2014-02-03\"}\n",
            "{\"guess\": \"Greek\", \"target\": \"Greek\", \"country\": \"GB\", \"choices\": [\"Greek\", \"Maori\", \"Yiddish\"], \"sample\": \"0c2c2ed645123ae7e1695f4554a93949\", \"date\": \"2014-02-03\"}\n",
            "{\"guess\": \"Tamil\", \"target\": \"Tamil\", \"country\": \"US\", \"choices\": [\"Basque\", \"Hindi\", \"Tamil\"], \"sample\": \"abc78ba952b6df541c0777ac3a966796\", \"date\": \"2014-02-03\"}\n",
            "{\"guess\": \"Spanish\", \"target\": \"Spanish\", \"country\": \"US\", \"choices\": [\"Malayalam\", \"Scottish Gaelic\", \"Spanish\"], \"sample\": \"c8f4f097079404bf9a0e94d604efd1d5\", \"date\": \"2014-02-03\"}\n",
            "{\"guess\": \"Armenian\", \"target\": \"Armenian\", \"country\": \"US\", \"choices\": [\"Armenian\", \"Finnish\", \"Scottish Gaelic\"], \"sample\": \"884fb23bbc4cb302cb1148e73b61fc74\", \"date\": \"2014-02-03\"}\n",
            "{\"guess\": \"Northern Sami\", \"target\": \"Northern Sami\", \"country\": \"GB\", \"choices\": [\"Hausa\", \"Northern Sami\", \"Romanian\", \"Shona\"], \"sample\": \"71077b0cb043f4122cbf722f0b82a4c0\", \"date\": \"2014-02-03\"}\n",
            "{\"guess\": \"Greek\", \"target\": \"Greek\", \"country\": \"US\", \"choices\": [\"Basque\", \"Greek\", \"Punjabi\", \"Romanian\"], \"sample\": \"baae21ebf2ed7559960316db289e0e47\", \"date\": \"2014-02-03\"}\n",
            "{\"guess\": \"Nepali\", \"target\": \"Tigrinya\", \"country\": \"US\", \"choices\": [\"Danish\", \"Nepali\", \"Tigrinya\"], \"sample\": \"06858474da62b44704741228a5f23ab3\", \"date\": \"2014-02-03\"}\n",
            "{\"guess\": \"Indonesian\", \"target\": \"Indonesian\", \"country\": \"US\", \"choices\": [\"Indonesian\", \"Welsh\", \"Yiddish\"], \"sample\": \"b8d5d0e85e06b3abe3fe32b6f3f59e50\", \"date\": \"2014-02-03\"}\n",
            "{\"guess\": \"Macedonian\", \"target\": \"Macedonian\", \"country\": \"US\", \"choices\": [\"Kannada\", \"Macedonian\", \"Malayalam\", \"Serbian\"], \"sample\": \"f2b6086f0918df15f3c6a457ce8cc8d4\", \"date\": \"2014-02-03\"}\n",
            "{\"guess\": \"Greek\", \"target\": \"Greek\", \"country\": \"IT\", \"choices\": [\"German\", \"Greek\"], \"sample\": \"0f43daadf6a1ce6d769fa0daa630b5f6\", \"date\": \"2014-02-03\"}\n",
            "{\"guess\": \"Gujarati\", \"target\": \"Latvian\", \"country\": \"US\", \"choices\": [\"German\", \"Gujarati\", \"Italian\", \"Latvian\"], \"sample\": \"5aea2b93784263ae4b5a2524ddebebb2\", \"date\": \"2014-02-03\"}\n",
            "{\"guess\": \"Sinhalese\", \"target\": \"Sinhalese\", \"country\": \"US\", \"choices\": [\"Burmese\", \"Indonesian\", \"Sinhalese\", \"Tigrinya\"], \"sample\": \"cd46bad9f429289470ca73db1578b8fc\", \"date\": \"2014-02-03\"}\n",
            "{\"guess\": \"Dinka\", \"target\": \"Dinka\", \"country\": \"GB\", \"choices\": [\"Amharic\", \"Dinka\", \"Hausa\", \"Norwegian\"], \"sample\": \"cd3dffdb83f221e09710cbfbcaffdb31\", \"date\": \"2014-02-03\"}\n",
            "{\"guess\": \"Bosnian\", \"target\": \"Bosnian\", \"country\": \"CA\", \"choices\": [\"Bosnian\", \"Hebrew\"], \"sample\": \"421df072ac5abde4883d50b1fc789b14\", \"date\": \"2014-02-03\"}\n",
            "{\"guess\": \"Portuguese\", \"target\": \"Somali\", \"country\": \"US\", \"choices\": [\"Croatian\", \"Portuguese\", \"Somali\"], \"sample\": \"70e21411ebd66064b45688e63d759c51\", \"date\": \"2014-02-03\"}\n",
            "{\"guess\": \"Hungarian\", \"target\": \"Hungarian\", \"country\": \"PL\", \"choices\": [\"Croatian\", \"Hungarian\"], \"sample\": \"cb1a1c1c93ab6e802560855ca5f015f7\", \"date\": \"2014-02-03\"}\n",
            "{\"guess\": \"Sinhalese\", \"target\": \"Sinhalese\", \"country\": \"US\", \"choices\": [\"Amharic\", \"Maori\", \"Sinhalese\", \"Slovenian\"], \"sample\": \"755de9092b301614712fae5e1d2d47d3\", \"date\": \"2014-02-03\"}\n",
            "{\"guess\": \"Serbian\", \"target\": \"Swedish\", \"country\": \"CA\", \"choices\": [\"Serbian\", \"Swedish\"], \"sample\": \"dfe8192c1bbd80b44ea4409d9889dc90\", \"date\": \"2014-02-03\"}\n",
            "{\"guess\": \"Bulgarian\", \"target\": \"Bulgarian\", \"country\": \"US\", \"choices\": [\"Bulgarian\", \"Greek\", \"Malay\", \"Sinhalese\"], \"sample\": \"8102c4494405873dd7b8258a97396351\", \"date\": \"2014-02-03\"}\n",
            "{\"guess\": \"Bosnian\", \"target\": \"Bosnian\", \"country\": \"PL\", \"choices\": [\"Bangla\", \"Bosnian\"], \"sample\": \"e36a808605adbe2dbdca9c76e5cbfe7c\", \"date\": \"2014-02-03\"}\n",
            "{\"guess\": \"Tagalog\", \"target\": \"Tagalog\", \"country\": \"IT\", \"choices\": [\"Scottish Gaelic\", \"Tagalog\"], \"sample\": \"0c951f12af48b7ead6a3549707695906\", \"date\": \"2014-02-03\"}\n",
            "{\"guess\": \"South Efate\", \"target\": \"Welsh\", \"country\": \"CA\", \"choices\": [\"South Efate\", \"Welsh\"], \"sample\": \"e3f9b671919e56fd035ba7b982fb7f9d\", \"date\": \"2014-02-03\"}\n",
            "{\"guess\": \"Macedonian\", \"target\": \"Macedonian\", \"country\": \"US\", \"choices\": [\"Basque\", \"French\", \"Hausa\", \"Macedonian\", \"Mandarin\"], \"sample\": \"8fbe60533f007a91ae8ff2563a1bd568\", \"date\": \"2014-02-03\"}\n",
            "{\"guess\": \"Dinka\", \"target\": \"Fijian\", \"country\": \"US\", \"choices\": [\"Dinka\", \"Fijian\", \"Finnish\", \"Italian\"], \"sample\": \"93b8857d01978401e679f0bde0a7b5b0\", \"date\": \"2014-02-03\"}\n",
            "{\"guess\": \"Hungarian\", \"target\": \"Hungarian\", \"country\": \"GB\", \"choices\": [\"Dinka\", \"Hungarian\", \"Mandarin\", \"Russian\"], \"sample\": \"5b731188b14839ba28c74399219e956c\", \"date\": \"2014-02-03\"}\n",
            "{\"guess\": \"Somali\", \"target\": \"Somali\", \"country\": \"PL\", \"choices\": [\"Bangla\", \"Somali\"], \"sample\": \"4332fb514d4b4746a187579e0c028b6f\", \"date\": \"2014-02-03\"}\n",
            "{\"guess\": \"Urdu\", \"target\": \"Bangla\", \"country\": \"CA\", \"choices\": [\"Bangla\", \"Urdu\"], \"sample\": \"b64dee2e962d39266129f3d024ca953c\", \"date\": \"2014-02-03\"}\n",
            "{\"guess\": \"Finnish\", \"target\": \"Hungarian\", \"country\": \"CA\", \"choices\": [\"Finnish\", \"Hungarian\"], \"sample\": \"7efab6f0c61694ba6e8aa72843d1bf15\", \"date\": \"2014-02-03\"}\n",
            "{\"guess\": \"Japanese\", \"target\": \"Japanese\", \"country\": \"IT\", \"choices\": [\"Japanese\", \"Malayalam\"], \"sample\": \"3569611136ea04bab18a0cd605ced358\", \"date\": \"2014-02-03\"}\n",
            "{\"guess\": \"Tamil\", \"target\": \"Tamil\", \"country\": \"US\", \"choices\": [\"Arabic\", \"Basque\", \"Russian\", \"Tamil\"], \"sample\": \"cc305dcad696147e28c6f36615aa0952\", \"date\": \"2014-02-03\"}\n",
            "{\"guess\": \"Russian\", \"target\": \"Russian\", \"country\": \"PL\", \"choices\": [\"Czech\", \"Farsi\", \"Russian\"], \"sample\": \"ff5b5a0d34c77d2e2027dad7e4deb094\", \"date\": \"2014-02-03\"}\n",
            "{\"guess\": \"Yiddish\", \"target\": \"Somali\", \"country\": \"US\", \"choices\": [\"Albanian\", \"Hungarian\", \"Russian\", \"Somali\", \"Yiddish\"], \"sample\": \"ee5ffba9c5cf1d6a1e2d95b0220c06d4\", \"date\": \"2014-02-03\"}\n",
            "{\"guess\": \"Polish\", \"target\": \"Polish\", \"country\": \"PL\", \"choices\": [\"Farsi\", \"Fijian\", \"Polish\"], \"sample\": \"2268bc4db45078e37d0fd1b2c53eb9c9\", \"date\": \"2014-02-03\"}\n",
            "{\"guess\": \"Albanian\", \"target\": \"Albanian\", \"country\": \"IT\", \"choices\": [\"Albanian\", \"Icelandic\", \"Spanish\"], \"sample\": \"efcd813daec1c836d9f030b30caa07ce\", \"date\": \"2014-02-03\"}\n",
            "{\"guess\": \"Central Tibetan\", \"target\": \"Central Tibetan\", \"country\": \"GB\", \"choices\": [\"Burmese\", \"Central Tibetan\", \"Czech\", \"Macedonian\", \"Romanian\"], \"sample\": \"0f715dd678b7ca7c16d3859be106a16e\", \"date\": \"2014-02-03\"}\n",
            "{\"guess\": \"Estonian\", \"target\": \"Estonian\", \"country\": \"PL\", \"choices\": [\"Estonian\", \"Hungarian\", \"Ukrainian\"], \"sample\": \"db77d49769e3b4dc7b7fa660c9935022\", \"date\": \"2014-02-03\"}\n",
            "{\"guess\": \"Thai\", \"target\": \"Latvian\", \"country\": \"CA\", \"choices\": [\"Latvian\", \"Thai\"], \"sample\": \"5aea2b93784263ae4b5a2524ddebebb2\", \"date\": \"2014-02-03\"}\n"
          ],
          "name": "stdout"
        }
      ]
    },
    {
      "cell_type": "markdown",
      "metadata": {
        "id": "krkZtmzIFVdZ"
      },
      "source": [
        "# 5. More nestedness\n",
        "## 5.1 Create Nestedness\n",
        "You may remember in the exercise of Spark Dataframes & Spark SQL, we mentioned two methods <font face=\"courier\">collect_set/collect_list</font> for creating arrays. In JSONiq, this kind of things become even simpler because JSONiq natively supports JSON, so we can directly create arrays via adding square brackets (<font face=\"courier\">[]</font>) and even without any group by operations. \n",
        "\n",
        "For example, if we want to know the list of date at which \"Fijian\" was used as the target, we can write a simple JSONiq query:"
      ]
    },
    {
      "cell_type": "code",
      "metadata": {
        "id": "xiRw7YmmspKH"
      },
      "source": [
        "%%rumble\n",
        "let $dateSeq := for $i in json-file(\"/tmp/confusion-2014-03-02/confusion-2014-03-02.json\", 10)\n",
        "where $i.target eq \"Fijian\"\n",
        "return $i.date\n",
        "return [$dateSeq]"
      ],
      "execution_count": null,
      "outputs": []
    },
    {
      "cell_type": "markdown",
      "metadata": {
        "id": "osB2WIpFtiQY"
      },
      "source": [
        "The above query is basically a counterpart of a Spark Dataframe query with <font face=\"courier\">collect_list</font>. If we want to imitate the behavior of <font face=\"courier\">collect_set</font>, which means we want the result array to be de-duplicated, we can just resort to <font face=\"courier\">distinct-values</font>:"
      ]
    },
    {
      "cell_type": "code",
      "metadata": {
        "id": "Vkan5XiAvK24"
      },
      "source": [
        "%%rumble\n",
        "let $dateSeq := for $i in json-file(\"/tmp/confusion-2014-03-02/confusion-2014-03-02.json\", 10)\n",
        "where $i.target eq \"Fijian\"\n",
        "return $i.date\n",
        "return [distinct-values($dateSeq)]"
      ],
      "execution_count": null,
      "outputs": []
    },
    {
      "cell_type": "markdown",
      "metadata": {
        "id": "5Qc0PoMEvckO"
      },
      "source": [
        "Now what if we want to know for each different language, the de-duplicated list of date at which it was used as a target? We may need group by again. Try to come up with the query on your own. What might be the difference in the query with and without group by?\n",
        "\n",
        "**Note:** from here we use a truncated dataset to run the query because the query on the original dataset might take very long and consume a humongous amount of memory. The most important thing is not about the answer, but to come up with proper queries."
      ]
    },
    {
      "cell_type": "code",
      "metadata": {
        "id": "2k2OOOFjwLah"
      },
      "source": [
        "%%rumble\n",
        "let $truncated := for $i in json-file(\"/tmp/confusion-2014-03-02/confusion-2014-03-02.json\", 10) \n",
        "  count $c \n",
        "  where $c <= 100000 \n",
        "  return $i\n",
        "for $i in $truncated\n",
        "group by $j := $i.target\n",
        "return {\"language\":$j, \"dates\":[distinct-values($i.date)]}"
      ],
      "execution_count": null,
      "outputs": []
    },
    {
      "cell_type": "markdown",
      "metadata": {
        "id": "2CqJOpf2wnHL"
      },
      "source": [
        "The difference is, if there's group by in a query, after group by, the loop variable (\\$i in the above query) will no longer be a single entry, but instead bound to the **sequence** corresponding to each group, which means we can directly apply functions like distinct-values to \\$i. \\\n",
        "In the query above without group by, \\$i always corresponds to one entry, so there's no point to do things like distinct-values(\\$i.date). This is why we need to get the intermediate result $dataSeq, and then create arrays and apply distinct-values on this whole sequence."
      ]
    },
    {
      "cell_type": "markdown",
      "metadata": {
        "id": "z93zj9pax-5t"
      },
      "source": [
        "Obviously, unlike <font face=\"courier\">collect_set/collect_list</font> which only accept one column and create arrays on that very column, JSONiq can create arrays on arbitrary things. For example, if we want to highlight the information of date, we can create a new dataset that shows the game info for each date:"
      ]
    },
    {
      "cell_type": "code",
      "metadata": {
        "id": "msN8hw19ytF9"
      },
      "source": [
        "%%rumble\n",
        "let $truncated := for $i in json-file(\"/tmp/confusion-2014-03-02/confusion-2014-03-02.json\", 10) \n",
        "  count $c \n",
        "  where $c <= 100000 \n",
        "  return $i\n",
        "let $newDataset := for $i in $truncated\n",
        "  group by $d := $i.date\n",
        "  return {\"date\": $d, \"info\": [$i]}\n",
        "return $newDataset"
      ],
      "execution_count": null,
      "outputs": []
    },
    {
      "cell_type": "markdown",
      "metadata": {
        "id": "Z7NB5Euvy6G-"
      },
      "source": [
        "Now we have a more nested dataset! We can try to redo some of the exercises above with this new dataset. For example, get all games played in Switzerland:"
      ]
    },
    {
      "cell_type": "code",
      "metadata": {
        "id": "kA1p9b7szvz1"
      },
      "source": [
        "%%rumble\n",
        "let $truncated := for $i in json-file(\"/tmp/confusion-2014-03-02/confusion-2014-03-02.json\", 10) \n",
        "  count $c \n",
        "  where $c <= 100000 \n",
        "  return $i\n",
        "let $newDataset := for $i in $truncated\n",
        "  group by $d := $i.date\n",
        "  return {\"date\": $d, \"info\": [$i]}\n",
        "for $j in $newDataset.info[]\n",
        "where $j.country eq \"CH\"\n",
        "return $j"
      ],
      "execution_count": null,
      "outputs": []
    },
    {
      "cell_type": "markdown",
      "metadata": {
        "id": "ycJZrdkO5pyO"
      },
      "source": [
        "Try another one: get the count of games played in Switzerland:"
      ]
    },
    {
      "cell_type": "code",
      "metadata": {
        "id": "qIAT1Yat5z_D"
      },
      "source": [
        "%%rumble\n",
        "count(\n",
        "  let $truncated := for $i in json-file(\"/tmp/confusion-2014-03-02/confusion-2014-03-02.json\", 10) \n",
        "    count $c \n",
        "    where $c <= 100000 \n",
        "    return $i\n",
        "  let $newDataset := for $i in $truncated\n",
        "    group by $d := $i.date\n",
        "    return {\"date\": $d, \"info\": [$i]}\n",
        "  for $j in $newDataset.info[]\n",
        "  where $j.country eq \"CH\"\n",
        "  return $j\n",
        ")\n",
        "\n",
        "# this doesn't work:\n",
        "# let $truncated := for $i in json-file(\"/tmp/confusion-2014-03-02/confusion-2014-03-02.json\", 10) \n",
        "#   count $c \n",
        "#   where $c <= 100000 \n",
        "#   return $i\n",
        "# let $newDataset := for $i in $truncated\n",
        "#   group by $d := $i.date\n",
        "#   return {\"date\": $d, \"info\": [$i]}\n",
        "# count(for $j in $newDataset.info[]\n",
        "# where $j.country eq \"CH\"\n",
        "# return $j)"
      ],
      "execution_count": null,
      "outputs": []
    },
    {
      "cell_type": "markdown",
      "metadata": {
        "id": "R_kRoeKA6Bja"
      },
      "source": [
        "Feel free to try out more questions on your own!"
      ]
    },
    {
      "cell_type": "markdown",
      "metadata": {
        "id": "hPc8di4W6ICv"
      },
      "source": [
        "## 5.2 Git-archive dataset\n",
        "Now let's get into the mess of the real world. We are going to explore the git-archive dataset to handle some properly messy data, which is very challenging if you use Spark. \n",
        "\n",
        "For getting the dataset, just run:\n",
        "```\n",
        "wget https://polybox.ethz.ch/index.php/s/HVWlvJAXVkQ05cw/download -O git-archive.json\n",
        "```\n",
        "and upload it to hdfs if you are using the cluster:\n",
        "```\n",
        "hadoop dfs -copyFromLocal git-archive.json /tmp/\n",
        "```\n",
        "Have a look at what the dataset looks like:"
      ]
    },
    {
      "cell_type": "code",
      "metadata": {
        "id": "Y2AvFbjR7FAR"
      },
      "source": [
        "%%rumble\n",
        "for $i in json-file(\"/tmp/git-archive.json\", 10)\n",
        "count $c\n",
        "where $c <= 1\n",
        "return $i"
      ],
      "execution_count": null,
      "outputs": []
    },
    {
      "cell_type": "markdown",
      "metadata": {
        "id": "pAePhGBk7WFT"
      },
      "source": [
        "What a mess, isn't it? Anyway, let's try to write some challenging queries, since you've already mastered those easy ones with the language game dataset...\n",
        "\n",
        "1. What is the number of distinct author names that are part of a push event (i.e., an event with the type PushEvent)?"
      ]
    },
    {
      "cell_type": "code",
      "metadata": {
        "id": "SkpuLT5GnxG4"
      },
      "source": [
        "%%rumble\n",
        "let $seq := for $e in json-file(\"git-archive.json\", 10)\n",
        "  where $e.type eq \"PushEvent\" \n",
        "  return $e.payload.commits[].author.name\n",
        "return count(distinct-values($seq))"
      ],
      "execution_count": null,
      "outputs": []
    },
    {
      "cell_type": "markdown",
      "metadata": {
        "id": "WtxTZtFNn9qQ"
      },
      "source": [
        "2. What is the name of the repository with the highest number of push events (i.e., events with the type PushEvent), and how many of these push events occurred in this repository?"
      ]
    },
    {
      "cell_type": "code",
      "metadata": {
        "id": "WPZIL-XwoQvO"
      },
      "source": [
        "%%rumble\n",
        "for $e in json-file(\"git-archive.json\", 10)\n",
        "where $e.type eq \"PushEvent\"\n",
        "group by $d := $e.repo.name \n",
        "order by count($e) descending\n",
        "count $c\n",
        "where $c <= 1\n",
        "return {\"name\": $d, \"push events received\": count($e)}"
      ],
      "execution_count": null,
      "outputs": []
    },
    {
      "cell_type": "markdown",
      "metadata": {
        "id": "AwccKb2YmMoC"
      },
      "source": [
        "# Moodle Graded Exercise"
      ]
    },
    {
      "cell_type": "markdown",
      "metadata": {
        "id": "7DmHBqKMmMoC"
      },
      "source": [
        "And now to the actual Moodle queries. Here we still use the language game dataset (please use the **original** dataset for these questions).\n",
        "\n",
        "\n",
        "1\\. return the number of games where the player's guess is \"Spanish\" and the correct answer (target) is in the first place of the choices array"
      ]
    },
    {
      "cell_type": "code",
      "metadata": {
        "id": "73H8vujbmMoD"
      },
      "source": [
        "%%rumble \n",
        "count(\n",
        "    for $i in json-file(\"/tmp/confusion-2014-03-02/confusion-2014-03-02.json\", 100) \n",
        "    where $i.guess eq \"Spanish\" and $i.target eq $i.choices[[1]]\n",
        "    return $i\n",
        ")"
      ],
      "execution_count": null,
      "outputs": []
    },
    {
      "cell_type": "markdown",
      "metadata": {
        "id": "7CA8ZYb9mMoD"
      },
      "source": [
        "2\\. return the rate of correctness for all games with target \"Mandarin\" (write the fraction rounding to 4 decimals (eg. 0.3323))"
      ]
    },
    {
      "cell_type": "code",
      "metadata": {
        "id": "W2TkLWRTmMoD"
      },
      "source": [
        "%%rumble \n",
        "count(\n",
        "    for $i in json-file(\"/tmp/confusion-2014-03-02/confusion-2014-03-02.json\", 10) \n",
        "    where $i.target eq \"Mandarin\" and $i.target eq $i.guess\n",
        "    return $i\n",
        ") \n",
        "div \n",
        "count(\n",
        "    for $i in json-file(\"/tmp/confusion-2014-03-02/confusion-2014-03-02.json\", 10) \n",
        "    where $i.target eq \"Mandarin\"\n",
        "    return $i\n",
        ")"
      ],
      "execution_count": null,
      "outputs": []
    },
    {
      "cell_type": "markdown",
      "metadata": {
        "id": "NG7FQ1n_mMoD"
      },
      "source": [
        "3\\. return the top three countries that had the largest number of games with correct guesses"
      ]
    },
    {
      "cell_type": "code",
      "metadata": {
        "id": "BgWadItlmMoE"
      },
      "source": [
        "%%rumble \n",
        "let $cnt := for $i in json-file(\"/tmp/confusion-2014-03-02/confusion-2014-03-02.json\", 10) \n",
        "where $i.target eq $i.guess\n",
        "group by $cty := $i.country\n",
        "return {\"country\":$cty, \"correct\": count($i)}\n",
        "for $j in $cnt\n",
        "order by $j.correct descending\n",
        "count $c\n",
        "where $c <= 3\n",
        "return $j.country"
      ],
      "execution_count": null,
      "outputs": []
    },
    {
      "cell_type": "markdown",
      "metadata": {
        "id": "dE8WL2BmmMoE"
      },
      "source": [
        "4\\. For the language that appeared in the choices array most frequently, how many times did it appear in the choices array?"
      ]
    },
    {
      "cell_type": "code",
      "metadata": {
        "id": "GkKL6Xi-mMoE"
      },
      "source": [
        "%%rumble \n",
        "let $cnt := (for $i in json-file(\"/tmp/confusion-2014-03-02/confusion-2014-03-02.json\", 10).choices[]   \n",
        "              group by $t := $i \n",
        "              return {\"language\": $t, \"count\": count($i)}) \n",
        "for $j in $cnt   \n",
        "order by $j.count descending   \n",
        "count $c   \n",
        "where $c <= 1 \n",
        "return $j.count"
      ],
      "execution_count": null,
      "outputs": []
    },
    {
      "cell_type": "markdown",
      "metadata": {
        "id": "Fwc-biM5mMoF"
      },
      "source": [
        "5\\. Sort the languages by decreasing overall percentage of correct guesses and return the top 3 languages."
      ]
    },
    {
      "cell_type": "code",
      "metadata": {
        "id": "Ch5PkkgdmMoG"
      },
      "source": [
        "%%rumble \n",
        "\n",
        "let $total := (for $i in json-file(\"/tmp/confusion-2014-03-02/confusion-2014-03-02.json\", 10)   \n",
        "               group by $t := $i.target   \n",
        "               return {\"target\":$t, \"count\":count($i)}) \n",
        "\n",
        "let $correct := (for $i in json-file(\"/tmp/confusion-2014-03-02/confusion-2014-03-02.json\", 10)        \n",
        "                 where $i.target eq $i.guess        \n",
        "                 group by $t := $i.target        \n",
        "                 return {\"target\":$t, \"count\":count($i)}) \n",
        "\n",
        "let $ratio := (for $i in $total, $j in $correct   \n",
        "               where $i.target eq $j.target   \n",
        "               return {\"language\": $i.target, \"ratio\": ($j.count div $i.count)})     \n",
        "\n",
        "for $i in $ratio \n",
        "order by $i.ratio \n",
        "descending \n",
        "count $c \n",
        "where $c <= 3 \n",
        "return $i"
      ],
      "execution_count": null,
      "outputs": []
    }
  ]
}