{
  "nbformat": 4,
  "nbformat_minor": 0,
  "metadata": {
    "anaconda-cloud": {},
    "kernelspec": {
      "name": "python3",
      "display_name": "Python 3",
      "language": "python"
    },
    "language_info": {
      "mimetype": "text/x-python",
      "nbconvert_exporter": "python",
      "name": "python",
      "pygments_lexer": "ipython3",
      "version": "3.5.4",
      "file_extension": ".py",
      "codemirror_mode": {
        "version": 3,
        "name": "ipython"
      }
    },
    "colab": {
      "name": "Exercise11_MongoDB_Solution.ipynb",
      "provenance": [],
      "collapsed_sections": [
        "F9JIa_II2WT4"
      ]
    }
  },
  "cells": [
    {
      "cell_type": "markdown",
      "metadata": {
        "id": "FfI_Rk7H2WTD"
      },
      "source": [
        "# <center>Big Data for Engineers &ndash; Exercises</center>\n",
        "## <center>Spring 2020 &ndash; Week 11 &ndash; ETH Zurich</center>\n",
        "## <center>MongoDB</center>"
      ]
    },
    {
      "cell_type": "markdown",
      "metadata": {
        "id": "68WC0v8F2WTc"
      },
      "source": [
        "## Introduction\n",
        "\n",
        "This exercise will cover document stores. As a representative of document stores, MongoDB was chosen for the practical exercises. Instructions are provided to install it on the Azure Portal."
      ]
    },
    {
      "cell_type": "markdown",
      "metadata": {
        "id": "EDPWdKCJ2WTe"
      },
      "source": [
        "## 1. Document stores\n",
        "\n",
        "A record in document store is a *document*. Document encoding schemes include XML, YAML, JSON, and BSON, as well as binary forms like PDF and Microsoft Office documents (MS Word, Excel, and so on). MongoDB documents are similar to JSON objects.  Documents are composed of field-value pairs and have the following structure:\n",
        "\n",
        "![123](https://docs.mongodb.com/manual/_images/crud-annotated-mongodb-insertOne.bakedsvg.svg)\n",
        "\n",
        "The values of fields may include other documents, arrays, and arrays of documents. Data in MongoDB has a flexible schema in the same collection. All documents do not need to have the same set of fields or structure, and common fields in a collection's documents may hold different types of data.\n",
        "\n"
      ]
    },
    {
      "cell_type": "markdown",
      "metadata": {
        "id": "iU7ibHwx2WTg"
      },
      "source": [
        "### 1.1 General Questions\n",
        "1. What are advantages of document stores over relational databases?\n",
        "2. Can the data in document stores be normalized? \n",
        "3. How does denormalization affect performance? "
      ]
    },
    {
      "cell_type": "markdown",
      "metadata": {
        "id": "0u0mxtVH2WTi"
      },
      "source": [
        "###  Solution\n",
        "\n",
        "\n",
        "1) Flexibility. Not every record needs to store the same properties. New properties can be added on the fly (Flexible schema).\n",
        "\n",
        "2) Yes. References can be used for data normalization. \n",
        "\n",
        "<img src=\"https://docs.mongodb.com/manual/_images/data-model-normalized.bakedsvg.svg\" style=\"width: 500px;\"/>\n",
        "<img src=\"https://docs.mongodb.com/manual/_images/data-model-denormalized.bakedsvg.svg\" style=\"width: 500px;\"/>\n",
        "\n",
        "\n",
        "3)  All data for an object is stored in a single record. In general, it provides better performance for read operations (since expensive joins can be omitted), as well as the ability to request and retrieve related data in a single database operation. In addition, embedded data models make it possible to update related data in a single atomic write operation.\n"
      ]
    },
    {
      "cell_type": "markdown",
      "metadata": {
        "id": "ib6bz1-E2WTj"
      },
      "source": [
        "### 1.2 True/False Questions\n",
        "Say if the following statements are *true* or *false*.\n",
        "\n",
        "1. Document stores expose only a key-value interface.\n",
        "2. Different relationships between data can be represented by references and embedded documents.\n",
        "3. MongoDB does not support schema validation.\n",
        "4. MongoDB encodes documents in the XML format.\n",
        "5. In document stores, you must determine and declare a table's schema before inserting data. \n",
        "6. MongoDB performance degrades when the number of documents increases. \n",
        "7. Document stores are column stores with flexible schema.\n",
        "8. There are no joins in MongoDB."
      ]
    },
    {
      "cell_type": "markdown",
      "metadata": {
        "id": "0zwy7vKe2WTl"
      },
      "source": [
        "###  Solution\n",
        "\n",
        "1. (False) Document stores expose only a key-value interface. \n",
        "2. (True) Different relationships between data can be represented by references and embedded documents.\n",
        "3. (False) MongoDB does not support schema validation.\n",
        "4. (False) MongoDB encodes documents in the XML format. \n",
        "5. (False) In document stores, you must determine and declare a table's schema before inserting data. \n",
        "6. (True) MongoDB performance degrades when the number of documents increases. \n",
        "7. (False) Document stores are column stores with flexible schema.\n",
        "8. (True) There are no joins in MongoDB. ** Nonetheless, starting in version 3.2, MongoDB supports aggregations with \"lookup\" operator, which can perform a ** ```LEFT OUTER JOIN```."
      ]
    },
    {
      "cell_type": "markdown",
      "metadata": {
        "id": "m1OZjPOu2WTn"
      },
      "source": [
        "## 2. MongoDB\n",
        "\n",
        "In this part of the exercise, you will setup a MongoDB image using **Azure Container Instances (ACI)**. By using ACI, apps can be deployed without explicitly managing virtual machines. You can learn more about ACI [here](https://azure.microsoft.com/en-us/services/container-instances/#overview).\n",
        "\n",
        "<font color='red' size='5'>**Important: please delete your container after finishing the exercise.**</font>\n",
        "\n",
        "### 2.1 Install MongoDB\n",
        "\n",
        "1. Open the [Azure portal](https://portal.azure.com) and click **\"Create a resourece\"**. After searching for `container instances`, click **\"Container Instances Microsoft\"** and **\"Create\"**.\n",
        "<img src=\"https://bigdata2020exassets.blob.core.windows.net/bdfeex11/container_instances.png\" width=\"500\">\n",
        "1. In the \"Basics\" tab, select your subscription for this exercise, and create a new resource group.\n",
        "1. Fill in the container name and region. You can select any region you prefer.\n",
        "1. Select **\"Docker Hub or other registry\"** for \"Image source\", and type in `mongo` in the \"Image\" field. By default, Azure will use [Docker Hub](https://hub.docker.com/) as the container registry. Leave other settings as default.\n",
        "<img src=\"https://bigdata2020exassets.blob.core.windows.net/bdfeex11/basics.png\" width=\"500\">\n",
        "1. In the \"Networking\" tab, choose a DNS name for your container. Open **port 27017** which is the default port that MongoDB listens to. Use TCP for the port.\n",
        "<img src=\"https://bigdata2020exassets.blob.core.windows.net/bdfeex11/networking.png\" width=\"500\">\n",
        "1. Change nothing on the \"Advanced\" and \"Tags\" tabs.\n",
        "1. In the \"Review\" tab, review your resource settings and click \"Create\". The deployment should be finished in a couple of minutes. In fact, fast startup time is one of the benefits of using ACI!"
      ]
    },
    {
      "cell_type": "markdown",
      "metadata": {
        "id": "e-YUcZVw2WTn"
      },
      "source": [
        "### 2.2 Setup a test database\n",
        "\n",
        "After the container is deployed, we need to connect to the container to create a database user.\n",
        "\n",
        "1. Select the recently created container resource from Azure portal, click **\"Settings - Containers\"**, then choose the **\"Connect\"** tab. Use `/bin/bash` as start up command. Click **\"Connect\"**.\n",
        "<img src=\"https://bigdata2020exassets.blob.core.windows.net/bdfeex11/containers_connect.png\" width=\"700\">\n",
        "1. Start MongoDB shell by `mongo -shell`.\n",
        "1. Select the `admin` database:\n",
        "```\n",
        "use admin\n",
        "```\n",
        "1. Then create a `root` user:\n",
        "```\n",
        "db.createUser(\n",
        "    {\n",
        "        user: \"root\", \n",
        "        pwd: \"root\", \n",
        "        roles:[\"root\"]\n",
        "    }\n",
        ")\n",
        "```\n",
        "1. Log out from MongoDB shell:\n",
        "```\n",
        "exit\n",
        "```\n",
        "1. Now we are in the shell of the container. Download an example dataset:\n",
        "```sh\n",
        "apt update && apt install wget && wget https://raw.githubusercontent.com/mongodb/docs-assets/primer-dataset/primer-dataset.json\n",
        "```\n",
        "1. Import the dataset using `mongoimport`:\n",
        "```\n",
        "mongoimport --db test --collection restaurants --drop --file ./primer-dataset.json\n",
        "```\n",
        "If the dataset is successfully imported, you should see something similar to this:\n",
        "<img src=\"https://bigdata2020exassets.blob.core.windows.net/bdfeex11/dataset_imported.png\" width=\"100%\">"
      ]
    },
    {
      "cell_type": "markdown",
      "metadata": {
        "id": "e1Hjb6pI2WTp"
      },
      "source": [
        "### 2.3 Connect to the MongoDB server\n",
        "\n",
        "We have finished setting up the database server. Next, we need to connect to the server using a `pymongo` client. First, install some packages:"
      ]
    },
    {
      "cell_type": "code",
      "metadata": {
        "trusted": true,
        "id": "ZS7t0jyF2WTp",
        "colab": {
          "base_uri": "https://localhost:8080/"
        },
        "outputId": "cb9b28fd-2233-4764-c062-260a9e391644"
      },
      "source": [
        "!pip install pymongo==3.10.1\n",
        "!pip install dnspython"
      ],
      "execution_count": 2,
      "outputs": [
        {
          "output_type": "stream",
          "text": [
            "Requirement already satisfied: pymongo==3.10.1 in /usr/local/lib/python3.7/dist-packages (3.10.1)\n",
            "Requirement already satisfied: dnspython in /usr/local/lib/python3.7/dist-packages (2.1.0)\n"
          ],
          "name": "stdout"
        }
      ]
    },
    {
      "cell_type": "markdown",
      "metadata": {
        "id": "oc5wD_e02WTt"
      },
      "source": [
        "Import some libraries:"
      ]
    },
    {
      "cell_type": "code",
      "metadata": {
        "trusted": true,
        "id": "dSodWW-y2WTt"
      },
      "source": [
        "from pymongo import MongoClient, errors\n",
        "import dns\n",
        "from pprint import pprint\n",
        "import urllib\n",
        "import json\n",
        "import dateutil\n",
        "from datetime import datetime, timezone, timedelta"
      ],
      "execution_count": 3,
      "outputs": []
    },
    {
      "cell_type": "markdown",
      "metadata": {
        "id": "vsShYdlm2WTu"
      },
      "source": [
        "In order to connect to MongoDB, we need to know the domain name of the host. In the resource console, click **\"Overview\"** to see the basic information of the container. Copy the host URL from the **\"FQDN\"** field and paste it in the following cell. Execute it to connect to the database."
      ]
    },
    {
      "cell_type": "code",
      "metadata": {
        "trusted": true,
        "scrolled": false,
        "id": "t1SZIpMm2WTu",
        "colab": {
          "base_uri": "https://localhost:8080/"
        },
        "outputId": "cf60aebf-f80b-4e08-f0c0-c69cebf17d0d"
      },
      "source": [
        "# global variables for MongoDB host (default port is 27017)\n",
        "DOMAIN = 'mymongo.westus.azurecontainer.io' # Note: this should be replaced by the URL of your own container!! \n",
        "PORT = 27017\n",
        "\n",
        "# use a try-except indentation to catch MongoClient() errors\n",
        "try:\n",
        "    # try to instantiate a client instance\n",
        "    client = MongoClient(\n",
        "        host = [ str(DOMAIN) + \":\" + str(PORT) ],\n",
        "        serverSelectionTimeoutMS = 3000, # 3 second timeout\n",
        "        username = \"root\",\n",
        "        password = \"root\",\n",
        "    )\n",
        "\n",
        "    db = client.test\n",
        "    \n",
        "except errors.ServerSelectionTimeoutError as err:\n",
        "    # set the client to 'None' if exception\n",
        "    client = None\n",
        "\n",
        "    # catch pymongo.errors.ServerSelectionTimeoutError\n",
        "    print (\"pymongo ERROR:\", err)\n",
        "    \n",
        "db.restaurants"
      ],
      "execution_count": 4,
      "outputs": [
        {
          "output_type": "execute_result",
          "data": {
            "text/plain": [
              "Collection(Database(MongoClient(host=['mymongo.westus.azurecontainer.io:27017'], document_class=dict, tz_aware=False, connect=True, serverselectiontimeoutms=3000), 'test'), 'restaurants')"
            ]
          },
          "metadata": {
            "tags": []
          },
          "execution_count": 4
        }
      ]
    },
    {
      "cell_type": "markdown",
      "metadata": {
        "id": "fKOUYkpL2WTw"
      },
      "source": [
        "As a sanity check, we count the number of documents in the `restaurants` collection that we previously imported. It should match the number reported by `mongoimport`."
      ]
    },
    {
      "cell_type": "code",
      "metadata": {
        "trusted": true,
        "scrolled": false,
        "id": "fhdf4Vmr2WTw",
        "colab": {
          "base_uri": "https://localhost:8080/"
        },
        "outputId": "71f127ad-4de1-4278-8f64-cd2c02455ee3"
      },
      "source": [
        "db.restaurants.count_documents({})"
      ],
      "execution_count": null,
      "outputs": [
        {
          "output_type": "execute_result",
          "data": {
            "text/plain": [
              "25359"
            ]
          },
          "metadata": {
            "tags": []
          },
          "execution_count": 6
        }
      ]
    },
    {
      "cell_type": "markdown",
      "metadata": {
        "id": "5p27UCPD2WTw"
      },
      "source": [
        "### 2.4  MongoDB CRUD operations\n",
        "\n",
        "In this section, we will go through some commonly used CRUD (**C**reate, **R**ead, **U**pdate, **D**elete) operations in MongoDB."
      ]
    },
    {
      "cell_type": "code",
      "metadata": {
        "trusted": true,
        "id": "ONyG6OgS2WTx"
      },
      "source": [
        "# Create a new collection\n",
        "scientists = db['scientists']"
      ],
      "execution_count": null,
      "outputs": []
    },
    {
      "cell_type": "code",
      "metadata": {
        "trusted": true,
        "id": "imzaD8gi2WTx",
        "colab": {
          "base_uri": "https://localhost:8080/"
        },
        "outputId": "a9fe9d4d-0ae6-40f4-d004-e54e4919a17f"
      },
      "source": [
        "# Insert some documents.\n",
        "# Note that documents can have nested structures, and the collection can be heterogeneous.\n",
        "scientists.insert_one({\n",
        "    \"Name\": {\n",
        "        \"First\": \"Albert\",\n",
        "        \"Last\": \"Einstein\"\n",
        "    },\n",
        "    \"Theory\": \"Particle Physics\"})\n",
        "scientists.insert_one({\n",
        "    \"Name\": {\n",
        "        \"First\": \"Kurt\",\n",
        "        \"Last\": \"Gödel\"\n",
        "    },\n",
        "    \"Theory\": \"Incompleteness\" })\n",
        "scientists.insert_one({\n",
        "    \"Name\": {\n",
        "        \"First\": \"Sheldon\",\n",
        "        \"Last\": \"Cooper\"\n",
        "    }})"
      ],
      "execution_count": null,
      "outputs": [
        {
          "output_type": "execute_result",
          "data": {
            "text/plain": [
              "<pymongo.results.InsertOneResult at 0x7f71f62b3e60>"
            ]
          },
          "metadata": {
            "tags": []
          },
          "execution_count": 8
        }
      ]
    },
    {
      "cell_type": "code",
      "metadata": {
        "trusted": true,
        "id": "nNR7sCx22WTz",
        "colab": {
          "base_uri": "https://localhost:8080/"
        },
        "outputId": "fd0cf70b-69df-42d5-fd2f-f287a8edb1f5"
      },
      "source": [
        "# Select all documents from the collection\n",
        "scientists.find()"
      ],
      "execution_count": null,
      "outputs": [
        {
          "output_type": "execute_result",
          "data": {
            "text/plain": [
              "<pymongo.cursor.Cursor at 0x7f71f62f6f50>"
            ]
          },
          "metadata": {
            "tags": []
          },
          "execution_count": 9
        }
      ]
    },
    {
      "cell_type": "code",
      "metadata": {
        "trusted": true,
        "id": "nVR1XUJl2WTz",
        "colab": {
          "base_uri": "https://localhost:8080/"
        },
        "outputId": "56371dee-baa1-4d42-e8e0-91bc27f6e597"
      },
      "source": [
        "# As you can see, find() method returns a Cursor object. One must iterate the Cursor object to access individual documents\n",
        "for doc in scientists.find():\n",
        "    pprint(doc)"
      ],
      "execution_count": null,
      "outputs": [
        {
          "output_type": "stream",
          "text": [
            "{'Name': {'First': 'Albert', 'Last': 'Einstein'},\n",
            " 'Theory': 'Particle Physics',\n",
            " '_id': ObjectId('60a4315a48d3bda027c3d328')}\n",
            "{'Name': {'First': 'Kurt', 'Last': 'Gödel'},\n",
            " 'Theory': 'Incompleteness',\n",
            " '_id': ObjectId('60a4315b48d3bda027c3d329')}\n",
            "{'Name': {'First': 'Sheldon', 'Last': 'Cooper'},\n",
            " '_id': ObjectId('60a4315b48d3bda027c3d32a')}\n"
          ],
          "name": "stdout"
        }
      ]
    },
    {
      "cell_type": "markdown",
      "metadata": {
        "id": "2OjEuzTd2WTz"
      },
      "source": [
        "### Query Documents\n",
        "For the ```db.collection.find()``` method, you can specify the following optional fields:\n",
        "- a **query filter** to specify which documents to return,\n",
        "- a **query projection** to specify which fields from the matching documents to return (the projection limits the amount of data that MongoDB returns to the client over the network),\n",
        "- optionally, a **cursor modifier** to impose limits, skips, and sort orders.\n",
        "\n",
        "![query](https://docs.mongodb.com/manual/_images/crud-annotated-mongodb-find.bakedsvg.svg)"
      ]
    },
    {
      "cell_type": "code",
      "metadata": {
        "trusted": true,
        "id": "CbdhAcyw2WT0",
        "colab": {
          "base_uri": "https://localhost:8080/"
        },
        "outputId": "b48c93f1-cf47-483a-8aa7-c7a071e0bd88"
      },
      "source": [
        "# Using a query filter\n",
        "for doc in db.scientists.find({\"Theory\": \"Particle Physics\"}):\n",
        "    pprint(doc)"
      ],
      "execution_count": null,
      "outputs": [
        {
          "output_type": "stream",
          "text": [
            "{'Name': {'First': 'Albert', 'Last': 'Einstein'},\n",
            " 'Theory': 'Particle Physics',\n",
            " '_id': ObjectId('60a4315a48d3bda027c3d328')}\n"
          ],
          "name": "stdout"
        }
      ]
    },
    {
      "cell_type": "code",
      "metadata": {
        "trusted": true,
        "id": "Xfsy4b8b2WT0",
        "colab": {
          "base_uri": "https://localhost:8080/"
        },
        "outputId": "ab131178-b74f-4139-c237-f5e80566ec7d"
      },
      "source": [
        "# Using a projection\n",
        "for doc in db.scientists.find({\"Theory\": \"Particle Physics\"}, {\"Name.Last\": 1}):\n",
        "    pprint(doc)"
      ],
      "execution_count": null,
      "outputs": [
        {
          "output_type": "stream",
          "text": [
            "{'Name': {'Last': 'Einstein'}, '_id': ObjectId('60a4315a48d3bda027c3d328')}\n"
          ],
          "name": "stdout"
        }
      ]
    },
    {
      "cell_type": "code",
      "metadata": {
        "trusted": true,
        "id": "Ws1LRaz42WT1",
        "colab": {
          "base_uri": "https://localhost:8080/"
        },
        "outputId": "ef2fc098-5d59-4801-883e-cd1f974ed060"
      },
      "source": [
        "# Using a projection, with \"_id\" output disabled\n",
        "for doc in db.scientists.find({\"Theory\": \"Particle Physics\"}, {\"_id\": 0, \"Name.Last\": 1}):\n",
        "    pprint(doc)"
      ],
      "execution_count": null,
      "outputs": [
        {
          "output_type": "stream",
          "text": [
            "{'Name': {'Last': 'Einstein'}}\n"
          ],
          "name": "stdout"
        }
      ]
    },
    {
      "cell_type": "code",
      "metadata": {
        "trusted": true,
        "id": "V5cO6lWu2WT1",
        "colab": {
          "base_uri": "https://localhost:8080/"
        },
        "outputId": "5024e89b-14b1-407c-de13-398b5b578d08"
      },
      "source": [
        "# Insert more documents\n",
        "doc_list = [\n",
        "    {\"Name\":\"Einstein\", \"Profession\":\"Physicist\"},\n",
        "    {\"Name\":\"Gödel\", \"Profession\":\"Mathematician\"},\n",
        "    {\"Name\":\"Ramanujan\", \"Profession\":\"Mathematician\"},\n",
        "    {\"Name\":\"Pythagoras\", \"Profession\":\"Mathematician\"},\n",
        "    {\"Name\":\"Turing\", \"Profession\":\"Computer Scientist\"},\n",
        "    {\"Name\":\"Church\", \"Profession\":\"Computer Scientist\"},\n",
        "    {\"Name\":\"Nash\", \"Profession\":\"Economist\"},\n",
        "    {\"Name\":\"Euler\", \"Profession\":\"Mathematician\"},\n",
        "    {\"Name\":\"Bohm\", \"Profession\":\"Physicist\"},\n",
        "    {\"Name\":\"Galileo\", \"Profession\":\"Astrophysicist\"},\n",
        "    {\"Name\":\"Lagrange\", \"Profession\":\"Mathematician\"},\n",
        "    {\"Name\":\"Gauss\", \"Profession\":\"Mathematician\"},\n",
        "    {\"Name\":\"Thales\", \"Profession\":\"Mathematician\"}\n",
        "]\n",
        "scientists.insert_many(doc_list)"
      ],
      "execution_count": null,
      "outputs": [
        {
          "output_type": "execute_result",
          "data": {
            "text/plain": [
              "<pymongo.results.InsertManyResult at 0x7f71f6301d20>"
            ]
          },
          "metadata": {
            "tags": []
          },
          "execution_count": 14
        }
      ]
    },
    {
      "cell_type": "code",
      "metadata": {
        "trusted": true,
        "id": "h6PHzb_c2WT2",
        "colab": {
          "base_uri": "https://localhost:8080/"
        },
        "outputId": "387a8f72-d589-4856-8097-684c1586e654"
      },
      "source": [
        "# Using cursor modifiers\n",
        "print(\"Using sort:\")\n",
        "for doc in scientists.find({\"Profession\": \"Mathematician\"}, {\"_id\": 0, \"Name\": 1}).sort(\"Name\", 1):\n",
        "    pprint(doc)\n",
        "    \n",
        "print(\"Using skip:\")\n",
        "for doc in scientists.find({\"Profession\": \"Mathematician\"}, {\"_id\": 0, \"Name\": 1}).sort(\"Name\", 1).skip(1):\n",
        "    pprint(doc)\n",
        "    \n",
        "print(\"Using limit:\")\n",
        "for doc in scientists.find({\"Profession\": \"Mathematician\"}, {\"_id\": 0, \"Name\": 1}).sort(\"Name\", 1).skip(1).limit(3):\n",
        "    pprint(doc)"
      ],
      "execution_count": null,
      "outputs": [
        {
          "output_type": "stream",
          "text": [
            "Using sort:\n",
            "{'Name': 'Euler'}\n",
            "{'Name': 'Gauss'}\n",
            "{'Name': 'Gödel'}\n",
            "{'Name': 'Lagrange'}\n",
            "{'Name': 'Pythagoras'}\n",
            "{'Name': 'Ramanujan'}\n",
            "{'Name': 'Thales'}\n",
            "Using skip:\n",
            "{'Name': 'Gauss'}\n",
            "{'Name': 'Gödel'}\n",
            "{'Name': 'Lagrange'}\n",
            "{'Name': 'Pythagoras'}\n",
            "{'Name': 'Ramanujan'}\n",
            "{'Name': 'Thales'}\n",
            "Using limit:\n",
            "{'Name': 'Gauss'}\n",
            "{'Name': 'Gödel'}\n",
            "{'Name': 'Lagrange'}\n"
          ],
          "name": "stdout"
        }
      ]
    },
    {
      "cell_type": "code",
      "metadata": {
        "trusted": true,
        "id": "gNUQcqP82WT3",
        "colab": {
          "base_uri": "https://localhost:8080/"
        },
        "outputId": "3334c2c4-7c4f-425b-bade-fa896e43bf39"
      },
      "source": [
        "# Updating documents\n",
        "\n",
        "# Adding a new field:\n",
        "scientists.update_many({\"Name\": \"Einstein\"}, {\"$set\": {\"Century\" : \"20\"}})\n",
        "pprint(scientists.find_one({\"Name\": \"Einstein\"}))\n",
        "\n",
        "# Changing the type of a field:\n",
        "scientists.update_many({\"Name\": \"Nash\"}, {\"$set\": {\"Profession\" : [\"Mathematician\", \"Economist\"]}})\n",
        "pprint(scientists.find_one({\"Name\": \"Nash\"}))"
      ],
      "execution_count": null,
      "outputs": [
        {
          "output_type": "stream",
          "text": [
            "{'Century': '20',\n",
            " 'Name': 'Einstein',\n",
            " 'Profession': 'Physicist',\n",
            " '_id': ObjectId('60a4317248d3bda027c3d32b')}\n",
            "{'Name': 'Nash',\n",
            " 'Profession': ['Mathematician', 'Economist'],\n",
            " '_id': ObjectId('60a4317248d3bda027c3d331')}\n"
          ],
          "name": "stdout"
        }
      ]
    },
    {
      "cell_type": "code",
      "metadata": {
        "trusted": true,
        "id": "mNXnjUDA2WT3",
        "colab": {
          "base_uri": "https://localhost:8080/"
        },
        "outputId": "e1c922d6-4fb8-4561-f8c8-bea6d3539d58"
      },
      "source": [
        "# Matching array elements\n",
        "for doc in scientists.find({\"Profession\": \"Mathematician\"}, {\"_id\": 0, \"Name\": 1, \"Profession\": 1}).sort(\"Name\", 1):\n",
        "    pprint(doc)"
      ],
      "execution_count": null,
      "outputs": [
        {
          "output_type": "stream",
          "text": [
            "{'Name': 'Euler', 'Profession': 'Mathematician'}\n",
            "{'Name': 'Gauss', 'Profession': 'Mathematician'}\n",
            "{'Name': 'Gödel', 'Profession': 'Mathematician'}\n",
            "{'Name': 'Lagrange', 'Profession': 'Mathematician'}\n",
            "{'Name': 'Nash', 'Profession': ['Mathematician', 'Economist']}\n",
            "{'Name': 'Pythagoras', 'Profession': 'Mathematician'}\n",
            "{'Name': 'Ramanujan', 'Profession': 'Mathematician'}\n",
            "{'Name': 'Thales', 'Profession': 'Mathematician'}\n"
          ],
          "name": "stdout"
        }
      ]
    },
    {
      "cell_type": "code",
      "metadata": {
        "trusted": true,
        "id": "sQtq3d3f2WT4",
        "colab": {
          "base_uri": "https://localhost:8080/"
        },
        "outputId": "5bafcf21-f56e-4d37-b6d6-84251ae2e274"
      },
      "source": [
        "# Delete documents\n",
        "scientists.delete_one({\"Profession\": \"Astrophysicist\"})\n",
        "scientists.count_documents({\"Name\": \"Galileo\"})"
      ],
      "execution_count": null,
      "outputs": [
        {
          "output_type": "execute_result",
          "data": {
            "text/plain": [
              "0"
            ]
          },
          "metadata": {
            "tags": []
          },
          "execution_count": 18
        }
      ]
    },
    {
      "cell_type": "markdown",
      "metadata": {
        "id": "F9JIa_II2WT4"
      },
      "source": [
        "### `pymongo` vs MongoDB shell\n",
        "\n",
        "In the lecture, we learnt how to write queries in the syntax of the MongoDB shell. The syntax is a bit different from the syntax of `pymongo`. Here are a few examples:\n",
        "\n",
        "|     | MongoDB shell | `pymongo` | Note |\n",
        "| --- | ------------- | --------- | ---- |\n",
        "| Insert | `insert()` | `insert_one()` or `insert_many()` | `insert()` is also valid for `pymongo` but deprecated. |\n",
        "| Update | `update()` | `update_one()` or `update_many()` | `update()` is also valid for `pymongo` but deprecated. |\n",
        "| Delete | `delete()` | `delete_one()` or `delete_many()` | `delete()` is also valid for `pymongo` but deprecated. |\n",
        "| Sort criterion | JSON document | list of `(key, direction)` pairs | |\n",
        "| Naming convention | camelCase (e.g. `createIndex`) | snake_case (e.g. `create_index`) | |\n",
        "| Count | `db.collection.find(filter).count()` | `db.collection.count_documents(filter)` | `count()` is also valid for `pymongo` but deprecated. |\n",
        "\n",
        "It is not necessary to remember these differences, but you should understand the semantics of a query written in either `pymongo` or MongoDB shell syntax."
      ]
    },
    {
      "cell_type": "markdown",
      "metadata": {
        "id": "48XzEioi2WT4"
      },
      "source": [
        "### 2.5 A larger dataset\n",
        "\n",
        "Now it's time to play with a dataset of more realistic size! Try to insert a document into the ```restaurants``` collection. In addition, you can see the structure of documents in the collection."
      ]
    },
    {
      "cell_type": "code",
      "metadata": {
        "trusted": true,
        "id": "6bxSkedE2WT4",
        "colab": {
          "base_uri": "https://localhost:8080/"
        },
        "outputId": "1046f643-6ce8-45b7-db11-4fbff5e45d59"
      },
      "source": [
        "from dateutil.parser import isoparse\n",
        "db.restaurants.insert_one(\n",
        "   {\n",
        "      \"address\" : {\n",
        "         \"street\" : \"2 Avenue\",\n",
        "         \"zipcode\" : \"10075\",\n",
        "         \"building\" : \"1480\",\n",
        "         \"coord\" : [ -73.9557413, 40.7720266 ]\n",
        "      },\n",
        "      \"borough\" : \"Manhattan\",\n",
        "      \"cuisine\" : \"Italian\",\n",
        "      \"grades\" : [\n",
        "         {\n",
        "            \"date\" : isoparse(\"2014-10-01T00:00:00Z\"),\n",
        "            \"grade\" : \"A\",\n",
        "            \"score\" : 11\n",
        "         },\n",
        "         {\n",
        "            \"date\" : isoparse(\"2014-01-16T00:00:00Z\"),\n",
        "            \"grade\" : \"A\",\n",
        "            \"score\" : 17\n",
        "         }\n",
        "      ],\n",
        "      \"name\" : \"Vella\",\n",
        "      \"restaurant_id\" : \"41704620\"\n",
        "   }\n",
        ")"
      ],
      "execution_count": null,
      "outputs": [
        {
          "output_type": "execute_result",
          "data": {
            "text/plain": [
              "<pymongo.results.InsertOneResult at 0x7f71f5e45af0>"
            ]
          },
          "metadata": {
            "tags": []
          },
          "execution_count": 19
        }
      ]
    },
    {
      "cell_type": "code",
      "metadata": {
        "trusted": true,
        "id": "8rEDdO2B2WT5",
        "colab": {
          "base_uri": "https://localhost:8080/"
        },
        "outputId": "d9eef316-a721-40aa-e70f-b91137bc117b"
      },
      "source": [
        "# Query one document in a collection:\n",
        "pprint(db.restaurants.find_one())"
      ],
      "execution_count": null,
      "outputs": [
        {
          "output_type": "stream",
          "text": [
            "{'_id': ObjectId('60a43126ce772f47e9a5f71a'),\n",
            " 'address': {'building': '1007',\n",
            "             'coord': [-73.856077, 40.848447],\n",
            "             'street': 'Morris Park Ave',\n",
            "             'zipcode': '10462'},\n",
            " 'borough': 'Bronx',\n",
            " 'cuisine': 'Bakery',\n",
            " 'grades': [{'date': datetime.datetime(2014, 3, 3, 0, 0),\n",
            "             'grade': 'A',\n",
            "             'score': 2},\n",
            "            {'date': datetime.datetime(2013, 9, 11, 0, 0),\n",
            "             'grade': 'A',\n",
            "             'score': 6},\n",
            "            {'date': datetime.datetime(2013, 1, 24, 0, 0),\n",
            "             'grade': 'A',\n",
            "             'score': 10},\n",
            "            {'date': datetime.datetime(2011, 11, 23, 0, 0),\n",
            "             'grade': 'A',\n",
            "             'score': 9},\n",
            "            {'date': datetime.datetime(2011, 3, 10, 0, 0),\n",
            "             'grade': 'B',\n",
            "             'score': 14}],\n",
            " 'name': 'Morris Park Bake Shop',\n",
            " 'restaurant_id': '30075445'}\n"
          ],
          "name": "stdout"
        }
      ]
    },
    {
      "cell_type": "markdown",
      "metadata": {
        "id": "fGudG5Fk2WT5"
      },
      "source": [
        "###  2.6 Questions\n",
        "For this part of the exercise, we will use the `restaurants` collection. Write queries in MongoDB that return the following:\n",
        "\n",
        "**1)** All restaurants in borough (a town) \"Brooklyn\" and cuisine (a style of cooking) \"Hamburgers\"."
      ]
    },
    {
      "cell_type": "code",
      "metadata": {
        "trusted": true,
        "scrolled": false,
        "id": "wuAq9vJc2WT6",
        "colab": {
          "base_uri": "https://localhost:8080/"
        },
        "outputId": "a803eec0-306f-4a01-c7cb-9033f3875e8f"
      },
      "source": [
        "# insert your query here:\n",
        "cursor = db.restaurants.find({\"borough\": \"Brooklyn\", \"cuisine\": \"Hamburgers\"})\n",
        "pprint(cursor[0])"
      ],
      "execution_count": null,
      "outputs": [
        {
          "output_type": "stream",
          "text": [
            "{'_id': ObjectId('60a43126ce772f47e9a5f71b'),\n",
            " 'address': {'building': '469',\n",
            "             'coord': [-73.961704, 40.662942],\n",
            "             'street': 'Flatbush Avenue',\n",
            "             'zipcode': '11225'},\n",
            " 'borough': 'Brooklyn',\n",
            " 'cuisine': 'Hamburgers',\n",
            " 'grades': [{'date': datetime.datetime(2014, 12, 30, 0, 0),\n",
            "             'grade': 'A',\n",
            "             'score': 8},\n",
            "            {'date': datetime.datetime(2014, 7, 1, 0, 0),\n",
            "             'grade': 'B',\n",
            "             'score': 23},\n",
            "            {'date': datetime.datetime(2013, 4, 30, 0, 0),\n",
            "             'grade': 'A',\n",
            "             'score': 12},\n",
            "            {'date': datetime.datetime(2012, 5, 8, 0, 0),\n",
            "             'grade': 'A',\n",
            "             'score': 12}],\n",
            " 'name': \"Wendy'S\",\n",
            " 'restaurant_id': '30112340'}\n"
          ],
          "name": "stdout"
        }
      ]
    },
    {
      "cell_type": "markdown",
      "metadata": {
        "id": "Yw9Q41qv2WT6"
      },
      "source": [
        "**2)** The number of restaurants in the borough \"Brooklyn\" and cuisine \"Hamburgers\"."
      ]
    },
    {
      "cell_type": "code",
      "metadata": {
        "trusted": true,
        "id": "8UBN3lHq2WT7",
        "colab": {
          "base_uri": "https://localhost:8080/"
        },
        "outputId": "78af0ff2-cb4a-4ae0-b0c9-5077b65bf204"
      },
      "source": [
        "# insert your query here:\n",
        "db.restaurants.count_documents({\"borough\": \"Brooklyn\", \"cuisine\": \"Hamburgers\"})"
      ],
      "execution_count": null,
      "outputs": [
        {
          "output_type": "execute_result",
          "data": {
            "text/plain": [
              "102"
            ]
          },
          "metadata": {
            "tags": []
          },
          "execution_count": 22
        }
      ]
    },
    {
      "cell_type": "markdown",
      "metadata": {
        "id": "KNQxpGht2WT7"
      },
      "source": [
        "**3)** All restaurants with zipcode 11225."
      ]
    },
    {
      "cell_type": "code",
      "metadata": {
        "trusted": true,
        "id": "zPkAls3u2WT7",
        "colab": {
          "base_uri": "https://localhost:8080/"
        },
        "outputId": "a54eb975-a97e-429f-8c2c-7671c138f4aa"
      },
      "source": [
        "# insert your query here:\n",
        "cursor = db.restaurants.find({\"address.zipcode\": \"11225\"})\n",
        "pprint(cursor[0])"
      ],
      "execution_count": null,
      "outputs": [
        {
          "output_type": "stream",
          "text": [
            "{'_id': ObjectId('60a43126ce772f47e9a5f71b'),\n",
            " 'address': {'building': '469',\n",
            "             'coord': [-73.961704, 40.662942],\n",
            "             'street': 'Flatbush Avenue',\n",
            "             'zipcode': '11225'},\n",
            " 'borough': 'Brooklyn',\n",
            " 'cuisine': 'Hamburgers',\n",
            " 'grades': [{'date': datetime.datetime(2014, 12, 30, 0, 0),\n",
            "             'grade': 'A',\n",
            "             'score': 8},\n",
            "            {'date': datetime.datetime(2014, 7, 1, 0, 0),\n",
            "             'grade': 'B',\n",
            "             'score': 23},\n",
            "            {'date': datetime.datetime(2013, 4, 30, 0, 0),\n",
            "             'grade': 'A',\n",
            "             'score': 12},\n",
            "            {'date': datetime.datetime(2012, 5, 8, 0, 0),\n",
            "             'grade': 'A',\n",
            "             'score': 12}],\n",
            " 'name': \"Wendy'S\",\n",
            " 'restaurant_id': '30112340'}\n"
          ],
          "name": "stdout"
        }
      ]
    },
    {
      "cell_type": "markdown",
      "metadata": {
        "id": "o_x1upcy2WT7"
      },
      "source": [
        "**4)** Names of restaurants with zipcode 11225 that have at least one grade \"C\"."
      ]
    },
    {
      "cell_type": "code",
      "metadata": {
        "trusted": true,
        "id": "rSh_B1VF2WT8",
        "colab": {
          "base_uri": "https://localhost:8080/"
        },
        "outputId": "53f3951e-0764-4903-aba9-ad98716613de"
      },
      "source": [
        "# insert your query here:\n",
        "cursor = db.restaurants.find({\"address.zipcode\": \"11225\", \"grades.grade\": \"C\"}, {\"name\": 1})\n",
        "pprint(cursor[0])"
      ],
      "execution_count": null,
      "outputs": [
        {
          "output_type": "stream",
          "text": [
            "{'_id': ObjectId('60a43126ce772f47e9a5fd7e'), 'name': \"Vee'S Restaurant\"}\n"
          ],
          "name": "stdout"
        }
      ]
    },
    {
      "cell_type": "markdown",
      "metadata": {
        "id": "nxhMUIwm2WT8"
      },
      "source": [
        "**5)** Names of restaurants with zipcode 11225 that have as first grade \"C\" and as second grade \"A\"."
      ]
    },
    {
      "cell_type": "code",
      "metadata": {
        "trusted": true,
        "id": "RbDjukk62WT8",
        "colab": {
          "base_uri": "https://localhost:8080/"
        },
        "outputId": "25716493-e8ef-469c-e356-5b92e58d6055"
      },
      "source": [
        "# insert your query here:\n",
        "cursor = db.restaurants.find({\"address.zipcode\": \"11225\", \"grades.0.grade\": \"C\", \"grades.1.grade\": \"A\"}, {\"name\": 1})\n",
        "pprint(cursor[0])"
      ],
      "execution_count": null,
      "outputs": [
        {
          "output_type": "stream",
          "text": [
            "{'_id': ObjectId('60a43128ce772f47e9a648a8'), 'name': 'Careta Bar & Restaurant'}\n"
          ],
          "name": "stdout"
        }
      ]
    },
    {
      "cell_type": "markdown",
      "metadata": {
        "id": "YLzbus7o2WT8"
      },
      "source": [
        "**6)** Names and streets of restaurants that don't have an \"A\" grade."
      ]
    },
    {
      "cell_type": "code",
      "metadata": {
        "trusted": true,
        "id": "YT3o6B2J2WT9",
        "colab": {
          "base_uri": "https://localhost:8080/"
        },
        "outputId": "5f115343-1ea2-49ec-c7e4-09aba99ae9a6"
      },
      "source": [
        "# insert your query here:t\n",
        "cursor = db.restaurants.find({\"grades.grade\": {\"$ne\": \"A\"}}, {\"name\": 1, \"address.street\": 1})\n",
        "pprint(cursor[0])"
      ],
      "execution_count": null,
      "outputs": [
        {
          "output_type": "stream",
          "text": [
            "{'_id': ObjectId('60a43126ce772f47e9a5f8cf'),\n",
            " 'address': {'street': 'Thompson Street'},\n",
            " 'name': 'Tomoe Sushi'}\n"
          ],
          "name": "stdout"
        }
      ]
    },
    {
      "cell_type": "markdown",
      "metadata": {
        "id": "Ie0IKBnA2WT9"
      },
      "source": [
        "**7)** All restaurants with a grade C and a score greater than 50 for that grade at the same time."
      ]
    },
    {
      "cell_type": "code",
      "metadata": {
        "trusted": true,
        "id": "eKm0Twzd2WT-",
        "colab": {
          "base_uri": "https://localhost:8080/"
        },
        "outputId": "524353f0-8bdf-4f35-f9b2-494b4972683f"
      },
      "source": [
        "# insert your query here:\n",
        "cursor = db.restaurants.find({\"grades\": {\"$elemMatch\": {\"grade\": \"C\", \"score\": {\"$gt\": 50}}}})\n",
        "pprint(cursor[0])"
      ],
      "execution_count": null,
      "outputs": [
        {
          "output_type": "stream",
          "text": [
            "{'_id': ObjectId('60a43126ce772f47e9a5f726'),\n",
            " 'address': {'building': '1269',\n",
            "             'coord': [-73.871194, 40.6730975],\n",
            "             'street': 'Sutter Avenue',\n",
            "             'zipcode': '11208'},\n",
            " 'borough': 'Brooklyn',\n",
            " 'cuisine': 'Chinese',\n",
            " 'grades': [{'date': datetime.datetime(2014, 9, 16, 0, 0),\n",
            "             'grade': 'B',\n",
            "             'score': 21},\n",
            "            {'date': datetime.datetime(2013, 8, 28, 0, 0),\n",
            "             'grade': 'A',\n",
            "             'score': 7},\n",
            "            {'date': datetime.datetime(2013, 4, 2, 0, 0),\n",
            "             'grade': 'C',\n",
            "             'score': 56},\n",
            "            {'date': datetime.datetime(2012, 8, 15, 0, 0),\n",
            "             'grade': 'B',\n",
            "             'score': 27},\n",
            "            {'date': datetime.datetime(2012, 3, 28, 0, 0),\n",
            "             'grade': 'B',\n",
            "             'score': 27}],\n",
            " 'name': 'May May Kitchen',\n",
            " 'restaurant_id': '40358429'}\n"
          ],
          "name": "stdout"
        }
      ]
    },
    {
      "cell_type": "markdown",
      "metadata": {
        "id": "eiWVX-ts2WT-"
      },
      "source": [
        "**8)** All restaurants with a grade C or a score greater than 50."
      ]
    },
    {
      "cell_type": "code",
      "metadata": {
        "trusted": true,
        "id": "aonpTFhV2WT_",
        "colab": {
          "base_uri": "https://localhost:8080/"
        },
        "outputId": "1d1952d8-05c4-4b09-f4e2-70da118e257f"
      },
      "source": [
        "# insert your query here:\n",
        "cursor = db.restaurants.find({\"$or\": [{\"grades.score\": {\"$gt\": 50}}, {\"grades.grade\": \"C\"}]})\n",
        "pprint(cursor[0])"
      ],
      "execution_count": null,
      "outputs": [
        {
          "output_type": "stream",
          "text": [
            "{'_id': ObjectId('60a43126ce772f47e9a5f726'),\n",
            " 'address': {'building': '1269',\n",
            "             'coord': [-73.871194, 40.6730975],\n",
            "             'street': 'Sutter Avenue',\n",
            "             'zipcode': '11208'},\n",
            " 'borough': 'Brooklyn',\n",
            " 'cuisine': 'Chinese',\n",
            " 'grades': [{'date': datetime.datetime(2014, 9, 16, 0, 0),\n",
            "             'grade': 'B',\n",
            "             'score': 21},\n",
            "            {'date': datetime.datetime(2013, 8, 28, 0, 0),\n",
            "             'grade': 'A',\n",
            "             'score': 7},\n",
            "            {'date': datetime.datetime(2013, 4, 2, 0, 0),\n",
            "             'grade': 'C',\n",
            "             'score': 56},\n",
            "            {'date': datetime.datetime(2012, 8, 15, 0, 0),\n",
            "             'grade': 'B',\n",
            "             'score': 27},\n",
            "            {'date': datetime.datetime(2012, 3, 28, 0, 0),\n",
            "             'grade': 'B',\n",
            "             'score': 27}],\n",
            " 'name': 'May May Kitchen',\n",
            " 'restaurant_id': '40358429'}\n"
          ],
          "name": "stdout"
        }
      ]
    },
    {
      "cell_type": "markdown",
      "metadata": {
        "id": "vnR1jo7S2WT_"
      },
      "source": [
        "**9)** All restaurants that have only A grades."
      ]
    },
    {
      "cell_type": "code",
      "metadata": {
        "trusted": true,
        "id": "V7m_tK562WT_",
        "colab": {
          "base_uri": "https://localhost:8080/"
        },
        "outputId": "ab4675fe-0145-403e-d7d6-28dbafe1900d"
      },
      "source": [
        "# insert your query here:\n",
        "cursor = db.restaurants.find({\"grades\": {\"$not\": {\"$elemMatch\": {\"grade\": {\"$ne\": \"A\"}}}}})\n",
        "pprint(cursor[0])"
      ],
      "execution_count": null,
      "outputs": [
        {
          "output_type": "stream",
          "text": [
            "{'_id': ObjectId('60a43126ce772f47e9a5f71c'),\n",
            " 'address': {'building': '351',\n",
            "             'coord': [-73.98513559999999, 40.7676919],\n",
            "             'street': 'West   57 Street',\n",
            "             'zipcode': '10019'},\n",
            " 'borough': 'Manhattan',\n",
            " 'cuisine': 'Irish',\n",
            " 'grades': [{'date': datetime.datetime(2014, 9, 6, 0, 0),\n",
            "             'grade': 'A',\n",
            "             'score': 2},\n",
            "            {'date': datetime.datetime(2013, 7, 22, 0, 0),\n",
            "             'grade': 'A',\n",
            "             'score': 11},\n",
            "            {'date': datetime.datetime(2012, 7, 31, 0, 0),\n",
            "             'grade': 'A',\n",
            "             'score': 12},\n",
            "            {'date': datetime.datetime(2011, 12, 29, 0, 0),\n",
            "             'grade': 'A',\n",
            "             'score': 12}],\n",
            " 'name': 'Dj Reynolds Pub And Restaurant',\n",
            " 'restaurant_id': '30191841'}\n"
          ],
          "name": "stdout"
        }
      ]
    },
    {
      "cell_type": "markdown",
      "metadata": {
        "id": "NwBUyhnb2WT_"
      },
      "source": [
        "## 3. Indexing in MongoDB\n",
        "\n",
        "Indexes support the efficient resolution of queries. Without indexes, MongoDB must scan every document of a collection to select those documents that match the query statement. Scan can be highly inefficient and require MongoDB to process a large volume of data.\n",
        "\n",
        "Indexes are special data structures that store a small portion of the data set in an easy-to-traverse form. The index stores the value of a specific field or set of fields, ordered by the value of the field as specified in the index.\n",
        "\n",
        "MongoDB supports indexes that contain either a single field or multiple fields depending on the operations that this index type supports. \n",
        "\n",
        "By default,  MongoDB creates the ```_id``` index, which is an ascending unique index on the ```_id``` field, for all collections when the collection is created. You cannot remove the index on the ```_id``` field."
      ]
    },
    {
      "cell_type": "markdown",
      "metadata": {
        "id": "tx0OB0Yv2WUA"
      },
      "source": [
        "### Managing indexes in MongoDB\n",
        "\n",
        "An ```explain()``` operator provides information on the query plan. It returns a document that describes the process and indexes used to return the query. This may provide useful insight when attempting to optimize a query. Example:"
      ]
    },
    {
      "cell_type": "code",
      "metadata": {
        "trusted": true,
        "id": "Z9uuQn3u2WUB",
        "colab": {
          "base_uri": "https://localhost:8080/"
        },
        "outputId": "4fa80bde-5e2c-4df5-e31c-b8e7c2a3a1e9"
      },
      "source": [
        "db.restaurants.find({\"borough\" : \"Brooklyn\"}).explain()"
      ],
      "execution_count": null,
      "outputs": [
        {
          "output_type": "execute_result",
          "data": {
            "text/plain": [
              "{'executionStats': {'allPlansExecution': [],\n",
              "  'executionStages': {'advanced': 6086,\n",
              "   'direction': 'forward',\n",
              "   'docsExamined': 25360,\n",
              "   'executionTimeMillisEstimate': 1,\n",
              "   'filter': {'borough': {'$eq': 'Brooklyn'}},\n",
              "   'isEOF': 1,\n",
              "   'nReturned': 6086,\n",
              "   'needTime': 19275,\n",
              "   'needYield': 0,\n",
              "   'restoreState': 25,\n",
              "   'saveState': 25,\n",
              "   'stage': 'COLLSCAN',\n",
              "   'works': 25362},\n",
              "  'executionSuccess': True,\n",
              "  'executionTimeMillis': 13,\n",
              "  'nReturned': 6086,\n",
              "  'totalDocsExamined': 25360,\n",
              "  'totalKeysExamined': 0},\n",
              " 'ok': 1.0,\n",
              " 'queryPlanner': {'indexFilterSet': False,\n",
              "  'namespace': 'test.restaurants',\n",
              "  'parsedQuery': {'borough': {'$eq': 'Brooklyn'}},\n",
              "  'plannerVersion': 1,\n",
              "  'rejectedPlans': [],\n",
              "  'winningPlan': {'direction': 'forward',\n",
              "   'filter': {'borough': {'$eq': 'Brooklyn'}},\n",
              "   'stage': 'COLLSCAN'}},\n",
              " 'serverInfo': {'gitVersion': '72e66213c2c3eab37d9358d5e78ad7f5c1d0d0d7',\n",
              "  'host': 'wk-caas-86a3f02b03ca49938922fb529b1cfe0b-32e01c0b27eaabfd720d0d',\n",
              "  'port': 27017,\n",
              "  'version': '4.4.6'}}"
            ]
          },
          "metadata": {
            "tags": []
          },
          "execution_count": 30
        }
      ]
    },
    {
      "cell_type": "markdown",
      "metadata": {
        "id": "NLTbEt9g2WUB"
      },
      "source": [
        "In `pymongo`, you can create an index by calling the `create_index()` method. For example, we can create an index for the `borough` field:"
      ]
    },
    {
      "cell_type": "code",
      "metadata": {
        "trusted": true,
        "id": "OqsJUyLV2WUB",
        "colab": {
          "base_uri": "https://localhost:8080/",
          "height": 36
        },
        "outputId": "bd444012-1e33-499f-9cec-5e617ad23a9e"
      },
      "source": [
        "db.restaurants.create_index(\"borough\")"
      ],
      "execution_count": 14,
      "outputs": [
        {
          "output_type": "execute_result",
          "data": {
            "application/vnd.google.colaboratory.intrinsic+json": {
              "type": "string"
            },
            "text/plain": [
              "'borough_1'"
            ]
          },
          "metadata": {
            "tags": []
          },
          "execution_count": 14
        }
      ]
    },
    {
      "cell_type": "markdown",
      "metadata": {
        "id": "s1cycTRx2WUI"
      },
      "source": [
        "Now, let's see how the query plan changes to use the newly created index:"
      ]
    },
    {
      "cell_type": "code",
      "metadata": {
        "trusted": true,
        "id": "SMn06XHQ2WUJ",
        "colab": {
          "base_uri": "https://localhost:8080/"
        },
        "outputId": "bde6182e-4aed-4216-d0f5-2fec18f5f780"
      },
      "source": [
        "db.restaurants.find({\"borough\" : \"Brooklyn\"}).explain()"
      ],
      "execution_count": 15,
      "outputs": [
        {
          "output_type": "execute_result",
          "data": {
            "text/plain": [
              "{'executionStats': {'allPlansExecution': [],\n",
              "  'executionStages': {'advanced': 6086,\n",
              "   'alreadyHasObj': 0,\n",
              "   'docsExamined': 6086,\n",
              "   'executionTimeMillisEstimate': 1,\n",
              "   'inputStage': {'advanced': 6086,\n",
              "    'direction': 'forward',\n",
              "    'dupsDropped': 0,\n",
              "    'dupsTested': 0,\n",
              "    'executionTimeMillisEstimate': 0,\n",
              "    'indexBounds': {'borough': ['[\"Brooklyn\", \"Brooklyn\"]']},\n",
              "    'indexName': 'borough_1',\n",
              "    'indexVersion': 2,\n",
              "    'isEOF': 1,\n",
              "    'isMultiKey': False,\n",
              "    'isPartial': False,\n",
              "    'isSparse': False,\n",
              "    'isUnique': False,\n",
              "    'keyPattern': {'borough': 1},\n",
              "    'keysExamined': 6086,\n",
              "    'multiKeyPaths': {'borough': []},\n",
              "    'nReturned': 6086,\n",
              "    'needTime': 0,\n",
              "    'needYield': 0,\n",
              "    'restoreState': 6,\n",
              "    'saveState': 6,\n",
              "    'seeks': 1,\n",
              "    'stage': 'IXSCAN',\n",
              "    'works': 6087},\n",
              "   'isEOF': 1,\n",
              "   'nReturned': 6086,\n",
              "   'needTime': 0,\n",
              "   'needYield': 0,\n",
              "   'restoreState': 6,\n",
              "   'saveState': 6,\n",
              "   'stage': 'FETCH',\n",
              "   'works': 6087},\n",
              "  'executionSuccess': True,\n",
              "  'executionTimeMillis': 9,\n",
              "  'nReturned': 6086,\n",
              "  'totalDocsExamined': 6086,\n",
              "  'totalKeysExamined': 6086},\n",
              " 'ok': 1.0,\n",
              " 'queryPlanner': {'indexFilterSet': False,\n",
              "  'namespace': 'test.restaurants',\n",
              "  'parsedQuery': {'borough': {'$eq': 'Brooklyn'}},\n",
              "  'plannerVersion': 1,\n",
              "  'rejectedPlans': [],\n",
              "  'winningPlan': {'inputStage': {'direction': 'forward',\n",
              "    'indexBounds': {'borough': ['[\"Brooklyn\", \"Brooklyn\"]']},\n",
              "    'indexName': 'borough_1',\n",
              "    'indexVersion': 2,\n",
              "    'isMultiKey': False,\n",
              "    'isPartial': False,\n",
              "    'isSparse': False,\n",
              "    'isUnique': False,\n",
              "    'keyPattern': {'borough': 1},\n",
              "    'multiKeyPaths': {'borough': []},\n",
              "    'stage': 'IXSCAN'},\n",
              "   'stage': 'FETCH'}},\n",
              " 'serverInfo': {'gitVersion': '72e66213c2c3eab37d9358d5e78ad7f5c1d0d0d7',\n",
              "  'host': 'SandboxHost-637576213697078361',\n",
              "  'port': 27017,\n",
              "  'version': '4.4.6'}}"
            ]
          },
          "metadata": {
            "tags": []
          },
          "execution_count": 15
        }
      ]
    },
    {
      "cell_type": "markdown",
      "metadata": {
        "id": "6KCh-8P52WUJ"
      },
      "source": [
        "The number of documents examined is indicated in the `docsExamined` field. The number drops significantly by using an index. In fact, in this example the number of documents examined is exactly the number of documents returned (`nReturned`)."
      ]
    },
    {
      "cell_type": "markdown",
      "metadata": {
        "id": "1wuUMT_F2WUJ"
      },
      "source": [
        "The index specification describes the kind of index for that field. For example, a value of 1 specifies an index that orders items in ascending order. A value of -1 specifies an index that orders items in descending order. **Note that index direction only matters in a compound index.**"
      ]
    },
    {
      "cell_type": "markdown",
      "metadata": {
        "id": "x2fK2eTl2WUJ"
      },
      "source": [
        "To remove all indexes, you can use ```db.collection.drop_indexes()```. Example:"
      ]
    },
    {
      "cell_type": "code",
      "metadata": {
        "trusted": true,
        "id": "o8hukICQ2WUJ",
        "colab": {
          "base_uri": "https://localhost:8080/"
        },
        "outputId": "49c86ade-2a55-4448-cda8-10c56336557b"
      },
      "source": [
        "print(\"Before drop_indexes():\")\n",
        "for index in db.restaurants.list_indexes():\n",
        "    pprint(index)\n",
        "print(\"Now we drop all indexes...\")\n",
        "db.restaurants.drop_indexes()\n",
        "print(\"After drop_indexes():\")\n",
        "for index in db.restaurants.list_indexes():\n",
        "    pprint(index)"
      ],
      "execution_count": null,
      "outputs": [
        {
          "output_type": "stream",
          "text": [
            "Before drop_indexes():\n",
            "SON([('v', 2), ('key', SON([('_id', 1)])), ('name', '_id_')])\n",
            "SON([('v', 2), ('key', SON([('borough', 1)])), ('name', 'borough_1')])\n",
            "Now we drop all indexes...\n",
            "After drop_indexes():\n",
            "SON([('v', 2), ('key', SON([('_id', 1)])), ('name', '_id_')])\n"
          ],
          "name": "stdout"
        }
      ]
    },
    {
      "cell_type": "markdown",
      "metadata": {
        "id": "ZWNCPFDY2WUK"
      },
      "source": [
        "To remove a specific index you can use ```db.collection.drop_index(index_name)```. Example:"
      ]
    },
    {
      "cell_type": "code",
      "metadata": {
        "trusted": true,
        "id": "GNdKdtK62WUK",
        "colab": {
          "base_uri": "https://localhost:8080/"
        },
        "outputId": "1cef4a4d-f5b5-4624-f8b7-cda6f475142c"
      },
      "source": [
        "print('Create some indexes first...')\n",
        "db.restaurants.create_index([('cuisine', -1), ('borough', 1)]) \n",
        "index_name = db.restaurants.create_index('address.building')\n",
        "print('\\nNow we have these indexes:')\n",
        "for index in db.restaurants.list_indexes():\n",
        "    pprint(index)\n",
        "    \n",
        "print('\\nThen drop_index()...')\n",
        "db.restaurants.drop_index(index_name)\n",
        "print('\\nThe remaining indexes are:')\n",
        "for index in db.restaurants.list_indexes():\n",
        "    pprint(index)"
      ],
      "execution_count": null,
      "outputs": [
        {
          "output_type": "stream",
          "text": [
            "Create some indexes first...\n",
            "\n",
            "Now we have these indexes:\n",
            "SON([('v', 2), ('key', SON([('_id', 1)])), ('name', '_id_')])\n",
            "{'key': SON([('cuisine', -1), ('borough', 1)]),\n",
            " 'name': 'cuisine_-1_borough_1',\n",
            " 'v': 2}\n",
            "{'key': SON([('address.building', 1)]),\n",
            " 'name': 'address.building_1',\n",
            " 'v': 2}\n",
            "\n",
            "Then drop_index()...\n",
            "\n",
            "The remaining indexes are:\n",
            "SON([('v', 2), ('key', SON([('_id', 1)])), ('name', '_id_')])\n",
            "{'key': SON([('cuisine', -1), ('borough', 1)]),\n",
            " 'name': 'cuisine_-1_borough_1',\n",
            " 'v': 2}\n"
          ],
          "name": "stdout"
        }
      ]
    },
    {
      "cell_type": "markdown",
      "metadata": {
        "id": "HPImnjvD2WUK"
      },
      "source": [
        "### 3.1 Questions\n",
        "\n",
        "**Please answer questions 1) and 2) in Moodle.**"
      ]
    },
    {
      "cell_type": "markdown",
      "metadata": {
        "id": "zQJwPH3P2WUK"
      },
      "source": [
        "**1)** Which queries will use the following index: \n",
        "```python\n",
        "db.restaurants.create_index(\"cuisine\")\n",
        "```\n",
        "\n",
        "A.  `db.restaurants.find({\"address.street\": \"2 Avenue\"})`  \n",
        "B.  `db.restaurants.find({}, {\"cuisine\": 1})`  \n",
        "C.  `db.restaurants.find({\"borough\": \"Brooklyn\"}, {\"cuisine\": 1})`  \n",
        "D.  `db.restaurants.find({\"cuisine\": \"Italian\"})`"
      ]
    },
    {
      "cell_type": "markdown",
      "metadata": {
        "id": "1vtD8XvF2WUL"
      },
      "source": [
        "**Solution**: Only query **D** would benefit from the index."
      ]
    },
    {
      "cell_type": "code",
      "metadata": {
        "trusted": true,
        "id": "S3f1Ous32WUL",
        "colab": {
          "base_uri": "https://localhost:8080/"
        },
        "outputId": "c5e79394-316a-4f76-e874-2ee80cc00ffa"
      },
      "source": [
        "print('Creating index on \"cuisine\"...')\n",
        "db.restaurants.drop_indexes()\n",
        "db.restaurants.create_index(\"cuisine\")\n",
        "\n",
        "print('\\nQuery A:')\n",
        "print(db.restaurants.find({\"address.city\": \"Boston\"}).explain()['executionStats']['executionStages'])\n",
        "\n",
        "print('\\nQuery B:')\n",
        "print(db.restaurants.find({}, {\"cuisine\": 1}).explain()['executionStats']['executionStages'])\n",
        "\n",
        "print('\\nQuery C:')\n",
        "print(db.restaurants.find({\"borough\": \"Brooklyn\"}, {\"cuisine\": 1}).explain()['executionStats']['executionStages'])\n",
        "\n",
        "print('\\nQuery D:')\n",
        "print(db.restaurants.find({\"cuisine\": \"Italian\"}).explain()['executionStats']['executionStages'])"
      ],
      "execution_count": 16,
      "outputs": [
        {
          "output_type": "stream",
          "text": [
            "Creating index on \"cuisine\"...\n",
            "\n",
            "Query A:\n",
            "{'stage': 'COLLSCAN', 'filter': {'address.city': {'$eq': 'Boston'}}, 'nReturned': 0, 'executionTimeMillisEstimate': 1, 'works': 25361, 'advanced': 0, 'needTime': 25360, 'needYield': 0, 'saveState': 25, 'restoreState': 25, 'isEOF': 1, 'direction': 'forward', 'docsExamined': 25359}\n",
            "\n",
            "Query B:\n",
            "{'stage': 'PROJECTION_SIMPLE', 'nReturned': 25359, 'executionTimeMillisEstimate': 1, 'works': 25361, 'advanced': 25359, 'needTime': 1, 'needYield': 0, 'saveState': 25, 'restoreState': 25, 'isEOF': 1, 'transformBy': {'cuisine': 1}, 'inputStage': {'stage': 'COLLSCAN', 'nReturned': 25359, 'executionTimeMillisEstimate': 1, 'works': 25361, 'advanced': 25359, 'needTime': 1, 'needYield': 0, 'saveState': 25, 'restoreState': 25, 'isEOF': 1, 'direction': 'forward', 'docsExamined': 25359}}\n",
            "\n",
            "Query C:\n",
            "{'stage': 'PROJECTION_SIMPLE', 'nReturned': 6086, 'executionTimeMillisEstimate': 2, 'works': 25361, 'advanced': 6086, 'needTime': 19274, 'needYield': 0, 'saveState': 25, 'restoreState': 25, 'isEOF': 1, 'transformBy': {'cuisine': 1}, 'inputStage': {'stage': 'COLLSCAN', 'filter': {'borough': {'$eq': 'Brooklyn'}}, 'nReturned': 6086, 'executionTimeMillisEstimate': 1, 'works': 25361, 'advanced': 6086, 'needTime': 19274, 'needYield': 0, 'saveState': 25, 'restoreState': 25, 'isEOF': 1, 'direction': 'forward', 'docsExamined': 25359}}\n",
            "\n",
            "Query D:\n",
            "{'stage': 'FETCH', 'nReturned': 1069, 'executionTimeMillisEstimate': 0, 'works': 1070, 'advanced': 1069, 'needTime': 0, 'needYield': 0, 'saveState': 1, 'restoreState': 1, 'isEOF': 1, 'docsExamined': 1069, 'alreadyHasObj': 0, 'inputStage': {'stage': 'IXSCAN', 'nReturned': 1069, 'executionTimeMillisEstimate': 0, 'works': 1070, 'advanced': 1069, 'needTime': 0, 'needYield': 0, 'saveState': 1, 'restoreState': 1, 'isEOF': 1, 'keyPattern': {'cuisine': 1}, 'indexName': 'cuisine_1', 'isMultiKey': False, 'multiKeyPaths': {'cuisine': []}, 'isUnique': False, 'isSparse': False, 'isPartial': False, 'indexVersion': 2, 'direction': 'forward', 'indexBounds': {'cuisine': ['[\"Italian\", \"Italian\"]']}, 'keysExamined': 1069, 'seeks': 1, 'dupsTested': 0, 'dupsDropped': 0}}\n"
          ],
          "name": "stdout"
        }
      ]
    },
    {
      "cell_type": "markdown",
      "metadata": {
        "id": "0Dh5PFQl2WUL"
      },
      "source": [
        "**2)** Which queries will use the following index: \n",
        "```python\n",
        "db.restaurants.create_index([(\"borough\", -1), (\"address.street\", -1)])\n",
        "```\n",
        "\n",
        "A.  `db.restaurants.find().sort([(\"borough\", 1), (\"address.street\", -1)])`   \n",
        "B.  `db.restaurants.find({\"address.street\": \"2 Avenue\"})`    \n",
        "C.  `db.restaurants.find({\"address.zipcode\": \"10075\"}, {\"address\": 1})`    \n",
        "D.  `db.restaurants.find({}, {\"address\": -1})` "
      ]
    },
    {
      "cell_type": "markdown",
      "metadata": {
        "id": "Bfi7v15V2WUM"
      },
      "source": [
        "**Solution**: No queries would benefit from the index."
      ]
    },
    {
      "cell_type": "code",
      "metadata": {
        "trusted": true,
        "id": "ovpXeRZT2WUM",
        "colab": {
          "base_uri": "https://localhost:8080/"
        },
        "outputId": "ce0026ad-9c77-4238-c124-04f4ae1943e0"
      },
      "source": [
        "print('Creating index on \"borough\" and \"address.street\" ...')\n",
        "db.restaurants.drop_indexes()\n",
        "db.restaurants.create_index([(\"borough\", -1), (\"address.street\", -1)])\n",
        "\n",
        "print('\\nQuery A:')\n",
        "print(db.restaurants.find().sort([(\"borough\", 1), (\"address.street\", -1)]).explain()['executionStats']['executionStages'])\n",
        "\n",
        "print('\\nQuery B:')\n",
        "print(db.restaurants.find({\"address.street\": \"2 Avenue\"}).explain()['executionStats']['executionStages'])\n",
        "\n",
        "print('\\nQuery C:')\n",
        "print(db.restaurants.find({\"address.zipcode\": \"10075\"}, {\"address\": 1}).explain()['executionStats']['executionStages'])\n",
        "\n",
        "print('\\nQuery D:')\n",
        "print(db.restaurants.find({}, {\"address\": -1}).explain()['executionStats']['executionStages'])"
      ],
      "execution_count": 17,
      "outputs": [
        {
          "output_type": "stream",
          "text": [
            "Creating index on \"borough\" and \"address.street\" ...\n",
            "\n",
            "Query A:\n",
            "{'stage': 'SORT', 'nReturned': 25359, 'executionTimeMillisEstimate': 54, 'works': 50721, 'advanced': 25359, 'needTime': 25361, 'needYield': 0, 'saveState': 51, 'restoreState': 51, 'isEOF': 1, 'sortPattern': {'borough': 1, 'address.street': -1}, 'memLimit': 104857600, 'type': 'simple', 'totalDataSizeSorted': 11029959, 'usedDisk': False, 'inputStage': {'stage': 'COLLSCAN', 'nReturned': 25359, 'executionTimeMillisEstimate': 0, 'works': 25361, 'advanced': 25359, 'needTime': 1, 'needYield': 0, 'saveState': 51, 'restoreState': 51, 'isEOF': 1, 'direction': 'forward', 'docsExamined': 25359}}\n",
            "\n",
            "Query B:\n",
            "{'stage': 'COLLSCAN', 'filter': {'address.street': {'$eq': '2 Avenue'}}, 'nReturned': 391, 'executionTimeMillisEstimate': 1, 'works': 25361, 'advanced': 391, 'needTime': 24969, 'needYield': 0, 'saveState': 25, 'restoreState': 25, 'isEOF': 1, 'direction': 'forward', 'docsExamined': 25359}\n",
            "\n",
            "Query C:\n",
            "{'stage': 'PROJECTION_SIMPLE', 'nReturned': 99, 'executionTimeMillisEstimate': 1, 'works': 25361, 'advanced': 99, 'needTime': 25261, 'needYield': 0, 'saveState': 25, 'restoreState': 25, 'isEOF': 1, 'transformBy': {'address': 1}, 'inputStage': {'stage': 'COLLSCAN', 'filter': {'address.zipcode': {'$eq': '10075'}}, 'nReturned': 99, 'executionTimeMillisEstimate': 1, 'works': 25361, 'advanced': 99, 'needTime': 25261, 'needYield': 0, 'saveState': 25, 'restoreState': 25, 'isEOF': 1, 'direction': 'forward', 'docsExamined': 25359}}\n",
            "\n",
            "Query D:\n",
            "{'stage': 'PROJECTION_SIMPLE', 'nReturned': 25359, 'executionTimeMillisEstimate': 1, 'works': 25361, 'advanced': 25359, 'needTime': 1, 'needYield': 0, 'saveState': 25, 'restoreState': 25, 'isEOF': 1, 'transformBy': {'address': -1}, 'inputStage': {'stage': 'COLLSCAN', 'nReturned': 25359, 'executionTimeMillisEstimate': 0, 'works': 25361, 'advanced': 25359, 'needTime': 1, 'needYield': 0, 'saveState': 25, 'restoreState': 25, 'isEOF': 1, 'direction': 'forward', 'docsExamined': 25359}}\n"
          ],
          "name": "stdout"
        }
      ]
    },
    {
      "cell_type": "markdown",
      "metadata": {
        "id": "p8MaSIiz2WUM"
      },
      "source": [
        "**3)** Write a command for creating an index on the `zipcode` field."
      ]
    },
    {
      "cell_type": "markdown",
      "metadata": {
        "id": "MEvqKBmT2WUM"
      },
      "source": [
        "**Solution:**"
      ]
    },
    {
      "cell_type": "code",
      "metadata": {
        "trusted": true,
        "id": "Dt_2aZ8W2WUN",
        "colab": {
          "base_uri": "https://localhost:8080/"
        },
        "outputId": "5b8f6bc9-1cf7-4173-9af7-9dddbf19a3b5"
      },
      "source": [
        "db.restaurants.drop_indexes()\n",
        "\n",
        "# write your code here:\n",
        "db.restaurants.create_index([(\"address.zipcode\", 1)])\n",
        "\n",
        "# print all indexes\n",
        "for index in db.restaurants.list_indexes():\n",
        "    pprint(index)"
      ],
      "execution_count": 18,
      "outputs": [
        {
          "output_type": "stream",
          "text": [
            "SON([('v', 2), ('key', SON([('_id', 1)])), ('name', '_id_')])\n",
            "{'key': SON([('address.zipcode', 1)]),\n",
            " 'name': 'address.zipcode_1',\n",
            " 'v': 2}\n"
          ],
          "name": "stdout"
        }
      ]
    },
    {
      "cell_type": "markdown",
      "metadata": {
        "id": "5Jh7DK3P2WUN"
      },
      "source": [
        "**4)** Write an index to speed up the following query:\n",
        "```python\n",
        "    db.restaurants.find({\"grades.grade\": {\"$ne\": \"A\"}}, {\"name\": 1 , \"address.street\": 1})\n",
        "```"
      ]
    },
    {
      "cell_type": "markdown",
      "metadata": {
        "id": "hWs7inTt2WUN"
      },
      "source": [
        "**Solution:**"
      ]
    },
    {
      "cell_type": "code",
      "metadata": {
        "trusted": true,
        "id": "jB34d_F42WUO",
        "colab": {
          "base_uri": "https://localhost:8080/"
        },
        "outputId": "c7d41916-4b3d-4662-da30-5fb1a2bf19e8"
      },
      "source": [
        "db.restaurants.drop_indexes()\n",
        "\n",
        "# write your code here:\n",
        "db.restaurants.create_index([(\"grades.grade\", 1)])\n",
        "\n",
        "# verify the query plan\n",
        "print(db.restaurants.find({\"grades.grade\": {\"$ne\": \"A\"}}, {\"name\": 1 , \"address.street\": 1})\n",
        "      .explain()['executionStats']['executionStages'])"
      ],
      "execution_count": 19,
      "outputs": [
        {
          "output_type": "stream",
          "text": [
            "{'stage': 'PROJECTION_DEFAULT', 'nReturned': 1919, 'executionTimeMillisEstimate': 5, 'works': 14744, 'advanced': 1919, 'needTime': 12824, 'needYield': 0, 'saveState': 14, 'restoreState': 14, 'isEOF': 1, 'transformBy': {'name': 1, 'address.street': 1}, 'inputStage': {'stage': 'FETCH', 'filter': {'grades.grade': {'$not': {'$eq': 'A'}}}, 'nReturned': 1919, 'executionTimeMillisEstimate': 5, 'works': 14744, 'advanced': 1919, 'needTime': 12824, 'needYield': 0, 'saveState': 14, 'restoreState': 14, 'isEOF': 1, 'docsExamined': 11616, 'alreadyHasObj': 0, 'inputStage': {'stage': 'IXSCAN', 'nReturned': 11616, 'executionTimeMillisEstimate': 1, 'works': 14744, 'advanced': 11616, 'needTime': 3127, 'needYield': 0, 'saveState': 14, 'restoreState': 14, 'isEOF': 1, 'keyPattern': {'grades.grade': 1}, 'indexName': 'grades.grade_1', 'isMultiKey': True, 'multiKeyPaths': {'grades.grade': ['grades']}, 'isUnique': False, 'isSparse': False, 'isPartial': False, 'indexVersion': 2, 'direction': 'forward', 'indexBounds': {'grades.grade': ['[MinKey, \"A\")', '(\"A\", MaxKey]']}, 'keysExamined': 14743, 'seeks': 2, 'dupsTested': 14742, 'dupsDropped': 3126}}}\n"
          ],
          "name": "stdout"
        }
      ]
    },
    {
      "cell_type": "markdown",
      "metadata": {
        "id": "kx09ZIkQ2WUO"
      },
      "source": [
        "5) Write an index to speed up the following query:\n",
        "```python\n",
        "    db.restaurants.find({\"grades.score\" : {\"$gt\" : 50}, \"grades.grade\" : \"C\"})\n",
        "```"
      ]
    },
    {
      "cell_type": "markdown",
      "metadata": {
        "id": "sM76HsFn2WUO"
      },
      "source": [
        "**Solution:**"
      ]
    },
    {
      "cell_type": "code",
      "metadata": {
        "trusted": true,
        "id": "fC0P84oE2WUO",
        "colab": {
          "base_uri": "https://localhost:8080/"
        },
        "outputId": "4e565b93-22a5-47f8-ae81-76c85af56028"
      },
      "source": [
        "db.restaurants.drop_indexes()\n",
        "\n",
        "# write your code here:\n",
        "db.restaurants.create_index([(\"grades.score\", 1), (\"grades.grade\", 1)])\n",
        "\n",
        "# verify the query plan\n",
        "print(db.restaurants.find({\"grades.score\" : {\"$gt\" : 50}, \"grades.grade\" : \"C\"})\n",
        "      .explain()['executionStats']['executionStages'])"
      ],
      "execution_count": 20,
      "outputs": [
        {
          "output_type": "stream",
          "text": [
            "{'stage': 'FETCH', 'filter': {'grades.grade': {'$eq': 'C'}}, 'nReturned': 315, 'executionTimeMillisEstimate': 0, 'works': 357, 'advanced': 315, 'needTime': 41, 'needYield': 0, 'saveState': 0, 'restoreState': 0, 'isEOF': 1, 'docsExamined': 349, 'alreadyHasObj': 0, 'inputStage': {'stage': 'IXSCAN', 'nReturned': 349, 'executionTimeMillisEstimate': 0, 'works': 357, 'advanced': 349, 'needTime': 7, 'needYield': 0, 'saveState': 0, 'restoreState': 0, 'isEOF': 1, 'keyPattern': {'grades.score': 1, 'grades.grade': 1}, 'indexName': 'grades.score_1_grades.grade_1', 'isMultiKey': True, 'multiKeyPaths': {'grades.score': ['grades'], 'grades.grade': ['grades']}, 'isUnique': False, 'isSparse': False, 'isPartial': False, 'indexVersion': 2, 'direction': 'forward', 'indexBounds': {'grades.score': ['(50, inf.0]'], 'grades.grade': ['[MinKey, MaxKey]']}, 'keysExamined': 356, 'seeks': 1, 'dupsTested': 356, 'dupsDropped': 7}}\n"
          ],
          "name": "stdout"
        }
      ]
    },
    {
      "cell_type": "markdown",
      "metadata": {
        "id": "Uxcle1xj2WUO"
      },
      "source": [
        "**Comment:** The index would not work for this query:\n",
        "```python\n",
        "db.restaurants.find({\"grades.grade\" : \"C\"})\n",
        "```\n",
        "See the query plan below:"
      ]
    },
    {
      "cell_type": "code",
      "metadata": {
        "trusted": true,
        "id": "dAPPUAjM2WUP",
        "colab": {
          "base_uri": "https://localhost:8080/"
        },
        "outputId": "a408b133-f5b8-42dc-a584-b44a39d7a263"
      },
      "source": [
        "# verify the query plan\n",
        "print(db.restaurants.find({\"grades.grade\" : \"C\"})\n",
        "      .explain()['executionStats']['executionStages'])"
      ],
      "execution_count": 21,
      "outputs": [
        {
          "output_type": "stream",
          "text": [
            "{'stage': 'COLLSCAN', 'filter': {'grades.grade': {'$eq': 'C'}}, 'nReturned': 2708, 'executionTimeMillisEstimate': 5, 'works': 25361, 'advanced': 2708, 'needTime': 22652, 'needYield': 0, 'saveState': 25, 'restoreState': 25, 'isEOF': 1, 'direction': 'forward', 'docsExamined': 25359}\n"
          ],
          "name": "stdout"
        }
      ]
    },
    {
      "cell_type": "markdown",
      "metadata": {
        "trusted": true,
        "id": "i7UEten_2WUP"
      },
      "source": [
        "<font color='red' size='5'>**Important: please delete your container after finishing the exercise.**</font>"
      ]
    },
    {
      "cell_type": "code",
      "metadata": {
        "trusted": true,
        "id": "3KAlVFnw2WUP"
      },
      "source": [
        ""
      ],
      "execution_count": null,
      "outputs": []
    }
  ]
}