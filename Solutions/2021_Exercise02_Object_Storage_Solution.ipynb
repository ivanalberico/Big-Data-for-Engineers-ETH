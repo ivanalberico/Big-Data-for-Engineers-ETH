{
  "nbformat": 4,
  "nbformat_minor": 0,
  "metadata": {
    "anaconda-cloud": {},
    "colab": {
      "name": "2021_Exercise02_Object_Storage_Solution.ipynb",
      "provenance": [],
      "collapsed_sections": []
    },
    "kernelspec": {
      "display_name": "Python 3",
      "language": "python",
      "name": "python3"
    },
    "language_info": {
      "codemirror_mode": {
        "name": "ipython",
        "version": 3
      },
      "file_extension": ".py",
      "mimetype": "text/x-python",
      "name": "python",
      "nbconvert_exporter": "python",
      "pygments_lexer": "ipython3",
      "version": "3.6.9"
    }
  },
  "cells": [
    {
      "cell_type": "markdown",
      "metadata": {
        "id": "buDUMbpKYTcD"
      },
      "source": [
        "# <center>Big Data for Engineers &ndash; Exercises &ndash; Solution</center>\n",
        "## <center>Spring 2021 &ndash; Week 2 &ndash; ETH Zurich</center>"
      ]
    },
    {
      "cell_type": "markdown",
      "metadata": {
        "id": "PO44IswhYTcE"
      },
      "source": [
        "## Exercise 1: Storage devices\n",
        "\n",
        "In this exercise, we want to understand the differences between [SSD](https://en.wikipedia.org/wiki/Solid-state_drive), [HDD](https://en.wikipedia.org/wiki/Hard_disk_drive), and [SDRAM](https://en.wikipedia.org/wiki/Synchronous_dynamic_random-access_memory) in terms of __capacity__, __speed__ and __price__. \n",
        "\n",
        "### Task 1\n",
        "Fill in the table below by visiting your local online hardware store and choosing the storage device with largest capacity available but optimizing for read/write speed.\n",
        "For instance, you can visit Digitec.ch to explore the prices on [SSDs](https://www.digitec.ch/en/s1/producttype/ssd-545?tagIds=76), [HDDs](https://www.digitec.ch/en/s1/producttype/hard-drives-36?tagIds=76), and \n",
        "[SDRAMs](https://www.digitec.ch/en/s1/producttype/memory-2?tagIds=76). \n",
        "You are free to use any other website for filling the table. \n",
        "\n",
        "\n",
        "| Storage Device | Maximum capacity, GB | Price, CHF/GB  | Read speed, GB/s | Write speed, GB/s | Link |\n",
        "| --------------:| --------------------:| --------------:|-----------------:|------------------:|------|\n",
        "| HDD            |                      |                |                  |                   |&nbsp;|\n",
        "| SSD            |                      |                |                  |                   |&nbsp;|\n",
        "| DRAM           |                      |                |                  |                   |&nbsp;|\n",
        "\n",
        "\n",
        "### Task 2\n",
        "Answer the following questions:\n",
        "1. What type of storage devices above is the cheapest one?\n",
        "2. What type of storage devices above is the fastest in terms of read speed?"
      ]
    },
    {
      "cell_type": "markdown",
      "metadata": {
        "id": "zLSwwJspYTcE"
      },
      "source": [
        "### Solution:\n",
        "\n",
        "Looking at Digitec, we fill the table as follows:\n",
        "\n",
        "| Storage Device | Maximum capacity, GB | Price, CHF/GB  | Read speed, GB/s | Write speed, GB/s | Link |\n",
        "| --------------:| --------------------:| --------------:|-----------------:|------------------:|------|\n",
        "| HDD            |    18 TB;            |   0.032 CHF/GB |      0.25 GB/s   | 0.25 GB/s          | [link](https://www.digitec.ch/en/s1/product/seagate-ironwolf-pro-16tb-35-cmr-hard-drives-11205736?tagIds=76-535) [link2](https://www.seagate.com/de/de/internal-hard-drives/hdd/ironwolf/) |\n",
        "| SSD            |    4 TB;             |   0.184  CHF/GB |      3.5  GB/s   |      3.3 GB/s    | [link](https://www.digitec.ch/en/s1/product/samsung-970-evo-plus-2000gb-m2-2280-ssd-10339167)  |\n",
        "| DRAM           |    128 GB per module; |  12.5   CHF/GB |     60   GB/s    |       48 GB/s     | [link1](https://www.digitec.ch/en/s1/product/samsung-m386a8k40bm1-crc-1x-64gb-ddr4-2133-dimm-288-memory-8989701) [link2](https://www.techspot.com/news/62129-ddr3-vs-ddr4-raw-bandwidth-numbers.html)|\n",
        "\n",
        "\n",
        "1. HDDs are the cheapest storage device among mentioned devices \n",
        "2. DRAMs are the fastest storage device among mentioned devices "
      ]
    },
    {
      "cell_type": "markdown",
      "metadata": {
        "id": "_IzP3BmERiq-"
      },
      "source": [
        "## Exercise 2: HTTP"
      ]
    },
    {
      "cell_type": "markdown",
      "metadata": {
        "id": "Rbph6cBKRiq_"
      },
      "source": [
        "HTTP is the underlying protocol used by the World Wide Web. It defines how messages are formatted and transmitted, and what actions Web servers and browsers should take in response to various commands.\n",
        "\n",
        "The HTTP protocol is based on requests (usually made by a client, eg: your web browser) and responses (usually made by a server hosting a particular website or application)."
      ]
    },
    {
      "cell_type": "markdown",
      "metadata": {
        "id": "dkT4bPsVRiq_"
      },
      "source": [
        "Request<br><br>\n",
        "\n",
        "\n",
        "<font color=\"#990000\">POST</font> <font color=\"blue\">/path/index.html</font> <font color=\"#bf9000\">HTTP/1.1</font>  \n",
        "<font color=\"green\">Host: www .example.com  \n",
        "User-Agent: Mozilla/4.0</font>\n",
        "\n",
        "BookId=3131&Author=Asimov\n",
        "<br><br>---<br><br>\n",
        "<font color=\"#990000\">This fragment indicates the HTTP method used</font><br>\n",
        "<font color=\"blue\">This indicate the relative path of the resource</font><br>\n",
        "<font color=\"#bf9000\">This is the HTTP version</font><br>\n",
        "<font color=\"green\">These are the headers of the request (1 per line)</font><br>\n",
        "<font>This is the body of the request</font>"
      ]
    },
    {
      "cell_type": "markdown",
      "metadata": {
        "id": "aOK8luXFRiq_"
      },
      "source": [
        "Response<br><br>\n",
        "<font color=\"#bf9000\">HTTP/1.1</font> <font color=\"#990000\">200 OK</font>  \n",
        "<font color=\"green\">Date: Tue, 25 Sep 2018 09:48:34 GMT  \n",
        "Content-Type: text/html; charset=UTF-8  \n",
        "Content-Length: 138  \n",
        "</font>\n",
        "\n",
        "&lt;html> &lt;head> &lt;title>An Example Page&lt;/title>\n",
        "&lt;/head> &lt;body> Hello World, this is a very simple\n",
        "HTML document. &lt;/body> &lt;/html>\n",
        "<br><br>---<br><br>\n",
        "<font color=\"#990000\">This fragment indicates the status code of the response</font><br>\n",
        "<font color=\"#bf9000\">This is the HTTP version</font><br>\n",
        "<font color=\"green\">These are the headers of the response (1 per line)</font><br>\n",
        "<font>This is the body of the response</font>"
      ]
    },
    {
      "cell_type": "markdown",
      "metadata": {
        "id": "fUzEG1EdRirA"
      },
      "source": [
        "### HTTP Methods\n",
        "\n",
        "Consider a well-designed object storage service providing a REST API implemented over HTTP.\n",
        "\n",
        "1. Which HTTP method allows the retrieval of objects on the server? What do we mean by saying that it should be side-effect free?  \n",
        "2. Which HTTP methods allow the insertion and deletion of objects from the server, respectively?\n",
        "3. Which other generic method allows for sending information and/or receiving results?"
      ]
    },
    {
      "cell_type": "markdown",
      "metadata": {
        "id": "_C3z7aUZRirA"
      },
      "source": [
        "### Solution\n",
        "\n",
        "1. GET. This means that it should cause no modifications on the server.\n",
        "2. PUT, DELETE\n",
        "3. POST"
      ]
    },
    {
      "cell_type": "markdown",
      "metadata": {
        "id": "IU137SAjRirB"
      },
      "source": [
        "## Exercise 3: Storage"
      ]
    },
    {
      "cell_type": "markdown",
      "metadata": {
        "id": "M9Gm4yDbRirB"
      },
      "source": [
        "### Object Storage, Scalability\n",
        "\n",
        "1. What are the four most important traits of Object Storage that allows scalability? \n",
        "2. What are the two ways through which you can scale beyond one machine?"
      ]
    },
    {
      "cell_type": "markdown",
      "metadata": {
        "id": "0pEd04kwRirB"
      },
      "source": [
        "### Solution\n",
        "1. Black box objects, key-value model, flexible metadata, commodity hardware.\n",
        "2. Horizontal scalability (more nodes); vertical scalability (more powerful nodes)"
      ]
    },
    {
      "cell_type": "markdown",
      "metadata": {
        "id": "__eHiWgzRirB"
      },
      "source": [
        "### Azure Blob Storage vs Amazon S3\n",
        "\n",
        "For each question give the answer for both: Azure Blob Storage and Amazon S3\n",
        "\n",
        "1. How are objects identified?\n",
        "2. What kind of objects can you create?"
      ]
    },
    {
      "cell_type": "markdown",
      "metadata": {
        "id": "FOKacy_gRirC"
      },
      "source": [
        "### Solution\n",
        "* Azure\n",
        "    1. Account ID + Container ID + Blob ID\n",
        "    2. 3 types of blobs: BlockBlob, PageBlob, AppendBlob\n",
        "* S3\n",
        "    1. Bucket ID + Object ID\n",
        "    2. Blackbox objects"
      ]
    },
    {
      "cell_type": "markdown",
      "metadata": {
        "id": "6I9yZ93XYTcF"
      },
      "source": [
        "## Exercise 4: Setting up an Azure storage account\n",
        "\n",
        "In this section you'll learn how to set up a Locally Redundant Storage instance."
      ]
    },
    {
      "cell_type": "markdown",
      "metadata": {
        "id": "q0xIdjVrYTcG"
      },
      "source": [
        "\n",
        "### Step 1: Create a Locally-redundant Storage\n",
        "\n",
        "1. First, you need to create a storage account. In the Azure portal, click on the option \"Storage accounts\" in the left hand side menu. \n",
        "\n",
        "<img src=\"https://polybox.ethz.ch/index.php/s/O50x6Ip3wAfHZZt/download\" width=800/>\n",
        "\n",
        "2. Click on the \"Add\" button at the top of the page. \n",
        "\n",
        "<img src=\"https://polybox.ethz.ch/index.php/s/28ZnfQidRktKXNG/download\" width=800/>\n",
        "\n",
        "3. Fill in the form in the following way:\n",
        "  * Select *Lab 3* as *Subscription*\n",
        "  * If not already present, create a new resource group called *exercise02*\n",
        "  * Select *Locally-redundant storage (LRS)* as *Replication* mode\n",
        "  * The *Storage Account Name* can be whatever you want \n",
        "  * Leave all other values unchanged \n",
        "\n",
        "<img src=\"https://polybox.ethz.ch/index.php/s/NxLQbGomz0tkPUd/download\" width=800/>\n",
        "\n",
        "4. Click *Review + create* then *Create* on the next page (deployment might take a few minutes).\n",
        "\n",
        "<img src=\"https://polybox.ethz.ch/index.php/s/XthQkrrg9PrEOSq/download\" width=800/>\n",
        "\n",
        "5. Go to the resource page of the newly created LRS.\n",
        "\n",
        "<img src=\"https://polybox.ethz.ch/index.php/s/A0rZoRbC7BJiPVA/download\" width=800/>\n",
        "\n",
        "6. In the left-hand menu, under the *Settings* group, select the *Access Keys* tab.\n",
        "\n",
        "<img src=\"https://polybox.ethz.ch/index.php/s/xrbKc7AlqDUwbSq/download\" width=800/>\n",
        "\n",
        "7. Copy one of the access keys to the clipboard. \n",
        "\n",
        "8. Paste the *Storage Account Name* in `ACCOUNT_NAME`, the access key in `ACCOUNT_KEY`, and add an arbitrary string in`CONTAINER_NAME` (or leave it as default)."
      ]
    },
    {
      "cell_type": "code",
      "metadata": {
        "id": "Fkn8l67-YTcG"
      },
      "source": [
        "ACCOUNT_NAME   = '...'\n",
        "ACCOUNT_KEY    = '...'\n",
        "CONTAINER_NAME = 'exercise02'"
      ],
      "execution_count": null,
      "outputs": []
    },
    {
      "cell_type": "markdown",
      "metadata": {
        "id": "pnk5IeGUYTcK"
      },
      "source": [
        "\n",
        "###  Step 2: Installing and Importing the Azure Storage Library"
      ]
    },
    {
      "cell_type": "code",
      "metadata": {
        "colab": {
          "base_uri": "https://localhost:8080/",
          "height": 374
        },
        "id": "zYlT4mz0YTcK",
        "outputId": "3eebc6a4-de9b-439d-9ebc-4c8dbc47a1b9"
      },
      "source": [
        "!pip install azure-storage==0.33.0"
      ],
      "execution_count": null,
      "outputs": [
        {
          "output_type": "stream",
          "text": [
            "Collecting azure-storage==0.33.0\n",
            "\u001b[?25l  Downloading https://files.pythonhosted.org/packages/6e/d4/d26d82b468e1c2c7e9bf214dc75c4f0a6d10c4da839cc029e36662569c67/azure_storage-0.33.0-py3-none-any.whl (181kB)\n",
            "\u001b[K     |████████████████████████████████| 184kB 3.5MB/s eta 0:00:01\n",
            "\u001b[?25hRequirement already satisfied: requests in /usr/local/lib/python3.6/dist-packages (from azure-storage==0.33.0) (2.23.0)\n",
            "Collecting azure-nspkg\n",
            "  Downloading https://files.pythonhosted.org/packages/c4/0c/c562be95a9a2ed52454f598571cf300b1114d0db2aa27f5b8ed3bb9cd0c0/azure_nspkg-3.0.2-py3-none-any.whl\n",
            "Collecting cryptography\n",
            "\u001b[?25l  Downloading https://files.pythonhosted.org/packages/33/62/30f6936941d87a5ed72efb24249437824f6b2c953901245b58c91fde2f27/cryptography-3.1.1-cp35-abi3-manylinux2010_x86_64.whl (2.6MB)\n",
            "\u001b[K     |████████████████████████████████| 2.6MB 30.4MB/s \n",
            "\u001b[?25hRequirement already satisfied: python-dateutil in /usr/local/lib/python3.6/dist-packages (from azure-storage==0.33.0) (2.8.1)\n",
            "Collecting azure-common\n",
            "  Downloading https://files.pythonhosted.org/packages/e5/4d/d000fc3c5af601d00d55750b71da5c231fcb128f42ac95b208ed1091c2c1/azure_common-1.1.25-py2.py3-none-any.whl\n",
            "Requirement already satisfied: urllib3!=1.25.0,!=1.25.1,<1.26,>=1.21.1 in /usr/local/lib/python3.6/dist-packages (from requests->azure-storage==0.33.0) (1.24.3)\n",
            "Requirement already satisfied: idna<3,>=2.5 in /usr/local/lib/python3.6/dist-packages (from requests->azure-storage==0.33.0) (2.10)\n",
            "Requirement already satisfied: chardet<4,>=3.0.2 in /usr/local/lib/python3.6/dist-packages (from requests->azure-storage==0.33.0) (3.0.4)\n",
            "Requirement already satisfied: certifi>=2017.4.17 in /usr/local/lib/python3.6/dist-packages (from requests->azure-storage==0.33.0) (2020.6.20)\n",
            "Requirement already satisfied: cffi!=1.11.3,>=1.8 in /usr/local/lib/python3.6/dist-packages (from cryptography->azure-storage==0.33.0) (1.14.2)\n",
            "Requirement already satisfied: six>=1.4.1 in /usr/local/lib/python3.6/dist-packages (from cryptography->azure-storage==0.33.0) (1.15.0)\n",
            "Requirement already satisfied: pycparser in /usr/local/lib/python3.6/dist-packages (from cffi!=1.11.3,>=1.8->cryptography->azure-storage==0.33.0) (2.20)\n",
            "Installing collected packages: azure-nspkg, cryptography, azure-common, azure-storage\n",
            "Successfully installed azure-common-1.1.25 azure-nspkg-3.0.2 azure-storage-0.33.0 cryptography-3.1.1\n"
          ],
          "name": "stdout"
        }
      ]
    },
    {
      "cell_type": "code",
      "metadata": {
        "id": "_dNNDi16YTcO"
      },
      "source": [
        "from azure.storage.blob import BlockBlobService\n",
        "from azure.storage.blob import PageBlobService\n",
        "from azure.storage.blob import AppendBlobService\n",
        "from azure.storage.blob import PublicAccess\n",
        "from azure.storage.models import LocationMode\n",
        "from azure.storage.blob import ContentSettings\n",
        "from azure.storage.blob import BlockListType\n",
        "from azure.storage.blob import BlobBlock\n",
        "from timeit import default_timer as timer\n",
        "import uuid\n",
        "import random\n",
        "\n",
        "#function for genereting unique names for blobs\n",
        "def get_blob_name():\n",
        "    return '{}{}'.format('blob', str(uuid.uuid4()).replace('-', ''))"
      ],
      "execution_count": null,
      "outputs": []
    },
    {
      "cell_type": "markdown",
      "metadata": {
        "id": "_KJE0basYTcR"
      },
      "source": [
        "## Exercise 5: Azure Blob Storage Features"
      ]
    },
    {
      "cell_type": "markdown",
      "metadata": {
        "id": "rZhGPTbEYTcT"
      },
      "source": [
        "### Step 1: Explore Concepts of Azure Blob Storage"
      ]
    },
    {
      "cell_type": "markdown",
      "metadata": {
        "id": "jpcEciffYTcU"
      },
      "source": [
        "1. A container provides a grouping of a set of blobs. All blobs must be in a container. An account can contain an unlimited number of containers, and a container can store an unlimited number of blobs. Note that the container name must be lowercase.\n",
        "\n",
        "![Image of blob](https://docs.microsoft.com/en-us/azure/includes/media/storage-blob-concepts-include/blob1.png)"
      ]
    },
    {
      "cell_type": "markdown",
      "metadata": {
        "id": "J8KTwZN6YTcU"
      },
      "source": [
        "2. Let us look at the different types of blobs available in Azure Blob storage by reading the article at the following [link](https://docs.microsoft.com/en-us/rest/api/storageservices/understanding-block-blobs--append-blobs--and-page-blobs). After you are done, inspect the table below, and determine which type of blob is suitable for each of the use cases. "
      ]
    },
    {
      "cell_type": "markdown",
      "metadata": {
        "id": "We5Y38vKYTcV"
      },
      "source": [
        "|                | Block Blob | Append Blob  | Page Blob |\n",
        "| --------------:| -----------| ------------:| ---------:|\n",
        "| Static content delivery             |            |              |           |\n",
        "| As a disk for a VirtualMachine       |            |              |           |\n",
        "| Streaming video                      |            |              |           |\n",
        "| Log Files                     |            |             |          |\n",
        "| Social network events (e.g., uploading photos to Instagram)          |            |              |           |"
      ]
    },
    {
      "cell_type": "markdown",
      "metadata": {
        "id": "Kfm2NR7mYTcV"
      },
      "source": [
        "__Solution:__\n",
        "\n",
        "|                | Block Blob | Append Blob  | Page Blob |\n",
        "| --------------:| -----------| ------------:| ---------:|\n",
        "| Static content delivery              |     X      |             |           |\n",
        "| As a disk for a VirtualMachine       |            |             |     X     |\n",
        "| Streaming video                      |     X      |             |           |\n",
        "| Log Files                     |            |       X      |           |\n",
        "| Social network events (e.g., uploading photos to Instagram) |     X      |              |           |"
      ]
    },
    {
      "cell_type": "markdown",
      "metadata": {
        "id": "qw2u-kWBYTcW"
      },
      "source": [
        "__Block blobs__ let you upload large blobs efficiently. Block blobs are comprised of blocks, each of which is identified by a block ID. You create or modify a block blob by writing a set of blocks and committing them by their block IDs. Each block can have a different size, up to a maximum of 4000 MB, and a block blob can include up to 50,000 blocks. The maximum size of a block blob is therefore slightly more than 190 TB (4000 MB X 50,000 blocks). "
      ]
    },
    {
      "cell_type": "markdown",
      "metadata": {
        "id": "yUfmdwkHYTcW"
      },
      "source": [
        "__Append blobs__ are comprised of blocks and are optimized for append operations. When one modifies an append blob, blocks are added to the end of the blob only - via the `append_block` operation -. Updating or deleting of existing blocks is not supported. Unlike a block blob, an append blob does not expose its block IDs.\n",
        "\n",
        "Each block in an append blob can have a different size, up to a maximum of 4 MB, and an append blob can include up to 50,000 blocks. The maximum size of an append blob is therefore slightly more than 195 GB (4 MB X 50,000 blocks)."
      ]
    },
    {
      "cell_type": "markdown",
      "metadata": {
        "id": "RdibPyBxYTcX"
      },
      "source": [
        "__Page blobs__ are a collection of 512-byte pages optimized for random read and write operations. To create a page blob, you initialize the page blob and specify the maximum size the page blob will grow. To add or update the contents of a page blob, you write a page or a set of pages by specifying an offset and a range that align to 512-byte page boundaries. A write to a page blob can overwrite just one page, some pages, or up to 4 MB of the page blob. Writes to page blobs happen in-place and are immediately committed to the blob. The maximum size for a page blob is 8 TB."
      ]
    },
    {
      "cell_type": "markdown",
      "metadata": {
        "id": "TPx8UcHHYTcX"
      },
      "source": [
        "### Step 2: Test Your First Container"
      ]
    },
    {
      "cell_type": "markdown",
      "metadata": {
        "id": "OUm-3RJLYTcY"
      },
      "source": [
        "1. Create a new container under the specified account. If the container with the same name already exists, the operation fails and returns `False`."
      ]
    },
    {
      "cell_type": "code",
      "metadata": {
        "colab": {
          "base_uri": "https://localhost:8080/",
          "height": 34
        },
        "id": "iIGgxlRNYTcY",
        "outputId": "d82d0241-8b79-4e37-a89c-16946514ac80"
      },
      "source": [
        "# Choose whether to have public access for this container\n",
        "public_access = False\n",
        "access_type = PublicAccess.Container if public_access else None\n",
        "\n",
        "# Create the container\n",
        "block_blob_service = BlockBlobService(account_name=ACCOUNT_NAME, account_key=ACCOUNT_KEY)\n",
        "status = block_blob_service.create_container(CONTAINER_NAME, public_access=access_type)\n",
        "\n",
        "# Write a console message indicating if the container was successfully created\n",
        "if status==True:\n",
        "\tprint(f\"Container {CONTAINER_NAME} created\")\n",
        "else:\n",
        "\tprint(f\"Container {CONTAINER_NAME} already exists\")"
      ],
      "execution_count": null,
      "outputs": [
        {
          "output_type": "stream",
          "text": [
            "Container exercise02 already exists\n"
          ],
          "name": "stdout"
        }
      ]
    },
    {
      "cell_type": "markdown",
      "metadata": {
        "id": "2DLdYvgpYTcc"
      },
      "source": [
        "2. Download a file to the Colab's Virtual Machine (VM)."
      ]
    },
    {
      "cell_type": "code",
      "metadata": {
        "colab": {
          "base_uri": "https://localhost:8080/",
          "height": 204
        },
        "id": "ZTmDj-GYYTcc",
        "outputId": "f43f6786-96db-49b4-d83a-82eaef2551d0"
      },
      "source": [
        "!wget https://www.vetbabble.com/wp-content/uploads/2016/11/hiding-cat.jpg -O cat.jpg"
      ],
      "execution_count": null,
      "outputs": [
        {
          "output_type": "stream",
          "text": [
            "--2020-09-21 13:47:36--  https://www.vetbabble.com/wp-content/uploads/2016/11/hiding-cat.jpg\n",
            "Resolving www.vetbabble.com (www.vetbabble.com)... 172.67.68.41, 104.26.14.70, 104.26.15.70, ...\n",
            "Connecting to www.vetbabble.com (www.vetbabble.com)|172.67.68.41|:443... connected.\n",
            "HTTP request sent, awaiting response... 200 OK\n",
            "Length: 64847 (63K) [image/jpeg]\n",
            "Saving to: ‘cat.jpg’\n",
            "\n",
            "cat.jpg             100%[===================>]  63.33K  --.-KB/s    in 0.04s   \n",
            "\n",
            "2020-09-21 13:47:36 (1.67 MB/s) - ‘cat.jpg’ saved [64847/64847]\n",
            "\n"
          ],
          "name": "stdout"
        }
      ]
    },
    {
      "cell_type": "markdown",
      "metadata": {
        "id": "1lxjQ4LHYTcf"
      },
      "source": [
        "3. Upload the file to Azure Blob storage. Note that the name of the file on local machine (`local_file`) can differ from the name of the blob (`blob_name`)."
      ]
    },
    {
      "cell_type": "code",
      "metadata": {
        "colab": {
          "base_uri": "https://localhost:8080/",
          "height": 34
        },
        "id": "hDYBc_XaYTcf",
        "outputId": "16eeff0a-7344-479c-e78e-9dff2a5ef0f6"
      },
      "source": [
        "# Define the local and remote file names\n",
        "local_file = \"cat.jpg\"\n",
        "blob_name = \"picture\"\n",
        "\n",
        "# Create a blob which contains the downloaded image\n",
        "try:\n",
        "  block_blob_service.create_blob_from_path(\n",
        "    CONTAINER_NAME,\n",
        "    blob_name,\n",
        "    local_file,\n",
        "    content_settings=ContentSettings(content_type='image/jpg')\n",
        "  )\n",
        "  print(\"Blob URL:\", block_blob_service.make_blob_url(CONTAINER_NAME, blob_name))\n",
        "except:\n",
        "  print (\"Could not create the blob\")"
      ],
      "execution_count": null,
      "outputs": [
        {
          "output_type": "stream",
          "text": [
            "Blob URL: https://hnosndoih192n1209.blob.core.windows.net/exercise02/picture\n"
          ],
          "name": "stdout"
        }
      ]
    },
    {
      "cell_type": "markdown",
      "metadata": {
        "id": "wKKIlfDtYTch"
      },
      "source": [
        "4. Try to open the link above\n",
        "\n",
        "By default, the new container is private, so you must specify your storage access key (as you did earlier) to download blobs from this container. If you want to make the blobs within the container available to everyone, you can create the container and pass the public access level using the following code."
      ]
    },
    {
      "cell_type": "code",
      "metadata": {
        "colab": {
          "base_uri": "https://localhost:8080/",
          "height": 34
        },
        "id": "vbZ0RXlIYTch",
        "outputId": "38f39095-a82c-40dd-a9e1-de0df1ac3c4e"
      },
      "source": [
        "# Give your container public access\n",
        "block_blob_service.set_container_acl(CONTAINER_NAME, public_access=PublicAccess.Container)"
      ],
      "execution_count": null,
      "outputs": [
        {
          "output_type": "execute_result",
          "data": {
            "text/plain": [
              "<azure.storage.blob.models.ResourceProperties at 0x7f84b31b9d68>"
            ]
          },
          "metadata": {
            "tags": []
          },
          "execution_count": 20
        }
      ]
    },
    {
      "cell_type": "markdown",
      "metadata": {
        "id": "EW-LKLxBYTck"
      },
      "source": [
        "After this change, anyone on the Internet can see blobs in a public container, but only you can modify or delete them. \n",
        "\n",
        "Try to open the link again. Note that it may take a few seconds to change access permisions."
      ]
    },
    {
      "cell_type": "markdown",
      "metadata": {
        "id": "h_olUuU0YTck"
      },
      "source": [
        "5. List all blobs in the container"
      ]
    },
    {
      "cell_type": "markdown",
      "metadata": {
        "id": "xIjWL8E-YTcl"
      },
      "source": [
        "In order to list the blobs in a container, use the `list_blobs` method. This method returns a generator which can be iterated over in a loop. The following code outputs the name, type, size and url of each blob in a container."
      ]
    },
    {
      "cell_type": "code",
      "metadata": {
        "colab": {
          "base_uri": "https://localhost:8080/",
          "height": 85
        },
        "id": "aO9QLSNvYTcm",
        "scrolled": true,
        "outputId": "6fa26662-49e2-4e3f-f9ea-5f4fbf3e54d1"
      },
      "source": [
        "# List all blobs in the container\n",
        "blobs = block_blob_service.list_blobs(CONTAINER_NAME)\n",
        "for blob in blobs:\n",
        "  try:\n",
        "    print(f\"Name: {blob.name}\") \n",
        "    print(f\" > Type: {blob.properties.blob_type}\") \n",
        "    print(f\" > Size: {blob.properties.content_length}\") \n",
        "    print(f\" > URL:  {block_blob_service.make_blob_url(CONTAINER_NAME,blob.name)}\")\n",
        "  except:\n",
        "    print(\"Something went wrong!\")"
      ],
      "execution_count": null,
      "outputs": [
        {
          "output_type": "stream",
          "text": [
            "Name: picture\n",
            " > Type: BlockBlob\n",
            " > Size: 64847\n",
            " > URL:  https://hnosndoih192n1209.blob.core.windows.net/exercise02/picture\n"
          ],
          "name": "stdout"
        }
      ]
    },
    {
      "cell_type": "markdown",
      "metadata": {
        "id": "ApIkQqNLYTcp"
      },
      "source": [
        "6. Download blobs\n",
        "\n",
        "In order to download data from a blob, use `get_blob_to_path`, `get_blob_to_stream`, `get_blob_to_bytes`, or `get_blob_to_text`. They are high-level methods that perform the necessary chunking when the size of the data exceeds 64 MB.\n",
        "\n",
        "Note: The name of the file after downloading can differ from the name of the blob.\n",
        "\n",
        "The following example uses `get_blob_to_path` to download the content of your container and store it with names of the form `file_i`, where `i` is a sequential index."
      ]
    },
    {
      "cell_type": "code",
      "metadata": {
        "colab": {
          "base_uri": "https://localhost:8080/",
          "height": 34
        },
        "id": "oioem6vFYTcp",
        "scrolled": true,
        "outputId": "67d02250-cd9e-445e-d12e-d380e7b57f27"
      },
      "source": [
        "# Specify the local path where the contents will be downloaded\n",
        "# WARNING: in Colab the root path is /content/. In order to access the picture, adapt it to your path using bash commands like !ls to\n",
        "# navigate. Often you can access to your files in drive/ so you can set the LOCAL_PATH to \"drive/MyDrive\" \n",
        "LOCAL_PATH = \".\"   \n",
        "\n",
        "# Iterate through the blobs and download them\n",
        "blobs = block_blob_service.list_blobs(CONTAINER_NAME)\n",
        "for i, blob in enumerate(blobs):\n",
        "  local_file = f\"{LOCAL_PATH}/file_{i}\"\n",
        "  try:\n",
        "    block_blob_service.get_blob_to_path(CONTAINER_NAME, blob.name, local_file)\n",
        "    print(f\"Successfully downloaded {local_file}\")\n",
        "  except:\n",
        "    print(f\"Something went wrong while downloading blob {blob.name}\")"
      ],
      "execution_count": null,
      "outputs": [
        {
          "output_type": "stream",
          "text": [
            "Successfully downloaded ./file_0\n"
          ],
          "name": "stdout"
        }
      ]
    },
    {
      "cell_type": "markdown",
      "metadata": {
        "id": "1KWAxobvCRXc"
      },
      "source": [
        "Since the downloaded file does not have an extension, Colab will not know how to interpret it. The cell below adds the `.jpg` extension to the name. After this, try opening the file and see what you get."
      ]
    },
    {
      "cell_type": "code",
      "metadata": {
        "id": "PKobLW0nCfpG"
      },
      "source": [
        "!mv file_0 file_0.jpg"
      ],
      "execution_count": null,
      "outputs": []
    },
    {
      "cell_type": "markdown",
      "metadata": {
        "id": "iuamEfU6YTct"
      },
      "source": [
        "### Step 3: Using the REST API"
      ]
    },
    {
      "cell_type": "markdown",
      "metadata": {
        "id": "qQStA0qAYTct"
      },
      "source": [
        "REpresentational State Transfer (__REST__), or __RESTful__, web services provide interoperability between computer systems on the Internet. REST-compliant web services allow the requesting systems to access and manipulate textual representations of web resources by using a uniform and predefined set of **stateless** operations.\n",
        "\n",
        "The most popular operations in REST are GET, POST, PUT, DELETE. A response may be in XML, HTML, JSON, or some other format. \n",
        "\n",
        "You can find the Azure Blob Service API description at the following [link](https://docs.microsoft.com/en-us/rest/api/storageservices/blob-service-rest-api), and the HTTP response codes defined by the World Wide Web Consortium (W3C) [here](https://www.w3.org/Protocols/rfc2616/rfc2616-sec10.html)."
      ]
    },
    {
      "cell_type": "markdown",
      "metadata": {
        "id": "DEFbTp_4YTct"
      },
      "source": [
        "We could use tools like [Postman](https://www.getpostman.com/), CURL or others to make REST requests to Azure Storage. In this tutorial we will use [Reqbin](https://reqbin.com/), a simple effective website to post HTTP request online.\n",
        "<br>"
      ]
    },
    {
      "cell_type": "markdown",
      "metadata": {
        "id": "NBR9pisaYTcu"
      },
      "source": [
        "### Tasks\n",
        "\n",
        "Complete the tasks below:\n",
        "\n",
        "1. Use any tool for listing all blobs in your container. For this, use the following [REST request](https://docs.microsoft.com/en-us/rest/api/storageservices/list-blobs). To avoid setting up an authentication you can make your container public by changing access policy to *Container*. See Pictures below:\n",
        "\n",
        "<img src=\"https://polybox.ethz.ch/index.php/s/rIw7dSK20PEH5um/download\" width=600/>\n",
        "\n",
        "<img src=\"https://polybox.ethz.ch/index.php/s/IpjOgJtOj2v13fT/download\" width=600/>\n",
        "\n",
        "<img src=\"https://polybox.ethz.ch/index.php/s/k5MVQE8jKQg6OOJ/download\" width=600/>\n",
        "\n",
        "Alternatively, you can also use the cell below to do this without accessing the Azure UI:"
      ]
    },
    {
      "cell_type": "code",
      "metadata": {
        "colab": {
          "base_uri": "https://localhost:8080/",
          "height": 34
        },
        "id": "YO4mdkqhKi4p",
        "outputId": "2a547691-57a9-468e-87ab-dcb45b8d0740"
      },
      "source": [
        "block_blob_service.set_container_acl(CONTAINER_NAME, public_access=PublicAccess.Container)"
      ],
      "execution_count": null,
      "outputs": [
        {
          "output_type": "execute_result",
          "data": {
            "text/plain": [
              "<azure.storage.blob.models.ResourceProperties at 0x7f84b31f1a20>"
            ]
          },
          "metadata": {
            "tags": []
          },
          "execution_count": 31
        }
      ]
    },
    {
      "cell_type": "markdown",
      "metadata": {
        "id": "yRvRUH0EKml5"
      },
      "source": [
        "2. Explain why the request above does not include a **body** part.\n",
        "3. What is the response format of the request? "
      ]
    },
    {
      "cell_type": "markdown",
      "metadata": {
        "id": "i17fZm5fYTcu"
      },
      "source": [
        "__Solutions:__\n",
        "\n",
        "1. Listing all blobs in a container:\n",
        "\n",
        "__Solution 1:__ Using Reqbin.\n",
        "\n",
        "You can use as URL the following found [here](https://docs.microsoft.com/en-us/rest/api/storageservices/list-blobs), but replacing the storage account name with what you chose instead of `myaccount` and the container we set up in this exercise instead of `mycontainer`. <br>\n",
        "\n",
        "https://myaccount.blob.core.windows.net/mycontainer?restype=container&comp=list"
      ]
    },
    {
      "cell_type": "markdown",
      "metadata": {
        "id": "gmdnK9BKYTcv"
      },
      "source": [
        "__Solution 2:__ Using `curl`.\n",
        "\n",
        "As specified above, make sure to replace `myaccount` and `mycontainer` with the values specific to your setup."
      ]
    },
    {
      "cell_type": "code",
      "metadata": {
        "colab": {
          "base_uri": "https://localhost:8080/",
          "height": 54
        },
        "id": "PpDzZx_JYTcv",
        "outputId": "c747d2dc-6a9d-412d-b2ca-d8a845e92368"
      },
      "source": [
        "!curl \"https://myaccount.blob.core.windows.net/mycontainer?restype=container&comp=list\""
      ],
      "execution_count": null,
      "outputs": [
        {
          "output_type": "stream",
          "text": [
            "﻿<?xml version=\"1.0\" encoding=\"utf-8\"?><EnumerationResults ContainerName=\"https://hnosndoih192n1209.blob.core.windows.net/exercise02\"><Blobs><Blob><Name>picture</Name><Url>https://hnosndoih192n1209.blob.core.windows.net/exercise02/picture</Url><Properties><Last-Modified>Mon, 21 Sep 2020 13:57:44 GMT</Last-Modified><Etag>0x8D85E36503CDF62</Etag><Content-Length>64847</Content-Length><Content-Type>image/jpg</Content-Type><Content-Encoding /><Content-Language /><Content-MD5>hVQNOkYiJfAETezlIZcMlQ==</Content-MD5><Cache-Control /><BlobType>BlockBlob</BlobType><LeaseStatus>unlocked</LeaseStatus></Properties></Blob></Blobs><NextMarker /></EnumerationResults>"
          ],
          "name": "stdout"
        }
      ]
    },
    {
      "cell_type": "markdown",
      "metadata": {
        "id": "IJgo7n9_YTcx"
      },
      "source": [
        "2. We are perforing a **GET** request, which does not have a body.\n",
        "3. The format of the response is **XML**."
      ]
    }
  ]
}
